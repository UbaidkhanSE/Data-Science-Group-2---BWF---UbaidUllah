{
 "cells": [
  {
   "cell_type": "markdown",
   "id": "f62ea5dd-b65b-4543-a712-65b3983697ee",
   "metadata": {},
   "source": [
    "# <span style=\"color:teal;\">FILE HANDLING</span>\n",
    "\n",
    "## <span style=\"color:orange;\">Basic Exercise</span>\n",
    "\n",
    "### <span style=\"color:blue;\">Working in Read Mode</span>\n",
    "\n",
    "#### <span style=\"color:purple;\">Example 1:</span> \n",
    "<span style=\"color:green;\">The open command will open the Python file in read mode and the `for` loop will print each line present in the file.</span>"
   ]
  },
  {
   "cell_type": "code",
   "execution_count": 20,
   "id": "9a629a22-ae76-4f4b-9682-ee17cd15ec27",
   "metadata": {},
   "outputs": [
    {
     "name": "stdout",
     "output_type": "stream",
     "text": [
      "This is the write command\n",
      "\n",
      "It allows us to write in a particular file\n",
      "\n",
      "This will add this line\n"
     ]
    }
   ],
   "source": [
    "file = open('hello.txt', 'r')\n",
    "for each in file:\n",
    "    print (each)\n"
   ]
  },
  {
   "cell_type": "markdown",
   "id": "bcaa9850-7b62-4431-ab90-06292aaa28aa",
   "metadata": {},
   "source": [
    "#### <span style=\"color:purple;\">Example 2:</span> \n",
    "<span style=\"color:green;\">In this example, we will extract a string that contains all characters in the Python file then we can use file.read(). </span>"
   ]
  },
  {
   "cell_type": "code",
   "execution_count": 21,
   "id": "49a4c5d0-8f5f-4d69-ba7c-27250dd4c6ee",
   "metadata": {},
   "outputs": [
    {
     "name": "stdout",
     "output_type": "stream",
     "text": [
      "This is the write command\n",
      "It allows us to write in a particular file\n",
      "This will add this line\n"
     ]
    }
   ],
   "source": [
    "# Python code to illustrate read() mode\n",
    "file = open(\"hello.txt\", \"r\") \n",
    "print (file.read())\n"
   ]
  },
  {
   "cell_type": "markdown",
   "id": "1e701b37-2529-49d4-827c-f9fcd3e3f2da",
   "metadata": {},
   "source": [
    "#### <span style=\"color:purple;\">Example 3:</span> \n",
    "<span style=\"color:green;\">In this example, we will see how we can read a file using the with statement in Python. </span>\n"
   ]
  },
  {
   "cell_type": "code",
   "execution_count": 22,
   "id": "f63e45f9-64ad-4fef-a622-f7936385810b",
   "metadata": {},
   "outputs": [
    {
     "name": "stdout",
     "output_type": "stream",
     "text": [
      "This is the write command\n",
      "It allows us to write in a particular file\n",
      "This will add this line\n"
     ]
    }
   ],
   "source": [
    "# Python code to illustrate with()\n",
    "with open(\"hello.txt\") as file:  \n",
    "    data = file.read() \n",
    "\n",
    "print(data)\n"
   ]
  },
  {
   "cell_type": "markdown",
   "id": "8bc54737-e524-4e7d-ab7b-7f9cf3c770bd",
   "metadata": {},
   "source": [
    "#### <span style=\"color:purple;\">Example 4:</span> \n",
    "<span style=\"color:green;\">Another way to read a file is to call a certain number of characters like in the following code the interpreter will read the first five characters of stored data and return it as a string:  </span>\n",
    "\n"
   ]
  },
  {
   "cell_type": "code",
   "execution_count": 23,
   "id": "3f2542c1-b210-454e-878c-b39f8b432483",
   "metadata": {},
   "outputs": [
    {
     "name": "stdout",
     "output_type": "stream",
     "text": [
      "This \n"
     ]
    }
   ],
   "source": [
    "# Python code to illustrate read() mode character wise\n",
    "file = open(\"hello.txt\", \"r\")\n",
    "print (file.read(5))\n"
   ]
  },
  {
   "cell_type": "markdown",
   "id": "2e815d4a-1e7b-4e26-b7a4-9dd304372c7c",
   "metadata": {},
   "source": [
    "#### <span style=\"color:purple;\">Example 5:</span> \n",
    "<span style=\"color:green;\"> We can also split lines while reading files in Python. The split() function splits the variable when space is encountered. You can also split using any characters as you wish. </span>\n",
    "\n",
    "\n"
   ]
  },
  {
   "cell_type": "code",
   "execution_count": 24,
   "id": "aec2dbec-c1c7-4be2-b3a6-83fca831b223",
   "metadata": {},
   "outputs": [
    {
     "name": "stdout",
     "output_type": "stream",
     "text": [
      "['This', 'is', 'the', 'write', 'command']\n",
      "['It', 'allows', 'us', 'to', 'write', 'in', 'a', 'particular', 'file']\n",
      "['This', 'will', 'add', 'this', 'line']\n"
     ]
    }
   ],
   "source": [
    "# Python code to illustrate split() function\n",
    "with open(\"hello.txt\", \"r\") as file:\n",
    "    data = file.readlines()\n",
    "    for line in data:\n",
    "        word = line.split()\n",
    "        print (word)\n"
   ]
  },
  {
   "cell_type": "markdown",
   "id": "0058415e-7fe8-4318-86e4-2050592098e4",
   "metadata": {},
   "source": [
    "\n",
    "### <span style=\"color:blue;\"> Working in Write Mode</span>\n",
    "\n",
    "#### <span style=\"color:purple;\">Example 1:</span> \n",
    "<span style=\"color:green;\">In this example, we will see how the write mode and the write() function is used to write in a file. The close() command terminates all the resources in use and frees the system of this particular program.</span>\n"
   ]
  },
  {
   "cell_type": "code",
   "execution_count": 25,
   "id": "e3bb88be-be02-41eb-bcc6-c6cd5c711f70",
   "metadata": {},
   "outputs": [
    {
     "name": "stdout",
     "output_type": "stream",
     "text": [
      "File 'hello.txt' created and written successfully.\n",
      "This is the write command\n",
      "It allows us to write in a particular file\n",
      "\n"
     ]
    }
   ],
   "source": [
    "file_path = 'hello.txt'\n",
    "\n",
    "# Open the file in 'w' mode (write mode)\n",
    "file = open(file_path, 'w')\n",
    "file.write(\"This is the write command\\n\")  # '\\n' for new line\n",
    "file.write(\"It allows us to write in a particular file\\n\")\n",
    "file.close()\n",
    "\n",
    "# Print confirmation message\n",
    "print(f\"File '{file_path}' created and written successfully.\")\n",
    "\n",
    "# Python code to illustrate with()\n",
    "with open(\"hello.txt\") as file:  \n",
    "    data = file.read() \n",
    "\n",
    "print(data)\n"
   ]
  },
  {
   "cell_type": "markdown",
   "id": "7767a862-426c-4b87-b210-5beaaece2bcf",
   "metadata": {},
   "source": [
    "#### <span style=\"color:purple;\">Example 2:</span> \n",
    "<span style=\"color:green;\"> We can also use the written statement along with the  with() function.</span>"
   ]
  },
  {
   "cell_type": "code",
   "execution_count": 26,
   "id": "637271bc-742f-4e6a-a778-f9f394944d80",
   "metadata": {},
   "outputs": [
    {
     "name": "stdout",
     "output_type": "stream",
     "text": [
      "Hello World!!!\n"
     ]
    }
   ],
   "source": [
    "# Python code to illustrate with() alongwith write()\n",
    "with open(\"file.txt\", \"w\") as f: \n",
    "    f.write(\"Hello World!!!\") \n",
    "\n",
    "# Python code to illustrate with()\n",
    "with open(\"file.txt\") as file:  \n",
    "    data = file.read() \n",
    "\n",
    "print(data)\n"
   ]
  },
  {
   "cell_type": "markdown",
   "id": "99dc768a-37d4-42d2-b7fb-aaa87067daaf",
   "metadata": {},
   "source": [
    "\n",
    "### <span style=\"color:blue;\">  Working of Append Mode</span>\n",
    "\n",
    "#### <span style=\"color:purple;\">Example 1:</span> \n",
    "<span style=\"color:green;\">For this example, we will use the Python file created in the previous example.</span>\n"
   ]
  },
  {
   "cell_type": "code",
   "execution_count": 27,
   "id": "43049afe-d32f-47ff-aa2b-f799e4fe5704",
   "metadata": {},
   "outputs": [
    {
     "name": "stdout",
     "output_type": "stream",
     "text": [
      "This is the write command\n",
      "It allows us to write in a particular file\n",
      "This will add this line\n"
     ]
    }
   ],
   "source": [
    "# Python code to illustrate append() mode\n",
    "file = open('hello.txt', 'a')\n",
    "file.write(\"This will add this line\")\n",
    "file.close()\n",
    "\n",
    "# Python code to illustrate with()\n",
    "with open(\"hello.txt\") as file:  \n",
    "    data = file.read() \n",
    "\n",
    "print(data)\n",
    "\n"
   ]
  },
  {
   "cell_type": "markdown",
   "id": "e5f3228b-d563-4db1-88a9-815ad9498049",
   "metadata": {},
   "source": [
    "### <span style=\"color:blue;\">  There are also various other commands in Python file handling that are used to handle various tasks:</span>\n",
    "\n",
    "#### <span style=\"color:purple;\">Examples:</span> \n",
    "<span style=\"color:green;\">rstrip(): This function strips each line of a file off spaces from the right-hand side.\n",
    "lstrip(): This function strips each line of a file off spaces from the left-hand side.</span>\n",
    "\n",
    "\n",
    "\n"
   ]
  },
  {
   "cell_type": "code",
   "execution_count": 28,
   "id": "a60b6a67-2599-44da-b2b1-f59d0e5a640c",
   "metadata": {},
   "outputs": [
    {
     "name": "stdout",
     "output_type": "stream",
     "text": [
      "Original lines:\n",
      "'   This line has leading spaces.\\n'\n",
      "'This line has trailing spaces.   \\n'\n",
      "'   This line has both leading and trailing spaces.   \\n'\n",
      "\n",
      "Lines with rstrip() applied:\n",
      "'   This line has leading spaces.'\n",
      "'This line has trailing spaces.'\n",
      "'   This line has both leading and trailing spaces.'\n",
      "\n",
      "Lines with lstrip() applied:\n",
      "'This line has leading spaces.\\n'\n",
      "'This line has trailing spaces.   \\n'\n",
      "'This line has both leading and trailing spaces.   \\n'\n"
     ]
    }
   ],
   "source": [
    "\n",
    "with open('sample.txt', 'w') as file:\n",
    "    file.write(\"   This line has leading spaces.\\n\")\n",
    "    file.write(\"This line has trailing spaces.   \\n\")\n",
    "    file.write(\"   This line has both leading and trailing spaces.   \\n\")\n",
    "\n",
    "# Step 2: Read the file and strip spaces using rstrip() and lstrip()\n",
    "with open('sample.txt', 'r') as file:\n",
    "    lines = file.readlines()\n",
    "\n",
    "# Step 3: Strip spaces and print the results\n",
    "print(\"Original lines:\")\n",
    "for line in lines:\n",
    "    print(repr(line))\n",
    "\n",
    "print(\"\\nLines with rstrip() applied:\")\n",
    "for line in lines:\n",
    "    print(repr(line.rstrip()))\n",
    "\n",
    "print(\"\\nLines with lstrip() applied:\")\n",
    "for line in lines:\n",
    "    print(repr(line.lstrip()))\n"
   ]
  },
  {
   "cell_type": "markdown",
   "id": "8cad3e21-4687-4fa2-94fc-802447d9e428",
   "metadata": {},
   "source": [
    " #### <span style=\"color:purple;\">Example:</span> \n",
    "<span style=\"color:green;\"> Implementing all the functions in File .</span>\n"
   ]
  },
  {
   "cell_type": "code",
   "execution_count": 29,
   "id": "55c399a8-dd40-4012-84d2-15129a0070b5",
   "metadata": {},
   "outputs": [
    {
     "name": "stdout",
     "output_type": "stream",
     "text": [
      "File example.txt created successfully.\n",
      "Hello, world!\n",
      "\n",
      "Text appended to file example.txt successfully.\n",
      "Hello, world!\n",
      "This is some additional text.\n",
      "\n",
      "File example.txt renamed to new_example.txt successfully.\n",
      "Hello, world!\n",
      "This is some additional text.\n",
      "\n",
      "File new_example.txt deleted successfully.\n"
     ]
    }
   ],
   "source": [
    "import os\n",
    "\n",
    "def create_file(filename):\n",
    "    try:\n",
    "        with open(filename, 'w') as f:\n",
    "            f.write('Hello, world!\\n')\n",
    "        print(\"File \" + filename + \" created successfully.\")\n",
    "    except IOError:\n",
    "        print(\"Error: could not create file \" + filename)\n",
    "\n",
    "def read_file(filename):\n",
    "    try:\n",
    "        with open(filename, 'r') as f:\n",
    "            contents = f.read()\n",
    "            print(contents)\n",
    "    except IOError:\n",
    "        print(\"Error: could not read file \" + filename)\n",
    "\n",
    "def append_file(filename, text):\n",
    "    try:\n",
    "        with open(filename, 'a') as f:\n",
    "            f.write(text)\n",
    "        print(\"Text appended to file \" + filename + \" successfully.\")\n",
    "    except IOError:\n",
    "        print(\"Error: could not append to file \" + filename)\n",
    "\n",
    "def rename_file(filename, new_filename):\n",
    "    try:\n",
    "        os.rename(filename, new_filename)\n",
    "        print(\"File \" + filename + \" renamed to \" + new_filename + \" successfully.\")\n",
    "    except IOError:\n",
    "        print(\"Error: could not rename file \" + filename)\n",
    "\n",
    "def delete_file(filename):\n",
    "    try:\n",
    "        os.remove(filename)\n",
    "        print(\"File \" + filename + \" deleted successfully.\")\n",
    "    except IOError:\n",
    "        print(\"Error: could not delete file \" + filename)\n",
    "\n",
    "\n",
    "if __name__ == '__main__':\n",
    "    filename = \"example.txt\"\n",
    "    new_filename = \"new_example.txt\"\n",
    "\n",
    "    create_file(filename)\n",
    "    read_file(filename)\n",
    "    append_file(filename, \"This is some additional text.\\n\")\n",
    "    read_file(filename)\n",
    "    rename_file(filename, new_filename)\n",
    "    read_file(new_filename)\n",
    "    delete_file(new_filename)\n"
   ]
  },
  {
   "cell_type": "markdown",
   "id": "e5cd6fdb-725a-43dc-9ccd-82da277fff75",
   "metadata": {},
   "source": [
    "## <span style=\"color:orange;\">Intermediate Excercise</span>\n",
    "#### <span style=\"color:purple;\">Example 1:</span> \n",
    "<span style=\"color:green;\">Write a function in python to read the content from a text file \"poem.txt\" line by line and display the same on screen.</span>\n"
   ]
  },
  {
   "cell_type": "code",
   "execution_count": 30,
   "id": "288c6965-5267-4904-8d98-da2f994e1ebd",
   "metadata": {},
   "outputs": [
    {
     "name": "stdout",
     "output_type": "stream",
     "text": [
      "This is the write command\n",
      "It allows us to write in a particular file\n",
      "This will add this line"
     ]
    }
   ],
   "source": [
    "def read_file():\n",
    "    file = open(\"hello.txt\",\"r\")\n",
    "    for line in file:\n",
    "        print(line, end=\"\")\n",
    "    file.close()\n",
    "\n",
    "read_file()"
   ]
  },
  {
   "cell_type": "markdown",
   "id": "9d919de6-cdb2-4544-99ec-1f054b623c7b",
   "metadata": {},
   "source": [
    "#### <span style=\"color:purple;\">Example 2:</span> \n",
    "<span style=\"color:green;\"> Write a function in python to count the number of lines from a text file which is not starting with an alphabet \"S\". </span>\n"
   ]
  },
  {
   "cell_type": "code",
   "execution_count": 31,
   "id": "f129e157-42a1-455d-8bee-18bc6659f92d",
   "metadata": {},
   "outputs": [
    {
     "name": "stdout",
     "output_type": "stream",
     "text": [
      "No of lines not starting with 'S'= 3\n"
     ]
    }
   ],
   "source": [
    "def line_count():\n",
    "    file = open(\"hello.txt\",\"r\")\n",
    "    count=0\n",
    "    for line in file:\n",
    "        if line[0] not in 'S':\n",
    "            count+= 1\n",
    "    file.close()\n",
    "    print(\"No of lines not starting with 'S'=\",count)\n",
    "\n",
    "line_count()"
   ]
  },
  {
   "cell_type": "markdown",
   "id": "be111f86-5930-4490-ae80-cab818e8d84e",
   "metadata": {},
   "source": [
    "#### <span style=\"color:purple;\">Example 3:</span> \n",
    "<span style=\"color:green;\">  Write a function in Python to count and display the total number of words in a text file. </span>\n",
    "\n"
   ]
  },
  {
   "cell_type": "code",
   "execution_count": 32,
   "id": "32f39815-e029-407d-9b70-58739840072b",
   "metadata": {},
   "outputs": [
    {
     "name": "stdout",
     "output_type": "stream",
     "text": [
      "Total words are 19\n"
     ]
    }
   ],
   "source": [
    "def count_words():\n",
    "    file = open(\"hello.txt\",\"r\")\n",
    "    count = 0\n",
    "    data = file.read()\n",
    "    words = data.split()\n",
    "    for word in words:\n",
    "        count += 1\n",
    "    print(\"Total words are\",count)\n",
    "    file.close()\n",
    "\n",
    "count_words()\n",
    "\n"
   ]
  },
  {
   "cell_type": "markdown",
   "id": "b964ff64-066b-4cd7-bc5c-e3f9e346707b",
   "metadata": {},
   "source": [
    "\n",
    "#### <span style=\"color:purple;\">Example 4:</span> \n",
    "<span style=\"color:green;\"> Write a function in Python to read lines from a text file. function should find and display the occurrence of the word \"the\". </span>\n",
    "\n",
    "\n"
   ]
  },
  {
   "cell_type": "code",
   "execution_count": 33,
   "id": "61b663a4-040d-4995-a67b-ba4bcaef4549",
   "metadata": {},
   "outputs": [
    {
     "name": "stdout",
     "output_type": "stream",
     "text": [
      "1\n"
     ]
    }
   ],
   "source": [
    "def count_words():\n",
    "    file = open(\"hello.txt\",\"r\")\n",
    "    count = 0\n",
    "    data = file.read()\n",
    "    words = data.split()\n",
    "    for word in words:\n",
    "        if word ==\"the\" or word ==\"The\":\n",
    "            count += 1\n",
    "    print(count)\n",
    "    file.close()\n",
    "\n",
    "count_words()"
   ]
  },
  {
   "cell_type": "markdown",
   "id": "d12fa77f-26fa-46be-8c16-2609727ddaf3",
   "metadata": {},
   "source": [
    "\n",
    "#### <span style=\"color:purple;\">Example 5:</span> \n",
    "<span style=\"color:green;\"> Write a function display_words() in python to read lines from a text file, and display those words, which are less than 4 characters. </span>\n",
    "\n",
    "\n",
    "\n",
    " "
   ]
  },
  {
   "cell_type": "code",
   "execution_count": 34,
   "id": "0128bc11-1c49-4570-bf90-674e4eb55d31",
   "metadata": {},
   "outputs": [
    {
     "name": "stdout",
     "output_type": "stream",
     "text": [
      "is the It us to in a add "
     ]
    }
   ],
   "source": [
    "def display_words():\n",
    "    file = open(\"hello.txt\",\"r\")\n",
    "    data = file.read()\n",
    "    words = data.split()\n",
    "    for word in words:\n",
    "        if len(word) < 4:\n",
    "            print(word, end=\" \")\n",
    "    file.close()\n",
    "\n",
    "display_words()\n"
   ]
  },
  {
   "cell_type": "markdown",
   "id": "9f8b51e6-22ba-41ea-8e8e-1df26a26616f",
   "metadata": {},
   "source": [
    "\n",
    "\n",
    "#### <span style=\"color:purple;\">Example 6:</span> \n",
    "<span style=\"color:green;\"> Write a function in Python to count uppercase character in a text file. </span>\n",
    "\n",
    "\n",
    "\n"
   ]
  },
  {
   "cell_type": "code",
   "execution_count": 35,
   "id": "83390b68-e597-4d20-bbb2-c9b018acf85d",
   "metadata": {},
   "outputs": [
    {
     "name": "stdout",
     "output_type": "stream",
     "text": [
      "3\n"
     ]
    }
   ],
   "source": [
    "def count_letter():\n",
    "    file = open(\"hello.txt\",\"r\")\n",
    "    data = file.read()\n",
    "    count = 0\n",
    "    for letter in data:\n",
    "        if letter.isupper():\n",
    "            count+=1\n",
    "    print(count)\n",
    "    file.close()\n",
    "\n",
    "count_letter()"
   ]
  },
  {
   "cell_type": "markdown",
   "id": "f0abbd38-9455-4834-a244-08849dbfa3c3",
   "metadata": {},
   "source": [
    "\n",
    "\n",
    "#### <span style=\"color:purple;\">Example 7:</span> \n",
    "<span style=\"color:green;\"> A text file named \"matter.txt\" contains some text, which needs to be displayed such that every next character is separated by a symbol \"#\". Write a function definition for hash_display() in Python that would display the entire content of the file matter.txt in the desired format. </span>\n"
   ]
  },
  {
   "cell_type": "code",
   "execution_count": 36,
   "id": "72395723-b816-4ae8-b71e-ad63f72b7ff3",
   "metadata": {},
   "outputs": [
    {
     "name": "stdout",
     "output_type": "stream",
     "text": [
      "T#h#i#s# #i#s# #t#h#e# #w#r#i#t#e# #c#o#m#m#a#n#d#\n",
      "#I#t# #a#l#l#o#w#s# #u#s# #t#o# #w#r#i#t#e# #i#n# #a# #p#a#r#t#i#c#u#l#a#r# #f#i#l#e#\n",
      "#T#h#i#s# #w#i#l#l# #a#d#d# #t#h#i#s# #l#i#n#e#"
     ]
    }
   ],
   "source": [
    "def count_hash():\n",
    "    file = open(\"hello.txt\",\"r\")\n",
    "    data = file.read()\n",
    "    for letter in data:\n",
    "        print(letter, end=\"#\")\n",
    "\n",
    "    file.close()\n",
    "\n",
    "count_hash()"
   ]
  },
  {
   "cell_type": "markdown",
   "id": "2eeed302-ed17-4391-b6d2-1b594075638a",
   "metadata": {},
   "source": [
    "## <span style=\"color:orange;\">Advance Excercise</span>\n",
    "#### <span style=\"color:purple;\">Example 1:</span> \n",
    "<span style=\"color:green;\">Reading large file with buffered read.</span>\n"
   ]
  },
  {
   "cell_type": "code",
   "execution_count": 37,
   "id": "e9f6c67f-4f90-4b8e-adad-4dcd9486261c",
   "metadata": {},
   "outputs": [
    {
     "name": "stdout",
     "output_type": "stream",
     "text": [
      "This is the write command\n",
      "It allows us to write in a particular file\n",
      "This will add this line\n"
     ]
    }
   ],
   "source": [
    "def read_large_file(file_path, buffer_size=8192):\n",
    "    with open(file_path, 'r') as file:\n",
    "        while True:\n",
    "            data = file.read(buffer_size)\n",
    "            if not data:\n",
    "                break\n",
    "            # Process data here (e.g., print or analyze)\n",
    "            print(data)\n",
    "\n",
    "# Usage\n",
    "read_large_file('hello.txt')\n"
   ]
  },
  {
   "cell_type": "markdown",
   "id": "1f10201e-d7ad-43ce-9404-79a45606a76d",
   "metadata": {},
   "source": [
    "#### <span style=\"color:purple;\">Example 2:</span> \n",
    "<span style=\"color:green;\">Compressing Files</span>\n"
   ]
  },
  {
   "cell_type": "code",
   "execution_count": 38,
   "id": "5779dad6-60b3-4612-bf46-ba2954bc2570",
   "metadata": {},
   "outputs": [
    {
     "name": "stdout",
     "output_type": "stream",
     "text": [
      "File 'hello.txt' compressed to 'example.txt.gz' successfully.\n"
     ]
    }
   ],
   "source": [
    "import gzip\n",
    "\n",
    "# Example 2: Compressing  files using gzip\n",
    "def compress_file(input_file, output_file):\n",
    "    try:\n",
    "        with open(input_file, 'rb') as f_in:\n",
    "            with gzip.open(output_file, 'wb') as f_out:\n",
    "                f_out.writelines(f_in)\n",
    "        print(f\"File '{input_file}' compressed to '{output_file}' successfully.\")\n",
    "    except FileNotFoundError:\n",
    "        print(f\"Error: File '{input_file}' not found.\")\n",
    "    except Exception as e:\n",
    "        print(f\"Error compressing file: {e}\")\n",
    "\n",
    "def decompress_file(gzip_file, output_file):\n",
    "    try:\n",
    "        with gzip.open(gzip_file, 'rb') as f_in:\n",
    "            with open(output_file, 'wb') as f_out:\n",
    "                for line in f_in:\n",
    "                    f_out.write(line)\n",
    "        print(f\"File '{gzip_file}' decompressed to '{output_file}' successfully.\")\n",
    "    except FileNotFoundError:\n",
    "        print(f\"Error: File '{gzip_file}' not found.\")\n",
    "    except Exception as e:\n",
    "        print(f\"Error decompressing file: {e}\")\n",
    "\n",
    "# Usage\n",
    "compress_file('hello.txt', 'example.txt.gz')\n",
    "\n"
   ]
  },
  {
   "cell_type": "markdown",
   "id": "58dfa7a8-d1d6-40e6-b76b-5a0c61086765",
   "metadata": {},
   "source": [
    "#### <span style=\"color:purple;\">Example 3:</span> \n",
    "<span style=\"color:green;\">Robust error handling for file operations</span>\n",
    "\n"
   ]
  },
  {
   "cell_type": "code",
   "execution_count": 39,
   "id": "b5e4e0e9-824c-4a12-bf0c-ed27f1c8d9a4",
   "metadata": {},
   "outputs": [
    {
     "name": "stdout",
     "output_type": "stream",
     "text": [
      "File content: This is the write command\n",
      "It allows us to write in a particular file\n",
      "This will add this line\n"
     ]
    }
   ],
   "source": [
    "# Example 3: Robust error handling for file operations\n",
    "def safe_file_read(file_path):\n",
    "    try:\n",
    "        with open(file_path, 'r') as file:\n",
    "            content = file.read()\n",
    "            return content\n",
    "    except FileNotFoundError:\n",
    "        print(f\"Error: File '{file_path}' not found.\")\n",
    "    except IOError as e:\n",
    "        print(f\"Error: IO error occurred - {e}\")\n",
    "\n",
    "# Usage\n",
    "file_content = safe_file_read('hello.txt')\n",
    "if file_content:\n",
    "    print(\"File content:\", file_content)\n"
   ]
  },
  {
   "cell_type": "markdown",
   "id": "90baf65d-6901-4bb1-a7a9-f87379799b0b",
   "metadata": {},
   "source": [
    "#### <span style=\"color:purple;\">Example 4:</span> \n",
    "<span style=\"color:green;\">Working With Csv file Format.</span>\n",
    "\n"
   ]
  },
  {
   "cell_type": "code",
   "execution_count": 40,
   "id": "64a5edf7-8f42-41f1-87b7-971d300bea7c",
   "metadata": {},
   "outputs": [
    {
     "name": "stdout",
     "output_type": "stream",
     "text": [
      "['age;\"job\";\"marital\";\"education\";\"default\";\"balance\";\"housing\";\"loan\";\"contact\";\"day\";\"month\";\"duration\";\"campaign\";\"pdays\";\"previous\";\"poutcome\";\"y\"']\n",
      "['58;\"management\";\"married\";\"tertiary\";\"no\";2143;\"yes\";\"no\";\"unknown\";5;\"may\";261;1;-1;0;\"unknown\";\"no\"']\n",
      "['44;\"technician\";\"single\";\"secondary\";\"no\";29;\"yes\";\"no\";\"unknown\";5;\"may\";151;1;-1;0;\"unknown\";\"no\"']\n",
      "['33;\"entrepreneur\";\"married\";\"secondary\";\"no\";2;\"yes\";\"yes\";\"unknown\";5;\"may\";76;1;-1;0;\"unknown\";\"no\"']\n",
      "['47;\"blue-collar\";\"married\";\"unknown\";\"no\";1506;\"yes\";\"no\";\"unknown\";5;\"may\";92;1;-1;0;\"unknown\";\"no\"']\n"
     ]
    }
   ],
   "source": [
    "import csv\n",
    "\n",
    "# Example: Reading and printing first 5 rows from a CSV file\n",
    "def print_first_5_rows(csv_file):\n",
    "    try:\n",
    "        with open(csv_file, 'r', newline='') as file:\n",
    "            reader = csv.reader(file, delimiter=',')\n",
    "            row_count = 0\n",
    "            for row in reader:\n",
    "                print(row)  # Print each row\n",
    "                row_count += 1\n",
    "                if row_count >= 5:\n",
    "                    break  # Exit the loop after printing 5 rows\n",
    "    except FileNotFoundError:\n",
    "        print(f\"Error: File '{csv_file}' not found.\")\n",
    "    except Exception as e:\n",
    "        print(f\"Error processing CSV file: {e}\")\n",
    "\n",
    "# Usage\n",
    "print_first_5_rows('C:\\\\Users\\\\Ubaid-khan\\\\Desktop\\\\bank-full.csv')\n"
   ]
  },
  {
   "cell_type": "markdown",
   "id": "ce7ffecf-5fc3-499a-8593-341c33e1867f",
   "metadata": {},
   "source": [
    "#### <span style=\"color:purple;\">Example 5:</span> \n",
    "<span style=\"color:green;\">Locking Files.</span>\n",
    "\n"
   ]
  },
  {
   "cell_type": "code",
   "execution_count": 43,
   "id": "66b38a2c-7846-4238-827c-f8240f47200c",
   "metadata": {},
   "outputs": [
    {
     "name": "stdout",
     "output_type": "stream",
     "text": [
      "Error: Permission denied to access 'hello.txt'. Please check file permissions.\n"
     ]
    }
   ],
   "source": [
    "import msvcrt\n",
    "import os\n",
    "\n",
    "def write_with_lock(file_path, data):\n",
    "    try:\n",
    "        # Open the file in binary mode for writing\n",
    "        with open(file_path, 'r+b') as file:\n",
    "            # Attempt to acquire an exclusive lock on the entire file\n",
    "            msvcrt.locking(file.fileno(), msvcrt.LK_LOCK, os.path.getsize(file_path))\n",
    "            \n",
    "            # Move the file pointer to the end of the file\n",
    "            file.seek(0, os.SEEK_END)\n",
    "            \n",
    "            # Write data to the file\n",
    "            file.write(data.encode('utf-8'))  # Assuming 'data' is a string to be written\n",
    "            \n",
    "            # Release the lock\n",
    "            msvcrt.locking(file.fileno(), msvcrt.LK_UNLCK, os.path.getsize(file_path))\n",
    "            \n",
    "            print(f\"Data written to '{file_path}' with lock successfully.\")\n",
    "    except PermissionError as e:\n",
    "        print(f\"Error: Permission denied to access '{file_path}'. Please check file permissions.\")\n",
    "    except IOError as e:\n",
    "        print(f\"Error: {e}\")\n",
    "\n",
    "# Usage\n",
    "write_with_lock('hello.txt', 'This is some data to write with lock\\n')\n"
   ]
  },
  {
   "cell_type": "markdown",
   "id": "69adcb9f-b341-4f03-ba7f-18e39a23be87",
   "metadata": {},
   "source": [
    "#### <span style=\"color:purple;\">Example 6:</span> \n",
    "<span style=\"color:green;\">Working With Jason file Format.</span>\n",
    "\n"
   ]
  },
  {
   "cell_type": "code",
   "execution_count": 48,
   "id": "d6b61020-f5f0-450e-8528-e88139e64d15",
   "metadata": {},
   "outputs": [
    {
     "name": "stdout",
     "output_type": "stream",
     "text": [
      "Person Name: Alice\n",
      "Person Skills: Python, JavaScript, SQL\n",
      "Company Name: Tech Solutions Inc.\n",
      "Number of Employees: 500\n"
     ]
    }
   ],
   "source": [
    "import json\n",
    "\n",
    "def read_json_file(file_path):\n",
    "    try:\n",
    "        with open(file_path, 'r') as file:\n",
    "            data = json.load(file)\n",
    "            return data\n",
    "    except IOError as e:\n",
    "        print(f\"Error reading from '{file_path}': {e}\")\n",
    "        return None\n",
    "\n",
    "file_path = 'complex_data.json'\n",
    "loaded_data = read_json_file(file_path)\n",
    "\n",
    "if loaded_data:\n",
    "   \n",
    "    person_name = loaded_data['person']['name']\n",
    "    person_skills = loaded_data['person']['skills']\n",
    "    company_name = loaded_data['company']['name']\n",
    "    company_employees = loaded_data['company']['employees']\n",
    "\n",
    "    print(f\"Person Name: {person_name}\")\n",
    "    print(f\"Person Skills: {', '.join(person_skills)}\")\n",
    "    print(f\"Company Name: {company_name}\")\n",
    "    print(f\"Number of Employees: {company_employees}\")\n"
   ]
  },
  {
   "cell_type": "markdown",
   "id": "19e1e21b-33c5-45c3-9f51-97081a634b0b",
   "metadata": {},
   "source": [
    "#### <span style=\"color:purple;\">Example 7:</span> \n",
    "<span style=\"color:green;\">Working With Database.</span>\n",
    "\n"
   ]
  },
  {
   "cell_type": "code",
   "execution_count": null,
   "id": "06097f51-ae8d-4e55-83f2-1d4c8f94b558",
   "metadata": {},
   "outputs": [
    {
     "name": "stdout",
     "output_type": "stream",
     "text": [
      "Connected successfully!\n",
      "Inserted performance data successfully!\n",
      "Inserted performance data successfully!\n",
      "Inserted performance data successfully!\n",
      "Inserted performance data successfully!\n",
      "Inserted performance data successfully!\n",
      "Inserted performance data successfully!\n",
      "Inserted performance data successfully!\n",
      "Inserted performance data successfully!\n",
      "Inserted performance data successfully!\n",
      "Inserted performance data successfully!\n",
      "Inserted performance data successfully!\n",
      "Inserted performance data successfully!\n",
      "Inserted performance data successfully!\n",
      "Inserted performance data successfully!\n",
      "Inserted performance data successfully!\n",
      "Inserted performance data successfully!\n",
      "Inserted performance data successfully!\n",
      "Inserted performance data successfully!\n",
      "Inserted performance data successfully!\n",
      "Inserted performance data successfully!\n",
      "Inserted performance data successfully!\n",
      "Inserted performance data successfully!\n",
      "Inserted performance data successfully!\n",
      "Inserted performance data successfully!\n",
      "Inserted performance data successfully!\n",
      "Inserted performance data successfully!\n",
      "Inserted performance data successfully!\n",
      "Inserted performance data successfully!\n",
      "Inserted performance data successfully!\n",
      "Inserted performance data successfully!\n",
      "Inserted performance data successfully!\n",
      "Inserted performance data successfully!\n",
      "Inserted performance data successfully!\n",
      "Inserted performance data successfully!\n",
      "Inserted performance data successfully!\n",
      "Inserted performance data successfully!\n",
      "Inserted performance data successfully!\n",
      "Inserted performance data successfully!\n",
      "Inserted performance data successfully!\n",
      "Inserted performance data successfully!\n",
      "Inserted performance data successfully!\n",
      "Inserted performance data successfully!\n",
      "Inserted performance data successfully!\n",
      "Inserted performance data successfully!\n",
      "Inserted performance data successfully!\n",
      "Inserted performance data successfully!\n",
      "Inserted performance data successfully!\n",
      "Inserted performance data successfully!\n",
      "Inserted performance data successfully!\n",
      "Inserted performance data successfully!\n",
      "Inserted performance data successfully!\n",
      "Inserted performance data successfully!\n",
      "Inserted performance data successfully!\n",
      "Inserted performance data successfully!\n",
      "Inserted performance data successfully!\n",
      "Inserted performance data successfully!\n",
      "Inserted performance data successfully!\n",
      "Inserted performance data successfully!\n",
      "Inserted performance data successfully!\n",
      "Inserted performance data successfully!\n",
      "Inserted performance data successfully!\n",
      "Inserted performance data successfully!\n",
      "Inserted performance data successfully!\n",
      "Inserted performance data successfully!\n",
      "Inserted performance data successfully!\n",
      "Inserted performance data successfully!\n",
      "Inserted performance data successfully!\n",
      "Inserted performance data successfully!\n",
      "Inserted performance data successfully!\n",
      "Inserted performance data successfully!\n",
      "Inserted performance data successfully!\n",
      "Inserted performance data successfully!\n",
      "Inserted performance data successfully!\n",
      "Inserted performance data successfully!\n",
      "Inserted performance data successfully!\n",
      "Inserted performance data successfully!\n",
      "Inserted performance data successfully!\n",
      "Inserted performance data successfully!\n",
      "Inserted performance data successfully!\n",
      "Inserted performance data successfully!\n",
      "Inserted performance data successfully!\n",
      "Inserted performance data successfully!\n",
      "Inserted performance data successfully!\n",
      "Inserted performance data successfully!\n",
      "Inserted performance data successfully!\n",
      "Inserted performance data successfully!\n",
      "Inserted performance data successfully!\n",
      "Inserted performance data successfully!\n",
      "Inserted performance data successfully!\n",
      "Inserted performance data successfully!\n",
      "Inserted performance data successfully!\n",
      "Inserted performance data successfully!\n",
      "Inserted performance data successfully!\n",
      "Inserted performance data successfully!\n",
      "Inserted performance data successfully!\n",
      "Inserted performance data successfully!\n",
      "Inserted performance data successfully!\n",
      "Inserted performance data successfully!\n",
      "Inserted performance data successfully!\n",
      "Inserted performance data successfully!\n",
      "Inserted performance data successfully!\n",
      "Inserted performance data successfully!\n",
      "Inserted performance data successfully!\n",
      "Inserted performance data successfully!\n",
      "Inserted performance data successfully!\n",
      "Inserted performance data successfully!\n",
      "Inserted performance data successfully!\n"
     ]
    }
   ],
   "source": [
    "import mysql.connector\n",
    "import psutil\n",
    "import time\n",
    "\n",
    "# Establishing a connection to the MySQL database\n",
    "con = mysql.connector.connect(\n",
    "    host='localhost',\n",
    "    user='root',\n",
    "    password='Ubaidkhan1&&2&&',  # Replace 'your_password' with the actual password\n",
    "    port=3306,\n",
    "    database='system_information'\n",
    ")\n",
    "\n",
    "# Check if the connection was successful\n",
    "if con.is_connected():\n",
    "    print(\"Connected successfully!\")\n",
    "else:\n",
    "    print(\"Failed to connect.\")\n",
    "\n",
    "cursor = con.cursor()\n",
    "\n",
    "while True:\n",
    "    try:\n",
    "        cpu_usage = psutil.cpu_percent()\n",
    "        memory_usage = psutil.virtual_memory()[2]\n",
    "        cpu_interupts = psutil.cpu_stats()[1]\n",
    "        memory_used = psutil.virtual_memory()[3]\n",
    "        memory_free = psutil.virtual_memory()[4]\n",
    "        bytes_sent = psutil.net_io_counters()[0]\n",
    "        bytes_received = psutil.net_io_counters()[1]\n",
    "        disk_usage = psutil.disk_usage('/')[3]\n",
    "\n",
    "        cursor.execute('INSERT INTO performance VALUES (NOW(),'\n",
    "                       + str(cpu_usage) + ','\n",
    "                       + str(memory_usage) + ','\n",
    "                       + str(cpu_interupts) + ','\n",
    "                       + str(memory_used) + ','\n",
    "                       + str(memory_free) + ','\n",
    "                       + str(bytes_sent) + ','\n",
    "                       + str(bytes_received) + ','\n",
    "                       + str(disk_usage) + ')'\n",
    "                      )\n",
    "        con.commit()\n",
    "        print(\"Inserted performance data successfully!\")\n",
    "    except mysql.connector.Error as err:\n",
    "        print(\"MySQL Error:\", err)\n",
    "    except Exception as e:\n",
    "        print(\"Unexpected error:\", e)\n",
    "    finally:\n",
    "        time.sleep(1)\n",
    "\n",
    "# Closing the database connection\n",
    "con.close()\n"
   ]
  },
  {
   "cell_type": "markdown",
   "id": "282b0760-d039-4094-9e4f-1353c14fe5e6",
   "metadata": {},
   "source": [
    "#### <span style=\"color:purple;\">Example 8:</span> \n",
    "<span style=\"color:green;\">Working With Meta data.</span>\n",
    "\n"
   ]
  },
  {
   "cell_type": "code",
   "execution_count": 3,
   "id": "57563f5c-e745-433d-be5e-b09c9270bf50",
   "metadata": {},
   "outputs": [
    {
     "name": "stdout",
     "output_type": "stream",
     "text": [
      "File metadata: {'File Name': 'hello.txt', 'Size (bytes)': 168, 'Last Modified': 'Fri Jun 21 10:30:24 2024'}\n"
     ]
    }
   ],
   "source": [
    "import os\n",
    "import time\n",
    "\n",
    "# Example 10: File metadata handling\n",
    "def get_file_metadata(file_path):\n",
    "    metadata = os.stat(file_path)\n",
    "    return {\n",
    "        'File Name': os.path.basename(file_path),\n",
    "        'Size (bytes)': metadata.st_size,\n",
    "        'Last Modified': time.ctime(metadata.st_mtime)\n",
    "    }\n",
    "\n",
    "# Usage\n",
    "file_metadata = get_file_metadata('hello.txt')\n",
    "print(\"File metadata:\", file_metadata)\n"
   ]
  },
  {
   "cell_type": "markdown",
   "id": "258a03fa-d4f9-49c7-8de4-7f49f15321b9",
   "metadata": {},
   "source": [
    "#### <span style=\"color:purple;\">Example 9:</span> \n",
    "<span style=\"color:green;\">Transaction Managment for file operations</span>\n",
    "\n"
   ]
  },
  {
   "cell_type": "code",
   "execution_count": 5,
   "id": "793a861b-ff6e-46c8-99ab-2bc80accaf1e",
   "metadata": {},
   "outputs": [
    {
     "name": "stdout",
     "output_type": "stream",
     "text": [
      "Transaction completed: Moved 'hello.txt' to 'destination_file.txt' and deleted original.\n"
     ]
    }
   ],
   "source": [
    "import os\n",
    "import shutil\n",
    "\n",
    "# Example 8: Transaction management for file operations\n",
    "def atomic_file_operation(source_file, destination_file):\n",
    "    try:\n",
    "        # Perform operations within a transaction\n",
    "        shutil.copy(source_file, destination_file)\n",
    "        os.remove(source_file)\n",
    "        print(f\"Transaction completed: Moved '{source_file}' to '{destination_file}' and deleted original.\")\n",
    "    except Exception as e:\n",
    "        print(f\"Transaction aborted: {e}\")\n",
    "\n",
    "# Usage\n",
    "atomic_file_operation('hello.txt', 'destination_file.txt')\n"
   ]
  },
  {
   "cell_type": "markdown",
   "id": "6d9cfef1-2aec-4e35-a4e2-de587f7f65f1",
   "metadata": {},
   "source": [
    "#### <span style=\"color:purple;\">Example 10:</span> \n",
    "<span style=\"color:green;\">Working With Binary files.</span>\n",
    "\n"
   ]
  },
  {
   "cell_type": "code",
   "execution_count": 6,
   "id": "efc45e81-f875-4399-abda-3dbd95281d97",
   "metadata": {},
   "outputs": [
    {
     "name": "stdout",
     "output_type": "stream",
     "text": [
      "Binary data: b'Hello'\n"
     ]
    }
   ],
   "source": [
    "# Example 7: Binary file handling\n",
    "def write_binary_file(file_path, data):\n",
    "    with open(file_path, 'wb') as file:\n",
    "        file.write(data)\n",
    "\n",
    "def read_binary_file(file_path):\n",
    "    with open(file_path, 'rb') as file:\n",
    "        data = file.read()\n",
    "        return data\n",
    "\n",
    "# Usage\n",
    "write_binary_file('binary_data.bin', b'\\x48\\x65\\x6c\\x6c\\x6f')\n",
    "binary_data = read_binary_file('binary_data.bin')\n",
    "print(\"Binary data:\", binary_data)\n"
   ]
  },
  {
   "cell_type": "code",
   "execution_count": null,
   "id": "b6056b2c-dbe9-4385-acb4-c8a7e9e69d1e",
   "metadata": {},
   "outputs": [],
   "source": []
  }
 ],
 "metadata": {
  "kernelspec": {
   "display_name": "Python 3 (ipykernel)",
   "language": "python",
   "name": "python3"
  },
  "language_info": {
   "codemirror_mode": {
    "name": "ipython",
    "version": 3
   },
   "file_extension": ".py",
   "mimetype": "text/x-python",
   "name": "python",
   "nbconvert_exporter": "python",
   "pygments_lexer": "ipython3",
   "version": "3.11.7"
  }
 },
 "nbformat": 4,
 "nbformat_minor": 5
}
