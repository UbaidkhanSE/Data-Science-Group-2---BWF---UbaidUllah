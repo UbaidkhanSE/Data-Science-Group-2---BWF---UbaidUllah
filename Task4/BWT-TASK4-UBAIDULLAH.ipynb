{
 "cells": [
  {
   "attachments": {},
   "cell_type": "markdown",
   "id": "badb3f5b-2830-426d-a0ad-500ff8462174",
   "metadata": {},
   "source": [
    "# **UbaidUllah**\n",
    "\n",
    "## **BYTEWISE FELLOWSHIP**\n",
    "\n",
    "### **Task 4: Start with Python**\n",
    "\n",
    "# FUNDAMENTALS\n",
    "\n",
    "## 1. VARIABLES & OPERATORS\n",
    "### 1.1 Data types in python\n",
    "###  1.2. Guidlines for creating scripts\n",
    "### 1.3. Rules and Guidelines for creating a variable\n",
    "###  1.4. Assignment Operator\n",
    "###  1.5. Multiple Assignments\n",
    "### 1.6. Arithmetic Operators (+, -, /, *, **)\n",
    "###  1.7. Type Conversion Vs Type Casting\n",
    "###  1.8. Boolean Operator\n",
    "###  1.9. Logical & Comparison Operators\n",
    "### 1.10. Programming errors:\r"
   ]
  },
  {
   "cell_type": "code",
   "execution_count": 23,
   "id": "fa9526b0-0bd5-454e-a186-0162b42ffa93",
   "metadata": {},
   "outputs": [
    {
     "name": "stdout",
     "output_type": "stream",
     "text": [
      "Integer: 42, Type: <class 'int'>\n",
      "Float: 3.14, Type: <class 'float'>\n",
      "Complex: (2+3j), Type: <class 'complex'>\n",
      "String: Hello, Python!, Type: <class 'str'>\n",
      "Bytes: b'binary data', Type: <class 'bytes'>\n",
      "Boolean True: True, Type: <class 'bool'>\n",
      "Boolean False: False, Type: <class 'bool'>\n",
      "None: None, Type: <class 'NoneType'>\n",
      "List: [1, 2, 3], Type: <class 'list'>\n",
      "Tuple: (4, 5, 6), Type: <class 'tuple'>\n",
      "Set: {1, 2, 3}, Type: <class 'set'>\n",
      "Frozenset: frozenset({4, 5, 6}), Type: <class 'frozenset'>\n",
      "Dictionary: {'a': 1, 'b': 2}, Type: <class 'dict'>\n",
      "Function: <function my_function at 0x00000190B7168400>, Type: <class 'function'>\n",
      "Class: <class '__main__.MyClass'>, Type: <class 'type'>\n",
      "Object instance: <__main__.MyClass object at 0x00000190B6F2D550>, Type: <class '__main__.MyClass'>\n",
      "User-defined data type: MyDataType(42), Type: <class '__main__.MyDataType'>\n"
     ]
    }
   ],
   "source": [
    "# 1.1 Data types in python\n",
    "\n",
    "# Built-in data types\n",
    "# Integer\n",
    "x = 42\n",
    "print(f\"Integer: {x}, Type: {type(x)}\")\n",
    "\n",
    "# Floating point number\n",
    "y = 3.14\n",
    "print(f\"Float: {y}, Type: {type(y)}\")\n",
    "\n",
    "# Complex number\n",
    "z = 2 + 3j\n",
    "print(f\"Complex: {z}, Type: {type(z)}\")\n",
    "\n",
    "# String\n",
    "s = \"Hello, Python!\"\n",
    "print(f\"String: {s}, Type: {type(s)}\")\n",
    "\n",
    "# Bytes (useful for binary data)\n",
    "b = b\"binary data\"\n",
    "print(f\"Bytes: {b}, Type: {type(b)}\")\n",
    "\n",
    "# Boolean values\n",
    "b1 = True\n",
    "b2 = False\n",
    "print(f\"Boolean True: {b1}, Type: {type(b1)}\")\n",
    "print(f\"Boolean False: {b2}, Type: {type(b2)}\")\n",
    "\n",
    "# None type\n",
    "n = None\n",
    "print(f\"None: {n}, Type: {type(n)}\")\n",
    "\n",
    "# List\n",
    "lst = [1, 2, 3]\n",
    "print(f\"List: {lst}, Type: {type(lst)}\")\n",
    "\n",
    "# Tuple\n",
    "tup = (4, 5, 6)\n",
    "print(f\"Tuple: {tup}, Type: {type(tup)}\")\n",
    "\n",
    "# Set\n",
    "set1 = {1, 2, 3}\n",
    "print(f\"Set: {set1}, Type: {type(set1)}\")\n",
    "\n",
    "# Frozen set\n",
    "fs = frozenset({4, 5, 6})\n",
    "print(f\"Frozenset: {fs}, Type: {type(fs)}\")\n",
    "\n",
    "# Dictionary\n",
    "d = {'a': 1, 'b': 2}\n",
    "print(f\"Dictionary: {d}, Type: {type(d)}\")\n",
    "\n",
    "# Function (user-defined)\n",
    "def my_function():\n",
    "    print(\"This is a function\")\n",
    "\n",
    "print(f\"Function: {my_function}, Type: {type(my_function)}\")\n",
    "\n",
    "# Class (user-defined)\n",
    "class MyClass:\n",
    "    pass\n",
    "\n",
    "print(f\"Class: {MyClass}, Type: {type(MyClass)}\")\n",
    "\n",
    "# Object instance (user-defined)\n",
    "obj = MyClass()\n",
    "print(f\"Object instance: {obj}, Type: {type(obj)}\")\n",
    "\n",
    "# User-defined data type (custom class)\n",
    "class MyDataType:\n",
    "    def __init__(self, value):\n",
    "        self.value = value\n",
    "\n",
    "    def __repr__(self):\n",
    "        return f\"MyDataType({self.value})\"\n",
    "\n",
    "data = MyDataType(42)\n",
    "print(f\"User-defined data type: {data}, Type: {type(data)}\")\n"
   ]
  },
  {
   "cell_type": "markdown",
   "id": "7367cf42-9e6e-4184-8802-1b945aa06b3e",
   "metadata": {},
   "source": [
    "# 1.2. Guidelines for Creating Scripts\r\n",
    "\r\n",
    "1. Define the Objective\r\n",
    "2. Plan the Logic\r\n",
    "3. Keep it Simple and Readable\r\n",
    "4. Handle Errors\r\n",
    "5. Use Functions\r\n",
    "6. Avoid Hardcoding\r\n",
    "7. Documentation\r\n",
    "8. Performance Optimization\r\n",
    "9. Backup and Recovery\r\n",
    "acts with important data.\r\n",
    "\r\n"
   ]
  },
  {
   "cell_type": "markdown",
   "id": "1e1f915e-ad4f-435c-908e-27c3bcaf5f4d",
   "metadata": {},
   "source": [
    "# 1.3. Guidelines for Creating Variables\r\n",
    "\r\n",
    "- Start with a letter or underscore (e.g., `age` and `_count`).\r\n",
    "- Consist of letters, digits, and underscores.\r\n",
    "- Should not contain spaces or special characters.\r\n",
    "- Variables are case-sensitive (`name`, `Name`, and `NAME` are three different variables).\r\n",
    "- Avoid using Python reserved words.\r\n",
    "- Choose descriptive names that indicate the purpose of the variable.\r\n",
    "- Avoid starting variable names with double underscores.\r\n"
   ]
  },
  {
   "cell_type": "code",
   "execution_count": 24,
   "id": "44d4b80a-be8d-4106-96f5-fbe52d4b4c40",
   "metadata": {},
   "outputs": [
    {
     "name": "stdout",
     "output_type": "stream",
     "text": [
      "Initial values: x = 10, y = 5, z = 3\n",
      "\n",
      "After using assignment operators:\n",
      "x += y   -> x = 2.0\n",
      "y -= z   -> y = 2\n",
      "z *= 2   -> z = 36\n",
      "x /= 3   -> x = 2.0\n",
      "y %= 4   -> y = 2\n",
      "z **= 2  -> z = 36\n",
      "x //= 2  -> x = 2.0\n"
     ]
    }
   ],
   "source": [
    "# 1.4. Assignment Operator\n",
    "\n",
    "# Initialize variables\n",
    "x = 10\n",
    "y = 5\n",
    "z = 3\n",
    "\n",
    "# Display initial values\n",
    "print(f\"Initial values: x = {x}, y = {y}, z = {z}\\n\")\n",
    "\n",
    "# Using assignment operators\n",
    "x += y    # Equivalent to x = x + y\n",
    "y -= z    # Equivalent to y = y - z\n",
    "z *= 2    # Equivalent to z = z * 2\n",
    "x /= 3    # Equivalent to x = x / 3\n",
    "y %= 4    # Equivalent to y = y % 4\n",
    "z **= 2   # Equivalent to z = z ** 2\n",
    "x //= 2   # Equivalent to x = x // 2\n",
    "\n",
    "# Display updated values\n",
    "print(f\"After using assignment operators:\")\n",
    "print(f\"x += y   -> x = {x}\")\n",
    "print(f\"y -= z   -> y = {y}\")\n",
    "print(f\"z *= 2   -> z = {z}\")\n",
    "print(f\"x /= 3   -> x = {x}\")\n",
    "print(f\"y %= 4   -> y = {y}\")\n",
    "print(f\"z **= 2  -> z = {z}\")\n",
    "print(f\"x //= 2  -> x = {x}\")\n"
   ]
  },
  {
   "cell_type": "code",
   "execution_count": 25,
   "id": "53d51349-9473-48ae-91af-694486a7d9bb",
   "metadata": {},
   "outputs": [
    {
     "name": "stdout",
     "output_type": "stream",
     "text": [
      "Initial values: x = 10, y = 20, z = 30\n",
      "After swapping: x = 30, y = 10, z = 20\n",
      "a = 50, b = 50, c = 50\n",
      "After arithmetic operations: d = 7, e = 2, f = 16\n"
     ]
    }
   ],
   "source": [
    "# 1.5. Multiple Assignments \n",
    "\n",
    "# Assigning multiple variables in a single line\n",
    "x, y, z = 10, 20, 30\n",
    "\n",
    "# Printing initial values\n",
    "print(f\"Initial values: x = {x}, y = {y}, z = {z}\")\n",
    "\n",
    "# Swapping variables using multiple assignments\n",
    "x, y, z = z, x, y\n",
    "\n",
    "# Printing swapped values\n",
    "print(f\"After swapping: x = {x}, y = {y}, z = {z}\")\n",
    "\n",
    "# Assigning a single value to multiple variables\n",
    "a = b = c = 50\n",
    "\n",
    "# Printing variables assigned the same value\n",
    "print(f\"a = {a}, b = {b}, c = {c}\")\n",
    "\n",
    "# Performing arithmetic operations in multiple assignments\n",
    "d, e, f = 5, 2, 8\n",
    "d += e   # Equivalent to d = d + e\n",
    "f *= e   # Equivalent to f = f * e\n",
    "\n",
    "# Printing updated values after arithmetic operations\n",
    "print(f\"After arithmetic operations: d = {d}, e = {e}, f = {f}\")\n"
   ]
  },
  {
   "cell_type": "code",
   "execution_count": 26,
   "id": "4fc5558d-ef31-4fc0-a473-3e8991bc38d1",
   "metadata": {},
   "outputs": [
    {
     "name": "stdout",
     "output_type": "stream",
     "text": [
      "Addition: 10 + 3 = 13\n",
      "Subtraction: 10 - 3 = 7\n",
      "Multiplication: 10 * 3 = 30\n",
      "Division: 10 / 3 = 3.3333333333333335\n",
      "Exponentiation: 10 ** 3 = 1000\n"
     ]
    }
   ],
   "source": [
    "# 1.6 Arithmetic Operators Example\n",
    "\n",
    "a = 10\n",
    "b = 3\n",
    "\n",
    "# Addition (+)\n",
    "addition_result = a + b\n",
    "print(f\"Addition: {a} + {b} = {addition_result}\")\n",
    "\n",
    "# Subtraction (-)\n",
    "subtraction_result = a - b\n",
    "print(f\"Subtraction: {a} - {b} = {subtraction_result}\")\n",
    "\n",
    "# Multiplication (*)\n",
    "multiplication_result = a * b\n",
    "print(f\"Multiplication: {a} * {b} = {multiplication_result}\")\n",
    "\n",
    "# Division (/)\n",
    "division_result = a / b\n",
    "print(f\"Division: {a} / {b} = {division_result}\")\n",
    "\n",
    "# Exponentiation (**)\n",
    "exponentiation_result = a ** b\n",
    "print(f\"Exponentiation: {a} ** {b} = {exponentiation_result}\")\n"
   ]
  },
  {
   "cell_type": "code",
   "execution_count": 27,
   "id": "47d3ec2d-d8df-4c49-aaad-6c633a6bad99",
   "metadata": {},
   "outputs": [
    {
     "name": "stdout",
     "output_type": "stream",
     "text": [
      "Type Conversion Example:\n",
      "Original values: x = 10, y = 20, type of y = <class 'str'>\n",
      "After conversion: y_int = 20, type of y_int = <class 'int'>\n",
      "\n",
      "Type Casting Example:\n",
      "Original values: a = 3.5, b = 7.8, type of a = <class 'float'>, type of b = <class 'float'>\n",
      "After casting: a_int = 3, type of a_int = <class 'int'>, b_int = 7, type of b_int = <class 'int'>\n"
     ]
    }
   ],
   "source": [
    "# 1.7 Type Conversion \n",
    "\n",
    "x = 10    # integer\n",
    "y = \"20\"  # string\n",
    "\n",
    "# Converting string to integer\n",
    "y_int = int(y)\n",
    "\n",
    "# Printing converted values and their types\n",
    "print(f\"Type Conversion Example:\")\n",
    "print(f\"Original values: x = {x}, y = {y}, type of y = {type(y)}\")\n",
    "print(f\"After conversion: y_int = {y_int}, type of y_int = {type(y_int)}\\n\")\n",
    "\n",
    "\n",
    "# Type Casting Example\n",
    "# Example variables\n",
    "a = 3.5   # float\n",
    "b = 7.8   # float\n",
    "\n",
    "# Casting float to integer\n",
    "a_int = int(a)\n",
    "b_int = int(b)\n",
    "\n",
    "# Printing casted values and their types\n",
    "print(f\"Type Casting Example:\")\n",
    "print(f\"Original values: a = {a}, b = {b}, type of a = {type(a)}, type of b = {type(b)}\")\n",
    "print(f\"After casting: a_int = {a_int}, type of a_int = {type(a_int)}, b_int = {b_int}, type of b_int = {type(b_int)}\")\n"
   ]
  },
  {
   "cell_type": "code",
   "execution_count": 28,
   "id": "f8acf660-8d1e-490c-a4bf-6db84235421e",
   "metadata": {},
   "outputs": [
    {
     "name": "stdout",
     "output_type": "stream",
     "text": [
      "'and' Operator:\n",
      "True and False = False\n",
      "\n",
      "'or' Operator:\n",
      "True or False = True\n",
      "\n",
      "'not' Operator:\n",
      "not True = False\n"
     ]
    }
   ],
   "source": [
    "# 1.8. Boolean Operators Example\n",
    "\n",
    "# 'and' Operator\n",
    "x = True\n",
    "y = False\n",
    "result_and = x and y\n",
    "print(f\"'and' Operator:\")\n",
    "print(f\"{x} and {y} = {result_and}\")  \n",
    "print()\n",
    "\n",
    "# 'or' Operator\n",
    "result_or = x or y\n",
    "print(f\"'or' Operator:\")\n",
    "print(f\"{x} or {y} = {result_or}\")    \n",
    "print()\n",
    "\n",
    "# 'not' Operator\n",
    "result_not = not x\n",
    "print(f\"'not' Operator:\")\n",
    "print(f\"not {x} = {result_not}\")      \n"
   ]
  },
  {
   "cell_type": "code",
   "execution_count": 30,
   "id": "5ee20fb9-54d5-48cf-9db3-57343a193501",
   "metadata": {},
   "outputs": [
    {
     "name": "stdout",
     "output_type": "stream",
     "text": [
      "'and' Operator:\n",
      "True and False = False\n",
      "\n",
      "'or' Operator:\n",
      "True or False = True\n",
      "\n",
      "'not' Operator:\n",
      "not True = False\n",
      "\n",
      "Comparison Operators:\n",
      "10 == 5 : False\n",
      "10 != 5 : True\n",
      "10 > 5 : True\n",
      "10 < 5 : False\n",
      "10 >= 5 : True\n",
      "10 <= 5 : False\n"
     ]
    }
   ],
   "source": [
    "# 1.9 Logical and Comparison Operators Example\n",
    "\n",
    "# Logical Operators: and, or, not\n",
    "x = True\n",
    "y = False\n",
    "\n",
    "# 'and' Operator\n",
    "result_and = x and y\n",
    "print(f\"'and' Operator:\")\n",
    "print(f\"{x} and {y} = {result_and}\")  # Output: False\n",
    "print()\n",
    "\n",
    "# 'or' Operator\n",
    "result_or = x or y\n",
    "print(f\"'or' Operator:\")\n",
    "print(f\"{x} or {y} = {result_or}\")    # Output: True\n",
    "print()\n",
    "\n",
    "# 'not' Operator\n",
    "result_not = not x\n",
    "print(f\"'not' Operator:\")\n",
    "print(f\"not {x} = {result_not}\")      # Output: False\n",
    "print()\n",
    "\n",
    "# Comparison Operators: ==, !=, >, <, >=, <=\n",
    "a = 10\n",
    "b = 5\n",
    "\n",
    "# Equal to (==)\n",
    "print(f\"Comparison Operators:\")\n",
    "print(f\"{a} == {b} : {a == b}\")      # Output: False\n",
    "\n",
    "# Not equal to (!=)\n",
    "print(f\"{a} != {b} : {a != b}\")      # Output: True\n",
    "\n",
    "# Greater than (>)\n",
    "print(f\"{a} > {b} : {a > b}\")        # Output: True\n",
    "\n",
    "# Less than (<)\n",
    "print(f\"{a} < {b} : {a < b}\")        # Output: False\n",
    "\n",
    "# Greater than or equal to (>=)\n",
    "print(f\"{a} >= {b} : {a >= b}\")      # Output: True\n",
    "\n",
    "# Less than or equal to (<=)\n",
    "print(f\"{a} <= {b} : {a <= b}\")      # Output: False\n"
   ]
  },
  {
   "cell_type": "markdown",
   "id": "f1293d8d-6eb3-432a-8152-1dbfecdb8e1e",
   "metadata": {},
   "source": [
    "# 1.10. Programming errors:\n",
    "## Syntax Errors: \n",
    "Detected by the Python interpreter before the code runs, due to violations of Python syntax rules.\n",
    "## Runtime Errors: \n",
    "Occur during the execution of the program when the interpreter encounters unexpected conditions or invalid operations.\n",
    "## Logical Errors:\n",
    "Produce incorrect results due to flawed logic or incorrect algorithmic implementation, often requiring careful debugging to identify and fix."
   ]
  },
  {
   "cell_type": "markdown",
   "id": "b5645466-fd88-429e-871b-03f1dfb7f391",
   "metadata": {},
   "source": [
    "# 2. STRINGS\n",
    "\n",
    "## 2.1. Understanding Strings\n",
    "\n",
    "## 2.2. Combine vs Repeat Strings\n",
    "\n",
    "## 2.3. String’s Built-in Methods\n",
    "\n",
    "- `capitalize()`\n",
    "- `len()`\n",
    "- `lower()`\n",
    "- `upper()`\n",
    "- `strip()`\n",
    "- `replace()`\n",
    "- `startswith()`\n",
    "- `endswith()`\n"
   ]
  },
  {
   "cell_type": "markdown",
   "id": "70aff335-c865-4137-a546-64c58f06faed",
   "metadata": {},
   "source": [
    "## 2.1. Understanding Strings\n",
    "\n",
    "Strings in programming are sequences of characters, typically used to represent text. In Python:\n",
    "\n",
    "- Strings are immutable, meaning they cannot be changed after they are created.\n",
    "- Strings can be defined using single quotes (' '), double quotes (\" \"), or triple quotes (''' ''' or \"\"\" \"\"\").\n",
    "- Various operations can be performed on strings, such as concatenation (joining strings), slicing (extracting parts of strings), and formatting.\n",
    "\n",
    "Example of string definition:\n",
    "```python\n",
    "my_string = \"Hello, World!\"\n"
   ]
  },
  {
   "cell_type": "code",
   "execution_count": 31,
   "id": "60078521-a3ee-4992-b574-3412b3588855",
   "metadata": {},
   "outputs": [
    {
     "name": "stdout",
     "output_type": "stream",
     "text": [
      "Full Name: John Doe\n",
      "My name is John Doe and I am 30 years old.\n",
      "Repeated String: HelloHelloHello\n"
     ]
    }
   ],
   "source": [
    "# 2.2. Combining Strings\n",
    "first_name = \"John\"\n",
    "last_name = \"Doe\"\n",
    "full_name = first_name + \" \" + last_name\n",
    "print(\"Full Name:\", full_name)\n",
    "\n",
    "# Using f-string for combining strings\n",
    "age = 30\n",
    "message = f\"My name is {first_name} {last_name} and I am {age} years old.\"\n",
    "print(message)\n",
    "\n",
    "# Repeating Strings\n",
    "original_string = \"Hello\"\n",
    "repeated_string = original_string * 3  # Repeat 'Hello' three times\n",
    "print(\"Repeated String:\", repeated_string)\n"
   ]
  },
  {
   "cell_type": "code",
   "execution_count": 32,
   "id": "f66616d1-4434-49aa-934a-97cebd807460",
   "metadata": {},
   "outputs": [
    {
     "name": "stdout",
     "output_type": "stream",
     "text": [
      "capitalize(): Hello, world!\n",
      "len(): 24\n",
      "lower(): hello\n",
      "upper(): WORLD\n",
      "strip(): extra spaces\n",
      "replace(): Java is great!\n",
      "startswith(): True\n",
      "endswith(): True\n"
     ]
    }
   ],
   "source": [
    "# 2.3. String’s Built-in Methods\n",
    "\n",
    "# capitalize()\n",
    "string1 = \"hello, world!\"\n",
    "print(\"capitalize():\", string1.capitalize())  # Output: \"Hello, world!\"\n",
    "\n",
    "# len()\n",
    "string2 = \"This is a sample string.\"\n",
    "print(\"len():\", len(string2))  # Output: 23 (including spaces)\n",
    "\n",
    "# lower()\n",
    "string3 = \"HELLO\"\n",
    "print(\"lower():\", string3.lower())  # Output: \"hello\"\n",
    "\n",
    "# upper()\n",
    "string4 = \"world\"\n",
    "print(\"upper():\", string4.upper())  # Output: \"WORLD\"\n",
    "\n",
    "# strip()\n",
    "string5 = \"   extra spaces   \"\n",
    "print(\"strip():\", string5.strip())  # Output: \"extra spaces\"\n",
    "\n",
    "# replace()\n",
    "string6 = \"Python is great!\"\n",
    "print(\"replace():\", string6.replace(\"Python\", \"Java\"))  # Output: \"Java is great!\"\n",
    "\n",
    "# startswith()\n",
    "string7 = \"Hello, world!\"\n",
    "print(\"startswith():\", string7.startswith(\"Hello\"))  # Output: True\n",
    "\n",
    "# endswith()\n",
    "string8 = \"Hello, world!\"\n",
    "print(\"endswith():\", string8.endswith(\"world!\"))  # Output: True\n"
   ]
  },
  {
   "cell_type": "markdown",
   "id": "2b33a759-6560-405f-9659-ad108747c360",
   "metadata": {},
   "source": [
    "# 3. LISTS\n",
    "\n",
    "## 3.1. Understanding Lists\n",
    "\n",
    "## 3.2. Forward vs Backward Accessing\n",
    "\n",
    "## 3.3. Changing, Removing and Adding Element\n",
    "\n",
    "## 3.4. Slice a List\n",
    "\n",
    "## 3.5. Membership Operator: in vs not in\n"
   ]
  },
  {
   "cell_type": "markdown",
   "id": "92f547db-5033-481f-af3c-94f04dfd205d",
   "metadata": {},
   "source": [
    "### 3.1. Understanding Lists\n",
    "\n",
    "Lists in Python are ordered collections of items, which can be of different types and are mutable.\n"
   ]
  },
  {
   "cell_type": "code",
   "execution_count": 33,
   "id": "a96bfba1-c1b9-47f7-9d9a-769ce8eb214b",
   "metadata": {},
   "outputs": [
    {
     "name": "stdout",
     "output_type": "stream",
     "text": [
      "Forward Accessing:\n",
      "First element: 10\n",
      "Second element: 20\n",
      "Last element: 50\n",
      "\n",
      "Backward Accessing:\n",
      "Second last element: 40\n",
      "Third last element: 30\n"
     ]
    }
   ],
   "source": [
    "# 3.2. Forward vs Backward Accessing\n",
    "my_list = [10, 20, 30, 40, 50]\n",
    "\n",
    "# Forward Accessing\n",
    "first_element = my_list[0]  # Accessing the first element\n",
    "second_element = my_list[1]  # Accessing the second element\n",
    "last_element = my_list[-1]  # Accessing the last element (using negative index)\n",
    "\n",
    "print(\"Forward Accessing:\")\n",
    "print(\"First element:\", first_element)\n",
    "print(\"Second element:\", second_element)\n",
    "print(\"Last element:\", last_element)\n",
    "\n",
    "# Backward Accessing\n",
    "second_last_element = my_list[-2]  # Accessing the second last element\n",
    "third_last_element = my_list[-3]  # Accessing the third last element\n",
    "\n",
    "print(\"\\nBackward Accessing:\")\n",
    "print(\"Second last element:\", second_last_element)\n",
    "print(\"Third last element:\", third_last_element)\n"
   ]
  },
  {
   "cell_type": "code",
   "execution_count": 35,
   "id": "6098cf68-6b05-4be1-8668-7f974207e3de",
   "metadata": {},
   "outputs": [
    {
     "name": "stdout",
     "output_type": "stream",
     "text": [
      "Original list: [10, 20, 30, 40, 50]\n",
      "After changing the element at index 2: [10, 20, 100, 40, 50]\n",
      "After removing the element with value 100: [10, 20, 40, 50]\n",
      "After popping the element at index 2: [10, 20, 50]\n",
      "Popped element: 40\n",
      "After deleting the element at index 1: [10, 50]\n",
      "After appending 60 to the list: [10, 50, 60]\n",
      "After inserting 25 at index 1: [10, 25, 50, 60]\n",
      "After extending the list with [70, 80]: [10, 25, 50, 60, 70, 80]\n"
     ]
    }
   ],
   "source": [
    "# 3.3. Changing, Removing and Adding Element\n",
    "my_list = [10, 20, 30, 40, 50]\n",
    "print(\"Original list:\", my_list)\n",
    "\n",
    "# 1. Changing an element\n",
    "# Change the element at index 2\n",
    "my_list[2] = 100\n",
    "print(\"After changing the element at index 2:\", my_list)\n",
    "\n",
    "# 2. Removing elements\n",
    "# Remove the element with value 100\n",
    "my_list.remove(100)\n",
    "print(\"After removing the element with value 100:\", my_list)\n",
    "\n",
    "# Remove the element at index 2\n",
    "popped_element = my_list.pop(2)\n",
    "print(\"After popping the element at index 2:\", my_list)\n",
    "print(\"Popped element:\", popped_element)\n",
    "\n",
    "# Delete the element at index 1\n",
    "del my_list[1]\n",
    "print(\"After deleting the element at index 1:\", my_list)\n",
    "\n",
    "# 3. Adding elements\n",
    "# Append an element to the end of the list\n",
    "my_list.append(60)\n",
    "print(\"After appending 60 to the list:\", my_list)\n",
    "\n",
    "# Insert an element at a specific position (index 1)\n",
    "my_list.insert(1, 25)\n",
    "print(\"After inserting 25 at index 1:\", my_list)\n",
    "\n",
    "# Extend the list by appending elements from another list\n",
    "my_list.extend([70, 80])\n",
    "print(\"After extending the list with [70, 80]:\", my_list)\n"
   ]
  },
  {
   "cell_type": "code",
   "execution_count": 36,
   "id": "8c8fafc4-c146-4c42-ad91-9bfbd785e61e",
   "metadata": {},
   "outputs": [
    {
     "name": "stdout",
     "output_type": "stream",
     "text": [
      "Original list: [10, 20, 30, 40, 50, 60, 70, 80]\n",
      "Slice from index 2 to 5: [30, 40, 50, 60]\n",
      "Slice from index 1 to 6 with a step of 2: [20, 40, 60]\n",
      "Slice from the beginning to index 4: [10, 20, 30, 40, 50]\n",
      "Slice from index 3 to the end: [40, 50, 60, 70, 80]\n",
      "Slice the entire list with a step of 2: [10, 30, 50, 70]\n",
      "Slice from index -5 to -2: [40, 50, 60]\n",
      "Reversed list: [80, 70, 60, 50, 40, 30, 20, 10]\n"
     ]
    }
   ],
   "source": [
    "# 3.4. Slice a List\n",
    "my_list = [10, 20, 30, 40, 50, 60, 70, 80]\n",
    "print(\"Original list:\", my_list)\n",
    "\n",
    "# 1. Basic Slicing\n",
    "# Slice from index 2 to 5\n",
    "slice1 = my_list[2:6]\n",
    "print(\"Slice from index 2 to 5:\", slice1)\n",
    "\n",
    "# 2. Slicing with step\n",
    "# Slice from index 1 to 6 with a step of 2\n",
    "slice2 = my_list[1:7:2]\n",
    "print(\"Slice from index 1 to 6 with a step of 2:\", slice2)\n",
    "\n",
    "# 3. Omitting start\n",
    "# Slice from the beginning to index 4\n",
    "slice3 = my_list[:5]\n",
    "print(\"Slice from the beginning to index 4:\", slice3)\n",
    "\n",
    "# 4. Omitting stop\n",
    "# Slice from index 3 to the end\n",
    "slice4 = my_list[3:]\n",
    "print(\"Slice from index 3 to the end:\", slice4)\n",
    "\n",
    "# 5. Omitting start and stop\n",
    "# Slice the entire list with a step of 2\n",
    "slice5 = my_list[::2]\n",
    "print(\"Slice the entire list with a step of 2:\", slice5)\n",
    "\n",
    "# 6. Negative indices\n",
    "# Slice from index -5 to -2\n",
    "slice6 = my_list[-5:-2]\n",
    "print(\"Slice from index -5 to -2:\", slice6)\n",
    "\n",
    "# 7. Negative step\n",
    "# Reverse the list\n",
    "slice7 = my_list[::-1]\n",
    "print(\"Reversed list:\", slice7)\n"
   ]
  },
  {
   "cell_type": "code",
   "execution_count": 37,
   "id": "6b4a5c12-d5ed-4dc8-a8a1-e09e25763624",
   "metadata": {},
   "outputs": [
    {
     "name": "stdout",
     "output_type": "stream",
     "text": [
      "Original list: [10, 20, 30, 40, 50]\n",
      "Original string: Hello, world!\n",
      "Original dictionary: {'a': 1, 'b': 2, 'c': 3}\n",
      "Is 20 in my_list? True\n",
      "Is 60 in my_list? False\n",
      "Is 'Hello' in my_string? True\n",
      "Is 'world' in my_string? True\n",
      "Is 'Python' in my_string? False\n",
      "Is 'a' in my_dict? True\n",
      "Is 'z' in my_dict? False\n",
      "Is 20 not in my_list? False\n",
      "Is 60 not in my_list? True\n",
      "Is 'Hello' not in my_string? False\n",
      "Is 'Python' not in my_string? True\n",
      "Is 'a' not in my_dict? False\n",
      "Is 'z' not in my_dict? True\n"
     ]
    }
   ],
   "source": [
    "# 3.5. Membership Operator: in vs not in\n",
    "my_list = [10, 20, 30, 40, 50]\n",
    "my_string = \"Hello, world!\"\n",
    "my_dict = {'a': 1, 'b': 2, 'c': 3}\n",
    "\n",
    "# Printing original data structures\n",
    "print(\"Original list:\", my_list)\n",
    "print(\"Original string:\", my_string)\n",
    "print(\"Original dictionary:\", my_dict)\n",
    "\n",
    "# Using 'in' operator\n",
    "print(\"Is 20 in my_list?\", 20 in my_list)  # True\n",
    "print(\"Is 60 in my_list?\", 60 in my_list)  # False\n",
    "print(\"Is 'Hello' in my_string?\", 'Hello' in my_string)  # True\n",
    "print(\"Is 'world' in my_string?\", 'world' in my_string)  # True\n",
    "print(\"Is 'Python' in my_string?\", 'Python' in my_string)  # False\n",
    "print(\"Is 'a' in my_dict?\", 'a' in my_dict)  # True\n",
    "print(\"Is 'z' in my_dict?\", 'z' in my_dict)  # False\n",
    "\n",
    "# Using 'not in' operator\n",
    "print(\"Is 20 not in my_list?\", 20 not in my_list)  # False\n",
    "print(\"Is 60 not in my_list?\", 60 not in my_list)  # True\n",
    "print(\"Is 'Hello' not in my_string?\", 'Hello' not in my_string)  # False\n",
    "print(\"Is 'Python' not in my_string?\", 'Python' not in my_string)  # True\n",
    "print(\"Is 'a' not in my_dict?\", 'a' not in my_dict)  # False\n",
    "print(\"Is 'z' not in my_dict?\", 'z' not in my_dict)  # True\n"
   ]
  },
  {
   "cell_type": "code",
   "execution_count": 38,
   "id": "f3cefa64-29e8-40ef-a323-ff84248f899c",
   "metadata": {},
   "outputs": [
    {
     "name": "stdout",
     "output_type": "stream",
     "text": [
      "Addition of 10 and 5 is 15\n",
      "Subtraction of 5 from 10 is 5\n",
      "Multiplication of 10 and 5 is 50\n",
      "Division of 10 by 5 is 2.0\n"
     ]
    }
   ],
   "source": [
    "#Basic Athermtic calculator \n",
    "a = 10\n",
    "b = 5\n",
    "\n",
    "# Basic arithmetic operations\n",
    "addition = a + b\n",
    "subtraction = a - b\n",
    "multiplication = a * b\n",
    "division = a / b\n",
    "\n",
    "# Output results\n",
    "print(f\"Addition of {a} and {b} is {addition}\")\n",
    "print(f\"Subtraction of {b} from {a} is {subtraction}\")\n",
    "print(f\"Multiplication of {a} and {b} is {multiplication}\")\n",
    "print(f\"Division of {a} by {b} is {division}\")\n"
   ]
  },
  {
   "cell_type": "code",
   "execution_count": 39,
   "id": "22770066-ae54-49b5-9d5d-f9ab357dc0e5",
   "metadata": {},
   "outputs": [
    {
     "name": "stdout",
     "output_type": "stream",
     "text": [
      "Factorial of 5 is 120\n"
     ]
    }
   ],
   "source": [
    "#Basic factorial calcualtor \n",
    "n = 5\n",
    "\n",
    "# Factorial calculation without loops or functions\n",
    "factorial = 1 * 2 * 3 * 4 * 5\n",
    "\n",
    "# Output result\n",
    "print(f\"Factorial of {n} is {factorial}\")\n"
   ]
  },
  {
   "cell_type": "code",
   "execution_count": 40,
   "id": "83bc92f4-7afd-4e9d-9056-5862f670bf83",
   "metadata": {},
   "outputs": [
    {
     "name": "stdout",
     "output_type": "stream",
     "text": [
      "First 10 numbers in Fibonacci sequence are: [0, 1, 1, 2, 3, 5, 8, 13, 21, 34]\n"
     ]
    }
   ],
   "source": [
    "# Fibonacci Sequence Generator\n",
    "n = 10\n",
    "\n",
    "# Fibonacci sequence calculation without loops or functions\n",
    "# This will be manual and limited to a small number of terms\n",
    "fib1 = 0\n",
    "fib2 = 1\n",
    "fib3 = fib1 + fib2\n",
    "fib4 = fib2 + fib3\n",
    "fib5 = fib3 + fib4\n",
    "fib6 = fib4 + fib5\n",
    "fib7 = fib5 + fib6\n",
    "fib8 = fib6 + fib7\n",
    "fib9 = fib7 + fib8\n",
    "fib10 = fib8 + fib9\n",
    "\n",
    "# Output result\n",
    "fib_sequence = [fib1, fib2, fib3, fib4, fib5, fib6, fib7, fib8, fib9, fib10]\n",
    "print(f\"First {n} numbers in Fibonacci sequence are: {fib_sequence}\")\n"
   ]
  },
  {
   "cell_type": "code",
   "execution_count": 41,
   "id": "d251de86-5023-45f9-a7cb-a48a4ae77e79",
   "metadata": {},
   "outputs": [
    {
     "name": "stdout",
     "output_type": "stream",
     "text": [
      "The solutions to the quadratic equation 1x^2 + -7x + 12 = 0 are (3+0j) and (4+0j)\n"
     ]
    }
   ],
   "source": [
    "# Quadratic Equation Solver\n",
    "import cmath\n",
    "\n",
    "a = 1\n",
    "b = -7\n",
    "c = 12\n",
    "\n",
    "# Calculating the discriminant\n",
    "discriminant = (b ** 2) - (4 * a * c)\n",
    "\n",
    "# Calculating two solutions\n",
    "sol1 = (-b - cmath.sqrt(discriminant)) / (2 * a)\n",
    "sol2 = (-b + cmath.sqrt(discriminant)) / (2 * a)\n",
    "\n",
    "# Output results\n",
    "print(f\"The solutions to the quadratic equation {a}x^2 + {b}x + {c} = 0 are {sol1} and {sol2}\")\n"
   ]
  },
  {
   "cell_type": "code",
   "execution_count": 42,
   "id": "ac1c228d-dfc5-4a8c-95eb-ef301a4b2823",
   "metadata": {},
   "outputs": [
    {
     "name": "stdout",
     "output_type": "stream",
     "text": [
      "25 degrees Celsius is equal to 77.0 degrees Fahrenheit\n",
      "77 degrees Fahrenheit is equal to 25.0 degrees Celsius\n"
     ]
    }
   ],
   "source": [
    "# Celsius to Fahrenheit conversion\n",
    "celsius = 25\n",
    "fahrenheit = (celsius * 9/5) + 32\n",
    "print(f\"{celsius} degrees Celsius is equal to {fahrenheit} degrees Fahrenheit\")\n",
    "\n",
    "# Fahrenheit to Celsius conversion\n",
    "fahrenheit = 77\n",
    "celsius = (fahrenheit - 32) * 5/9\n",
    "print(f\"{fahrenheit} degrees Fahrenheit is equal to {celsius} degrees Celsius\")\n"
   ]
  },
  {
   "cell_type": "code",
   "execution_count": 43,
   "id": "75be9a63-8fb0-4bf7-827f-8086fd0c2359",
   "metadata": {},
   "outputs": [
    {
     "name": "stdout",
     "output_type": "stream",
     "text": [
      "The area of the rectangle with length 10 and width 5 is 50\n",
      "The perimeter of the rectangle with length 10 and width 5 is 30\n"
     ]
    }
   ],
   "source": [
    "# Area and Perimeter Calculator for Rectangles\n",
    "# Rectangle dimensions\n",
    "length = 10\n",
    "width = 5\n",
    "\n",
    "# Calculate area and perimeter\n",
    "area = length * width\n",
    "perimeter = 2 * (length + width)\n",
    "\n",
    "# Output results\n",
    "print(f\"The area of the rectangle with length {length} and width {width} is {area}\")\n",
    "print(f\"The perimeter of the rectangle with length {length} and width {width} is {perimeter}\")\n"
   ]
  },
  {
   "cell_type": "code",
   "execution_count": 44,
   "id": "4e44022f-5806-4281-8698-d9059f8149a9",
   "metadata": {},
   "outputs": [
    {
     "name": "stdout",
     "output_type": "stream",
     "text": [
      "The simple interest for $1000 at 5% interest over 2 years is $100.0\n"
     ]
    }
   ],
   "source": [
    "# simple intrest calculator \n",
    "# Simple interest calculation\n",
    "principal = 1000\n",
    "rate = 5  # in percent\n",
    "time = 2  # in years\n",
    "\n",
    "# Calculate simple interest\n",
    "simple_interest = (principal * rate * time) / 100\n",
    "\n",
    "# Output result\n",
    "print(f\"The simple interest for ${principal} at {rate}% interest over {time} years is ${simple_interest}\")\n"
   ]
  },
  {
   "cell_type": "code",
   "execution_count": 45,
   "id": "8ec1669b-395f-4fdc-aa65-528240d42d78",
   "metadata": {},
   "outputs": [
    {
     "name": "stdout",
     "output_type": "stream",
     "text": [
      "A person with weight 70 kg and height 1.75 m has a BMI of 22.86\n"
     ]
    }
   ],
   "source": [
    "# body mass index \n",
    "# BMI calculation\n",
    "weight_kg = 70\n",
    "height_m = 1.75\n",
    "\n",
    "# Calculate BMI\n",
    "bmi = weight_kg / (height_m ** 2)\n",
    "\n",
    "# Output result\n",
    "print(f\"A person with weight {weight_kg} kg and height {height_m} m has a BMI of {bmi:.2f}\")\n"
   ]
  },
  {
   "cell_type": "code",
   "execution_count": null,
   "id": "dd3a72b3-e78e-433d-84eb-b052ab941ae7",
   "metadata": {},
   "outputs": [],
   "source": []
  }
 ],
 "metadata": {
  "kernelspec": {
   "display_name": "Python 3 (ipykernel)",
   "language": "python",
   "name": "python3"
  },
  "language_info": {
   "codemirror_mode": {
    "name": "ipython",
    "version": 3
   },
   "file_extension": ".py",
   "mimetype": "text/x-python",
   "name": "python",
   "nbconvert_exporter": "python",
   "pygments_lexer": "ipython3",
   "version": "3.11.7"
  }
 },
 "nbformat": 4,
 "nbformat_minor": 5
}
