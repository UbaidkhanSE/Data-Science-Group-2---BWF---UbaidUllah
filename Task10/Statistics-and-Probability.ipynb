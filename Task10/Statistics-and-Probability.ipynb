{
 "cells": [
  {
   "cell_type": "markdown",
   "id": "5e8edc59-11b3-4acb-afe5-c09ec9c7e33f",
   "metadata": {},
   "source": [
    "# Statistics"
   ]
  },
  {
   "cell_type": "markdown",
   "id": "6f3c963b-32d5-473b-b7a1-4da9be96a8ec",
   "metadata": {},
   "source": [
    "## Example1: how to calculate the mean"
   ]
  },
  {
   "cell_type": "code",
   "execution_count": 10,
   "id": "62b683c8-e11e-443a-98f4-2bd048696273",
   "metadata": {},
   "outputs": [
    {
     "name": "stdout",
     "output_type": "stream",
     "text": [
      "Mean (Arithmetic Average): 3.0\n"
     ]
    }
   ],
   "source": [
    "import numpy as np\n",
    "\n",
    "data = [1, 2, 3, 4, 5]\n",
    "mean_value = np.mean(data)\n",
    "print(\"Mean (Arithmetic Average):\", mean_value)\n"
   ]
  },
  {
   "cell_type": "markdown",
   "id": "f0f110e1-d466-4246-aa77-2117d1ff22ae",
   "metadata": {},
   "source": [
    "## Example2: calculate the median"
   ]
  },
  {
   "cell_type": "code",
   "execution_count": 11,
   "id": "2ead6b29-2980-4be4-b004-cc0fca8e6f21",
   "metadata": {},
   "outputs": [
    {
     "name": "stdout",
     "output_type": "stream",
     "text": [
      "The median is: 4.0\n"
     ]
    }
   ],
   "source": [
    "data = np.array([1, 2, 3, 4, 5,8,9])\n",
    "median_value = np.median(data)\n",
    "\n",
    "print(\"The median is:\", median_value)\n"
   ]
  },
  {
   "cell_type": "markdown",
   "id": "cd94e925-8876-4947-9eae-4bdbd27e6ba5",
   "metadata": {},
   "source": [
    "## Example3: calculate the mode"
   ]
  },
  {
   "cell_type": "code",
   "execution_count": 14,
   "id": "b1714360-061c-48df-93b0-0c931ab57549",
   "metadata": {},
   "outputs": [
    {
     "name": "stdout",
     "output_type": "stream",
     "text": [
      "The mode is: 5\n",
      "The count of the mode is: 3\n"
     ]
    }
   ],
   "source": [
    "from scipy import stats\n",
    "\n",
    "data = np.array([1, 2, 2, 3, 4, 5, 5, 5])\n",
    "\n",
    "mode_result = stats.mode(data, keepdims=True)  # Ensure compatibility with different versions\n",
    "\n",
    "print(\"The mode is:\", mode_result.mode[0])\n",
    "print(\"The count of the mode is:\", mode_result.count[0])\n"
   ]
  },
  {
   "cell_type": "markdown",
   "id": "11623434-637e-40dd-8d0e-035a0c7ca50b",
   "metadata": {},
   "source": [
    "## Example 4: calculate the standard deviation"
   ]
  },
  {
   "cell_type": "code",
   "execution_count": 17,
   "id": "17f9c52d-9411-40a1-af2e-986addd95795",
   "metadata": {},
   "outputs": [
    {
     "name": "stdout",
     "output_type": "stream",
     "text": [
      "The standard deviation is: 1.4142135623730951\n"
     ]
    }
   ],
   "source": [
    "data = np.array([1, 2, 3, 4, 5])\n",
    "std_value = np.std(data)\n",
    "\n",
    "print(\"The standard deviation is:\", std_value)\n"
   ]
  },
  {
   "cell_type": "markdown",
   "id": "368f5441-87c4-4b0f-9c17-65f10d8eb20c",
   "metadata": {},
   "source": [
    "## Example4: calculate the minimum and maximum values "
   ]
  },
  {
   "cell_type": "code",
   "execution_count": 18,
   "id": "feef2361-e0df-4401-8720-343451fe9a5c",
   "metadata": {},
   "outputs": [
    {
     "name": "stdout",
     "output_type": "stream",
     "text": [
      "The minimum value is: 1\n",
      "The maximum value is: 5\n"
     ]
    }
   ],
   "source": [
    "data = np.array([1, 2, 3, 4, 5])\n",
    "\n",
    "min_value = np.min(data)\n",
    "max_value = np.max(data)\n",
    "\n",
    "print(\"The minimum value is:\", min_value)\n",
    "print(\"The maximum value is:\", max_value)\n"
   ]
  },
  {
   "cell_type": "markdown",
   "id": "67b58a42-e19c-4a58-ad6e-0a7ba87325b9",
   "metadata": {},
   "source": [
    "## Example6: calculate the variance"
   ]
  },
  {
   "cell_type": "code",
   "execution_count": 22,
   "id": "c141bedd-ee3e-471b-a038-203b1fde165d",
   "metadata": {},
   "outputs": [
    {
     "name": "stdout",
     "output_type": "stream",
     "text": [
      "The variance is: 2.0\n"
     ]
    }
   ],
   "source": [
    "data = np.array([1, 2, 3, 4, 5])\n",
    "variance_value = np.var(data)\n",
    "\n",
    "print(\"The variance is:\", variance_value)\n"
   ]
  },
  {
   "cell_type": "markdown",
   "id": "3a01702e-2101-4e07-969d-d12bc9d490bd",
   "metadata": {},
   "source": [
    "## Example7: calculate the range"
   ]
  },
  {
   "cell_type": "code",
   "execution_count": 24,
   "id": "53b42d02-b971-4fc2-b606-a5af53af9888",
   "metadata": {},
   "outputs": [
    {
     "name": "stdout",
     "output_type": "stream",
     "text": [
      "The range is: 4\n"
     ]
    }
   ],
   "source": [
    "data = np.array([1, 2, 3, 4, 5])\n",
    "range_value = np.ptp(data)\n",
    "\n",
    "print(\"The range is:\", range_value)\n"
   ]
  },
  {
   "cell_type": "markdown",
   "id": "f8952f1a-1446-4848-899e-83ffa05cab1a",
   "metadata": {},
   "source": [
    "## Example8: calculate percentiles and quartiles"
   ]
  },
  {
   "cell_type": "code",
   "execution_count": 27,
   "id": "e6e87722-bb07-4bd2-9ac0-f0ad8b102937",
   "metadata": {},
   "outputs": [
    {
     "name": "stdout",
     "output_type": "stream",
     "text": [
      "25th percentile (Q1) is: 3.25\n",
      "75th percentile (Q3) is: 7.75\n"
     ]
    }
   ],
   "source": [
    "\n",
    "data = np.array([1, 2, 3, 4, 5, 6, 7, 8, 9, 10])\n",
    "\n",
    "# Calculating the 25th and 75th percentiles (quartiles)\n",
    "percentile_25th = np.percentile(data, 25)\n",
    "percentile_75th = np.percentile(data, 75)\n",
    "\n",
    "print(\"25th percentile (Q1) is:\", percentile_25th)\n",
    "print(\"75th percentile (Q3) is:\", percentile_75th)\n"
   ]
  },
  {
   "cell_type": "markdown",
   "id": "3dd92815-7d0d-43a4-809d-963f607ddd08",
   "metadata": {},
   "source": [
    "## Example9: calculate the Interquartile Range (IQR)"
   ]
  },
  {
   "cell_type": "code",
   "execution_count": 30,
   "id": "a2ae05c6-635c-4c2d-b9dd-7f9e429646eb",
   "metadata": {},
   "outputs": [
    {
     "name": "stdout",
     "output_type": "stream",
     "text": [
      "Interquartile Range (IQR) is: 4.5\n"
     ]
    }
   ],
   "source": [
    "data = np.array([1, 2, 3, 4, 5, 6, 7, 8, 9, 10])\n",
    "\n",
    "# Calculate the 25th and 75th percentiles\n",
    "percentile_25th = np.percentile(data, 25)\n",
    "percentile_75th = np.percentile(data, 75)\n",
    "\n",
    "# Calculate the interquartile range (IQR)\n",
    "iqr = percentile_75th - percentile_25th\n",
    "\n",
    "print(\"Interquartile Range (IQR) is:\", iqr)\n"
   ]
  },
  {
   "cell_type": "markdown",
   "id": "5ad58919-bdc4-4aa8-a4fc-764cdaab2f0c",
   "metadata": {},
   "source": [
    "## Example10: compute skewness"
   ]
  },
  {
   "cell_type": "code",
   "execution_count": 35,
   "id": "5a8e0c70-a0de-4f78-9b62-3c6130671450",
   "metadata": {},
   "outputs": [
    {
     "name": "stdout",
     "output_type": "stream",
     "text": [
      "Skewness of the data is: 0.0\n"
     ]
    }
   ],
   "source": [
    "from scipy.stats import skew\n",
    "\n",
    "data = np.array([1, 2, 3, 4, 5, 6, 7, 8, 9, 10])\n",
    "\n",
    "# Calculate skewness\n",
    "skewness = skew(data)\n",
    "\n",
    "print(\"Skewness of the data is:\", skewness)\n"
   ]
  },
  {
   "cell_type": "markdown",
   "id": "27a3340c-95cf-4dc0-a0b3-dab97573b072",
   "metadata": {},
   "source": [
    "## Example11: compute kurtosis"
   ]
  },
  {
   "cell_type": "code",
   "execution_count": 37,
   "id": "6f67c1b7-2b7b-4443-99f4-2041039e95bc",
   "metadata": {},
   "outputs": [
    {
     "name": "stdout",
     "output_type": "stream",
     "text": [
      "Kurtosis of the data is: -1.2242424242424244\n"
     ]
    }
   ],
   "source": [
    "from scipy.stats import kurtosis\n",
    "\n",
    "data = np.array([1, 2, 3, 4, 5, 6, 7, 8, 9, 10])\n",
    "\n",
    "# Calculate kurtosis\n",
    "kurtosis_value = kurtosis(data)\n",
    "\n",
    "print(\"Kurtosis of the data is:\", kurtosis_value)\n"
   ]
  },
  {
   "cell_type": "markdown",
   "id": "29727cd8-5e52-46b9-9f4f-942168fc673b",
   "metadata": {},
   "source": [
    "## Example12: computing covariance matrix"
   ]
  },
  {
   "cell_type": "code",
   "execution_count": 46,
   "id": "6cd52a31-4d44-4b92-9c5d-d80e73300c69",
   "metadata": {},
   "outputs": [
    {
     "name": "stdout",
     "output_type": "stream",
     "text": [
      "Covariance Matrix:\n",
      "[[ 2.5 -2.5]\n",
      " [-2.5  2.5]]\n"
     ]
    }
   ],
   "source": [
    "x = np.array([1, 2, 3, 4, 5])\n",
    "y = np.array([5, 4, 3, 2, 1])\n",
    "\n",
    "# Stack the variables together as rows in a 2D array\n",
    "data = np.stack((x, y), axis=0)\n",
    "\n",
    "# Compute the covariance matrix\n",
    "covariance_matrix = np.cov(data)\n",
    "\n",
    "print(\"Covariance Matrix:\")\n",
    "print(covariance_matrix)\n"
   ]
  },
  {
   "cell_type": "markdown",
   "id": "96d44fbf-4817-411a-a292-1f66f2978127",
   "metadata": {},
   "source": [
    "## Example13: Computing correlation coefficient matrix"
   ]
  },
  {
   "cell_type": "code",
   "execution_count": 48,
   "id": "94ecef84-71a1-4f78-a65b-4ba262e111bd",
   "metadata": {},
   "outputs": [
    {
     "name": "stdout",
     "output_type": "stream",
     "text": [
      "Correlation Coefficient Matrix:\n",
      "[[ 1. -1.]\n",
      " [-1.  1.]]\n"
     ]
    }
   ],
   "source": [
    "x = np.array([1, 2, 3, 4, 5])\n",
    "y = np.array([5, 4, 3, 2, 1])\n",
    "\n",
    "# Stack the variables together as rows in a 2D array\n",
    "data = np.stack((x, y), axis=0)\n",
    "\n",
    "# Compute the correlation coefficient matrix\n",
    "correlation_matrix = np.corrcoef(data)\n",
    "\n",
    "print(\"Correlation Coefficient Matrix:\")\n",
    "print(correlation_matrix)\n"
   ]
  },
  {
   "cell_type": "markdown",
   "id": "df70c09e-c6a4-440b-8335-8d68113601c8",
   "metadata": {},
   "source": [
    "#  Example14: compute the sum of squares"
   ]
  },
  {
   "cell_type": "code",
   "execution_count": 50,
   "id": "52301f98-b314-41b2-9949-365b646e2932",
   "metadata": {},
   "outputs": [
    {
     "name": "stdout",
     "output_type": "stream",
     "text": [
      "Sum of Squares: 10.0\n"
     ]
    }
   ],
   "source": [
    "data = np.array([1, 2, 3, 4, 5])\n",
    "\n",
    "# Step 1: Compute the mean\n",
    "mean_value = np.mean(data)\n",
    "\n",
    "# Step 2: Compute the squared differences from the mean\n",
    "squared_diff = (data - mean_value) ** 2\n",
    "\n",
    "# Step 3: Sum up the squared differences\n",
    "sum_of_squares = np.sum(squared_diff)\n",
    "\n",
    "print(\"Sum of Squares:\", sum_of_squares)\n"
   ]
  },
  {
   "cell_type": "markdown",
   "id": "6c4f36af-fe89-40c7-90cc-b8cda3876238",
   "metadata": {},
   "source": [
    "## Example15: compute a moving average using convolution"
   ]
  },
  {
   "cell_type": "code",
   "execution_count": 56,
   "id": "3e72b6e1-af59-4413-b765-ca106b95451c",
   "metadata": {},
   "outputs": [
    {
     "name": "stdout",
     "output_type": "stream",
     "text": [
      "Original Data: [  3   5   7   2   8  10  11  65  72  81  99 100 150]\n",
      "Moving Average (window size=3): [  5.           4.66666667   5.66666667   6.66666667   9.66666667\n",
      "  28.66666667  49.33333333  72.66666667  84.          93.33333333\n",
      " 116.33333333]\n"
     ]
    }
   ],
   "source": [
    "def moving_average(data, window_size):\n",
    "    # Define the weights for the moving average window\n",
    "    weights = np.repeat(1.0, window_size) / window_size\n",
    "    \n",
    "    # Use convolution to apply the moving average\n",
    "    moving_avg = np.convolve(data, weights, mode='valid')\n",
    "    \n",
    "    return moving_avg\n",
    "\n",
    "\n",
    "data = np.array([3, 5, 7, 2, 8, 10, 11, 65, 72, 81, 99, 100, 150])\n",
    "\n",
    "# Window size for the moving average\n",
    "window_size = 3\n",
    "\n",
    "# Compute moving average\n",
    "moving_avg = moving_average(data, window_size)\n",
    "\n",
    "print(\"Original Data:\", data)\n",
    "print(\"Moving Average (window size={}):\".format(window_size), moving_avg)\n"
   ]
  },
  {
   "cell_type": "markdown",
   "id": "46b7695b-fdde-4aa8-b77c-82f29e0c78a5",
   "metadata": {},
   "source": [
    "## Example16:  exponential moving average"
   ]
  },
  {
   "cell_type": "code",
   "execution_count": 167,
   "id": "3a37ad67-6a37-4235-8e43-41987343679c",
   "metadata": {},
   "outputs": [
    {
     "name": "stdout",
     "output_type": "stream",
     "text": [
      "Original Data: [  3   5   7   2   8  10  11  65  72  81  99 100 150]\n",
      "Exponential Moving Average (alpha=0.2):\n",
      "[ 3.          3.4         4.12        3.696       4.5568      5.64544\n",
      "  6.716352   18.3730816  29.09846528 39.47877222 51.38301778 61.10641422\n",
      " 78.88513138]\n"
     ]
    }
   ],
   "source": [
    "def exponential_moving_average(data, alpha):\n",
    "    ema = [data[0]]  # Initialize EMA with the first data point\n",
    "    \n",
    "    for i in range(1, len(data)):\n",
    "        ema.append(alpha * data[i] + (1 - alpha) * ema[i - 1])\n",
    "    \n",
    "    return np.array(ema)\n",
    "\n",
    "\n",
    "data = np.array([3, 5, 7, 2, 8, 10, 11, 65, 72, 81, 99, 100, 150])\n",
    "\n",
    "# Smoothing factor (alpha) for EMA (0 < alpha < 1)\n",
    "alpha = 0.2\n",
    "\n",
    "# Compute Exponential Moving Average (EMA)\n",
    "ema_values = exponential_moving_average(data, alpha)\n",
    "\n",
    "print(\"Original Data:\", data)\n",
    "print(\"Exponential Moving Average (alpha={}):\".format(alpha))\n",
    "print(ema_values)\n"
   ]
  },
  {
   "cell_type": "markdown",
   "id": "21c50c98-8348-41d2-aba2-e1d7cec6bf72",
   "metadata": {},
   "source": [
    "## Example17:  compute the Z-score"
   ]
  },
  {
   "cell_type": "code",
   "execution_count": 59,
   "id": "1b10ca96-fdc8-4781-900a-671fdc27800a",
   "metadata": {},
   "outputs": [
    {
     "name": "stdout",
     "output_type": "stream",
     "text": [
      "Original Data: [ 1  2  3  4  5  6  7  8  9 10]\n",
      "Z-Scores: [-1.5666989  -1.21854359 -0.87038828 -0.52223297 -0.17407766  0.17407766\n",
      "  0.52223297  0.87038828  1.21854359  1.5666989 ]\n"
     ]
    }
   ],
   "source": [
    "def z_score(data):\n",
    "    mean_value = np.mean(data)\n",
    "    std_dev = np.std(data)\n",
    "    z_scores = (data - mean_value) / std_dev\n",
    "    return z_scores\n",
    "\n",
    "\n",
    "data = np.array([1, 2, 3, 4, 5, 6, 7, 8, 9, 10])\n",
    "\n",
    "# Compute Z-score\n",
    "z_scores = z_score(data)\n",
    "\n",
    "print(\"Original Data:\", data)\n",
    "print(\"Z-Scores:\", z_scores)\n"
   ]
  },
  {
   "cell_type": "markdown",
   "id": "fd21369b-878d-493f-ae4b-e08565f14b24",
   "metadata": {},
   "source": [
    "## Example18: computing harmonic mean"
   ]
  },
  {
   "cell_type": "code",
   "execution_count": 66,
   "id": "5131cb84-ebb4-4f7d-90d4-7bd354029ba9",
   "metadata": {},
   "outputs": [
    {
     "name": "stdout",
     "output_type": "stream",
     "text": [
      "Data: [1 2 3 4 5]\n",
      "Harmonic Mean: 2.18978102189781\n"
     ]
    }
   ],
   "source": [
    "data = np.array([1, 2, 3, 4, 5])\n",
    "\n",
    "# Compute harmonic mean manually\n",
    "harmonic_mean = len(data) / np.sum(1.0 / data)\n",
    "\n",
    "print(\"Data:\", data)\n",
    "print(\"Harmonic Mean:\", harmonic_mean)\n"
   ]
  },
  {
   "cell_type": "markdown",
   "id": "2e92a3be-f7cd-4b4e-8bb8-190ce2dba167",
   "metadata": {},
   "source": [
    "## Example19: computing geometric mean"
   ]
  },
  {
   "cell_type": "code",
   "execution_count": 68,
   "id": "61da1e44-fe84-4b88-9bbc-13df02c50315",
   "metadata": {},
   "outputs": [
    {
     "name": "stdout",
     "output_type": "stream",
     "text": [
      "Data: [1 2 3 4 5]\n",
      "Geometric Mean: 2.605171084697352\n"
     ]
    }
   ],
   "source": [
    "data = np.array([1, 2, 3, 4, 5])\n",
    "\n",
    "# Compute geometric mean\n",
    "geometric_mean = np.prod(data) ** (1.0 / len(data))\n",
    "\n",
    "print(\"Data:\", data)\n",
    "print(\"Geometric Mean:\", geometric_mean)\n"
   ]
  },
  {
   "cell_type": "markdown",
   "id": "b973238e-df3f-4798-b775-8b322b5d948a",
   "metadata": {},
   "source": [
    "## Example20: computeing weighted mean"
   ]
  },
  {
   "cell_type": "code",
   "execution_count": 70,
   "id": "1adb7937-aeb8-4944-b509-daeec6f7f8b5",
   "metadata": {},
   "outputs": [
    {
     "name": "stdout",
     "output_type": "stream",
     "text": [
      "Data: [1 2 3 4 5]\n",
      "Weights: [0.1 0.2 0.3 0.2 0.2]\n",
      "Weighted Mean: 3.2\n"
     ]
    }
   ],
   "source": [
    "# Example data and weights\n",
    "data = np.array([1, 2, 3, 4, 5])\n",
    "weights = np.array([0.1, 0.2, 0.3, 0.2, 0.2])\n",
    "\n",
    "# Compute weighted mean\n",
    "weighted_mean = np.sum(data * weights) / np.sum(weights)\n",
    "\n",
    "print(\"Data:\", data)\n",
    "print(\"Weights:\", weights)\n",
    "print(\"Weighted Mean:\", weighted_mean)\n"
   ]
  },
  {
   "cell_type": "markdown",
   "id": "e3208f69-a72f-4e39-a62f-f1d8c3203dd0",
   "metadata": {},
   "source": [
    "## Example21: confidence interval"
   ]
  },
  {
   "cell_type": "code",
   "execution_count": 72,
   "id": "cde5e960-d1d6-4b2e-8a32-521ffae058b9",
   "metadata": {},
   "outputs": [
    {
     "name": "stdout",
     "output_type": "stream",
     "text": [
      "Sample Mean: 47.15384615384615\n",
      "Standard Deviation (sample): 49.780930341256436\n",
      "Confidence Interval (95.0%): (17.071531019899666, 77.23616128779264)\n"
     ]
    }
   ],
   "source": [
    "from scipy import stats\n",
    "\n",
    "data = np.array([3, 5, 7, 2, 8, 10, 11, 65, 72, 81, 99, 100, 150])\n",
    "\n",
    "# Calculate sample statistics\n",
    "n = len(data)\n",
    "mean = np.mean(data)\n",
    "std_dev = np.std(data, ddof=1)  # ddof=1 for sample standard deviation\n",
    "\n",
    "# Specify the desired confidence level (e.g., 95% confidence level)\n",
    "confidence_level = 0.95\n",
    "\n",
    "# Calculate the critical value (t) from the t-distribution\n",
    "t_value = stats.t.ppf((1 + confidence_level) / 2, df=n - 1)\n",
    "\n",
    "# Calculate the margin of error\n",
    "margin_of_error = t_value * (std_dev / np.sqrt(n))\n",
    "\n",
    "# Calculate the confidence interval\n",
    "lower_bound = mean - margin_of_error\n",
    "upper_bound = mean + margin_of_error\n",
    "\n",
    "print(\"Sample Mean:\", mean)\n",
    "print(\"Standard Deviation (sample):\", std_dev)\n",
    "print(\"Confidence Interval ({}%): ({}, {})\".format(confidence_level * 100, lower_bound, upper_bound))\n"
   ]
  },
  {
   "cell_type": "markdown",
   "id": "c09bb0e6-d444-4289-a14f-5a71c72b17fb",
   "metadata": {},
   "source": [
    "## Example22: bootstrap resampling"
   ]
  },
  {
   "cell_type": "code",
   "execution_count": 74,
   "id": "750fcf12-cda6-4366-baef-5723b805f73b",
   "metadata": {},
   "outputs": [
    {
     "name": "stdout",
     "output_type": "stream",
     "text": [
      "Original Data: [  3   5   7   2   8  10  11  65  72  81  99 100 150]\n",
      "Bootstrap Mean Estimates:\n",
      " - Mean: 47.560307692307696\n",
      " - 95% Confidence Interval: [22.53846154 72.46153846]\n"
     ]
    }
   ],
   "source": [
    "data = np.array([3, 5, 7, 2, 8, 10, 11, 65, 72, 81, 99, 100, 150])\n",
    "\n",
    "# Number of bootstrap samples\n",
    "num_samples = 1000\n",
    "\n",
    "# Function to calculate mean\n",
    "def calculate_mean(sample):\n",
    "    return np.mean(sample)\n",
    "\n",
    "# Generate bootstrap samples and compute mean for each sample\n",
    "bootstrap_means = []\n",
    "for _ in range(num_samples):\n",
    "    bootstrap_sample = np.random.choice(data, size=len(data), replace=True)\n",
    "    mean = calculate_mean(bootstrap_sample)\n",
    "    bootstrap_means.append(mean)\n",
    "\n",
    "# Calculate the 95% confidence interval\n",
    "confidence_interval = np.percentile(bootstrap_means, [2.5, 97.5])\n",
    "\n",
    "print(\"Original Data:\", data)\n",
    "print(\"Bootstrap Mean Estimates:\")\n",
    "print(\" - Mean:\", np.mean(bootstrap_means))\n",
    "print(\" - 95% Confidence Interval:\", confidence_interval)\n"
   ]
  },
  {
   "cell_type": "markdown",
   "id": "52c2960e-2033-42de-af9b-dbd8ce28def5",
   "metadata": {},
   "source": [
    "## Example23: ANOVA test"
   ]
  },
  {
   "cell_type": "code",
   "execution_count": 77,
   "id": "dd376568-d4be-484a-a7af-f62a02c99c32",
   "metadata": {},
   "outputs": [
    {
     "name": "stdout",
     "output_type": "stream",
     "text": [
      "One-Way ANOVA results:\n",
      "F statistic: 0.608450704225352\n",
      "P-value: 0.5601567503622262\n",
      "Fail to reject null hypothesis: There is no significant difference between group means.\n"
     ]
    }
   ],
   "source": [
    "from scipy import stats\n",
    "group1 = np.array([10, 12, 14, 16, 18])\n",
    "group2 = np.array([8, 11, 13, 15, 17])\n",
    "group3 = np.array([7, 9, 12, 14, 16])\n",
    "\n",
    "# Perform one-way ANOVA\n",
    "f_statistic, p_value = stats.f_oneway(group1, group2, group3)\n",
    "\n",
    "# Print results\n",
    "print(\"One-Way ANOVA results:\")\n",
    "print(\"F statistic:\", f_statistic)\n",
    "print(\"P-value:\", p_value)\n",
    "\n",
    "# Interpretation based on p-value\n",
    "alpha = 0.05\n",
    "if p_value < alpha:\n",
    "    print(\"Reject null hypothesis: There is a significant difference between group means.\")\n",
    "else:\n",
    "    print(\"Fail to reject null hypothesis: There is no significant difference between group means.\")\n"
   ]
  },
  {
   "cell_type": "markdown",
   "id": "c6676e70-d4c9-44fb-b5a2-81b654e0da21",
   "metadata": {},
   "source": [
    "## Example24: Chi-Square test"
   ]
  },
  {
   "cell_type": "code",
   "execution_count": 79,
   "id": "912a6d3d-b398-4fef-9cec-40695ce07d2d",
   "metadata": {},
   "outputs": [
    {
     "name": "stdout",
     "output_type": "stream",
     "text": [
      "Chi-Square Test results:\n",
      "Chi-Square Statistic: 4.631185807656395\n",
      "P-value: 0.09870764250999253\n",
      "Degrees of Freedom: 2\n",
      "Expected frequencies:\n",
      " [[42.5 35.  22.5]\n",
      " [42.5 35.  22.5]]\n",
      "Fail to reject null hypothesis: There is no significant association between variables.\n"
     ]
    }
   ],
   "source": [
    "from scipy import stats\n",
    "\n",
    "# Example data (contingency table)\n",
    "observed = np.array([[50, 30, 20],\n",
    "                     [35, 40, 25]])\n",
    "\n",
    "# Perform Chi-Square test for independence\n",
    "chi2_stat, p_val, dof, expected = stats.chi2_contingency(observed)\n",
    "\n",
    "# Print results\n",
    "print(\"Chi-Square Test results:\")\n",
    "print(\"Chi-Square Statistic:\", chi2_stat)\n",
    "print(\"P-value:\", p_val)\n",
    "print(\"Degrees of Freedom:\", dof)\n",
    "print(\"Expected frequencies:\\n\", expected)\n",
    "\n",
    "# Interpretation based on p-value\n",
    "alpha = 0.05\n",
    "if p_val < alpha:\n",
    "    print(\"Reject null hypothesis: There is a significant association between variables.\")\n",
    "else:\n",
    "    print(\"Fail to reject null hypothesis: There is no significant association between variables.\")\n"
   ]
  },
  {
   "cell_type": "markdown",
   "id": "c41e3800-51ab-4340-a546-db34c8c20986",
   "metadata": {},
   "source": [
    "## Example25: T-Test"
   ]
  },
  {
   "cell_type": "code",
   "execution_count": 82,
   "id": "05a1e8cc-31f1-449f-9814-c6bdeae75f8b",
   "metadata": {},
   "outputs": [
    {
     "name": "stdout",
     "output_type": "stream",
     "text": [
      "Chi-Square Test results:\n",
      "Chi-Square Statistic: 4.631185807656395\n",
      "P-value: 0.09870764250999253\n",
      "Degrees of Freedom: 2\n",
      "Expected frequencies:\n",
      " [[42.5 35.  22.5]\n",
      " [42.5 35.  22.5]]\n",
      "Fail to reject null hypothesis: There is no significant association between variables.\n"
     ]
    }
   ],
   "source": [
    "from scipy import stats\n",
    "\n",
    "# Example data (contingency table)\n",
    "observed = np.array([[50, 30, 20],\n",
    "                     [35, 40, 25]])\n",
    "\n",
    "# Perform Chi-Square test for independence\n",
    "chi2_stat, p_val, dof, expected = stats.chi2_contingency(observed)\n",
    "\n",
    "# Print results\n",
    "print(\"Chi-Square Test results:\")\n",
    "print(\"Chi-Square Statistic:\", chi2_stat)\n",
    "print(\"P-value:\", p_val)\n",
    "print(\"Degrees of Freedom:\", dof)\n",
    "print(\"Expected frequencies:\\n\", expected)\n",
    "\n",
    "# Interpretation based on p-value\n",
    "alpha = 0.05\n",
    "if p_val < alpha:\n",
    "    print(\"Reject null hypothesis: There is a significant association between variables.\")\n",
    "else:\n",
    "    print(\"Fail to reject null hypothesis: There is no significant association between variables.\")\n"
   ]
  },
  {
   "cell_type": "markdown",
   "id": "a0de80c4-6d5c-4b0d-8cdb-3fd53d58a414",
   "metadata": {},
   "source": [
    "## Example26: p-value calculation"
   ]
  },
  {
   "cell_type": "code",
   "execution_count": 84,
   "id": "48ce92f8-8d2d-44fc-8b2b-acb08ff5c212",
   "metadata": {},
   "outputs": [
    {
     "name": "stdout",
     "output_type": "stream",
     "text": [
      "Two-Sample t-test results:\n",
      "T-statistic: 0.5694947974514991\n",
      "P-value: 0.5846522205119927\n",
      "Fail to reject null hypothesis: There is no significant difference between group means.\n"
     ]
    }
   ],
   "source": [
    "from scipy import stats\n",
    "\n",
    "# Example data\n",
    "group1 = np.array([10, 12, 14, 16, 18])\n",
    "group2 = np.array([8, 11, 13, 15, 17])\n",
    "\n",
    "# Perform two-sample t-test\n",
    "t_statistic, p_value = stats.ttest_ind(group1, group2)\n",
    "\n",
    "# Print results\n",
    "print(\"Two-Sample t-test results:\")\n",
    "print(\"T-statistic:\", t_statistic)\n",
    "print(\"P-value:\", p_value)\n",
    "\n",
    "# Interpretation based on p-value\n",
    "alpha = 0.05\n",
    "if p_value < alpha:\n",
    "    print(\"Reject null hypothesis: There is a significant difference between group means.\")\n",
    "else:\n",
    "    print(\"Fail to reject null hypothesis: There is no significant difference between group means.\")\n"
   ]
  },
  {
   "cell_type": "markdown",
   "id": "45810f7b-3745-450c-8e3e-63e39770529d",
   "metadata": {},
   "source": [
    "## Example27: linear regression"
   ]
  },
  {
   "cell_type": "code",
   "execution_count": 86,
   "id": "9e9d974f-bf60-4a81-9e92-a9dda522dd78",
   "metadata": {},
   "outputs": [
    {
     "name": "stdout",
     "output_type": "stream",
     "text": [
      "Intercept: 1.0799999999999992\n",
      "Coefficient: 1.0600000000000003\n",
      "Predicted Y for [6 7]: [7.44 8.5 ]\n"
     ]
    }
   ],
   "source": [
    "from sklearn.linear_model import LinearRegression\n",
    "\n",
    "\n",
    "X = np.array([1, 2, 3, 4, 5]).reshape(-1, 1)  # Independent variable (reshaped for single feature)\n",
    "Y = np.array([2, 3.5, 4, 5.5, 6.3])          # Dependent variable\n",
    "\n",
    "# Create a linear regression model\n",
    "model = LinearRegression()\n",
    "\n",
    "# Fit the model\n",
    "model.fit(X, Y)\n",
    "\n",
    "# Predict for new data points\n",
    "new_X = np.array([6, 7]).reshape(-1, 1)\n",
    "predicted_Y = model.predict(new_X)\n",
    "\n",
    "# Print coefficients and intercept\n",
    "print(\"Intercept:\", model.intercept_)\n",
    "print(\"Coefficient:\", model.coef_[0])\n",
    "\n",
    "# Print predicted values\n",
    "print(\"Predicted Y for {}: {}\".format(new_X.flatten(), predicted_Y))\n"
   ]
  },
  {
   "cell_type": "markdown",
   "id": "6482f1b7-349f-42bc-8207-335b0787e975",
   "metadata": {},
   "source": [
    "## Example28: Principal Component Analysis"
   ]
  },
  {
   "cell_type": "code",
   "execution_count": 88,
   "id": "67686026-cf66-4584-9d1e-274fcc6d1022",
   "metadata": {},
   "outputs": [
    {
     "name": "stdout",
     "output_type": "stream",
     "text": [
      "Original Data:\n",
      " [[ 1  2  3]\n",
      " [ 4  5  6]\n",
      " [ 7  8  9]\n",
      " [10 11 12]]\n",
      "Standardized Data:\n",
      " [[-1.34164079 -1.34164079 -1.34164079]\n",
      " [-0.4472136  -0.4472136  -0.4472136 ]\n",
      " [ 0.4472136   0.4472136   0.4472136 ]\n",
      " [ 1.34164079  1.34164079  1.34164079]]\n",
      "PCA Components (Eigenvectors):\n",
      " [[-0.57735027 -0.57735027 -0.57735027]\n",
      " [ 0.81649658 -0.40824829 -0.40824829]]\n",
      "Explained Variance Ratio: [1.00000000e+00 1.00130406e-34]\n",
      "Projected Data onto Principal Components:\n",
      " [[ 2.32379001e+00  2.13407627e-17]\n",
      " [ 7.74596669e-01 -1.81814803e-17]\n",
      " [-7.74596669e-01  1.81814803e-17]\n",
      " [-2.32379001e+00  9.21977585e-18]]\n"
     ]
    }
   ],
   "source": [
    "from sklearn.decomposition import PCA\n",
    "from sklearn.preprocessing import StandardScaler\n",
    "\n",
    "# Example data\n",
    "X = np.array([[1, 2, 3], [4, 5, 6], [7, 8, 9], [10, 11, 12]])\n",
    "\n",
    "# Standardize the data\n",
    "scaler = StandardScaler()\n",
    "X_scaled = scaler.fit_transform(X)\n",
    "\n",
    "# Perform PCA\n",
    "pca = PCA(n_components=2)  # Number of principal components to keep\n",
    "X_pca = pca.fit_transform(X_scaled)\n",
    "\n",
    "# Print results\n",
    "print(\"Original Data:\\n\", X)\n",
    "print(\"Standardized Data:\\n\", X_scaled)\n",
    "print(\"PCA Components (Eigenvectors):\\n\", pca.components_)\n",
    "print(\"Explained Variance Ratio:\", pca.explained_variance_ratio_)\n",
    "print(\"Projected Data onto Principal Components:\\n\", X_pca)\n"
   ]
  },
  {
   "cell_type": "markdown",
   "id": "9b073dc0-7b33-449f-9aef-40e95231b1f3",
   "metadata": {},
   "source": [
    "## Example29: Eigenvalues and Eigenvectors"
   ]
  },
  {
   "cell_type": "code",
   "execution_count": 90,
   "id": "729c63cf-33db-4bd0-968c-498ed3cd436f",
   "metadata": {},
   "outputs": [
    {
     "name": "stdout",
     "output_type": "stream",
     "text": [
      "Matrix A:\n",
      "[[3 1]\n",
      " [1 3]]\n",
      "\n",
      "Eigenvalues: [4. 2.]\n",
      "Eigenvectors:\n",
      " [[ 0.70710678 -0.70710678]\n",
      " [ 0.70710678  0.70710678]]\n"
     ]
    }
   ],
   "source": [
    "A = np.array([[3, 1], [1, 3]])\n",
    "\n",
    "# Compute eigenvalues and eigenvectors\n",
    "eigenvalues, eigenvectors = np.linalg.eig(A)\n",
    "\n",
    "# Print results\n",
    "print(\"Matrix A:\")\n",
    "print(A)\n",
    "print(\"\\nEigenvalues:\", eigenvalues)\n",
    "print(\"Eigenvectors:\\n\", eigenvectors)\n"
   ]
  },
  {
   "cell_type": "markdown",
   "id": "310773cc-1e1a-41a8-8d28-fc5d0e5074ab",
   "metadata": {},
   "source": [
    "## Example30: Matrix Decomposition"
   ]
  },
  {
   "cell_type": "code",
   "execution_count": 93,
   "id": "8013b9cc-2800-4415-9d36-f32f28568ded",
   "metadata": {},
   "outputs": [
    {
     "name": "stdout",
     "output_type": "stream",
     "text": [
      "Eigenvalue Decomposition:\n",
      "Eigenvalues: [4. 2.]\n",
      "Eigenvectors:\n",
      " [[ 0.70710678 -0.70710678]\n",
      " [ 0.70710678  0.70710678]]\n",
      "\n",
      "Singular Value Decomposition (SVD):\n",
      "U matrix:\n",
      " [[3.         1.        ]\n",
      " [0.         2.66666667]]\n",
      "Singular values (Sigma):\n",
      " [9.508032   0.77286964]\n",
      "VT matrix:\n",
      " [[-0.42866713 -0.56630692 -0.7039467 ]\n",
      " [-0.80596391 -0.11238241  0.58119908]\n",
      " [ 0.40824829 -0.81649658  0.40824829]]\n",
      "\n",
      "QR Decomposition:\n",
      "Q matrix:\n",
      " [[-0.24253563 -0.9701425 ]\n",
      " [-0.9701425   0.24253563]]\n",
      "R matrix:\n",
      " [[-4.12310563 -5.33578375 -6.54846188]\n",
      " [ 0.         -0.72760688 -1.45521375]]\n",
      "\n",
      "Cholesky Decomposition:\n",
      "L matrix:\n",
      " [[1.         0.        ]\n",
      " [0.33333333 1.        ]]\n",
      "\n",
      "LU Decomposition:\n",
      "P (Permutation matrix):\n",
      " [[1. 0.]\n",
      " [0. 1.]]\n",
      "L (Lower triangular matrix):\n",
      " [[1.         0.        ]\n",
      " [0.33333333 1.        ]]\n",
      "U (Upper triangular matrix):\n",
      " [[3.         1.        ]\n",
      " [0.         2.66666667]]\n"
     ]
    }
   ],
   "source": [
    "import scipy.linalg\n",
    "\n",
    "# Example matrices\n",
    "A = np.array([[3, 1], [1, 3]])\n",
    "B = np.array([[1, 2, 3], [4, 5, 6]])\n",
    "C = np.array([[4, 12, -16], [12, 37, -43], [-16, -43, 98]])\n",
    "\n",
    "# Eigenvalue decomposition\n",
    "eigenvalues, eigenvectors = np.linalg.eig(A)\n",
    "\n",
    "# Singular Value Decomposition (SVD)\n",
    "U, S, VT = np.linalg.svd(B)\n",
    "\n",
    "# QR Decomposition\n",
    "Q, R = np.linalg.qr(B)\n",
    "\n",
    "# Cholesky Decomposition\n",
    "L = np.linalg.cholesky(C)\n",
    "\n",
    "# LU Decomposition (with permutation matrix)\n",
    "P, L, U = scipy.linalg.lu(A)\n",
    "\n",
    "# Print results\n",
    "print(\"Eigenvalue Decomposition:\")\n",
    "print(\"Eigenvalues:\", eigenvalues)\n",
    "print(\"Eigenvectors:\\n\", eigenvectors)\n",
    "\n",
    "print(\"\\nSingular Value Decomposition (SVD):\")\n",
    "print(\"U matrix:\\n\", U)\n",
    "print(\"Singular values (Sigma):\\n\", S)\n",
    "print(\"VT matrix:\\n\", VT)\n",
    "\n",
    "print(\"\\nQR Decomposition:\")\n",
    "print(\"Q matrix:\\n\", Q)\n",
    "print(\"R matrix:\\n\", R)\n",
    "\n",
    "print(\"\\nCholesky Decomposition:\")\n",
    "print(\"L matrix:\\n\", L)\n",
    "\n",
    "print(\"\\nLU Decomposition:\")\n",
    "print(\"P (Permutation matrix):\\n\", P)\n",
    "print(\"L (Lower triangular matrix):\\n\", L)\n",
    "print(\"U (Upper triangular matrix):\\n\", U)\n"
   ]
  },
  {
   "cell_type": "markdown",
   "id": "aa6bd9ff-5f7b-43ca-8105-1c1444b161dd",
   "metadata": {},
   "source": [
    "# Probablity "
   ]
  },
  {
   "cell_type": "markdown",
   "id": "ee40b13a-3b1d-45b1-922b-7093c329c1f3",
   "metadata": {},
   "source": [
    "## Example1: Probability Mass Function (PMF): Custom implementation for discrete distributions."
   ]
  },
  {
   "cell_type": "code",
   "execution_count": 102,
   "id": "c645e2e8-bca0-4dcb-ae3e-31e327234a5e",
   "metadata": {},
   "outputs": [
    {
     "name": "stdout",
     "output_type": "stream",
     "text": [
      "Probability of 1: 0.125\n",
      "Probability of 2: 0.25\n",
      "Probability of 3: 0.125\n",
      "Probability of 4: 0.125\n",
      "Probability of 5: 0.375\n"
     ]
    }
   ],
   "source": [
    "def custom_pmf(data):\n",
    "    unique, counts = np.unique(data, return_counts=True)\n",
    "    pmf = counts / len(data)\n",
    "    return unique, pmf\n",
    "\n",
    "data = np.array([1, 2, 2, 3, 4, 5, 5, 5])\n",
    "\n",
    "unique_values, pmf_values = custom_pmf(data)\n",
    "\n",
    "# Print results\n",
    "for value, pmf in zip(unique_values, pmf_values):\n",
    "    print(f\"Probability of {value}: {pmf}\")\n"
   ]
  },
  {
   "cell_type": "markdown",
   "id": "a1c89409-2206-4eca-9d69-140c4281196f",
   "metadata": {},
   "source": [
    "## Example2: Probability Density Function (PDF): Custom implementation for continuous distributions."
   ]
  },
  {
   "cell_type": "code",
   "execution_count": 104,
   "id": "53593f46-d4b7-4b07-8150-6134c990097b",
   "metadata": {},
   "outputs": [
    {
     "name": "stdout",
     "output_type": "stream",
     "text": [
      "PDF at -5.00: 0.0000\n",
      "PDF at -4.90: 0.0000\n",
      "PDF at -4.80: 0.0000\n",
      "PDF at -4.70: 0.0000\n",
      "PDF at -4.60: 0.0000\n",
      "PDF at -4.49: 0.0000\n",
      "PDF at -4.39: 0.0000\n",
      "PDF at -4.29: 0.0000\n",
      "PDF at -4.19: 0.0001\n",
      "PDF at -4.09: 0.0001\n",
      "PDF at -3.99: 0.0001\n",
      "PDF at -3.89: 0.0002\n",
      "PDF at -3.79: 0.0003\n",
      "PDF at -3.69: 0.0004\n",
      "PDF at -3.59: 0.0006\n",
      "PDF at -3.48: 0.0009\n",
      "PDF at -3.38: 0.0013\n",
      "PDF at -3.28: 0.0018\n",
      "PDF at -3.18: 0.0025\n",
      "PDF at -3.08: 0.0035\n",
      "PDF at -2.98: 0.0047\n",
      "PDF at -2.88: 0.0063\n",
      "PDF at -2.78: 0.0084\n",
      "PDF at -2.68: 0.0111\n",
      "PDF at -2.58: 0.0145\n",
      "PDF at -2.47: 0.0187\n",
      "PDF at -2.37: 0.0238\n",
      "PDF at -2.27: 0.0301\n",
      "PDF at -2.17: 0.0377\n",
      "PDF at -2.07: 0.0468\n",
      "PDF at -1.97: 0.0573\n",
      "PDF at -1.87: 0.0696\n",
      "PDF at -1.77: 0.0836\n",
      "PDF at -1.67: 0.0995\n",
      "PDF at -1.57: 0.1171\n",
      "PDF at -1.46: 0.1365\n",
      "PDF at -1.36: 0.1574\n",
      "PDF at -1.26: 0.1798\n",
      "PDF at -1.16: 0.2032\n",
      "PDF at -1.06: 0.2273\n",
      "PDF at -0.96: 0.2517\n",
      "PDF at -0.86: 0.2760\n",
      "PDF at -0.76: 0.2994\n",
      "PDF at -0.66: 0.3216\n",
      "PDF at -0.56: 0.3419\n",
      "PDF at -0.45: 0.3598\n",
      "PDF at -0.35: 0.3748\n",
      "PDF at -0.25: 0.3864\n",
      "PDF at -0.15: 0.3944\n",
      "PDF at -0.05: 0.3984\n",
      "PDF at 0.05: 0.3984\n",
      "PDF at 0.15: 0.3944\n",
      "PDF at 0.25: 0.3864\n",
      "PDF at 0.35: 0.3748\n",
      "PDF at 0.45: 0.3598\n",
      "PDF at 0.56: 0.3419\n",
      "PDF at 0.66: 0.3216\n",
      "PDF at 0.76: 0.2994\n",
      "PDF at 0.86: 0.2760\n",
      "PDF at 0.96: 0.2517\n",
      "PDF at 1.06: 0.2273\n",
      "PDF at 1.16: 0.2032\n",
      "PDF at 1.26: 0.1798\n",
      "PDF at 1.36: 0.1574\n",
      "PDF at 1.46: 0.1365\n",
      "PDF at 1.57: 0.1171\n",
      "PDF at 1.67: 0.0995\n",
      "PDF at 1.77: 0.0836\n",
      "PDF at 1.87: 0.0696\n",
      "PDF at 1.97: 0.0573\n",
      "PDF at 2.07: 0.0468\n",
      "PDF at 2.17: 0.0377\n",
      "PDF at 2.27: 0.0301\n",
      "PDF at 2.37: 0.0238\n",
      "PDF at 2.47: 0.0187\n",
      "PDF at 2.58: 0.0145\n",
      "PDF at 2.68: 0.0111\n",
      "PDF at 2.78: 0.0084\n",
      "PDF at 2.88: 0.0063\n",
      "PDF at 2.98: 0.0047\n",
      "PDF at 3.08: 0.0035\n",
      "PDF at 3.18: 0.0025\n",
      "PDF at 3.28: 0.0018\n",
      "PDF at 3.38: 0.0013\n",
      "PDF at 3.48: 0.0009\n",
      "PDF at 3.59: 0.0006\n",
      "PDF at 3.69: 0.0004\n",
      "PDF at 3.79: 0.0003\n",
      "PDF at 3.89: 0.0002\n",
      "PDF at 3.99: 0.0001\n",
      "PDF at 4.09: 0.0001\n",
      "PDF at 4.19: 0.0001\n",
      "PDF at 4.29: 0.0000\n",
      "PDF at 4.39: 0.0000\n",
      "PDF at 4.49: 0.0000\n",
      "PDF at 4.60: 0.0000\n",
      "PDF at 4.70: 0.0000\n",
      "PDF at 4.80: 0.0000\n",
      "PDF at 4.90: 0.0000\n",
      "PDF at 5.00: 0.0000\n"
     ]
    }
   ],
   "source": [
    "def custom_pdf(x, mean, std_dev):\n",
    "    # Calculate PDF using normal distribution as an example\n",
    "    pdf_values = 1 / (std_dev * np.sqrt(2 * np.pi)) * np.exp(-0.5 * ((x - mean) / std_dev)**2)\n",
    "    return pdf_values\n",
    "\n",
    "x_values = np.linspace(-5, 5, 100)  # Generate 100 points from -5 to 5\n",
    "mean = 0  # Mean of the distribution\n",
    "std_dev = 1  # Standard deviation of the distribution\n",
    "\n",
    "pdf_values = custom_pdf(x_values, mean, std_dev)\n",
    "\n",
    "# Print results (for illustration, you may plot or analyze the PDF differently)\n",
    "for x, pdf in zip(x_values, pdf_values):\n",
    "    print(f\"PDF at {x:.2f}: {pdf:.4f}\")"
   ]
  },
  {
   "cell_type": "markdown",
   "id": "b70abb32-94a4-48e4-bae5-62c98e4788de",
   "metadata": {},
   "source": [
    "## Example3: Cumulative Distribution Function (CDF): numpy.cumsum() for discrete, SciPy for continuous."
   ]
  },
  {
   "cell_type": "code",
   "execution_count": 106,
   "id": "7df1c24d-6641-44b5-83bd-0905c4b3897e",
   "metadata": {},
   "outputs": [
    {
     "name": "stdout",
     "output_type": "stream",
     "text": [
      "CDF at 1: 0.1250\n",
      "CDF at 2: 0.3750\n",
      "CDF at 3: 0.5000\n",
      "CDF at 4: 0.6250\n",
      "CDF at 5: 1.0000\n"
     ]
    }
   ],
   "source": [
    "def custom_cdf_discrete(data):\n",
    "    unique, counts = np.unique(data, return_counts=True)\n",
    "    pmf = counts / len(data)\n",
    "    cdf = np.cumsum(pmf)\n",
    "    return unique, cdf\n",
    "\n",
    "data = np.array([1, 2, 2, 3, 4, 5, 5, 5])\n",
    "\n",
    "unique_values, cdf_values = custom_cdf_discrete(data)\n",
    "\n",
    "# Print results\n",
    "for value, cdf in zip(unique_values, cdf_values):\n",
    "    print(f\"CDF at {value}: {cdf:.4f}\")\n"
   ]
  },
  {
   "cell_type": "markdown",
   "id": "81c48367-5a72-4b00-b4d4-7cf4c11d2212",
   "metadata": {},
   "source": [
    "## Example4: Binomial Distribution: numpy.random.binomial()."
   ]
  },
  {
   "cell_type": "code",
   "execution_count": 108,
   "id": "b66edcff-c497-48c2-b598-4d5ec3b81718",
   "metadata": {},
   "outputs": [
    {
     "name": "stdout",
     "output_type": "stream",
     "text": [
      "Mean: 5.00\n",
      "Standard Deviation: 1.62\n",
      "Minimum: 0\n",
      "Maximum: 10\n"
     ]
    }
   ],
   "source": [
    "# Parameters for the binomial distribution\n",
    "n = 10      # Number of trials\n",
    "p = 0.5     # Probability of success in each trial\n",
    "size = 1000 # Number of samples to draw\n",
    "\n",
    "# Generate samples from a binomial distribution\n",
    "samples = np.random.binomial(n, p, size)\n",
    "\n",
    "# Print some basic statistics\n",
    "print(f\"Mean: {np.mean(samples):.2f}\")\n",
    "print(f\"Standard Deviation: {np.std(samples):.2f}\")\n",
    "print(f\"Minimum: {np.min(samples)}\")\n",
    "print(f\"Maximum: {np.max(samples)}\")\n"
   ]
  },
  {
   "cell_type": "markdown",
   "id": "30803436-ace0-4339-9598-1238e5a22a4c",
   "metadata": {},
   "source": [
    "##  Example5: Poisson Distribution: numpy.random.poisson()"
   ]
  },
  {
   "cell_type": "code",
   "execution_count": 110,
   "id": "b446d039-a4a7-45b2-b3f9-580934149f66",
   "metadata": {},
   "outputs": [
    {
     "name": "stdout",
     "output_type": "stream",
     "text": [
      "Mean: 2.97\n",
      "Standard Deviation: 1.68\n",
      "Minimum: 0\n",
      "Maximum: 11\n"
     ]
    }
   ],
   "source": [
    "# Parameters for the Poisson distribution\n",
    "lam = 3.0   # Mean or expected number of occurrences in the interval\n",
    "size = 1000 # Number of samples to draw\n",
    "\n",
    "# Generate samples from a Poisson distribution\n",
    "samples = np.random.poisson(lam, size)\n",
    "\n",
    "# Print some basic statistics\n",
    "print(f\"Mean: {np.mean(samples):.2f}\")\n",
    "print(f\"Standard Deviation: {np.std(samples):.2f}\")\n",
    "print(f\"Minimum: {np.min(samples)}\")\n",
    "print(f\"Maximum: {np.max(samples)}\")\n"
   ]
  },
  {
   "cell_type": "markdown",
   "id": "19801a37-6340-41f4-b716-38b47f9d5348",
   "metadata": {},
   "source": [
    "## Example6: Uniform Distribution: numpy.random.uniform()"
   ]
  },
  {
   "cell_type": "code",
   "execution_count": 112,
   "id": "60c4b2e9-5420-40e5-ac49-0a1d343c4b76",
   "metadata": {},
   "outputs": [
    {
     "name": "stdout",
     "output_type": "stream",
     "text": [
      "Mean: 0.50\n",
      "Standard Deviation: 0.28\n",
      "Minimum: 0.00\n",
      "Maximum: 1.00\n"
     ]
    }
   ],
   "source": [
    "# Parameters for the uniform distribution\n",
    "low = 0.0   # Lower bound of the interval\n",
    "high = 1.0  # Upper bound of the interval\n",
    "size = 1000 # Number of samples to draw\n",
    "\n",
    "# Generate samples from a uniform distribution\n",
    "samples = np.random.uniform(low, high, size)\n",
    "\n",
    "# Print some basic statistics\n",
    "print(f\"Mean: {np.mean(samples):.2f}\")\n",
    "print(f\"Standard Deviation: {np.std(samples):.2f}\")\n",
    "print(f\"Minimum: {np.min(samples):.2f}\")\n",
    "print(f\"Maximum: {np.max(samples):.2f}\")\n"
   ]
  },
  {
   "cell_type": "markdown",
   "id": "c439307c-44b2-44b5-b765-c2195234f673",
   "metadata": {},
   "source": [
    "## Example7: Normal (Gaussian) Distribution: numpy.random.normal()"
   ]
  },
  {
   "cell_type": "code",
   "execution_count": 114,
   "id": "7a8cb842-63a5-4ebe-9bd0-da3aa9ac562d",
   "metadata": {},
   "outputs": [
    {
     "name": "stdout",
     "output_type": "stream",
     "text": [
      "Mean: -0.02\n",
      "Standard Deviation: 0.99\n",
      "Minimum: -2.50\n",
      "Maximum: 2.96\n"
     ]
    }
   ],
   "source": [
    "# Parameters for the normal distribution\n",
    "mu = 0.0     # Mean of the distribution\n",
    "sigma = 1.0  # Standard deviation of the distribution\n",
    "size = 1000  # Number of samples to draw\n",
    "\n",
    "# Generate samples from a normal distribution\n",
    "samples = np.random.normal(mu, sigma, size)\n",
    "\n",
    "# Print some basic statistics\n",
    "print(f\"Mean: {np.mean(samples):.2f}\")\n",
    "print(f\"Standard Deviation: {np.std(samples):.2f}\")\n",
    "print(f\"Minimum: {np.min(samples):.2f}\")\n",
    "print(f\"Maximum: {np.max(samples):.2f}\")\n"
   ]
  },
  {
   "cell_type": "markdown",
   "id": "b8308764-01dc-43a6-87bd-9ac1fac7990f",
   "metadata": {},
   "source": [
    "##  Example8: Exponential Distribution: numpy.random.exponential()"
   ]
  },
  {
   "cell_type": "code",
   "execution_count": 116,
   "id": "2a0d0e46-7d9e-46c6-95ab-203ca5d5e95a",
   "metadata": {},
   "outputs": [
    {
     "name": "stdout",
     "output_type": "stream",
     "text": [
      "Mean: 1.01\n",
      "Standard Deviation: 0.98\n",
      "Minimum: 0.00\n",
      "Maximum: 6.02\n"
     ]
    }
   ],
   "source": [
    "scale = 1.0  # Scale parameter (inverse of rate lambda)\n",
    "size = 1000  # Number of samples to draw\n",
    "\n",
    "# Generate samples from an exponential distribution\n",
    "samples = np.random.exponential(scale, size)\n",
    "\n",
    "# Print some basic statistics\n",
    "print(f\"Mean: {np.mean(samples):.2f}\")\n",
    "print(f\"Standard Deviation: {np.std(samples):.2f}\")\n",
    "print(f\"Minimum: {np.min(samples):.2f}\")\n",
    "print(f\"Maximum: {np.max(samples):.2f}\")\n"
   ]
  },
  {
   "cell_type": "markdown",
   "id": "20c610a8-541c-4a40-953d-10e987cf0431",
   "metadata": {},
   "source": [
    "##  Example9: Beta Distribution: numpy.random.beta()"
   ]
  },
  {
   "cell_type": "code",
   "execution_count": 118,
   "id": "7566ec1f-211d-430c-958f-80e9bd207679",
   "metadata": {},
   "outputs": [
    {
     "name": "stdout",
     "output_type": "stream",
     "text": [
      "Mean: 0.29\n",
      "Standard Deviation: 0.16\n",
      "Minimum: 0.01\n",
      "Maximum: 0.87\n"
     ]
    }
   ],
   "source": [
    "a = 2.0   # Shape parameter (alpha)\n",
    "b = 5.0   # Shape parameter (beta)\n",
    "size = 1000  # Number of samples to draw\n",
    "\n",
    "# Generate samples from a beta distribution\n",
    "samples = np.random.beta(a, b, size)\n",
    "\n",
    "# Print some basic statistics\n",
    "print(f\"Mean: {np.mean(samples):.2f}\")\n",
    "print(f\"Standard Deviation: {np.std(samples):.2f}\")\n",
    "print(f\"Minimum: {np.min(samples):.2f}\")\n",
    "print(f\"Maximum: {np.max(samples):.2f}\")\n"
   ]
  },
  {
   "cell_type": "markdown",
   "id": "292c1944-97f9-4a04-86ae-b1489d0e10e2",
   "metadata": {},
   "source": [
    "## Example10: Gamma Distribution: numpy.random.gamma()"
   ]
  },
  {
   "cell_type": "code",
   "execution_count": 120,
   "id": "a08343bb-2c61-482c-901c-79a350f3df48",
   "metadata": {},
   "outputs": [
    {
     "name": "stdout",
     "output_type": "stream",
     "text": [
      "Mean: 2.03\n",
      "Standard Deviation: 1.45\n",
      "Minimum: 0.02\n",
      "Maximum: 12.49\n"
     ]
    }
   ],
   "source": [
    "shape = 2.0   # Shape parameter (k)\n",
    "scale = 1.0   # Scale parameter (theta)\n",
    "size = 1000   # Number of samples to draw\n",
    "\n",
    "# Generate samples from a gamma distribution\n",
    "samples = np.random.gamma(shape, scale, size)\n",
    "\n",
    "# Print some basic statistics\n",
    "print(f\"Mean: {np.mean(samples):.2f}\")\n",
    "print(f\"Standard Deviation: {np.std(samples):.2f}\")\n",
    "print(f\"Minimum: {np.min(samples):.2f}\")\n",
    "print(f\"Maximum: {np.max(samples):.2f}\")\n"
   ]
  },
  {
   "cell_type": "markdown",
   "id": "08d5121d-6f19-4bd3-b135-78d346f4f21f",
   "metadata": {},
   "source": [
    "##  Example11: Chi-Square Distribution: numpy.random.chisquare()"
   ]
  },
  {
   "cell_type": "code",
   "execution_count": 122,
   "id": "0f9124d4-861e-4d98-a955-3323809ba093",
   "metadata": {},
   "outputs": [
    {
     "name": "stdout",
     "output_type": "stream",
     "text": [
      "Mean: 2.96\n",
      "Standard Deviation: 2.34\n",
      "Minimum: 0.05\n",
      "Maximum: 15.68\n"
     ]
    }
   ],
   "source": [
    "df = 3       # Degrees of freedom\n",
    "size = 1000  # Number of samples to draw\n",
    "\n",
    "# Generate samples from a chi-square distribution\n",
    "samples = np.random.chisquare(df, size)\n",
    "\n",
    "# Print some basic statistics\n",
    "print(f\"Mean: {np.mean(samples):.2f}\")\n",
    "print(f\"Standard Deviation: {np.std(samples):.2f}\")\n",
    "print(f\"Minimum: {np.min(samples):.2f}\")\n",
    "print(f\"Maximum: {np.max(samples):.2f}\")\n"
   ]
  },
  {
   "cell_type": "markdown",
   "id": "58f04909-9558-4be9-8f41-f76df72e83d2",
   "metadata": {},
   "source": [
    "##  Example12: Multinomial Distribution: numpy.random.multinomial()"
   ]
  },
  {
   "cell_type": "code",
   "execution_count": 124,
   "id": "310016fe-0936-479c-98db-4e2b4f94045b",
   "metadata": {},
   "outputs": [
    {
     "name": "stdout",
     "output_type": "stream",
     "text": [
      "Shape of samples array: (1000, 3)\n",
      "Mean: [ 4.019  5.956 10.025]\n",
      "Standard Deviation: [1.83429523 2.10619657 2.25308122]\n",
      "Minimum count for each category: [0 1 3]\n",
      "Maximum count for each category: [10 13 16]\n"
     ]
    }
   ],
   "source": [
    "n = 20         # Number of trials (e.g., number of dice rolls)\n",
    "pvals = [0.2, 0.3, 0.5]  # Probabilities of each category (e.g., outcomes of a dice roll)\n",
    "size = 1000    # Number of samples to draw\n",
    "\n",
    "# Generate samples from a multinomial distribution\n",
    "samples = np.random.multinomial(n, pvals, size)\n",
    "\n",
    "# Print some basic statistics\n",
    "print(f\"Shape of samples array: {samples.shape}\")\n",
    "print(f\"Mean: {np.mean(samples, axis=0)}\")\n",
    "print(f\"Standard Deviation: {np.std(samples, axis=0)}\")\n",
    "print(f\"Minimum count for each category: {np.min(samples, axis=0)}\")\n",
    "print(f\"Maximum count for each category: {np.max(samples, axis=0)}\")\n"
   ]
  },
  {
   "cell_type": "markdown",
   "id": "8f80a0b0-8be3-430d-9c86-492268dc4bb1",
   "metadata": {},
   "source": [
    "## Example13: Geometric Distribution: numpy.random.geometric()"
   ]
  },
  {
   "cell_type": "code",
   "execution_count": 126,
   "id": "13a1ddbf-d1e5-4b5d-bc1b-9a5a9f17fab4",
   "metadata": {},
   "outputs": [
    {
     "name": "stdout",
     "output_type": "stream",
     "text": [
      "Mean: 3.20\n",
      "Standard Deviation: 2.67\n",
      "Minimum: 1\n",
      "Maximum: 16\n"
     ]
    }
   ],
   "source": [
    "p = 0.3       # Probability of success on each trial\n",
    "size = 1000   # Number of samples to draw\n",
    "\n",
    "# Generate samples from a geometric distribution\n",
    "samples = np.random.geometric(p, size)\n",
    "\n",
    "# Print some basic statistics\n",
    "print(f\"Mean: {np.mean(samples):.2f}\")\n",
    "print(f\"Standard Deviation: {np.std(samples):.2f}\")\n",
    "print(f\"Minimum: {np.min(samples)}\")\n",
    "print(f\"Maximum: {np.max(samples)}\")\n"
   ]
  },
  {
   "cell_type": "markdown",
   "id": "d44699d6-21ce-4687-bda5-d38f27b5ce1f",
   "metadata": {},
   "source": [
    "## Example14: Hypergeometric Distribution: numpy.random.hypergeometric()"
   ]
  },
  {
   "cell_type": "code",
   "execution_count": 128,
   "id": "5512dd44-5ed1-48c8-8d17-06312d40ca5c",
   "metadata": {},
   "outputs": [
    {
     "name": "stdout",
     "output_type": "stream",
     "text": [
      "Mean: 3.02\n",
      "Standard Deviation: 1.33\n",
      "Minimum: 0\n",
      "Maximum: 7\n"
     ]
    }
   ],
   "source": [
    "N = 100       # Population size\n",
    "K = 30        # Number of items of interest in the population\n",
    "n = 10        # Number of draws (samples)\n",
    "size = 1000   # Number of samples to draw\n",
    "\n",
    "# Generate samples from a hypergeometric distribution\n",
    "samples = np.random.hypergeometric(K, N - K, n, size)\n",
    "\n",
    "# Print some basic statistics\n",
    "print(f\"Mean: {np.mean(samples):.2f}\")\n",
    "print(f\"Standard Deviation: {np.std(samples):.2f}\")\n",
    "print(f\"Minimum: {np.min(samples)}\")\n",
    "print(f\"Maximum: {np.max(samples)}\")\n"
   ]
  },
  {
   "cell_type": "markdown",
   "id": "37d7d871-ee1d-4bc5-88df-9b8ee56c4ca4",
   "metadata": {},
   "source": [
    "## Example15: Negative Binomial Distribution: numpy.random.negative_binomial()"
   ]
  },
  {
   "cell_type": "code",
   "execution_count": 130,
   "id": "19c7b1e2-a720-4405-a8e3-d176afab4d57",
   "metadata": {},
   "outputs": [
    {
     "name": "stdout",
     "output_type": "stream",
     "text": [
      "Mean: 3.02\n",
      "Standard Deviation: 1.40\n",
      "Minimum: 0\n",
      "Maximum: 7\n"
     ]
    }
   ],
   "source": [
    "N = 100       # Population size\n",
    "K = 30        # Number of items of interest in the population\n",
    "n = 10        # Number of draws (samples)\n",
    "size = 1000   # Number of samples to draw\n",
    "\n",
    "# Generate samples from a hypergeometric distribution\n",
    "samples = np.random.hypergeometric(K, N - K, n, size)\n",
    "\n",
    "# Print some basic statistics\n",
    "print(f\"Mean: {np.mean(samples):.2f}\")\n",
    "print(f\"Standard Deviation: {np.std(samples):.2f}\")\n",
    "print(f\"Minimum: {np.min(samples)}\")\n",
    "print(f\"Maximum: {np.max(samples)}\")\n"
   ]
  },
  {
   "cell_type": "markdown",
   "id": "f2c1ef99-2c46-4fc6-baa6-d9430cdf11ab",
   "metadata": {},
   "source": [
    "##  Example16: Bernoulli Distribution: Custom implementation using numpy.random.choice()"
   ]
  },
  {
   "cell_type": "code",
   "execution_count": 132,
   "id": "f150c25e-0833-490f-b50f-57d8f5d1c62b",
   "metadata": {},
   "outputs": [
    {
     "name": "stdout",
     "output_type": "stream",
     "text": [
      "Generated samples: [1 0 1 1 1 1 1 1 1 0]\n"
     ]
    }
   ],
   "source": [
    "import numpy as np\n",
    "\n",
    "def bernoulli_distribution(p, size=1):\n",
    "   \n",
    "    # Validate probability p\n",
    "    if p < 0 or p > 1:\n",
    "        raise ValueError(\"Probability p must be between 0 and 1.\")\n",
    "\n",
    "    # Generate samples using numpy.random.choice\n",
    "    samples = np.random.choice([0, 1], size=size, p=[1 - p, p])\n",
    "\n",
    "    return samples\n",
    "\n",
    "# Example usage\n",
    "p = 0.7   # Probability of success\n",
    "size = 10 # Number of samples to generate\n",
    "\n",
    "samples = bernoulli_distribution(p, size)\n",
    "print(\"Generated samples:\", samples)\n"
   ]
  },
  {
   "cell_type": "markdown",
   "id": "ecba9828-12fa-4639-8c8c-22723b91e09e",
   "metadata": {},
   "source": [
    "## Example17: Markov Chains: Custom implementation using state transition matrices."
   ]
  },
  {
   "cell_type": "code",
   "execution_count": 134,
   "id": "50c61b3f-9492-477a-95ca-6bd7fa4d6449",
   "metadata": {},
   "outputs": [
    {
     "name": "stdout",
     "output_type": "stream",
     "text": [
      "Generated state sequence: ['S1', 'S1', 'S1', 'S1', 'S1', 'S1', 'S1', 'S1', 'S1', 'S1', 'S1']\n"
     ]
    }
   ],
   "source": [
    "# Define the states and transition matrix\n",
    "states = ['S1', 'S2', 'S3']\n",
    "transition_matrix = np.array([\n",
    "    [0.8, 0.1, 0.1],  # Transition probabilities from S1\n",
    "    [0.2, 0.6, 0.2],  # Transition probabilities from S2\n",
    "    [0.3, 0.3, 0.4]   # Transition probabilities from S3\n",
    "])\n",
    "\n",
    "# Function to simulate the Markov chain\n",
    "def simulate_markov_chain(initial_state, steps):\n",
    "    current_state = initial_state\n",
    "    state_sequence = [current_state]\n",
    "    \n",
    "    for _ in range(steps):\n",
    "        # Determine the next state based on the current state and transition matrix\n",
    "        next_state_index = np.random.choice(len(states), p=transition_matrix[states.index(current_state)])\n",
    "        current_state = states[next_state_index]\n",
    "        state_sequence.append(current_state)\n",
    "    \n",
    "    return state_sequence\n",
    "\n",
    "# Example usage\n",
    "initial_state = 'S1'\n",
    "steps = 10\n",
    "\n",
    "sequence = simulate_markov_chain(initial_state, steps)\n",
    "print(\"Generated state sequence:\", sequence)\n"
   ]
  },
  {
   "cell_type": "markdown",
   "id": "c7ac01db-aba6-4cab-a7c3-67e9f290a512",
   "metadata": {},
   "source": [
    "##  Example18: Bayes' Theorem: Custom implementation."
   ]
  },
  {
   "cell_type": "code",
   "execution_count": 136,
   "id": "de22ad5c-9c3d-4ee8-a62e-9cf79d714475",
   "metadata": {},
   "outputs": [
    {
     "name": "stdout",
     "output_type": "stream",
     "text": [
      "Posterior probability: 0.6316\n"
     ]
    }
   ],
   "source": [
    "def bayes_theorem(prior, likelihood, evidence):\n",
    "   \n",
    "    posterior = (likelihood * prior) / evidence\n",
    "    return posterior\n",
    "\n",
    "# Example usage\n",
    "prior = 0.3           # Prior probability P(H)\n",
    "likelihood = 0.8      # Likelihood P(E|H)\n",
    "evidence = 0.3 * 0.8 + 0.7 * 0.2  # P(E) = P(E|H) * P(H) + P(E|~H) * P(~H)\n",
    "\n",
    "posterior = bayes_theorem(prior, likelihood, evidence)\n",
    "print(f\"Posterior probability: {posterior:.4f}\")\n"
   ]
  },
  {
   "cell_type": "markdown",
   "id": "39af7944-e7be-4e6a-815f-da69e3c9157b",
   "metadata": {},
   "source": [
    "##  Example19: Law of Large Numbers: Demonstration using random sampling."
   ]
  },
  {
   "cell_type": "code",
   "execution_count": 138,
   "id": "eb636c60-5535-482a-a0ab-084cbc7607d9",
   "metadata": {},
   "outputs": [
    {
     "data": {
      "image/png": "[encoded data removed]",
      "text/plain": [
       "<Figure size 1200x800 with 1 Axes>"
      ]
     },
     "metadata": {},
     "output_type": "display_data"
    }
   ],
   "source": [
    "import numpy as np\n",
    "import matplotlib.pyplot as plt\n",
    "\n",
    "# Parameters\n",
    "population_mean = 3.5    # Population mean (ground truth)\n",
    "sample_sizes = [10, 50, 100, 500, 1000]  # Different sample sizes to demonstrate LLN\n",
    "num_trials = 1000         # Number of trials for each sample size\n",
    "\n",
    "# Generate random samples and compute sample means\n",
    "sample_means = []\n",
    "for n in sample_sizes:\n",
    "    means = []\n",
    "    for _ in range(num_trials):\n",
    "        sample = np.random.uniform(low=0.0, high=7.0, size=n)  # Uniform distribution as an example\n",
    "        sample_mean = np.mean(sample)\n",
    "        means.append(sample_mean)\n",
    "    sample_means.append(means)\n",
    "\n",
    "# Plotting results\n",
    "plt.figure(figsize=(12, 8))\n",
    "for i in range(len(sample_sizes)):\n",
    "    plt.hist(sample_means[i], bins=30, alpha=0.6, label=f'n = {sample_sizes[i]}')\n",
    "\n",
    "plt.axvline(x=population_mean, color='r', linestyle='--', linewidth=2, label='Population Mean')\n",
    "plt.title('Distribution of Sample Means Demonstrating Law of Large Numbers')\n",
    "plt.xlabel('Sample Mean')\n",
    "plt.ylabel('Frequency')\n",
    "plt.legend()\n",
    "plt.grid(True)\n",
    "plt.show()\n"
   ]
  },
  {
   "cell_type": "markdown",
   "id": "c715e50b-0061-4761-b040-c59cefe927a0",
   "metadata": {},
   "source": [
    "##  Example20:  Central Limit Theorem: Demonstration using sums of random variables."
   ]
  },
  {
   "cell_type": "code",
   "execution_count": 140,
   "id": "c32f3c4b-3209-46ef-97db-0c0fb36456ef",
   "metadata": {},
   "outputs": [
    {
     "data": {
      "image/png": "[encoded data removed]",
      "text/plain": [
       "<Figure size 1200x600 with 1 Axes>"
      ]
     },
     "metadata": {},
     "output_type": "display_data"
    }
   ],
   "source": [
    "import matplotlib.pyplot as plt\n",
    "\n",
    "# Parameters\n",
    "num_samples = 1000       # Number of samples to generate\n",
    "sample_size = 100        # Size of each sample\n",
    "num_bins = 30            # Number of bins for histogram\n",
    "\n",
    "# Generate samples from a non-normal distribution (e.g., exponential distribution)\n",
    "population = np.random.exponential(scale=2, size=num_samples * sample_size).reshape((num_samples, sample_size))\n",
    "\n",
    "# Compute sample means\n",
    "sample_means = np.mean(population, axis=1)\n",
    "\n",
    "# Plotting results\n",
    "plt.figure(figsize=(12, 6))\n",
    "\n",
    "# Plot histogram of sample means\n",
    "plt.hist(sample_means, bins=num_bins, density=True, alpha=0.6, color='b', label='Sample Means')\n",
    "\n",
    "# Plot normal distribution approximation (CLT)\n",
    "mean_population = np.mean(population)\n",
    "std_population = np.std(population)\n",
    "normal_approx = np.random.normal(mean_population, std_population, num_samples)\n",
    "plt.hist(normal_approx, bins=num_bins, density=True, alpha=0.6, color='r', label='Normal Approximation')\n",
    "\n",
    "# Plot population distribution for comparison (optional)\n",
    "plt.hist(population.flatten(), bins=num_bins, density=True, alpha=0.6, color='g', label='Population Distribution')\n",
    "\n",
    "plt.title('Central Limit Theorem Demonstration')\n",
    "plt.xlabel('Value')\n",
    "plt.ylabel('Density')\n",
    "plt.legend()\n",
    "plt.grid(True)\n",
    "plt.show()\n"
   ]
  },
  {
   "cell_type": "markdown",
   "id": "b6c6db7e-0f97-403a-8b10-dd688277f1f7",
   "metadata": {},
   "source": [
    "##  Example21: Expected Value: numpy.mean()"
   ]
  },
  {
   "cell_type": "code",
   "execution_count": 143,
   "id": "10a30fb1-7ef1-4c7f-98cd-05b13965efb3",
   "metadata": {},
   "outputs": [
    {
     "name": "stdout",
     "output_type": "stream",
     "text": [
      "The expected value of the random variable is: 3.0\n"
     ]
    }
   ],
   "source": [
    "data = np.array([1, 2, 3, 4, 5])\n",
    "\n",
    "# Calculate the expected value using numpy.mean()\n",
    "expected_value = np.mean(data)\n",
    "\n",
    "# Print the expected value\n",
    "print(f\"The expected value of the random variable is: {expected_value}\")\n"
   ]
  },
  {
   "cell_type": "markdown",
   "id": "66e00ffe-ca55-4b63-90aa-d2f773506383",
   "metadata": {},
   "source": [
    "##  Example22: Conditional Probability: Custom implementation."
   ]
  },
  {
   "cell_type": "code",
   "execution_count": 145,
   "id": "c1799290-013b-4461-9813-bc23edc7f500",
   "metadata": {},
   "outputs": [
    {
     "name": "stdout",
     "output_type": "stream",
     "text": [
      "The conditional probability P(A | B) is: 1.5000\n"
     ]
    }
   ],
   "source": [
    "def conditional_probability(event_a, event_b):\n",
    "   \n",
    "    # Check if event_b occurred (non-zero probability)\n",
    "    if event_b > 0:\n",
    "        conditional_prob = event_a / event_b\n",
    "    else:\n",
    "        conditional_prob = 0  # Handle division by zero case\n",
    "\n",
    "    return conditional_prob\n",
    "\n",
    "# Example usage\n",
    "prob_a = 0.6  # Probability of event A\n",
    "prob_b = 0.4  # Probability of event B\n",
    "\n",
    "# Compute conditional probability P(A | B)\n",
    "conditional_prob = conditional_probability(prob_a, prob_b)\n",
    "\n",
    "# Print the result\n",
    "print(f\"The conditional probability P(A | B) is: {conditional_prob:.4f}\")\n"
   ]
  },
  {
   "cell_type": "markdown",
   "id": "998d2fb9-16b8-43ab-bb36-ee0b00172cc1",
   "metadata": {},
   "source": [
    "##  Example23: Independence of Events: Custom implementation."
   ]
  },
  {
   "cell_type": "code",
   "execution_count": 147,
   "id": "7e2d7fcf-80e0-43a2-bbcb-609c22c844b9",
   "metadata": {},
   "outputs": [
    {
     "name": "stdout",
     "output_type": "stream",
     "text": [
      "Events A and B are independent.\n"
     ]
    }
   ],
   "source": [
    "def check_independence(event_a, event_b, joint_prob):\n",
    "   \n",
    "    # Calculate the product of individual probabilities\n",
    "    product_prob = event_a * event_b\n",
    "    \n",
    "    # Check if P(A ∩ B) = P(A) * P(B)\n",
    "    if joint_prob == product_prob:\n",
    "        is_independent = True\n",
    "    else:\n",
    "        is_independent = False\n",
    "    \n",
    "    return is_independent\n",
    "\n",
    "# Example usage\n",
    "prob_a = 0.6  # Probability of event A\n",
    "prob_b = 0.4  # Probability of event B\n",
    "joint_probability = 0.24  # Joint probability P(A ∩ B)\n",
    "\n",
    "# Check if events A and B are independent\n",
    "independence_check = check_independence(prob_a, prob_b, joint_probability)\n",
    "\n",
    "# Print the result\n",
    "if independence_check:\n",
    "    print(\"Events A and B are independent.\")\n",
    "else:\n",
    "    print(\"Events A and B are not independent.\")\n"
   ]
  },
  {
   "cell_type": "markdown",
   "id": "ccc414d5-5eae-4f86-896a-9ee829a51d1e",
   "metadata": {},
   "source": [
    "##  Example24:  Bayesian Inference: Custom implementation."
   ]
  },
  {
   "cell_type": "code",
   "execution_count": 150,
   "id": "fa28ee33-59da-48b9-bde3-7e76c45fe0d0",
   "metadata": {},
   "outputs": [
    {
     "name": "stdout",
     "output_type": "stream",
     "text": [
      "The posterior probability of the hypothesis given the evidence is: 0.6316\n"
     ]
    }
   ],
   "source": [
    "def bayesian_inference(prior, likelihood, evidence):\n",
    "   \n",
    "    # Compute the posterior probability using Bayes' theorem\n",
    "    posterior = (likelihood * prior) / evidence\n",
    "    return posterior\n",
    "\n",
    "# Example usage\n",
    "prior_prob = 0.3      # Prior probability of the hypothesis\n",
    "likelihood_prob = 0.8 # Likelihood of observing the evidence given the hypothesis\n",
    "evidence_prob = 0.3 * 0.8 + 0.7 * 0.2  # Total probability of observing the evidence\n",
    "\n",
    "# Perform Bayesian inference to compute the posterior probability\n",
    "posterior_prob = bayesian_inference(prior_prob, likelihood_prob, evidence_prob)\n",
    "\n",
    "# Print the result\n",
    "print(f\"The posterior probability of the hypothesis given the evidence is: {posterior_prob:.4f}\")\n"
   ]
  },
  {
   "cell_type": "markdown",
   "id": "9b2630bc-7a4c-4076-a93d-25f2b1d29fb1",
   "metadata": {},
   "source": [
    "##  Example25: Monte Carlo Simulation: Custom implementation."
   ]
  },
  {
   "cell_type": "code",
   "execution_count": 152,
   "id": "458ffb4d-aa0a-4be8-976d-b32f41420000",
   "metadata": {},
   "outputs": [
    {
     "name": "stdout",
     "output_type": "stream",
     "text": [
      "Estimated value of pi using Monte Carlo simulation: 3.151200\n"
     ]
    }
   ],
   "source": [
    "import numpy as np\n",
    "\n",
    "def monte_carlo_pi(num_points):\n",
    "   \n",
    "    # Generate random points within a unit square [-1, 1] x [-1, 1]\n",
    "    points = np.random.uniform(low=-1, high=1, size=(num_points, 2))\n",
    "\n",
    "    # Calculate distances from the origin (0, 0)\n",
    "    distances = np.linalg.norm(points, axis=1)\n",
    "\n",
    "    # Count points inside the quarter circle (distance <= 1)\n",
    "    inside_circle = np.sum(distances <= 1)\n",
    "\n",
    "    # Estimate pi: Area of quarter circle / Area of square = inside_circle / num_points\n",
    "    estimated_pi = 4 * inside_circle / num_points\n",
    "\n",
    "    return estimated_pi\n",
    "\n",
    "# Example usage\n",
    "num_simulations = 10000\n",
    "estimated_pi = monte_carlo_pi(num_simulations)\n",
    "\n",
    "# Print the result\n",
    "print(f\"Estimated value of pi using Monte Carlo simulation: {estimated_pi:.6f}\")\n"
   ]
  },
  {
   "cell_type": "markdown",
   "id": "d0478d9e-9636-40e9-afbd-e396cf080e88",
   "metadata": {},
   "source": [
    "##  Example26: Hypothesis Testing: Using SciPy in conjunction with NumPy."
   ]
  },
  {
   "cell_type": "code",
   "execution_count": 154,
   "id": "7300602a-e887-41df-a6c5-310348d0253d",
   "metadata": {},
   "outputs": [
    {
     "name": "stdout",
     "output_type": "stream",
     "text": [
      "Sample mean: 25.30\n",
      "Hypothesized mean: 25\n",
      "t-statistic: 0.2043\n",
      "p-value: 0.8427\n",
      "Fail to reject the null hypothesis. There is not enough evidence to suggest that the population mean is different from the hypothesized mean.\n"
     ]
    }
   ],
   "source": [
    "from scipy import stats\n",
    "\n",
    "# Example data (sample)\n",
    "data = np.array([22, 19, 25, 30, 18, 24, 26, 28, 32, 29])\n",
    "\n",
    "# Hypothesized population mean (null hypothesis)\n",
    "hypothesized_mean = 25\n",
    "\n",
    "# Perform one-sample t-test\n",
    "t_statistic, p_value = stats.ttest_1samp(data, hypothesized_mean)\n",
    "\n",
    "# Print the results\n",
    "print(f\"Sample mean: {np.mean(data):.2f}\")\n",
    "print(f\"Hypothesized mean: {hypothesized_mean}\")\n",
    "print(f\"t-statistic: {t_statistic:.4f}\")\n",
    "print(f\"p-value: {p_value:.4f}\")\n",
    "\n",
    "# Interpret the results\n",
    "alpha = 0.05  # significance level\n",
    "if p_value < alpha:\n",
    "    print(\"Reject the null hypothesis. There is significant evidence to suggest that the population mean is different from the hypothesized mean.\")\n",
    "else:\n",
    "    print(\"Fail to reject the null hypothesis. There is not enough evidence to suggest that the population mean is different from the hypothesized mean.\")\n"
   ]
  },
  {
   "cell_type": "markdown",
   "id": "47063cb9-cede-4f0f-a4e9-778896156568",
   "metadata": {},
   "source": [
    "##  Example27: Generating Functions: Custom implementation."
   ]
  },
  {
   "cell_type": "code",
   "execution_count": 157,
   "id": "200feb3c-d7e2-4330-b642-d0b44e9bc61f",
   "metadata": {},
   "outputs": [
    {
     "name": "stdout",
     "output_type": "stream",
     "text": [
      "Sequence: [1, 2, 3, 4, 5]\n",
      "Generating function g(x) evaluated at x = 2: 129\n"
     ]
    }
   ],
   "source": [
    "def generate_sequence(n):\n",
    "   \n",
    "    sequence = [i + 1 for i in range(n)]  # Example: Sequence of natural numbers 1, 2, 3, ..., n\n",
    "    return sequence\n",
    "\n",
    "def generating_function(sequence, x):\n",
    "   \n",
    "    g_x = sum([sequence[i] * (x ** i) for i in range(len(sequence))])\n",
    "    return g_x\n",
    "\n",
    "# Example usage\n",
    "n = 5  # Number of terms in the sequence\n",
    "sequence = generate_sequence(n)\n",
    "x = 2   # Variable in the generating function\n",
    "\n",
    "# Compute the generating function\n",
    "g_x = generating_function(sequence, x)\n",
    "\n",
    "# Print the sequence and the value of the generating function\n",
    "print(f\"Sequence: {sequence}\")\n",
    "print(f\"Generating function g(x) evaluated at x = {x}: {g_x}\")\n"
   ]
  },
  {
   "cell_type": "markdown",
   "id": "96eab595-1c0c-44a2-a0e5-5b81f80432d5",
   "metadata": {},
   "source": [
    "##  Example28: Resampling Methods: Custom implementation."
   ]
  },
  {
   "cell_type": "code",
   "execution_count": 160,
   "id": "007cb986-552b-4ab6-840f-95a303c5d4d4",
   "metadata": {},
   "outputs": [
    {
     "name": "stdout",
     "output_type": "stream",
     "text": [
      "Original sample data: [23 45 67 12 34 56 78 89 43 21]\n",
      "Number of bootstrap resamples: 1000\n",
      "Estimated population mean using bootstrap: 46.67\n"
     ]
    }
   ],
   "source": [
    "def bootstrap_resample(data, num_resamples):\n",
    "   \n",
    "    resampled_data = []\n",
    "    n = len(data)\n",
    "    \n",
    "    for _ in range(num_resamples):\n",
    "        # Generate bootstrap sample (sample with replacement)\n",
    "        bootstrap_sample = np.random.choice(data, size=n, replace=True)\n",
    "        resampled_data.append(bootstrap_sample)\n",
    "    \n",
    "    return resampled_data\n",
    "\n",
    "# Example usage\n",
    "np.random.seed(42)  # For reproducibility\n",
    "sample_data = np.array([23, 45, 67, 12, 34, 56, 78, 89, 43, 21])\n",
    "num_resamples = 1000\n",
    "\n",
    "# Perform bootstrap resampling\n",
    "bootstrap_samples = bootstrap_resample(sample_data, num_resamples)\n",
    "\n",
    "# Calculate the mean of each bootstrap sample\n",
    "bootstrap_means = [np.mean(sample) for sample in bootstrap_samples]\n",
    "\n",
    "# Calculate the mean of bootstrap means (estimated population mean)\n",
    "estimated_mean = np.mean(bootstrap_means)\n",
    "\n",
    "# Print the results\n",
    "print(f\"Original sample data: {sample_data}\")\n",
    "print(f\"Number of bootstrap resamples: {num_resamples}\")\n",
    "print(f\"Estimated population mean using bootstrap: {estimated_mean:.2f}\")\n"
   ]
  },
  {
   "cell_type": "markdown",
   "id": "9787d267-0ffc-4f69-b8da-18704f9f708c",
   "metadata": {},
   "source": [
    "##  Example29: Moment Generating Functions: Custom implementation."
   ]
  },
  {
   "cell_type": "code",
   "execution_count": 162,
   "id": "e2e639fa-86e8-45f3-a41c-8ade373cc62e",
   "metadata": {},
   "outputs": [
    {
     "name": "stdout",
     "output_type": "stream",
     "text": [
      "Sample data: [ 0.49671415 -0.1382643   0.64768854  1.52302986 -0.23415337 -0.23413696\n",
      "  1.57921282  0.76743473 -0.46947439  0.54256004]... (truncated)\n",
      "Parameter t: 0.5\n",
      "Value of MGF at t = 0.5: 1.0483\n"
     ]
    }
   ],
   "source": [
    "def moment_generating_function(data, t):\n",
    "   \n",
    "    # Compute the expected value of e^(tX)\n",
    "    expected_value = np.mean(np.exp(t * data))\n",
    "    \n",
    "    return expected_value\n",
    "\n",
    "# Example usage\n",
    "np.random.seed(42)  # For reproducibility\n",
    "sample_data = np.random.normal(loc=0, scale=1, size=100)  # Generate random data (normally distributed)\n",
    "t = 0.5  # Parameter at which to evaluate the MGF\n",
    "\n",
    "# Compute the moment generating function\n",
    "mgf_value = moment_generating_function(sample_data, t)\n",
    "\n",
    "# Print the result\n",
    "print(f\"Sample data: {sample_data[:10]}... (truncated)\")\n",
    "print(f\"Parameter t: {t}\")\n",
    "print(f\"Value of MGF at t = {t}: {mgf_value:.4f}\")\n"
   ]
  },
  {
   "cell_type": "markdown",
   "id": "9f6ab739-4339-4957-98e4-94473b47d5fb",
   "metadata": {},
   "source": [
    "##  Example30: Chebyshev's Inequality: Custom demonstration."
   ]
  },
  {
   "cell_type": "code",
   "execution_count": 165,
   "id": "44dac439-fd43-4407-9096-378497bf1e37",
   "metadata": {},
   "outputs": [
    {
     "name": "stdout",
     "output_type": "stream",
     "text": [
      "Sample data: [ 0.49671415 -0.1382643   0.64768854  1.52302986 -0.23415337 -0.23413696\n",
      "  1.57921282  0.76743473 -0.46947439  0.54256004]... (truncated)\n",
      "Number of standard deviations (k): 2\n",
      "Chebyshev's inequality upper bound probability: 0.7500\n",
      "Actual proportion of data points outside the range: 0.0440\n"
     ]
    }
   ],
   "source": [
    "def chebyshev_inequality(data, k):\n",
    "   \n",
    "    mean = np.mean(data)\n",
    "    std_dev = np.std(data)\n",
    "    \n",
    "    # Calculate the probability using Chebyshev's inequality\n",
    "    probability = 1 - 1 / k**2\n",
    "    \n",
    "    # Calculate the actual proportion of data points outside the range\n",
    "    count_outside = np.sum(np.abs(data - mean) > k * std_dev)\n",
    "    actual_probability = count_outside / len(data)\n",
    "    \n",
    "    return probability, actual_probability\n",
    "\n",
    "# Example usage\n",
    "np.random.seed(42)  # For reproducibility\n",
    "sample_data = np.random.normal(loc=0, scale=1, size=1000)  # Generate random data (normally distributed)\n",
    "k = 2  # Number of standard deviations from the mean\n",
    "\n",
    "# Demonstrate Chebyshev's inequality\n",
    "chebyshev_prob, actual_prob = chebyshev_inequality(sample_data, k)\n",
    "\n",
    "# Print the results\n",
    "print(f\"Sample data: {sample_data[:10]}... (truncated)\")\n",
    "print(f\"Number of standard deviations (k): {k}\")\n",
    "print(f\"Chebyshev's inequality upper bound probability: {chebyshev_prob:.4f}\")\n",
    "print(f\"Actual proportion of data points outside the range: {actual_prob:.4f}\")\n"
   ]
  },
  {
   "cell_type": "code",
   "execution_count": null,
   "id": "16d50d28-0f90-4a08-b9f4-991ce7a571f7",
   "metadata": {},
   "outputs": [],
   "source": []
  }
 ],
 "metadata": {
  "kernelspec": {
   "display_name": "Python 3 (ipykernel)",
   "language": "python",
   "name": "python3"
  },
  "language_info": {
   "codemirror_mode": {
    "name": "ipython",
    "version": 3
   },
   "file_extension": ".py",
   "mimetype": "text/x-python",
   "name": "python",
   "nbconvert_exporter": "python",
   "pygments_lexer": "ipython3",
   "version": "3.11.7"
  }
 },
 "nbformat": 4,
 "nbformat_minor": 5
}
