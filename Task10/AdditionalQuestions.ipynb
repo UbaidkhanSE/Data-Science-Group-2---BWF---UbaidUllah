{
 "cells": [
  {
   "cell_type": "markdown",
   "id": "26190301-1e92-4481-8d33-a29c222aa430",
   "metadata": {},
   "source": [
    "# Create a 1D NumPy array containing the integers from 0 to 9."
   ]
  },
  {
   "cell_type": "code",
   "execution_count": 2,
   "id": "c08da69e-8d11-47d5-869b-31ed3350e9a7",
   "metadata": {},
   "outputs": [
    {
     "name": "stdout",
     "output_type": "stream",
     "text": [
      "1D NumPy array: [0 1 2 3 4 5 6 7 8 9]\n"
     ]
    }
   ],
   "source": [
    "import numpy as np\n",
    "array_1d = np.arange(10)\n",
    "print(\"1D NumPy array:\", array_1d)"
   ]
  },
  {
   "cell_type": "code",
   "execution_count": 3,
   "id": "6744d8a6-671f-4c8e-9e5c-44b1e8a62787",
   "metadata": {},
   "outputs": [
    {
     "name": "stdout",
     "output_type": "stream",
     "text": [
      "1D NumPy array: [0 1 2 3 4 5 6 7 8 9]\n"
     ]
    }
   ],
   "source": [
    "array_1d = np.array([i for i in range(10)])\n",
    "print(\"1D NumPy array:\", array_1d)"
   ]
  },
  {
   "cell_type": "code",
   "execution_count": 4,
   "id": "73696a66-d554-4012-81e0-8048dd1f444d",
   "metadata": {},
   "outputs": [
    {
     "name": "stdout",
     "output_type": "stream",
     "text": [
      "1D NumPy array: [0 1 2 3 4 5 6 7 8 9]\n"
     ]
    }
   ],
   "source": [
    "array_1d = np.linspace(0, 9, 10, dtype=int)\n",
    "print(\"1D NumPy array:\", array_1d)"
   ]
  },
  {
   "cell_type": "code",
   "execution_count": 5,
   "id": "9ceda13c-778f-4ab6-99c1-e5a8bd8b565f",
   "metadata": {},
   "outputs": [
    {
     "name": "stdout",
     "output_type": "stream",
     "text": [
      "1D NumPy array: [0 1 2 3 4 5 6 7 8 9]\n"
     ]
    }
   ],
   "source": [
    "array_1d = np.array(list(range(10)))\n",
    "print(\"1D NumPy array:\", array_1d)"
   ]
  },
  {
   "cell_type": "code",
   "execution_count": 6,
   "id": "de6c05be-ba75-4c9a-be78-b023b8631484",
   "metadata": {},
   "outputs": [
    {
     "name": "stdout",
     "output_type": "stream",
     "text": [
      "1D NumPy array: [0 1 2 3 4 5 6 7 8 9]\n"
     ]
    }
   ],
   "source": [
    "array_1d = np.zeros(10, dtype=int)\n",
    "array_1d[:] = np.arange(10)\n",
    "print(\"1D NumPy array:\", array_1d)"
   ]
  },
  {
   "cell_type": "markdown",
   "id": "233697f0-6576-4788-ba22-a3db25352db6",
   "metadata": {},
   "source": [
    "# Create a 2D NumPy array (3x3) containing random integers between 1 and 20.\n"
   ]
  },
  {
   "cell_type": "code",
   "execution_count": 8,
   "id": "2e100a9d-3c11-421c-9848-a787d3006f95",
   "metadata": {},
   "outputs": [
    {
     "name": "stdout",
     "output_type": "stream",
     "text": [
      "[[13 11  8]\n",
      " [14  8  3]\n",
      " [10 11 16]]\n"
     ]
    }
   ],
   "source": [
    "array_2d_1 = np.random.randint(1, 21, size=(3, 3))\n",
    "print(array_2d_1)"
   ]
  },
  {
   "cell_type": "code",
   "execution_count": 9,
   "id": "e34d71e3-9a66-4af6-8e92-ad4bea392610",
   "metadata": {},
   "outputs": [
    {
     "name": "stdout",
     "output_type": "stream",
     "text": [
      "[[16. 10. 14.]\n",
      " [ 5. 11. 13.]\n",
      " [14. 17. 17.]]\n"
     ]
    }
   ],
   "source": [
    "array_2d_2 = np.round(np.random.random((3, 3)) * 20)\n",
    "print(array_2d_2)"
   ]
  },
  {
   "cell_type": "code",
   "execution_count": 10,
   "id": "ef75aabd-2c3d-4281-8f85-d3bdf8c3aec6",
   "metadata": {},
   "outputs": [
    {
     "name": "stdout",
     "output_type": "stream",
     "text": [
      "[[ 2  5 17]\n",
      " [ 4 19  3]\n",
      " [10  8 17]]\n"
     ]
    }
   ],
   "source": [
    "choices = np.arange(1, 21)\n",
    "array_2d_3 = np.random.choice(choices, size=(3, 3))\n",
    "print(array_2d_3)"
   ]
  },
  {
   "cell_type": "code",
   "execution_count": 11,
   "id": "144dab59-b3bb-41a3-b4b6-416ecbdc17dd",
   "metadata": {},
   "outputs": [
    {
     "name": "stdout",
     "output_type": "stream",
     "text": [
      "[[12.  5.  7.]\n",
      " [ 4. 20. 16.]\n",
      " [10. 14.  3.]]\n"
     ]
    }
   ],
   "source": [
    "array_2d_4 = np.round(np.random.uniform(1, 21, size=(3, 3)))\n",
    "print(array_2d_4)\n"
   ]
  },
  {
   "cell_type": "code",
   "execution_count": 12,
   "id": "785e31e6-fb7f-4c93-bca6-d1492d444c5b",
   "metadata": {},
   "outputs": [
    {
     "name": "stdout",
     "output_type": "stream",
     "text": [
      "[[ 1  6 15]\n",
      " [16  8  6]\n",
      " [ 7  9  3]]\n"
     ]
    }
   ],
   "source": [
    "mean = 10.5  # Mean value around which to generate numbers\n",
    "std_dev = 5  # Standard deviation\n",
    "array_2d_5 = np.random.normal(mean, std_dev, size=(3, 3)).astype(int)\n",
    "array_2d_5 = np.clip(array_2d_5, 1, 20)  # Clip values to be within range [1, 20]\n",
    "print(array_2d_5)\n"
   ]
  },
  {
   "cell_type": "markdown",
   "id": "370b93da-1625-475b-bb37-e739c48dc21d",
   "metadata": {},
   "source": [
    "# Create a 3D NumPy array with dimensions (2, 3, 4) filled with ones.\n"
   ]
  },
  {
   "cell_type": "code",
   "execution_count": 13,
   "id": "8f780c9d-f31a-4002-8893-bb0bb611b2f9",
   "metadata": {},
   "outputs": [
    {
     "name": "stdout",
     "output_type": "stream",
     "text": [
      "3D NumPy array:\n",
      "[[[1. 1. 1. 1.]\n",
      "  [1. 1. 1. 1.]\n",
      "  [1. 1. 1. 1.]]\n",
      "\n",
      " [[1. 1. 1. 1.]\n",
      "  [1. 1. 1. 1.]\n",
      "  [1. 1. 1. 1.]]]\n"
     ]
    }
   ],
   "source": [
    "array_3d = np.ones((2, 3, 4))\n",
    "\n",
    "print(\"3D NumPy array:\")\n",
    "print(array_3d)\n"
   ]
  },
  {
   "cell_type": "code",
   "execution_count": 14,
   "id": "1772a6dc-cd9f-4cc2-8b1c-19bd69a25616",
   "metadata": {},
   "outputs": [
    {
     "name": "stdout",
     "output_type": "stream",
     "text": [
      "3D NumPy array:\n",
      "[[[1 1 1 1]\n",
      "  [1 1 1 1]\n",
      "  [1 1 1 1]]\n",
      "\n",
      " [[1 1 1 1]\n",
      "  [1 1 1 1]\n",
      "  [1 1 1 1]]]\n"
     ]
    }
   ],
   "source": [
    "array_3d = np.full((2, 3, 4), 1)\n",
    "\n",
    "print(\"3D NumPy array:\")\n",
    "print(array_3d)\n"
   ]
  },
  {
   "cell_type": "code",
   "execution_count": 16,
   "id": "719c301d-32ac-46ee-be96-fb6c5c2e8f9f",
   "metadata": {},
   "outputs": [
    {
     "name": "stdout",
     "output_type": "stream",
     "text": [
      "3D NumPy array:\n",
      "[[[1 1 1 1]\n",
      "  [1 1 1 1]\n",
      "  [1 1 1 1]]\n",
      "\n",
      " [[1 1 1 1]\n",
      "  [1 1 1 1]\n",
      "  [1 1 1 1]]]\n"
     ]
    }
   ],
   "source": [
    "array_3d = np.ones((2, 3, 4), dtype=int)\n",
    "\n",
    "print(\"3D NumPy array:\")\n",
    "print(array_3d)"
   ]
  },
  {
   "cell_type": "code",
   "execution_count": 17,
   "id": "d04f4873-a044-48e5-8b00-2370749329e0",
   "metadata": {},
   "outputs": [
    {
     "name": "stdout",
     "output_type": "stream",
     "text": [
      "3D NumPy array:\n",
      "[[[1. 1. 1. 1.]\n",
      "  [1. 1. 1. 1.]\n",
      "  [1. 1. 1. 1.]]\n",
      "\n",
      " [[1. 1. 1. 1.]\n",
      "  [1. 1. 1. 1.]\n",
      "  [1. 1. 1. 1.]]]\n"
     ]
    }
   ],
   "source": [
    "empty_array = np.empty((2, 3, 4))\n",
    "\n",
    "array_3d = np.ones_like(empty_array)\n",
    "\n",
    "print(\"3D NumPy array:\")\n",
    "print(array_3d)\n"
   ]
  },
  {
   "cell_type": "code",
   "execution_count": 18,
   "id": "a17d704b-8179-4f44-95c9-717081feb91c",
   "metadata": {},
   "outputs": [
    {
     "name": "stdout",
     "output_type": "stream",
     "text": [
      "3D NumPy array:\n",
      "[[[1 1 1 1]\n",
      "  [1 1 1 1]\n",
      "  [1 1 1 1]]\n",
      "\n",
      " [[1 1 1 1]\n",
      "  [1 1 1 1]\n",
      "  [1 1 1 1]]]\n"
     ]
    }
   ],
   "source": [
    "array_3d = np.array([[[1] * 4] * 3] * 2)\n",
    "\n",
    "print(\"3D NumPy array:\")\n",
    "print(array_3d)\n"
   ]
  },
  {
   "cell_type": "markdown",
   "id": "9c8b57c1-cef4-4c8a-aaad-953e104550fc",
   "metadata": {},
   "source": [
    "# Add two 1D arrays element-wise."
   ]
  },
  {
   "cell_type": "code",
   "execution_count": 20,
   "id": "114b1a90-2e8a-4abb-9204-8b21d0d61367",
   "metadata": {},
   "outputs": [
    {
     "name": "stdout",
     "output_type": "stream",
     "text": [
      "Method 1 Result: [ 7  9 11 13 15]\n"
     ]
    }
   ],
   "source": [
    "array1 = np.array([1, 2, 3, 4, 5])\n",
    "array2 = np.array([6, 7, 8, 9, 10])\n",
    "\n",
    "result_method1 = array1 + array2\n",
    "\n",
    "print(\"Method 1 Result:\", result_method1)\n"
   ]
  },
  {
   "cell_type": "code",
   "execution_count": 21,
   "id": "089f22fc-1da1-4162-8d42-a65abef37bc6",
   "metadata": {},
   "outputs": [
    {
     "name": "stdout",
     "output_type": "stream",
     "text": [
      "Method 2 Result: [ 7  9 11 13 15]\n"
     ]
    }
   ],
   "source": [
    "result_method2 = np.add(array1, array2)\n",
    "\n",
    "print(\"Method 2 Result:\", result_method2)\n"
   ]
  },
  {
   "cell_type": "code",
   "execution_count": 22,
   "id": "5758882e-8d04-48f9-af1b-9b386ce74e7e",
   "metadata": {},
   "outputs": [
    {
     "name": "stdout",
     "output_type": "stream",
     "text": [
      "Method 3 Result: [ 7  9 11 13 15]\n"
     ]
    }
   ],
   "source": [
    "result_method3 = np.sum([array1, array2], axis=0)\n",
    "\n",
    "print(\"Method 3 Result:\", result_method3)\n"
   ]
  },
  {
   "cell_type": "code",
   "execution_count": 23,
   "id": "7383dc53-6a0f-44fb-a31d-016e102dee07",
   "metadata": {},
   "outputs": [
    {
     "name": "stdout",
     "output_type": "stream",
     "text": [
      "Method 4 Result: [ 7  9 11 13 15]\n"
     ]
    }
   ],
   "source": [
    "result_method4 = np.apply_along_axis(lambda x: x[0] + x[1], axis=0, arr=np.stack((array1, array2)))\n",
    "\n",
    "print(\"Method 4 Result:\", result_method4)\n"
   ]
  },
  {
   "cell_type": "code",
   "execution_count": 24,
   "id": "3d782ced-5067-4633-b8f7-2a2142f34789",
   "metadata": {},
   "outputs": [
    {
     "name": "stdout",
     "output_type": "stream",
     "text": [
      "Method 5 Result: [ 7  9 11 13 15]\n"
     ]
    }
   ],
   "source": [
    "result_method5 = np.array([x + y for x, y in zip(array1, array2)])\n",
    "\n",
    "print(\"Method 5 Result:\", result_method5)\n"
   ]
  },
  {
   "cell_type": "markdown",
   "id": "6b459e73-c9f1-41ff-b1f1-e43d2331d32e",
   "metadata": {},
   "source": [
    "# Multiply two 2D arrays element-wise.\n"
   ]
  },
  {
   "cell_type": "code",
   "execution_count": 25,
   "id": "d1c7ccc8-5ac2-4b8a-987b-5e3fbfdfd085",
   "metadata": {},
   "outputs": [
    {
     "name": "stdout",
     "output_type": "stream",
     "text": [
      "Method 1 Result:\n",
      "[[ 7 16 27]\n",
      " [40 55 72]]\n"
     ]
    }
   ],
   "source": [
    "array1 = np.array([[1, 2, 3],\n",
    "                   [4, 5, 6]])\n",
    "\n",
    "array2 = np.array([[7, 8, 9],\n",
    "                   [10, 11, 12]])\n",
    "\n",
    "result_method1 = array1 * array2\n",
    "\n",
    "print(\"Method 1 Result:\")\n",
    "print(result_method1)\n"
   ]
  },
  {
   "cell_type": "code",
   "execution_count": 26,
   "id": "da3f460d-58ae-4731-8199-f1fbf52ebe9a",
   "metadata": {},
   "outputs": [
    {
     "name": "stdout",
     "output_type": "stream",
     "text": [
      "\n",
      "Method 2 Result:\n",
      "[[ 7 16 27]\n",
      " [40 55 72]]\n"
     ]
    }
   ],
   "source": [
    "result_method2 = np.multiply(array1, array2)\n",
    "\n",
    "print(\"\\nMethod 2 Result:\")\n",
    "print(result_method2)\n"
   ]
  },
  {
   "cell_type": "code",
   "execution_count": 32,
   "id": "ff0786f5-969c-4420-a2a6-422decf6dc15",
   "metadata": {},
   "outputs": [
    {
     "name": "stdout",
     "output_type": "stream",
     "text": [
      "\n",
      "Method 3 Result:\n",
      "[[ 7 16 27]\n",
      " [40 55 72]]\n"
     ]
    }
   ],
   "source": [
    "broadcasted_array2 = np.broadcast_to(array2, array1.shape)\n",
    "result_method3 = array1 * broadcasted_array2\n",
    "\n",
    "print(\"\\nMethod 3 Result:\")\n",
    "print(result_method3)\n"
   ]
  },
  {
   "cell_type": "code",
   "execution_count": 31,
   "id": "873c180d-4da6-436a-b64f-13ce59fb404a",
   "metadata": {},
   "outputs": [
    {
     "name": "stdout",
     "output_type": "stream",
     "text": [
      "\n",
      "Method 4 Result:\n",
      "[[ 7 16 27]\n",
      " [40 55 72]]\n"
     ]
    }
   ],
   "source": [
    "multiply_elements = np.vectorize(lambda x, y: x * y)\n",
    "result_method4 = multiply_elements(array1, array2)\n",
    "\n",
    "print(\"\\nMethod 4 Result:\")\n",
    "print(result_method4)\n"
   ]
  },
  {
   "cell_type": "code",
   "execution_count": 30,
   "id": "74dd3b9f-346b-49ea-bb2b-c2a988d0ee26",
   "metadata": {},
   "outputs": [
    {
     "name": "stdout",
     "output_type": "stream",
     "text": [
      "\n",
      "Method 5 Result:\n",
      "[[ 7 16 27]\n",
      " [40 55 72]]\n"
     ]
    }
   ],
   "source": [
    "result_method5 = np.array([[array1[i, j] * array2[i, j] for j in range(array1.shape[1])] for i in range(array1.shape[0])])\n",
    "\n",
    "print(\"\\nMethod 5 Result:\")\n",
    "print(result_method5)\n"
   ]
  },
  {
   "cell_type": "markdown",
   "id": "f544a726-22fa-40a5-8f99-af8fa298715a",
   "metadata": {},
   "source": [
    "# Calculate the dot product of two matrices."
   ]
  },
  {
   "cell_type": "code",
   "execution_count": 33,
   "id": "1bd0f4a7-d3ed-4336-8239-61e897d8d8af",
   "metadata": {},
   "outputs": [
    {
     "name": "stdout",
     "output_type": "stream",
     "text": [
      "Method 1 Result:\n",
      "[[ 58  64]\n",
      " [139 154]]\n"
     ]
    }
   ],
   "source": [
    "# Define two matrices\n",
    "matrix1 = np.array([[1, 2, 3],\n",
    "                    [4, 5, 6]])\n",
    "\n",
    "matrix2 = np.array([[7, 8],\n",
    "                    [9, 10],\n",
    "                    [11, 12]])\n",
    "\n",
    "result_method1 = np.dot(matrix1, matrix2)\n",
    "\n",
    "print(\"Method 1 Result:\")\n",
    "print(result_method1)\n"
   ]
  },
  {
   "cell_type": "code",
   "execution_count": 34,
   "id": "8d43c286-fe22-4d88-a8ac-75673522eb0c",
   "metadata": {},
   "outputs": [
    {
     "name": "stdout",
     "output_type": "stream",
     "text": [
      "\n",
      "Method 2 Result:\n",
      "[[ 58  64]\n",
      " [139 154]]\n"
     ]
    }
   ],
   "source": [
    "result_method2 = matrix1 @ matrix2\n",
    "\n",
    "print(\"\\nMethod 2 Result:\")\n",
    "print(result_method2)\n"
   ]
  },
  {
   "cell_type": "code",
   "execution_count": 35,
   "id": "c881a43e-2ea9-4ff6-8b81-ebfb4791a2b2",
   "metadata": {},
   "outputs": [
    {
     "name": "stdout",
     "output_type": "stream",
     "text": [
      "\n",
      "Method 3 Result:\n",
      "[[ 58  64]\n",
      " [139 154]]\n"
     ]
    }
   ],
   "source": [
    "result_method3 = np.matmul(matrix1, matrix2)\n",
    "\n",
    "print(\"\\nMethod 3 Result:\")\n",
    "print(result_method3)\n"
   ]
  },
  {
   "cell_type": "code",
   "execution_count": 36,
   "id": "87f8af75-9ccc-443d-a4e6-f46be1368b21",
   "metadata": {},
   "outputs": [
    {
     "name": "stdout",
     "output_type": "stream",
     "text": [
      "\n",
      "Method 4 Result:\n",
      "[[ 58  64]\n",
      " [139 154]]\n"
     ]
    }
   ],
   "source": [
    "result_method4 = matrix1.dot(matrix2)\n",
    "\n",
    "print(\"\\nMethod 4 Result:\")\n",
    "print(result_method4)\n"
   ]
  },
  {
   "cell_type": "code",
   "execution_count": 37,
   "id": "7e9af3aa-a487-49dd-91da-f47bd7f37a24",
   "metadata": {},
   "outputs": [
    {
     "name": "stdout",
     "output_type": "stream",
     "text": [
      "\n",
      "Method 5 Result:\n",
      "[[ 58  64]\n",
      " [139 154]]\n"
     ]
    }
   ],
   "source": [
    "result_method5 = np.array([[np.sum(matrix1[row] * matrix2[:, col]) for col in range(matrix2.shape[1])] for row in range(matrix1.shape[0])])\n",
    "\n",
    "print(\"\\nMethod 5 Result:\")\n",
    "print(result_method5)\n"
   ]
  },
  {
   "cell_type": "markdown",
   "id": "073f374f-f4ce-4c07-b46b-1a3dd23614ae",
   "metadata": {},
   "source": [
    "# Calculate the mean, median, and standard deviation of a 1D array.\n"
   ]
  },
  {
   "cell_type": "code",
   "execution_count": 38,
   "id": "1da52c61-1088-47cc-be13-8c75b2099abd",
   "metadata": {},
   "outputs": [
    {
     "name": "stdout",
     "output_type": "stream",
     "text": [
      "Method 1 Results:\n",
      "Mean: 5.5\n",
      "Median: 5.5\n",
      "Standard Deviation: 2.8722813232690143\n"
     ]
    }
   ],
   "source": [
    "arr = np.array([1, 2, 3, 4, 5, 6, 7, 8, 9, 10])\n",
    "\n",
    "# Calculate mean, median, and standard deviation using NumPy functions\n",
    "mean_method1 = np.mean(arr)\n",
    "median_method1 = np.median(arr)\n",
    "std_method1 = np.std(arr)\n",
    "\n",
    "print(\"Method 1 Results:\")\n",
    "print(\"Mean:\", mean_method1)\n",
    "print(\"Median:\", median_method1)\n",
    "print(\"Standard Deviation:\", std_method1)\n"
   ]
  },
  {
   "cell_type": "code",
   "execution_count": 39,
   "id": "879cdeb1-5f21-4564-8d7e-ac4a2265af24",
   "metadata": {},
   "outputs": [
    {
     "name": "stdout",
     "output_type": "stream",
     "text": [
      "\n",
      "Method 2 Results:\n",
      "Mean: 5.5\n",
      "Median: 5.5\n",
      "Standard Deviation: 2.8722813232690143\n"
     ]
    }
   ],
   "source": [
    "mean_method2 = arr.mean()\n",
    "median_method2 = np.median(arr)\n",
    "std_method2 = np.std(arr)\n",
    "\n",
    "print(\"\\nMethod 2 Results:\")\n",
    "print(\"Mean:\", mean_method2)\n",
    "print(\"Median:\", median_method2)\n",
    "print(\"Standard Deviation:\", std_method2)\n"
   ]
  },
  {
   "cell_type": "code",
   "execution_count": 40,
   "id": "3796ce67-81e3-454f-8a5f-3dc1009e6981",
   "metadata": {},
   "outputs": [
    {
     "name": "stdout",
     "output_type": "stream",
     "text": [
      "\n",
      "Method 3 Results:\n",
      "Mean: 5.5\n",
      "Median: 5.5\n",
      "Standard Deviation: 3.0276503540974917\n"
     ]
    }
   ],
   "source": [
    "import pandas as pd\n",
    "\n",
    "series = pd.Series(arr)\n",
    "stats = series.describe()\n",
    "mean_method3 = stats['mean']\n",
    "median_method3 = stats['50%']  # 50% corresponds to median\n",
    "std_method3 = stats['std']\n",
    "\n",
    "print(\"\\nMethod 3 Results:\")\n",
    "print(\"Mean:\", mean_method3)\n",
    "print(\"Median:\", median_method3)\n",
    "print(\"Standard Deviation:\", std_method3)\n"
   ]
  },
  {
   "cell_type": "code",
   "execution_count": 41,
   "id": "c82ecb77-7c1e-42c2-8346-668ad3eddab6",
   "metadata": {},
   "outputs": [
    {
     "name": "stdout",
     "output_type": "stream",
     "text": [
      "\n",
      "Method 4 Results:\n",
      "Mean: 5.5\n",
      "Median: 5.5\n",
      "Standard Deviation: 2.8722813232690143\n"
     ]
    }
   ],
   "source": [
    "mean_method4 = sum(arr) / len(arr)\n",
    "sorted_arr = np.sort(arr)\n",
    "n = len(sorted_arr)\n",
    "median_method4 = (sorted_arr[(n - 1) // 2] + sorted_arr[n // 2]) / 2 if n % 2 == 0 else sorted_arr[n // 2]\n",
    "std_method4 = np.sqrt(np.sum((arr - mean_method4)**2) / len(arr))\n",
    "\n",
    "print(\"\\nMethod 4 Results:\")\n",
    "print(\"Mean:\", mean_method4)\n",
    "print(\"Median:\", median_method4)\n",
    "print(\"Standard Deviation:\", std_method4)\n"
   ]
  },
  {
   "cell_type": "code",
   "execution_count": 45,
   "id": "f6ca654c-6c97-4acc-9cec-6cf02b2f8f24",
   "metadata": {},
   "outputs": [
    {
     "name": "stdout",
     "output_type": "stream",
     "text": [
      "Method 5 Results:\n",
      "Mean: 5.5\n",
      "Median: 5.5\n",
      "Standard Deviation: 3.0276503540974917\n"
     ]
    }
   ],
   "source": [
    "from scipy import stats\n",
    "\n",
    "# Define a 1D NumPy array\n",
    "arr = np.array([1, 2, 3, 4, 5, 6, 7, 8, 9, 10])\n",
    "\n",
    "# Calculate mean, median, and standard deviation using scipy.stats and np.median()\n",
    "stats_result = stats.describe(arr)\n",
    "mean_method5 = stats_result.mean\n",
    "median_method5 = np.median(arr)\n",
    "std_method5 = np.sqrt(stats_result.variance)  # Calculate standard deviation using variance\n",
    "\n",
    "print(\"Method 5 Results:\")\n",
    "print(\"Mean:\", mean_method5)\n",
    "print(\"Median:\", median_method5)\n",
    "print(\"Standard Deviation:\", std_method5)\n"
   ]
  },
  {
   "cell_type": "markdown",
   "id": "8a53b05b-271f-4ac5-b5b6-38b244436bde",
   "metadata": {},
   "source": [
    "# Find the maximum and minimum values in a 2D array.\n"
   ]
  },
  {
   "cell_type": "code",
   "execution_count": 46,
   "id": "d89bf82a-2ae4-4b62-8737-57aae125675f",
   "metadata": {},
   "outputs": [
    {
     "name": "stdout",
     "output_type": "stream",
     "text": [
      "Method 1 Results:\n",
      "Maximum value: 9\n",
      "Minimum value: 1\n"
     ]
    }
   ],
   "source": [
    "# Define a 2D NumPy array\n",
    "arr_2d = np.array([[1, 2, 3],\n",
    "                   [4, 5, 6],\n",
    "                   [7, 8, 9]])\n",
    "\n",
    "# Find maximum and minimum values using np.max() and np.min()\n",
    "max_method1 = np.max(arr_2d)\n",
    "min_method1 = np.min(arr_2d)\n",
    "\n",
    "print(\"Method 1 Results:\")\n",
    "print(\"Maximum value:\", max_method1)\n",
    "print(\"Minimum value:\", min_method1)\n"
   ]
  },
  {
   "cell_type": "code",
   "execution_count": 47,
   "id": "50ffdc58-082c-4a52-bc6b-f990bd3bdbf2",
   "metadata": {},
   "outputs": [
    {
     "name": "stdout",
     "output_type": "stream",
     "text": [
      "\n",
      "Method 2 Results:\n",
      "Maximum value: 9\n",
      "Minimum value: 1\n"
     ]
    }
   ],
   "source": [
    "max_method2 = arr_2d.max()\n",
    "min_method2 = arr_2d.min()\n",
    "\n",
    "print(\"\\nMethod 2 Results:\")\n",
    "print(\"Maximum value:\", max_method2)\n",
    "print(\"Minimum value:\", min_method2)\n"
   ]
  },
  {
   "cell_type": "code",
   "execution_count": 48,
   "id": "d1c55a6b-dc8d-4e93-85c6-0cef42a94e1d",
   "metadata": {},
   "outputs": [
    {
     "name": "stdout",
     "output_type": "stream",
     "text": [
      "\n",
      "Method 3 Results:\n",
      "Maximum value: 9\n",
      "Minimum value: 1\n"
     ]
    }
   ],
   "source": [
    "max_method3 = np.amax(arr_2d)\n",
    "min_method3 = np.amin(arr_2d)\n",
    "\n",
    "print(\"\\nMethod 3 Results:\")\n",
    "print(\"Maximum value:\", max_method3)\n",
    "print(\"Minimum value:\", min_method3)\n"
   ]
  },
  {
   "cell_type": "code",
   "execution_count": 49,
   "id": "7113e16c-727c-4b58-bea9-6b59ac9b5fa1",
   "metadata": {},
   "outputs": [
    {
     "name": "stdout",
     "output_type": "stream",
     "text": [
      "\n",
      "Method 4 Results:\n",
      "Maximum value: 9\n",
      "Minimum value: 1\n"
     ]
    }
   ],
   "source": [
    "# Flatten the 2D array and then find max and min\n",
    "flattened_arr = arr_2d.flatten()\n",
    "max_method4 = np.max(flattened_arr)\n",
    "min_method4 = np.min(flattened_arr)\n",
    "\n",
    "print(\"\\nMethod 4 Results:\")\n",
    "print(\"Maximum value:\", max_method4)\n",
    "print(\"Minimum value:\", min_method4)\n"
   ]
  },
  {
   "cell_type": "code",
   "execution_count": 50,
   "id": "7cd4b921-1bc0-42ea-97a1-da14a9efcdef",
   "metadata": {},
   "outputs": [
    {
     "name": "stdout",
     "output_type": "stream",
     "text": [
      "\n",
      "Method 5 Results:\n",
      "Maximum value (ignoring NaN): 9.0\n",
      "Minimum value (ignoring NaN): 1.0\n"
     ]
    }
   ],
   "source": [
    "# Example with NaN values\n",
    "arr_nan = np.array([[1, 2, np.nan],\n",
    "                    [4, 5, 6],\n",
    "                    [7, 8, 9]])\n",
    "\n",
    "max_method5 = np.nanmax(arr_nan)\n",
    "min_method5 = np.nanmin(arr_nan)\n",
    "\n",
    "print(\"\\nMethod 5 Results:\")\n",
    "print(\"Maximum value (ignoring NaN):\", max_method5)\n",
    "print(\"Minimum value (ignoring NaN):\", min_method5)\n"
   ]
  },
  {
   "cell_type": "markdown",
   "id": "6b4d9004-f71a-40b8-b9f0-9a17e34431e5",
   "metadata": {},
   "source": [
    "# Generate an array of 1000 random numbers from a normal distribution with a mean of 0 and a standard deviation of 1.\n"
   ]
  },
  {
   "cell_type": "code",
   "execution_count": 52,
   "id": "9912d7cf-ad96-461e-9f7a-e4c02bfbe62b",
   "metadata": {},
   "outputs": [
    {
     "name": "stdout",
     "output_type": "stream",
     "text": [
      "Method 1 Results:\n",
      "[ 2.58955966  0.47547622  0.17781396  0.50197016  0.05376488 -1.12097415\n",
      " -0.97004888 -0.63899793  0.7456651   0.30779211]\n"
     ]
    }
   ],
   "source": [
    "arr_method1 = np.random.normal(loc=0, scale=1, size=1000)\n",
    "\n",
    "print(\"Method 1 Results:\")\n",
    "print(arr_method1[:10])  # Print first 10 elements for demonstration\n"
   ]
  },
  {
   "cell_type": "code",
   "execution_count": 53,
   "id": "c31c2d3e-7a98-49d8-8097-3ae8e47d7d14",
   "metadata": {},
   "outputs": [
    {
     "name": "stdout",
     "output_type": "stream",
     "text": [
      "\n",
      "Method 2 Results:\n",
      "[-0.29402489 -0.77877899 -0.28483827  0.29421969  1.13480893  2.43712645\n",
      "  0.5216402   1.21088279 -0.97117873  1.14977456]\n"
     ]
    }
   ],
   "source": [
    "arr_method2 = np.random.randn(1000)\n",
    "\n",
    "print(\"\\nMethod 2 Results:\")\n",
    "print(arr_method2[:10])  # Print first 10 elements for demonstration\n"
   ]
  },
  {
   "cell_type": "code",
   "execution_count": 54,
   "id": "34737892-3d89-4b3c-a714-11512b1471b4",
   "metadata": {},
   "outputs": [
    {
     "name": "stdout",
     "output_type": "stream",
     "text": [
      "\n",
      "Method 3 Results:\n",
      "[ 0.18037078 -1.78024513  0.19682043  1.63008897 -0.81083985  0.42855585\n",
      " -0.27715944  0.86052716  0.83613785  2.3633256 ]\n"
     ]
    }
   ],
   "source": [
    "arr_method3 = np.random.standard_normal(1000)\n",
    "\n",
    "print(\"\\nMethod 3 Results:\")\n",
    "print(arr_method3[:10])  # Print first 10 elements for demonstration\n"
   ]
  },
  {
   "cell_type": "code",
   "execution_count": 55,
   "id": "a1d1c6f5-a747-4387-9288-09544160d3aa",
   "metadata": {},
   "outputs": [
    {
     "name": "stdout",
     "output_type": "stream",
     "text": [
      "\n",
      "Method 3 Results:\n",
      "[-0.36551806 -0.28401556  0.42297582 -0.33966437 -0.98775447  0.09610117\n",
      " -1.47671554  0.80058382  1.05567561 -0.05694731]\n"
     ]
    }
   ],
   "source": [
    "arr_method3 = np.random.standard_normal(1000)\n",
    "\n",
    "print(\"\\nMethod 3 Results:\")\n",
    "print(arr_method3[:10])  # Print first 10 elements for demonstration\n"
   ]
  },
  {
   "cell_type": "markdown",
   "id": "e6b52af7-bb10-4bcc-b689-a388ddfefb35",
   "metadata": {},
   "source": [
    "# Create a 2D array of shapes (5, 5) with random integers from a uniform distribution between 10 and 50.\n"
   ]
  },
  {
   "cell_type": "code",
   "execution_count": 57,
   "id": "2829db27-7667-4a11-ad6d-29aad11a0cf1",
   "metadata": {},
   "outputs": [
    {
     "name": "stdout",
     "output_type": "stream",
     "text": [
      "Method 1 Results:\n",
      "[[42 44 48 17 33]\n",
      " [19 38 46 19 25]\n",
      " [38 41 14 20 19]\n",
      " [49 24 22 43 19]\n",
      " [23 41 38 31 17]]\n"
     ]
    }
   ],
   "source": [
    "# Generate a 2D array of shape (5, 5) with random integers\n",
    "arr_method1 = np.random.randint(10, 51, size=(5, 5))\n",
    "\n",
    "print(\"Method 1 Results:\")\n",
    "print(arr_method1)\n"
   ]
  },
  {
   "cell_type": "code",
   "execution_count": 58,
   "id": "ef983aab-e820-480b-b548-3798643ab06e",
   "metadata": {},
   "outputs": [
    {
     "name": "stdout",
     "output_type": "stream",
     "text": [
      "\n",
      "Method 2 Results:\n",
      "[[40. 13. 40. 26. 14.]\n",
      " [24. 13. 33. 46. 35.]\n",
      " [27. 29. 11. 12. 47.]\n",
      " [50. 39. 50. 50. 24.]\n",
      " [47. 33. 46. 22. 37.]]\n"
     ]
    }
   ],
   "source": [
    "arr_method2 = np.round(np.random.uniform(10, 50, size=(5, 5)))\n",
    "\n",
    "print(\"\\nMethod 2 Results:\")\n",
    "print(arr_method2)\n"
   ]
  },
  {
   "cell_type": "code",
   "execution_count": 59,
   "id": "88a93861-b7f1-4163-97df-aff54179f5e2",
   "metadata": {},
   "outputs": [
    {
     "name": "stdout",
     "output_type": "stream",
     "text": [
      "\n",
      "Method 3 Results:\n",
      "[[43 13 36 29 32]\n",
      " [33 23 28 24 48]\n",
      " [30 35 21 45 47]\n",
      " [46 12 31 25 29]\n",
      " [39 43 41 28 33]]\n"
     ]
    }
   ],
   "source": [
    "arr_method3 = np.random.random(size=(5, 5)) * 40 + 10\n",
    "arr_method3 = arr_method3.astype(int)  # Convert to integers\n",
    "\n",
    "print(\"\\nMethod 3 Results:\")\n",
    "print(arr_method3)\n"
   ]
  },
  {
   "cell_type": "code",
   "execution_count": 60,
   "id": "b8e9471c-b0e1-4126-86be-ea12db1d3ca2",
   "metadata": {},
   "outputs": [
    {
     "name": "stdout",
     "output_type": "stream",
     "text": [
      "\n",
      "Method 4 Results:\n",
      "[[47 20 39 49 48]\n",
      " [39 37 50 13 21]\n",
      " [10 10 44 16 29]\n",
      " [20 21 39 44 45]\n",
      " [20 25 11 30 47]]\n"
     ]
    }
   ],
   "source": [
    "rng = np.random.default_rng()\n",
    "arr_method4 = rng.integers(10, 51, size=(5, 5))\n",
    "\n",
    "print(\"\\nMethod 4 Results:\")\n",
    "print(arr_method4)\n"
   ]
  },
  {
   "cell_type": "code",
   "execution_count": 61,
   "id": "a6cd4946-5eb2-4e0c-8718-c4873c037a91",
   "metadata": {},
   "outputs": [
    {
     "name": "stdout",
     "output_type": "stream",
     "text": [
      "\n",
      "Method 5 Results:\n",
      "[[42 50 10 33 18]\n",
      " [22 24 18 20 39]\n",
      " [31 18 18 19 31]\n",
      " [32 42 15 44 37]\n",
      " [33 30 38 40 24]]\n"
     ]
    }
   ],
   "source": [
    "import random\n",
    "\n",
    "arr_method5 = np.array([[random.randint(10, 50) for _ in range(5)] for _ in range(5)])\n",
    "\n",
    "print(\"\\nMethod 5 Results:\")\n",
    "print(arr_method5)\n"
   ]
  },
  {
   "cell_type": "markdown",
   "id": "4610fb77-0280-4df8-9515-2240ba033f9b",
   "metadata": {},
   "source": [
    "# Calculate the cumulative sum of a 1D array."
   ]
  },
  {
   "cell_type": "code",
   "execution_count": 62,
   "id": "b019f755-96bd-4900-baee-3694ba27a029",
   "metadata": {},
   "outputs": [
    {
     "name": "stdout",
     "output_type": "stream",
     "text": [
      "Method 1 Results:\n",
      "[ 1  3  6 10 15]\n"
     ]
    }
   ],
   "source": [
    "arr = np.array([1, 2, 3, 4, 5])\n",
    "\n",
    "# Calculate cumulative sum using np.cumsum()\n",
    "cumsum_method1 = np.cumsum(arr)\n",
    "\n",
    "print(\"Method 1 Results:\")\n",
    "print(cumsum_method1)\n"
   ]
  },
  {
   "cell_type": "code",
   "execution_count": 63,
   "id": "19c99033-3667-426b-bb7d-ed6c728dfd1c",
   "metadata": {},
   "outputs": [
    {
     "name": "stdout",
     "output_type": "stream",
     "text": [
      "\n",
      "Method 2 Results:\n",
      "[ 1  3  6 10 15]\n"
     ]
    }
   ],
   "source": [
    "cumsum_method2 = np.zeros_like(arr)\n",
    "cumsum_method2[0] = arr[0]\n",
    "for i in range(1, len(arr)):\n",
    "    cumsum_method2[i] = cumsum_method2[i - 1] + arr[i]\n",
    "\n",
    "print(\"\\nMethod 2 Results:\")\n",
    "print(cumsum_method2)\n"
   ]
  },
  {
   "cell_type": "code",
   "execution_count": 64,
   "id": "9e8241af-9978-41fd-9d8b-0c6d185eb378",
   "metadata": {},
   "outputs": [
    {
     "name": "stdout",
     "output_type": "stream",
     "text": [
      "\n",
      "Method 3 Results:\n",
      "[ 1  3  6 10 15]\n"
     ]
    }
   ],
   "source": [
    "cumsum_method3 = np.array([sum(arr[:i+1]) for i in range(len(arr))])\n",
    "\n",
    "print(\"\\nMethod 3 Results:\")\n",
    "print(cumsum_method3)\n"
   ]
  },
  {
   "cell_type": "code",
   "execution_count": 65,
   "id": "be307497-1a14-4d7e-a236-c01b5ad0e643",
   "metadata": {},
   "outputs": [
    {
     "name": "stdout",
     "output_type": "stream",
     "text": [
      "\n",
      "Method  4 Results:\n"
     ]
    }
   ],
   "source": [
    "import numpy as np\n",
    "arr = np.array([1, 2, 3, 4, 5])\n",
    "cumsum_method4 = np.add.accumulate(arr)\n",
    "\n",
    "print(\"\\nMethod  4 Results:\")\n"
   ]
  },
  {
   "cell_type": "markdown",
   "id": "52cf1b77-dea8-4ebc-b023-ca9fa91c56a9",
   "metadata": {},
   "source": [
    "# Compute the correlation coefficient matrix of a 2D array.\n"
   ]
  },
  {
   "cell_type": "code",
   "execution_count": 67,
   "id": "f7cba9c2-be09-4af7-9f04-fc55f467ee5c",
   "metadata": {},
   "outputs": [
    {
     "name": "stdout",
     "output_type": "stream",
     "text": [
      "Method 1 Results:\n",
      "[[1. 1. 1.]\n",
      " [1. 1. 1.]\n",
      " [1. 1. 1.]]\n"
     ]
    }
   ],
   "source": [
    "arr = np.array([[1, 2, 3],\n",
    "                [4, 5, 6],\n",
    "                [7, 8, 9]])\n",
    "\n",
    "# Calculate correlation coefficient matrix using np.corrcoef()\n",
    "corr_matrix_method1 = np.corrcoef(arr, rowvar=False)\n",
    "\n",
    "print(\"Method 1 Results:\")\n",
    "print(corr_matrix_method1)\n"
   ]
  },
  {
   "cell_type": "code",
   "execution_count": 68,
   "id": "fe8399b4-a798-483d-9c78-e5c1acc648ed",
   "metadata": {},
   "outputs": [
    {
     "name": "stdout",
     "output_type": "stream",
     "text": [
      "\n",
      "Method 2 Results:\n",
      "[[1. 1. 1.]\n",
      " [1. 1. 1.]\n",
      " [1. 1. 1.]]\n"
     ]
    }
   ],
   "source": [
    "corr_matrix_method2 = np.corrcoef(arr.T)\n",
    "\n",
    "print(\"\\nMethod 2 Results:\")\n",
    "print(corr_matrix_method2)\n"
   ]
  },
  {
   "cell_type": "code",
   "execution_count": 69,
   "id": "152e658b-489a-4cf6-ae9e-a73ae8e4ef86",
   "metadata": {},
   "outputs": [
    {
     "name": "stdout",
     "output_type": "stream",
     "text": [
      "\n",
      "Method 3 Results:\n",
      "[[1. 1. 1.]\n",
      " [1. 1. 1.]\n",
      " [1. 1. 1.]]\n"
     ]
    }
   ],
   "source": [
    "import pandas as pd\n",
    "\n",
    "df = pd.DataFrame(arr)\n",
    "corr_matrix_method3 = df.corr().values\n",
    "\n",
    "print(\"\\nMethod 3 Results:\")\n",
    "print(corr_matrix_method3)\n"
   ]
  },
  {
   "cell_type": "code",
   "execution_count": 70,
   "id": "85dcfd7f-3b17-4675-8d19-659e5ad42b35",
   "metadata": {},
   "outputs": [
    {
     "name": "stdout",
     "output_type": "stream",
     "text": [
      "\n",
      "Method 4 Results:\n",
      "[[1. 1. 1.]\n",
      " [1. 1. 1.]\n",
      " [1. 1. 1.]]\n"
     ]
    }
   ],
   "source": [
    "from scipy.stats import pearsonr\n",
    "\n",
    "n_cols = arr.shape[1]\n",
    "corr_matrix_method4 = np.zeros((n_cols, n_cols))\n",
    "\n",
    "for i in range(n_cols):\n",
    "    for j in range(n_cols):\n",
    "        corr_matrix_method4[i, j], _ = pearsonr(arr[:, i], arr[:, j])\n",
    "\n",
    "print(\"\\nMethod 4 Results:\")\n",
    "print(corr_matrix_method4)\n"
   ]
  },
  {
   "cell_type": "code",
   "execution_count": 73,
   "id": "4f8be0c4-3d25-4b60-9403-06d20bf03ed4",
   "metadata": {},
   "outputs": [
    {
     "name": "stdout",
     "output_type": "stream",
     "text": [
      "Method 5 Results:\n",
      "[[1. 1. 1.]\n",
      " [1. 1. 1.]\n",
      " [1. 1. 1.]]\n"
     ]
    }
   ],
   "source": [
    "corr_matrix_method5 = np.corrcoef(arr, rowvar=False)\n",
    "\n",
    "print(\"Method 5 Results:\")\n",
    "print(corr_matrix_method5)"
   ]
  },
  {
   "cell_type": "markdown",
   "id": "91b8481b-cd5c-407d-9d6b-258594c4c253",
   "metadata": {},
   "source": [
    "# Simulate rolling a six-sided die 1000 times and count the frequency of each outcome.\n"
   ]
  },
  {
   "cell_type": "code",
   "execution_count": 74,
   "id": "59203dec-1655-4221-9b35-2e105da60a68",
   "metadata": {},
   "outputs": [
    {
     "name": "stdout",
     "output_type": "stream",
     "text": [
      "Method 1 Results:\n",
      "Outcome 1: 162\n",
      "Outcome 2: 179\n",
      "Outcome 3: 171\n",
      "Outcome 4: 161\n",
      "Outcome 5: 162\n",
      "Outcome 6: 165\n"
     ]
    }
   ],
   "source": [
    "# Simulate rolling a six-sided die 1000 times\n",
    "rolls_method1 = np.random.randint(1, 7, size=1000)\n",
    "\n",
    "# Count the frequency of each outcome using np.bincount()\n",
    "freq_method1 = np.bincount(rolls_method1)[1:]\n",
    "\n",
    "print(\"Method 1 Results:\")\n",
    "for i, freq in enumerate(freq_method1, start=1):\n",
    "    print(f\"Outcome {i}: {freq}\")\n"
   ]
  },
  {
   "cell_type": "code",
   "execution_count": 75,
   "id": "508b3db7-0719-40bf-b4d3-92f06f594c1b",
   "metadata": {},
   "outputs": [
    {
     "name": "stdout",
     "output_type": "stream",
     "text": [
      "\n",
      "Method 2 Results:\n",
      "Outcome 1: 188\n",
      "Outcome 2: 172\n",
      "Outcome 3: 174\n",
      "Outcome 4: 121\n",
      "Outcome 5: 184\n",
      "Outcome 6: 161\n"
     ]
    }
   ],
   "source": [
    "import random\n",
    "from collections import Counter\n",
    "\n",
    "# Simulate rolling a six-sided die 1000 times\n",
    "rolls_method2 = [random.randint(1, 6) for _ in range(1000)]\n",
    "\n",
    "# Count the frequency of each outcome using Counter\n",
    "freq_method2 = Counter(rolls_method2)\n",
    "\n",
    "print(\"\\nMethod 2 Results:\")\n",
    "for i in range(1, 7):\n",
    "    print(f\"Outcome {i}: {freq_method2.get(i, 0)}\")\n"
   ]
  },
  {
   "cell_type": "code",
   "execution_count": 76,
   "id": "29998861-4820-4e75-b66c-cf03ad636eba",
   "metadata": {},
   "outputs": [
    {
     "name": "stdout",
     "output_type": "stream",
     "text": [
      "\n",
      "Method 3 Results:\n",
      "Outcome 1: 157\n",
      "Outcome 2: 156\n",
      "Outcome 3: 188\n",
      "Outcome 4: 171\n",
      "Outcome 5: 167\n",
      "Outcome 6: 161\n"
     ]
    }
   ],
   "source": [
    "# Simulate rolling a six-sided die 1000 times\n",
    "rolls_method3 = np.random.choice(np.arange(1, 7), size=1000)\n",
    "\n",
    "# Count the frequency of each outcome using np.unique()\n",
    "outcomes, freq_method3 = np.unique(rolls_method3, return_counts=True)\n",
    "\n",
    "print(\"\\nMethod 3 Results:\")\n",
    "for i, freq in zip(outcomes, freq_method3):\n",
    "    print(f\"Outcome {i}: {freq}\")\n"
   ]
  },
  {
   "cell_type": "code",
   "execution_count": 77,
   "id": "9c8de495-2d04-425c-a3e2-13271f4f96ca",
   "metadata": {},
   "outputs": [
    {
     "name": "stdout",
     "output_type": "stream",
     "text": [
      "\n",
      "Method 4 Results:\n",
      "Outcome 1: 161\n",
      "Outcome 2: 197\n",
      "Outcome 3: 135\n",
      "Outcome 4: 179\n",
      "Outcome 5: 166\n",
      "Outcome 6: 162\n"
     ]
    }
   ],
   "source": [
    "# Simulate rolling a six-sided die 1000 times\n",
    "rolls_method4 = np.random.multinomial(1000, [1/6]*6)\n",
    "\n",
    "print(\"\\nMethod 4 Results:\")\n",
    "for i, freq in enumerate(rolls_method4, start=1):\n",
    "    print(f\"Outcome {i}: {freq}\")\n"
   ]
  },
  {
   "cell_type": "code",
   "execution_count": 78,
   "id": "740cc5c0-a008-441f-8e6e-b628fae78c18",
   "metadata": {},
   "outputs": [
    {
     "name": "stdout",
     "output_type": "stream",
     "text": [
      "\n",
      "Method 5 Results:\n",
      "Outcome 1: 177\n",
      "Outcome 2: 144\n",
      "Outcome 3: 171\n",
      "Outcome 4: 153\n",
      "Outcome 5: 178\n",
      "Outcome 6: 177\n"
     ]
    }
   ],
   "source": [
    "import pandas as pd\n",
    "\n",
    "# Simulate rolling a six-sided die 1000 times\n",
    "rolls_method5 = np.random.randint(1, 7, size=1000)\n",
    "\n",
    "# Create a Pandas DataFrame and use value_counts()\n",
    "df_method5 = pd.DataFrame(rolls_method5, columns=['Outcome'])\n",
    "freq_method5 = df_method5['Outcome'].value_counts().sort_index()\n",
    "\n",
    "print(\"\\nMethod 5 Results:\")\n",
    "for i, freq in freq_method5.items():\n",
    "    print(f\"Outcome {i}: {freq}\")\n"
   ]
  },
  {
   "cell_type": "code",
   "execution_count": null,
   "id": "224c3b86-e5ff-452c-a196-f0f3b047d0e6",
   "metadata": {},
   "outputs": [],
   "source": []
  }
 ],
 "metadata": {
  "kernelspec": {
   "display_name": "Python 3 (ipykernel)",
   "language": "python",
   "name": "python3"
  },
  "language_info": {
   "codemirror_mode": {
    "name": "ipython",
    "version": 3
   },
   "file_extension": ".py",
   "mimetype": "text/x-python",
   "name": "python",
   "nbconvert_exporter": "python",
   "pygments_lexer": "ipython3",
   "version": "3.11.7"
  }
 },
 "nbformat": 4,
 "nbformat_minor": 5
}
