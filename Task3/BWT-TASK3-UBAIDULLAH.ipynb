{
 "cells": [
  {
   "cell_type": "markdown",
   "id": "fada6ed3-8e24-4581-afcd-6d02b5b139ad",
   "metadata": {},
   "source": [
    "# **UbaidUllah**\n",
    "\n",
    "## **BYTEWISE FELLOWSHIP**\n",
    "\n",
    "### **Task 3: Set up Jupiter Notebook, explore it and see how you can add fancy heading to it**\n",
    "\n",
    "---\n",
    "\n",
    "## **Introduction**\n",
    "In this task, we will get familiar with the three types of cells in Jupyter Notebook: **Code**, **Markdown**, and **Raw**. We'll also explore advanced features and functionalities.\n",
    "\n",
    "---\n",
    "\n",
    "## **1. Code**\n",
    "\n",
    "Code cells are the primary cells for writing and running code in Jupyter Notebook. When executed, the code runs in the kernel and the output is displayed directly below the cell.\n",
    "### Coding Rules\n",
    " \n",
    "- Follow Python's PEP 8 style guidelines.\n",
    "- Use meaningful variable and function names.\n",
    "- Comment your code to explain decisions.\n",
    "- Handle errors using try-except blocks.\n",
    "- Avoid hardcoding values; use constants.\n",
    "- Modularize code into functions or classes.\n",
    "- Document functions and classes with docstrings.\n",
    "- Test code thoroughly under different scenarios.\n",
    "- Use version control (e.g., Git) for tracking changes.\n",
    "\n"
   ]
  },
  {
   "cell_type": "code",
   "execution_count": 8,
   "id": "90f70dd9-c5d6-4793-bd5c-a02c1d83b9d3",
   "metadata": {},
   "outputs": [
    {
     "name": "stdout",
     "output_type": "stream",
     "text": [
      "Integer: 10\n",
      "Float: 3.14\n",
      "Complex Number: (1+2j)\n",
      "String: Ubaid Ullah\n",
      "List: ['apple', 'banana', 'cherry']\n",
      "Tuple: ('red', 'green', 'blue')\n",
      "Dictionary: {'name': 'Tehreem', 'age': 21, 'course': 'Data Science'}\n",
      "Set: {1, 2, 3, 4, 5}\n",
      "Boolean: True\n"
     ]
    }
   ],
   "source": [
    "# Various Data Types\n",
    "a = 10\n",
    "print(\"Integer:\", a)\n",
    "b = 3.14\n",
    "print(\"Float:\", b)\n",
    "c = 1 + 2j\n",
    "print(\"Complex Number:\", c)\n",
    "name = \"Ubaid Ullah\"\n",
    "print(\"String:\", name)\n",
    "fruits = [\"apple\", \"banana\", \"cherry\"]\n",
    "print(\"List:\", fruits)\n",
    "colors = (\"red\", \"green\", \"blue\")\n",
    "print(\"Tuple:\", colors)\n",
    "student = {\"name\": \"Tehreem\", \"age\": 21, \"course\": \"Data Science\"}\n",
    "print(\"Dictionary:\", student)\n",
    "unique_numbers = {1, 2, 3, 4, 5}\n",
    "print(\"Set:\", unique_numbers)\n",
    "is_student = True\n",
    "print(\"Boolean:\", is_student)"
   ]
  },
  {
   "cell_type": "code",
   "execution_count": 9,
   "id": "59cbca76-dd17-4fd3-9003-608bfc7a91cb",
   "metadata": {},
   "outputs": [
    {
     "name": "stdout",
     "output_type": "stream",
     "text": [
      "The area of a circle with radius 5.0 is: 78.54\n"
     ]
    }
   ],
   "source": [
    "# Import the math module for mathematical operations\n",
    "import math  \n",
    "\n",
    "# Define constants\n",
    "MAX_RETRIES = 3\n",
    "\n",
    "# Function to calculate the area of a circle given its radius\n",
    "def calculate_circle_area(radius):\n",
    "    \"\"\"\n",
    "    Calculate the area of a circle.\n",
    "\n",
    "    Args:\n",
    "        radius (float): The radius of the circle.\n",
    "\n",
    "    Returns:\n",
    "        float: The area of the circle.\n",
    "    \"\"\"\n",
    "    area = math.pi * radius ** 2  # Formula \n",
    "    return area\n",
    "\n",
    "\n",
    "radius = 5.0  # Example radius\n",
    "\n",
    "# Calculate area of the circle using the function\n",
    "area = calculate_circle_area(radius)\n",
    "\n",
    "# Print the calculated area\n",
    "print(f\"The area of a circle with radius {radius} is: {area:.2f}\")\n"
   ]
  },
  {
   "cell_type": "markdown",
   "id": "22a027a2-dfb9-45e7-a4ec-7878e2aa667c",
   "metadata": {},
   "source": [
    "## **2. MARKDOWN**\n",
    "\n",
    "Markdown is a popular markup language that is the superset of HTML. Jupyter Notebook supports Markdown, allowing for easy formatting of text and integration with code and other content.\n",
    "\n",
    "# Adding Headers, Subheadings, and Sub-subheadings:\n",
    "\n",
    "## Heading 1\n",
    "- Subheading 1.1\n",
    "  - Sub-subheading 1.1.1\n",
    "\n",
    "## Heading 2\n",
    "- Subheading 2.1\n",
    "  - Sub-subheading 2.1.1\n",
    "  - Sub-subheading 2.1.2\n",
    "- Subheading 2.2\n",
    "  - Sub-subheading 2.2.1\n",
    "\n",
    "## Heading 3\n",
    "- Subheading 3.1\n",
    "  - Sub-subheading 3.1.1\n",
    "  - Sub-subheading 3.1.2\n",
    "- Subheading 3.2\n",
    "  - Sub-subheading 3.2.1\n",
    "\n",
    "## Heading 4\n",
    "- Subheading 4.1\n",
    "  - Sub-subheading 4.1.1\n",
    "  - Sub-subheading 4.1.2\n",
    "- Subheading 4.2\n",
    "  - Sub-subheading 4.2.1\n",
    " \n"
   ]
  },
  {
   "cell_type": "markdown",
   "id": "c5d53ddd-40df-49c4-9333-188cddab98c8",
   "metadata": {},
   "source": [
    "## Text Formatting\r\n",
    "\r\n",
    "Markdown supports various text formatting options:\r\n",
    "- **Bold**: Use double asterisks (`**bold text**`) or double underscores (`__bold text__`).\r\n",
    "- *Italic*: Use single asterisks (`*italic text*`) or single underscores (`_italic text_`).\r\n",
    "- ~~Strikethrough~~: Use double tildes (`~~strikethrough text~~`).\r\n",
    "- `Inline Code`: Use backticks (`inline code`).\r\n",
    "\r\n",
    "## Ordered List\r\n",
    "1. Item 1\r\n",
    "2. Item 2\r\n",
    "\r\n",
    "## Unordered List\r\n",
    "- Bullet Point 1\r\n",
    "- Bullet Point 2\r\n",
    "  - Sub-bullet Point 2.1\r\n",
    "  - Sub-bullet Point 2.2\r\n",
    "\r\n",
    "## Links and Images\r\n",
    "\r\n",
    "### Inserting an Image with a Link\r\n",
    "[![Python Tools for Developers](https://www.turing.com/kb/wp-content/uploads/2023/03/Top-10-Python-Tools-for-Developers-Featured-Image.png)](https://www.turing.com/kb/top-10-python-tools-for-developers)\r\n",
    "\r\n",
    "### Inserting a Website Link\r\n",
    "[Python Programming at W3Schools](https://www.w3schools.com/python/)\r\n"
   ]
  },
  {
   "cell_type": "markdown",
   "id": "e4e21a44-7537-49c7-ac3d-4ca629a46c67",
   "metadata": {},
   "source": [
    "# Cretion of table \n",
    "\n",
    "\n",
    "\n",
    "\n",
    "\n",
    "## Table\n",
    "\n",
    "| Name         | Position       | Salary ($) |\n",
    "|--------------|----------------|------------|\n",
    "| John Doe     | Developer      | 50000      |\n",
    "| Jane Smith   | Designer       | 45000      |\n",
    "| Michael Brown| Data Analyst   | 60000      |\n"
   ]
  },
  {
   "cell_type": "markdown",
   "id": "c361c67c-803f-4b12-8996-cbe0272aed92",
   "metadata": {},
   "source": [
    "# Mathematical Formulas\n",
    "\n",
    "## Introduction\n",
    "\n",
    "This section demonstrates LaTeX equations for mathematical expressions.\n",
    "\n",
    "## Equations\n",
    "\n",
    "### Equation 1: Quadratic Formula\n",
    "\n",
    "The quadratic formula is given by:\n",
    "\n",
    "$$\n",
    "x = \\frac{{-b \\pm \\sqrt{{b^2 - 4ac}}}}{{2a}}\n",
    "$$\n",
    "\n",
    "### Equation 2: Pythagorean Theorem\n",
    "\n",
    "The Pythagorean theorem states:\n",
    "\n",
    "$$\n",
    "c = \\sqrt{{a^2 + b^2}}\n",
    "$$\n"
   ]
  },
  {
   "cell_type": "markdown",
   "id": "159f22a3-4640-42e6-a680-368e0ea03b7e",
   "metadata": {},
   "source": [
    "## Blockquote\n",
    "\n",
    "> \"The greatest glory in living lies not in never falling, but in rising every time we fall.\"\n",
    ">\n",
    "> \\- Nelson Mandela\n",
    "\n",
    "### Explanation:\n",
    "- **Heading 1 (`# Blockquotes Example`)**: Introduces the main topic of the document.\n",
    "- **Heading 2 (`## Introduction`)**: Provides a subsection that explains the purpose of blockquotes.\n",
    "- **Blockquote (`> \"The greatest glory ... we fall.\"`)**: Inserts a blockquote using the `>` symbol followed by the quoted text and attribution.\n",
    "\n",
    "### Result:\n",
    "When rendered in Markdown, the document will display as:\n",
    "\n",
    "---\n",
    "\n",
    "# Blockquotes Example\n",
    "\n",
    "## Introduction\n",
    "\n",
    "Blockquotes are used to emphasize quoted text or citations from external sources.\n",
    "\n",
    "## Blockquote\n",
    "\n",
    "> \"The greatest glory in living lies not in never falling, but in rising every time we fall.\"\n",
    ">\n",
    "> \\- Nelson Mandela\n",
    "\n",
    "---\n",
    "\n",
    "Blockquotes are commonly used to provide context, cite sources, or emphasize important statements within Markdown documents. Adjust the quoted text and attribution as needed for your specific content.\n"
   ]
  },
  {
   "cell_type": "markdown",
   "id": "654f66a1-4a85-4c76-a338-9710c8352299",
   "metadata": {},
   "source": [
    "# Endnotes and Citations \n",
    "\n",
    "\n",
    "\n",
    "## Content\n",
    "\n",
    "Here is some text with a footnote[^1] and a citation[^2].\n",
    "\n",
    "[^1]: This is a footnote explaining additional information.\n",
    "\n",
    "[^2]: Author, \"Title of the Source,\" Publisher, Year.\n",
    "\n",
    "\n"
   ]
  },
  {
   "cell_type": "markdown",
   "id": "887bc981-0895-46bd-a5b6-754f2e2692f1",
   "metadata": {},
   "source": [
    "# Task List Example\n",
    "\n",
    "\n",
    "- [x] Task 1: Complete Markdown tasks\n",
    "- [ ] Task 2: Review advanced features\n",
    "- [ ] Task 3: Explore additional Markdown capabilities\n"
   ]
  },
  {
   "cell_type": "markdown",
   "id": "0d2d009a-69a2-4e7a-b9e5-2ba108b4c0a1",
   "metadata": {},
   "source": [
    "# Table of Contents \n",
    "\n",
    "## Table of Contents\n",
    "\n",
    "1. [Introduction](#introduction)\n",
    "2. [Features](#features)\n",
    "   1. [Advanced Markdown Features](#advanced-markdown-features)\n",
    "   2. [More Advanced Features](#more-advanced-features)\n",
    "3. [Examples](#examples)\n",
    "4. [Conclusion](#conclusion)\n"
   ]
  },
  {
   "cell_type": "markdown",
   "id": "03549c80-227a-43d8-8442-a48733a9ec07",
   "metadata": {},
   "source": [
    "### 3. Raw Cell\n",
    "\n",
    "A raw cell in Jupyter Notebook is a type of cell that allows you to input content in various formats without it being executed as code or processed as Markdown. Raw cells are particularly useful for displaying content that you want to appear exactly as entered, such as raw HTML, LaTeX equations, scripts, or other formats that should not be interpreted by the notebook's kernel.\n",
    "\n",
    "Raw cells are different from Markdown cells in that they do not render Markdown syntax or execute code. Instead, they display the content directly as it is written, maintaining its original formatting and structure.\n",
    "\n",
    "Next, we'll proceed to provide examples of different types of content that can be included in a raw cell.\n"
   ]
  },
  {
   "cell_type": "raw",
   "id": "cff2380d-32fc-41c7-80eb-2fda81acdfe7",
   "metadata": {},
   "source": [
    "<div style=\"background-color: lightblue; padding: 10px;\">\n",
    "    <h2>This is a Raw HTML Example</h2>\n",
    "    <p>You can include HTML content here.</p>\n",
    "</div>\n"
   ]
  },
  {
   "cell_type": "raw",
   "id": "9c7b5c32-27ca-416d-b54d-406ae4b17f5a",
   "metadata": {},
   "source": [
    "$$ E = mc^2 $$\n"
   ]
  },
  {
   "cell_type": "raw",
   "id": "337effc0-f68d-461f-864d-5560cc6768b1",
   "metadata": {},
   "source": [
    "<script>\n",
    "    function greet() {\n",
    "        alert(\"Hello, Jupyter Notebook!\");\n",
    "    }\n",
    "    greet();\n",
    "</script>\n"
   ]
  },
  {
   "cell_type": "raw",
   "id": "e661f328-5105-49a5-aff7-1ff17337ca0a",
   "metadata": {},
   "source": [
    "<img src=\"https://example.com/image.jpg\" alt=\"Image\" width=\"400\">\n"
   ]
  }
 ],
 "metadata": {
  "kernelspec": {
   "display_name": "Python 3 (ipykernel)",
   "language": "python",
   "name": "python3"
  },
  "language_info": {
   "codemirror_mode": {
    "name": "ipython",
    "version": 3
   },
   "file_extension": ".py",
   "mimetype": "text/x-python",
   "name": "python",
   "nbconvert_exporter": "python",
   "pygments_lexer": "ipython3",
   "version": "3.11.7"
  }
 },
 "nbformat": 4,
 "nbformat_minor": 5
}
