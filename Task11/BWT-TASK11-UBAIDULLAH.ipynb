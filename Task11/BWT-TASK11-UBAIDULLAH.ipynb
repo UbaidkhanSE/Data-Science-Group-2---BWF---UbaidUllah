{
 "cells": [
  {
   "cell_type": "markdown",
   "id": "3a7c2c00-aa05-4f30-8ffe-a887716699fc",
   "metadata": {},
   "source": [
    "# Indexing and Slicing"
   ]
  },
  {
   "cell_type": "markdown",
   "id": "5c6329e9-8d7b-4b26-9bbd-7a0a8396cf3e",
   "metadata": {},
   "source": [
    "## Example1: Given a 2D array of shape (6, 6), extract a 2x2 sub-array starting from the element at position (1, 1).\n"
   ]
  },
  {
   "cell_type": "code",
   "execution_count": 1,
   "id": "98a9e8af-d262-4a8f-8299-26ad2ab928e9",
   "metadata": {},
   "outputs": [
    {
     "name": "stdout",
     "output_type": "stream",
     "text": [
      "Method 1:\n",
      "[[ 7  8]\n",
      " [13 14]]\n"
     ]
    }
   ],
   "source": [
    "import numpy as np\n",
    "\n",
    "\n",
    "array_2d = np.array([\n",
    "    [ 0,  1,  2,  3,  4,  5],\n",
    "    [ 6,  7,  8,  9, 10, 11],\n",
    "    [12, 13, 14, 15, 16, 17],\n",
    "    [18, 19, 20, 21, 22, 23],\n",
    "    [24, 25, 26, 27, 28, 29],\n",
    "    [30, 31, 32, 33, 34, 35]\n",
    "])\n",
    "\n",
    "sub_array_method1 = array_2d[1:3, 1:3]\n",
    "\n",
    "print(\"Method 1:\")\n",
    "print(sub_array_method1)\n"
   ]
  },
  {
   "cell_type": "code",
   "execution_count": 2,
   "id": "74ca8b01-24db-4a95-b668-c9f8a3b9f23f",
   "metadata": {},
   "outputs": [
    {
     "name": "stdout",
     "output_type": "stream",
     "text": [
      "Method 2:\n",
      "[[ 7  8]\n",
      " [13 14]]\n"
     ]
    }
   ],
   "source": [
    "sub_array_method2 = np.array([row[1:3] for row in array_2d[1:3]])\n",
    "\n",
    "print(\"Method 2:\")\n",
    "print(sub_array_method2)\n"
   ]
  },
  {
   "cell_type": "code",
   "execution_count": 3,
   "id": "0c189d56-0607-424a-995a-5b9ef7b579a2",
   "metadata": {},
   "outputs": [
    {
     "name": "stdout",
     "output_type": "stream",
     "text": [
      "Method 3:\n",
      "[[ 7  8]\n",
      " [13 14]]\n"
     ]
    }
   ],
   "source": [
    "sub_array_method3 = np.zeros((2, 2), dtype=array_2d.dtype)\n",
    "for i in range(2):\n",
    "    for j in range(2):\n",
    "        sub_array_method3[i, j] = array_2d[i + 1, j + 1]\n",
    "\n",
    "print(\"Method 3:\")\n",
    "print(sub_array_method3)\n"
   ]
  },
  {
   "cell_type": "code",
   "execution_count": 4,
   "id": "03354c80-7e54-4e4f-b2b5-03678ac91a88",
   "metadata": {},
   "outputs": [
    {
     "name": "stdout",
     "output_type": "stream",
     "text": [
      "Method 4:\n",
      "[[ 7  8]\n",
      " [13 14]]\n"
     ]
    }
   ],
   "source": [
    "sub_array_method4 = np.empty((2, 2), dtype=array_2d.dtype)\n",
    "sub_array_method4[0, 0] = array_2d[1, 1]\n",
    "sub_array_method4[0, 1] = array_2d[1, 2]\n",
    "sub_array_method4[1, 0] = array_2d[2, 1]\n",
    "sub_array_method4[1, 1] = array_2d[2, 2]\n",
    "\n",
    "print(\"Method 4:\")\n",
    "print(sub_array_method4)\n"
   ]
  },
  {
   "cell_type": "code",
   "execution_count": 5,
   "id": "cfc3f14a-f445-4d8a-acd1-9731d17a7be4",
   "metadata": {},
   "outputs": [
    {
     "name": "stdout",
     "output_type": "stream",
     "text": [
      "Method 5:\n",
      "[[ 7  8]\n",
      " [13 14]]\n"
     ]
    }
   ],
   "source": [
    "rows = np.array([1, 2])\n",
    "cols = np.array([1, 2])\n",
    "sub_array_method5 = array_2d[rows[:, np.newaxis], cols]\n",
    "\n",
    "print(\"Method 5:\")\n",
    "print(sub_array_method5)\n"
   ]
  },
  {
   "cell_type": "markdown",
   "id": "4ac1aa45-866b-458b-9e78-0f1bb58ceba4",
   "metadata": {},
   "source": [
    "## Example2: From a 3D array of shape (3, 2, 1), extract all elements in the first two rows and all columns of the second slice along the third axis.\n"
   ]
  },
  {
   "cell_type": "code",
   "execution_count": 6,
   "id": "7af2eb3d-2d72-491c-860f-848d6c31b2bf",
   "metadata": {},
   "outputs": [
    {
     "name": "stdout",
     "output_type": "stream",
     "text": [
      "Method 1:\n",
      "[[1 2]\n",
      " [3 4]]\n"
     ]
    }
   ],
   "source": [
    "array_3d = np.array([\n",
    "    [[1], [2]],\n",
    "    [[3], [4]],\n",
    "    [[5], [6]]\n",
    "])\n",
    "sub_array_method1 = array_3d[:2, :, 0]\n",
    "\n",
    "print(\"Method 1:\")\n",
    "print(sub_array_method1)\n"
   ]
  },
  {
   "cell_type": "code",
   "execution_count": 7,
   "id": "600591da-100e-4f03-9059-c9c1bf699aea",
   "metadata": {},
   "outputs": [
    {
     "name": "stdout",
     "output_type": "stream",
     "text": [
      "Method 2:\n",
      "[[1 2]\n",
      " [3 4]]\n"
     ]
    }
   ],
   "source": [
    "sub_array_method2 = np.array([array_3d[i, :, 0] for i in range(2)])\n",
    "\n",
    "print(\"Method 2:\")\n",
    "print(sub_array_method2)\n"
   ]
  },
  {
   "cell_type": "code",
   "execution_count": 8,
   "id": "442c4e8b-6fae-40ca-8dea-6d13510901bd",
   "metadata": {},
   "outputs": [
    {
     "name": "stdout",
     "output_type": "stream",
     "text": [
      "Method 3:\n",
      "[[1 2]\n",
      " [3 4]]\n"
     ]
    }
   ],
   "source": [
    "indices = np.ix_([0, 1], np.arange(2), [0])\n",
    "sub_array_method3 = array_3d[indices]\n",
    "\n",
    "print(\"Method 3:\")\n",
    "print(sub_array_method3[:, :, 0])\n"
   ]
  },
  {
   "cell_type": "code",
   "execution_count": 9,
   "id": "819638e9-61f2-41f5-abe2-b749f318d29c",
   "metadata": {},
   "outputs": [
    {
     "name": "stdout",
     "output_type": "stream",
     "text": [
      "Method 4:\n",
      "[[1 2]\n",
      " [3 4]]\n"
     ]
    }
   ],
   "source": [
    "reshaped_array = array_3d.reshape(3, 2)  # reshape to (3, 2)\n",
    "sub_array_method4 = reshaped_array[:2, :]\n",
    "\n",
    "print(\"Method 4:\")\n",
    "print(sub_array_method4)\n"
   ]
  },
  {
   "cell_type": "code",
   "execution_count": 10,
   "id": "191cbb05-9f4f-4c1b-9151-4696ee7e5d71",
   "metadata": {},
   "outputs": [
    {
     "name": "stdout",
     "output_type": "stream",
     "text": [
      "Method 5:\n",
      "[[1 2]\n",
      " [3 4]]\n"
     ]
    }
   ],
   "source": [
    "transposed_array = np.transpose(array_3d, (0, 2, 1))  # transpose to (3, 1, 2)\n",
    "sub_array_method5 = transposed_array[:2, 0, :]\n",
    "\n",
    "print(\"Method 5:\")\n",
    "print(sub_array_method5)\n"
   ]
  },
  {
   "cell_type": "markdown",
   "id": "27d1dd70-d2b2-4eec-bd9f-f805d2ab7398",
   "metadata": {},
   "source": [
    "## Example3: Given an array of integers, use fancy indexing to extract elements at positions [1, 3, 4, 6].\n"
   ]
  },
  {
   "cell_type": "code",
   "execution_count": 11,
   "id": "3e4f64b6-822e-4805-b99f-c2a5641230af",
   "metadata": {},
   "outputs": [
    {
     "name": "stdout",
     "output_type": "stream",
     "text": [
      "Method 1:\n",
      "Extracted elements: [20 40 50 70]\n"
     ]
    }
   ],
   "source": [
    "arr = np.array([10, 20, 30, 40, 50, 60, 70])\n",
    "extracted_method1 = arr[[1, 3, 4, 6]]\n",
    "print(\"Method 1:\")\n",
    "print(\"Extracted elements:\", extracted_method1)\n"
   ]
  },
  {
   "cell_type": "code",
   "execution_count": 13,
   "id": "497d5131-7d5c-4605-95e1-7d3a68fdff59",
   "metadata": {},
   "outputs": [
    {
     "name": "stdout",
     "output_type": "stream",
     "text": [
      "Method 2:\n",
      "Extracted elements: [20 40 50 70]\n"
     ]
    }
   ],
   "source": [
    "extracted_method2 = np.take(arr, [1, 3, 4, 6])\n",
    "\n",
    "print(\"Method 2:\")\n",
    "print(\"Extracted elements:\", extracted_method2)\n"
   ]
  },
  {
   "cell_type": "code",
   "execution_count": 14,
   "id": "65b4aaf3-5b8b-410b-b22a-3e272398d96d",
   "metadata": {},
   "outputs": [
    {
     "name": "stdout",
     "output_type": "stream",
     "text": [
      "Method 3:\n",
      "Extracted elements: [20 40 50 70]\n"
     ]
    }
   ],
   "source": [
    "indices = np.array([False, True, False, True, True, False, True])\n",
    "extracted_method3 = arr[indices]\n",
    "\n",
    "print(\"Method 3:\")\n",
    "print(\"Extracted elements:\", extracted_method3)\n"
   ]
  },
  {
   "cell_type": "code",
   "execution_count": 15,
   "id": "e57ace4e-2471-4f32-a24d-a7135a55bb2a",
   "metadata": {},
   "outputs": [
    {
     "name": "stdout",
     "output_type": "stream",
     "text": [
      "Method 4:\n",
      "Extracted elements: [20 40 50 70]\n"
     ]
    }
   ],
   "source": [
    "indices = [1, 3, 4, 6]\n",
    "extracted_method4 = arr[np.ix_(indices)]\n",
    "\n",
    "print(\"Method 4:\")\n",
    "print(\"Extracted elements:\", extracted_method4)\n"
   ]
  },
  {
   "cell_type": "code",
   "execution_count": 16,
   "id": "d3fc0e59-0997-4504-917b-f70f86fd2e36",
   "metadata": {},
   "outputs": [
    {
     "name": "stdout",
     "output_type": "stream",
     "text": [
      "Method 5:\n",
      "Extracted elements: [20 40 50 70]\n"
     ]
    }
   ],
   "source": [
    "mask = np.array([False, True, False, True, True, False, True])\n",
    "extracted_method5 = np.compress(mask, arr)\n",
    "\n",
    "print(\"Method 5:\")\n",
    "print(\"Extracted elements:\", extracted_method5)\n"
   ]
  },
  {
   "cell_type": "markdown",
   "id": "5e64974c-9e2e-44d6-90b4-e93bd31ca713",
   "metadata": {},
   "source": [
    "## Example4: Given a 2D array, use fancy indexing to select rows [0, 2, 2] and columns [1, 3].\n"
   ]
  },
  {
   "cell_type": "code",
   "execution_count": 26,
   "id": "958a871b-4f4a-42b0-be65-6f683536ed65",
   "metadata": {},
   "outputs": [
    {
     "name": "stdout",
     "output_type": "stream",
     "text": [
      "[[ 2  4]\n",
      " [10 12]\n",
      " [10 12]]\n"
     ]
    }
   ],
   "source": [
    "array = np.array([[1, 2, 3, 4],\n",
    "                  [5, 6, 7, 8],\n",
    "                  [9, 10, 11, 12]])\n",
    "rows = [0, 2, 2]\n",
    "cols = [1, 3]\n",
    "\n",
    "result = array[rows, :][:, cols]\n",
    "print(result)\n"
   ]
  },
  {
   "cell_type": "code",
   "execution_count": 27,
   "id": "f60765d7-10c1-426a-b540-02e4498424f5",
   "metadata": {},
   "outputs": [
    {
     "name": "stdout",
     "output_type": "stream",
     "text": [
      "[[ 2  4]\n",
      " [10 12]\n",
      " [10 12]]\n"
     ]
    }
   ],
   "source": [
    "result = array[np.ix_(rows, cols)]\n",
    "print(result)"
   ]
  },
  {
   "cell_type": "code",
   "execution_count": 28,
   "id": "5726c615-27f4-4f45-953f-8bc1fc9eb178",
   "metadata": {},
   "outputs": [
    {
     "name": "stdout",
     "output_type": "stream",
     "text": [
      "[[ 2  4]\n",
      " [10 12]\n",
      " [10 12]]\n"
     ]
    }
   ],
   "source": [
    "result = np.array([[array[row, col] for col in cols] for row in rows])\n",
    "print(result)"
   ]
  },
  {
   "cell_type": "code",
   "execution_count": 29,
   "id": "ee68dea7-bfe0-4f97-9a64-16fd1220ef7b",
   "metadata": {},
   "outputs": [
    {
     "name": "stdout",
     "output_type": "stream",
     "text": [
      "[[ 2  4]\n",
      " [10 12]\n",
      " [10 12]]\n"
     ]
    }
   ],
   "source": [
    "rows = np.array([0, 2, 2])\n",
    "cols = np.array([1, 3])\n",
    "\n",
    "# Using meshgrid\n",
    "row_indices, col_indices = np.meshgrid(rows, cols, indexing='ij')\n",
    "result = array[row_indices, col_indices]\n",
    "print(result)"
   ]
  },
  {
   "cell_type": "code",
   "execution_count": 34,
   "id": "e7fbf44c-491d-474d-8481-ff80cb11a6ec",
   "metadata": {},
   "outputs": [
    {
     "name": "stdout",
     "output_type": "stream",
     "text": [
      "[[ 2  4]\n",
      " [10 12]\n",
      " [10 12]]\n"
     ]
    }
   ],
   "source": [
    "ixgrid = np.ix_(rows, cols)\n",
    "\n",
    "# Advanced indexing\n",
    "result = array[ixgrid]\n",
    "print(result)"
   ]
  },
  {
   "cell_type": "markdown",
   "id": "e3298b3b-bba1-4658-9566-863bf7483d29",
   "metadata": {},
   "source": [
    "## Example5: From a 1D array of random integers, extract all elements that are greater than 8.\n"
   ]
  },
  {
   "cell_type": "code",
   "execution_count": 35,
   "id": "9c10b8c8-bfdc-40cd-b1a7-ddbca4609446",
   "metadata": {},
   "outputs": [
    {
     "name": "stdout",
     "output_type": "stream",
     "text": [
      "Original array: [10 13 19  6  2  1 11 16  8  7  2 13 14 16 14]\n",
      "Elements greater than 8: [10 13 19 11 16 13 14 16 14]\n"
     ]
    }
   ],
   "source": [
    "array = np.random.randint(0, 20, size=15)\n",
    "\n",
    "# Using boolean indexing\n",
    "result = array[array > 8]\n",
    "print(\"Original array:\", array)\n",
    "print(\"Elements greater than 8:\", result)\n"
   ]
  },
  {
   "cell_type": "code",
   "execution_count": 36,
   "id": "00054633-e120-4725-b026-2b24a8ad27b0",
   "metadata": {},
   "outputs": [
    {
     "name": "stdout",
     "output_type": "stream",
     "text": [
      "Original array: [10 13 19  6  2  1 11 16  8  7  2 13 14 16 14]\n",
      "Elements greater than 8: [10 13 19 11 16 13 14 16 14]\n"
     ]
    }
   ],
   "source": [
    "indices = np.where(array > 8)\n",
    "result = array[indices]\n",
    "print(\"Original array:\", array)\n",
    "print(\"Elements greater than 8:\", result)"
   ]
  },
  {
   "cell_type": "code",
   "execution_count": 37,
   "id": "af9c6b76-baab-4261-9773-1dac63279cbc",
   "metadata": {},
   "outputs": [
    {
     "name": "stdout",
     "output_type": "stream",
     "text": [
      "Original array: [10 13 19  6  2  1 11 16  8  7  2 13 14 16 14]\n",
      "Elements greater than 8: [10 13 19 11 16 13 14 16 14]\n"
     ]
    }
   ],
   "source": [
    "result = np.array([x for x in array if x > 8])\n",
    "print(\"Original array:\", array)\n",
    "print(\"Elements greater than 8:\", result)"
   ]
  },
  {
   "cell_type": "code",
   "execution_count": 38,
   "id": "969ee942-fe37-4690-bb9d-bf92c149f165",
   "metadata": {},
   "outputs": [
    {
     "name": "stdout",
     "output_type": "stream",
     "text": [
      "Original array: [10 13 19  6  2  1 11 16  8  7  2 13 14 16 14]\n",
      "Elements greater than 8: [10 13 19 11 16 13 14 16 14]\n"
     ]
    }
   ],
   "source": [
    "result = np.extract(array > 8, array)\n",
    "print(\"Original array:\", array)\n",
    "print(\"Elements greater than 8:\", result)"
   ]
  },
  {
   "cell_type": "code",
   "execution_count": 39,
   "id": "3c09e8d2-8572-494e-a908-b732c291b234",
   "metadata": {},
   "outputs": [
    {
     "name": "stdout",
     "output_type": "stream",
     "text": [
      "Original array: [10 13 19  6  2  1 11 16  8  7  2 13 14 16 14]\n",
      "Elements greater than 8: [10 13 19 11 16 13 14 16 14]\n"
     ]
    }
   ],
   "source": [
    "result = np.fromiter(filter(lambda x: x > 8, array), dtype=int)\n",
    "print(\"Original array:\", array)\n",
    "print(\"Elements greater than 8:\", result)"
   ]
  },
  {
   "cell_type": "markdown",
   "id": "8d99427b-09b1-4a74-b53c-8306ea02c66e",
   "metadata": {},
   "source": [
    "## Example6: Given a 2D array of shape (6, 6), replace all elements greater than 13 with the value 0."
   ]
  },
  {
   "cell_type": "code",
   "execution_count": 40,
   "id": "71df300e-c5ce-41ba-9dfe-f831ec69c6bb",
   "metadata": {},
   "outputs": [
    {
     "name": "stdout",
     "output_type": "stream",
     "text": [
      "Modified array:\n",
      " [[ 0  0  0  0  1  0]\n",
      " [ 9  0  0  0 12 12]\n",
      " [ 1 11  0 10  0  0]\n",
      " [ 0  8  8  0 11 13]\n",
      " [ 2 13  7  8  2  8]\n",
      " [ 0  0  6  0  6  0]]\n"
     ]
    }
   ],
   "source": [
    "array = np.random.randint(0, 20, size=(6, 6))\n",
    "\n",
    "# Using boolean indexing\n",
    "array[array > 13] = 0\n",
    "print(\"Modified array:\\n\", array)\n"
   ]
  },
  {
   "cell_type": "code",
   "execution_count": 41,
   "id": "4770894c-5642-4b92-832b-37889d8d1fa9",
   "metadata": {},
   "outputs": [
    {
     "name": "stdout",
     "output_type": "stream",
     "text": [
      "Modified array:\n",
      " [[ 0  0  0  0  1  0]\n",
      " [ 9  0  0  0 12 12]\n",
      " [ 1 11  0 10  0  0]\n",
      " [ 0  8  8  0 11 13]\n",
      " [ 2 13  7  8  2  8]\n",
      " [ 0  0  6  0  6  0]]\n"
     ]
    }
   ],
   "source": [
    "array = np.where(array > 13, 0, array)\n",
    "print(\"Modified array:\\n\", array)\n"
   ]
  },
  {
   "cell_type": "code",
   "execution_count": 43,
   "id": "1bbaa52f-992e-4ae2-b385-de3f8071c2d6",
   "metadata": {},
   "outputs": [
    {
     "name": "stdout",
     "output_type": "stream",
     "text": [
      "Modified array:\n",
      " [[ 0  0  0  0  1  0]\n",
      " [ 9  0  0  0 12 12]\n",
      " [ 1 11  0 10  0  0]\n",
      " [ 0  8  8  0 11 13]\n",
      " [ 2 13  7  8  2  8]\n",
      " [ 0  0  6  0  6  0]]\n"
     ]
    }
   ],
   "source": [
    "for i in range(array.shape[0]):\n",
    "    for j in range(array.shape[1]):\n",
    "        if array[i, j] > 13:\n",
    "            array[i, j] = 0\n",
    "print(\"Modified array:\\n\", array)"
   ]
  },
  {
   "cell_type": "code",
   "execution_count": 44,
   "id": "683313bb-22ad-44b6-ad08-437dcbd86601",
   "metadata": {},
   "outputs": [
    {
     "name": "stdout",
     "output_type": "stream",
     "text": [
      "Modified array:\n",
      " [[ 0  0  0  0  1  0]\n",
      " [ 9  0  0  0 12 12]\n",
      " [ 1 11  0 10  0  0]\n",
      " [ 0  8  8  0 11 13]\n",
      " [ 2 13  7  8  2  8]\n",
      " [ 0  0  6  0  6  0]]\n"
     ]
    }
   ],
   "source": [
    "def replace_if_greater_than_13(x):\n",
    "    return x if x <= 13 else 0\n",
    "\n",
    "vectorized_replace = np.vectorize(replace_if_greater_than_13)\n",
    "array = vectorized_replace(array)\n",
    "print(\"Modified array:\\n\", array)"
   ]
  },
  {
   "cell_type": "code",
   "execution_count": 45,
   "id": "f27bbc63-8c07-40c3-89aa-610fb1625ba6",
   "metadata": {},
   "outputs": [
    {
     "name": "stdout",
     "output_type": "stream",
     "text": [
      "Modified array:\n",
      " [[ 0  0  0  0  1  0]\n",
      " [ 9  0  0  0 12 12]\n",
      " [ 1 11  0 10  0  0]\n",
      " [ 0  8  8  0 11 13]\n",
      " [ 2 13  7  8  2  8]\n",
      " [ 0  0  6  0  6  0]]\n"
     ]
    }
   ],
   "source": [
    "np.putmask(array, array > 13, 0)\n",
    "print(\"Modified array:\\n\", array)"
   ]
  },
  {
   "cell_type": "markdown",
   "id": "9574a2b9-9f0e-4af2-ba24-d4055eaec088",
   "metadata": {},
   "source": [
    "# Bradcasting"
   ]
  },
  {
   "cell_type": "markdown",
   "id": "7c6803e3-7fd5-4f77-82d9-9b7b6df58e1d",
   "metadata": {},
   "source": [
    "## Example1: Add a 1D array of shape (3,) to each row of a 2D array of shape (4, 3).\n"
   ]
  },
  {
   "cell_type": "code",
   "execution_count": 46,
   "id": "ca4cddd5-e8c4-4d02-a4d4-9937c6399226",
   "metadata": {},
   "outputs": [
    {
     "name": "stdout",
     "output_type": "stream",
     "text": [
      "Method 1:\n",
      " [[ 2  4  6]\n",
      " [ 5  7  9]\n",
      " [ 8 10 12]\n",
      " [11 13 15]]\n"
     ]
    }
   ],
   "source": [
    "array_2d = np.array([[1, 2, 3],\n",
    "                     [4, 5, 6],\n",
    "                     [7, 8, 9],\n",
    "                     [10, 11, 12]])\n",
    "\n",
    "array_1d = np.array([1, 2, 3])\n",
    "\n",
    "result = array_2d + array_1d[np.newaxis, :]\n",
    "print(\"Method 1:\\n\", result)\n"
   ]
  },
  {
   "cell_type": "code",
   "execution_count": 48,
   "id": "da644704-95d5-4660-8f33-faa6b3311615",
   "metadata": {},
   "outputs": [
    {
     "name": "stdout",
     "output_type": "stream",
     "text": [
      "Method 2:\n",
      " [[ 2  4  6]\n",
      " [ 5  7  9]\n",
      " [ 8 10 12]\n",
      " [11 13 15]]\n"
     ]
    }
   ],
   "source": [
    "result = array_2d + np.expand_dims(array_1d, axis=0)\n",
    "print(\"Method 2:\\n\", result)\n"
   ]
  },
  {
   "cell_type": "code",
   "execution_count": 49,
   "id": "998af245-3505-42aa-8322-c7c3082deea3",
   "metadata": {},
   "outputs": [
    {
     "name": "stdout",
     "output_type": "stream",
     "text": [
      "Method 3:\n",
      " [[ 2  4  6]\n",
      " [ 5  7  9]\n",
      " [ 8 10 12]\n",
      " [11 13 15]]\n"
     ]
    }
   ],
   "source": [
    "result = array_2d + array_1d\n",
    "print(\"Method 3:\\n\", result)\n"
   ]
  },
  {
   "cell_type": "code",
   "execution_count": 50,
   "id": "a307df91-77ea-44d0-813f-d980e2b9aaaa",
   "metadata": {},
   "outputs": [
    {
     "name": "stdout",
     "output_type": "stream",
     "text": [
      "Method 4:\n",
      " [[ 2  4  6]\n",
      " [ 5  7  9]\n",
      " [ 8 10 12]\n",
      " [11 13 15]]\n"
     ]
    }
   ],
   "source": [
    "result = array_2d + np.tile(array_1d, (array_2d.shape[0], 1))\n",
    "print(\"Method 4:\\n\", result)\n"
   ]
  },
  {
   "cell_type": "code",
   "execution_count": 51,
   "id": "980635c0-b95e-4f64-92e2-cc3e0f0caade",
   "metadata": {},
   "outputs": [
    {
     "name": "stdout",
     "output_type": "stream",
     "text": [
      "Method 5:\n",
      " [[ 2  4  6]\n",
      " [ 5  7  9]\n",
      " [ 8 10 12]\n",
      " [11 13 15]]\n"
     ]
    }
   ],
   "source": [
    "result = array_2d + np.broadcast_to(array_1d, (array_2d.shape[0], array_2d.shape[1]))\n",
    "print(\"Method 5:\\n\", result)\n"
   ]
  },
  {
   "cell_type": "markdown",
   "id": "66f5617b-c7cc-4cf2-9666-fa04c83841e8",
   "metadata": {},
   "source": [
    "## Example2: Multiply a 2D array of shape (3, 3) by a 1D array of shape (3,)"
   ]
  },
  {
   "cell_type": "code",
   "execution_count": 59,
   "id": "9d6cc05a-282e-4e20-bc0a-4b216d6bdd8f",
   "metadata": {},
   "outputs": [
    {
     "name": "stdout",
     "output_type": "stream",
     "text": [
      "Method 1:\n",
      " [[ 1  2  3]\n",
      " [ 8 10 12]\n",
      " [21 24 27]]\n"
     ]
    }
   ],
   "source": [
    "array_2d = np.array([[1, 2, 3],\n",
    "                     [4, 5, 6],\n",
    "                     [7, 8, 9]])\n",
    "\n",
    "array_1d = np.array([1, 2, 3])\n",
    "\n",
    "result = array_2d * array_1d[:, np.newaxis]\n",
    "print(\"Method 1:\\n\", result)\n"
   ]
  },
  {
   "cell_type": "code",
   "execution_count": 60,
   "id": "89045cdf-4d9c-4a49-969f-a41ff15cbf37",
   "metadata": {},
   "outputs": [
    {
     "name": "stdout",
     "output_type": "stream",
     "text": [
      "Method 2:\n",
      " [[ 1  2  3]\n",
      " [ 8 10 12]\n",
      " [21 24 27]]\n"
     ]
    }
   ],
   "source": [
    "result = array_2d * np.expand_dims(array_1d, axis=1)\n",
    "print(\"Method 2:\\n\", result)\n"
   ]
  },
  {
   "cell_type": "code",
   "execution_count": 61,
   "id": "d7d433d6-593f-48de-9228-e4dd82eec7c7",
   "metadata": {},
   "outputs": [
    {
     "name": "stdout",
     "output_type": "stream",
     "text": [
      "Method 3:\n",
      " [[ 1  2  3]\n",
      " [ 8 10 12]\n",
      " [21 24 27]]\n"
     ]
    }
   ],
   "source": [
    "result = array_2d * array_1d.reshape(-1, 1)\n",
    "print(\"Method 3:\\n\", result)\n"
   ]
  },
  {
   "cell_type": "code",
   "execution_count": 64,
   "id": "cf8340af-9f46-4544-99bc-1c91d9e3babc",
   "metadata": {},
   "outputs": [
    {
     "name": "stdout",
     "output_type": "stream",
     "text": [
      "Method 4:\n",
      " [[ 1  4  9]\n",
      " [ 4 10 18]\n",
      " [ 7 16 27]]\n"
     ]
    }
   ],
   "source": [
    "result = array_2d * np.broadcast_to(array_1d, (3, 3))\n",
    "print(\"Method 4:\\n\", result)\n"
   ]
  },
  {
   "cell_type": "code",
   "execution_count": 65,
   "id": "ed1052e3-3c00-465e-bbb5-71851ee16033",
   "metadata": {},
   "outputs": [
    {
     "name": "stdout",
     "output_type": "stream",
     "text": [
      "Method 3:\n",
      " [[ 1  2  3]\n",
      " [ 8 10 12]\n",
      " [21 24 27]]\n"
     ]
    }
   ],
   "source": [
    "result = array_2d * np.expand_dims(array_1d, axis=1)\n",
    "print(\"Method 3:\\n\", result)\n"
   ]
  },
  {
   "cell_type": "markdown",
   "id": "3e795b9c-650d-444a-8e23-168a3d578131",
   "metadata": {},
   "source": [
    "## Example3: Create two 2D arrays of shapes (3, 1) and (1, 4) respectively, and perform element-wise addition.\n",
    "`"
   ]
  },
  {
   "cell_type": "code",
   "execution_count": 66,
   "id": "a2b40c3c-6c85-4a40-8da2-128f355ef888",
   "metadata": {},
   "outputs": [
    {
     "name": "stdout",
     "output_type": "stream",
     "text": [
      "Method 1:\n",
      " [[2 3 4 5]\n",
      " [3 4 5 6]\n",
      " [4 5 6 7]]\n"
     ]
    }
   ],
   "source": [
    "array1 = np.array([[1],\n",
    "                   [2],\n",
    "                   [3]])\n",
    "\n",
    "array2 = np.array([[1, 2, 3, 4]])\n",
    "\n",
    "result = array1 + array2\n",
    "print(\"Method 1:\\n\", result)"
   ]
  },
  {
   "cell_type": "code",
   "execution_count": 67,
   "id": "96e542d5-d92f-427f-a624-349727b58263",
   "metadata": {},
   "outputs": [
    {
     "name": "stdout",
     "output_type": "stream",
     "text": [
      "Method 2:\n",
      " [[[2 3 4 5]\n",
      "  [3 4 5 6]\n",
      "  [4 5 6 7]]]\n"
     ]
    }
   ],
   "source": [
    "result = array1 + array2[np.newaxis, :]\n",
    "print(\"Method 2:\\n\", result)\n"
   ]
  },
  {
   "cell_type": "code",
   "execution_count": 68,
   "id": "e6a9b1fc-af5e-44ee-bdad-4d9c847d3589",
   "metadata": {},
   "outputs": [
    {
     "name": "stdout",
     "output_type": "stream",
     "text": [
      "Method 3:\n",
      " [[2 3 4 5]\n",
      " [3 4 5 6]\n",
      " [4 5 6 7]]\n"
     ]
    }
   ],
   "source": [
    "result = array1 + array2.reshape(1, -1)\n",
    "print(\"Method 3:\\n\", result)\n"
   ]
  },
  {
   "cell_type": "code",
   "execution_count": 69,
   "id": "f31646c6-234b-44fe-b5a5-9b47495f223e",
   "metadata": {},
   "outputs": [
    {
     "name": "stdout",
     "output_type": "stream",
     "text": [
      "Method 4:\n",
      " [[[2 3 4 5]\n",
      "  [3 4 5 6]\n",
      "  [4 5 6 7]]]\n"
     ]
    }
   ],
   "source": [
    "result = array1 + np.expand_dims(array2, axis=0)\n",
    "print(\"Method 4:\\n\", result)\n"
   ]
  },
  {
   "cell_type": "code",
   "execution_count": 70,
   "id": "19ecb221-94a2-4977-b32c-85e9c26e3293",
   "metadata": {},
   "outputs": [
    {
     "name": "stdout",
     "output_type": "stream",
     "text": [
      "Method 5:\n",
      " [[2 3 4 5]\n",
      " [3 4 5 6]\n",
      " [4 5 6 7]]\n"
     ]
    }
   ],
   "source": [
    "result = array1 + np.broadcast_to(array2, (3, 4))\n",
    "print(\"Method 5:\\n\", result)\n"
   ]
  },
  {
   "cell_type": "markdown",
   "id": "6289a5a7-c990-4f25-abb8-91d855f881a7",
   "metadata": {},
   "source": [
    "## Example4: Given a 3D array of shape (2, 3, 4), add a 2D array of shape (3, 4) to each 2D slice along the first axis.\n"
   ]
  },
  {
   "cell_type": "code",
   "execution_count": 71,
   "id": "eb68982b-7c4a-4aa5-be46-0eb3f1043900",
   "metadata": {},
   "outputs": [
    {
     "name": "stdout",
     "output_type": "stream",
     "text": [
      "Method 1:\n",
      " [[[ 2  4  6  8]\n",
      "  [10 12 14 16]\n",
      "  [18 20 22 24]]\n",
      "\n",
      " [[14 16 18 20]\n",
      "  [22 24 26 28]\n",
      "  [30 32 34 36]]]\n"
     ]
    }
   ],
   "source": [
    "array_3d = np.array([[[1, 2, 3, 4],\n",
    "                      [5, 6, 7, 8],\n",
    "                      [9, 10, 11, 12]],\n",
    "                     \n",
    "                     [[13, 14, 15, 16],\n",
    "                      [17, 18, 19, 20],\n",
    "                      [21, 22, 23, 24]]])\n",
    "\n",
    "\n",
    "array_2d = np.array([[1, 2, 3, 4],\n",
    "                     [5, 6, 7, 8],\n",
    "                     [9, 10, 11, 12]])\n",
    "\n",
    "result = array_3d + array_2d[np.newaxis, :, :]\n",
    "print(\"Method 1:\\n\", result)\n"
   ]
  },
  {
   "cell_type": "code",
   "execution_count": 72,
   "id": "b4803a59-6ea6-4dee-9fc7-4d1b9df0edda",
   "metadata": {},
   "outputs": [
    {
     "name": "stdout",
     "output_type": "stream",
     "text": [
      "Method 2:\n",
      " [[[ 2  4  6  8]\n",
      "  [10 12 14 16]\n",
      "  [18 20 22 24]]\n",
      "\n",
      " [[14 16 18 20]\n",
      "  [22 24 26 28]\n",
      "  [30 32 34 36]]]\n"
     ]
    }
   ],
   "source": [
    "result = array_3d + array_2d[np.newaxis]\n",
    "print(\"Method 2:\\n\", result)\n"
   ]
  },
  {
   "cell_type": "code",
   "execution_count": 73,
   "id": "a66075d7-9fbb-47f2-8e2e-aebb9e716f8e",
   "metadata": {},
   "outputs": [
    {
     "name": "stdout",
     "output_type": "stream",
     "text": [
      "Method 3:\n",
      " [[[ 2  4  6  8]\n",
      "  [10 12 14 16]\n",
      "  [18 20 22 24]]\n",
      "\n",
      " [[14 16 18 20]\n",
      "  [22 24 26 28]\n",
      "  [30 32 34 36]]]\n"
     ]
    }
   ],
   "source": [
    "result = array_3d + array_2d.reshape(1, 3, 4)\n",
    "print(\"Method 3:\\n\", result)\n"
   ]
  },
  {
   "cell_type": "code",
   "execution_count": 74,
   "id": "163cd90e-3ba5-4749-8ebc-354935972f4e",
   "metadata": {},
   "outputs": [
    {
     "name": "stdout",
     "output_type": "stream",
     "text": [
      "Method 4:\n",
      " [[[ 2  4  6  8]\n",
      "  [10 12 14 16]\n",
      "  [18 20 22 24]]\n",
      "\n",
      " [[14 16 18 20]\n",
      "  [22 24 26 28]\n",
      "  [30 32 34 36]]]\n"
     ]
    }
   ],
   "source": [
    "result = array_3d + np.expand_dims(array_2d, axis=0)\n",
    "print(\"Method 4:\\n\", result)\n"
   ]
  },
  {
   "cell_type": "code",
   "execution_count": 75,
   "id": "99f352b5-54e8-438e-95f8-f52840e4765c",
   "metadata": {},
   "outputs": [
    {
     "name": "stdout",
     "output_type": "stream",
     "text": [
      "Method 5:\n",
      " [[[ 2  4  6  8]\n",
      "  [10 12 14 16]\n",
      "  [18 20 22 24]]\n",
      "\n",
      " [[14 16 18 20]\n",
      "  [22 24 26 28]\n",
      "  [30 32 34 36]]]\n"
     ]
    }
   ],
   "source": [
    "result = array_3d + np.tile(array_2d, (2, 1, 1))\n",
    "print(\"Method 5:\\n\", result)\n"
   ]
  },
  {
   "cell_type": "markdown",
   "id": "4daf6283-188e-4e22-8d4f-32066ef38b85",
   "metadata": {},
   "source": [
    "# More Examples"
   ]
  },
  {
   "cell_type": "markdown",
   "id": "f45fef2c-f650-40c5-bbf3-e5c53fa1203e",
   "metadata": {},
   "source": [
    "## Example1: Given a 2D array, use slicing to extract every second row and every second column, then add a 1D array to each row of the sliced array.\n"
   ]
  },
  {
   "cell_type": "code",
   "execution_count": 76,
   "id": "00353235-875d-4295-a8b5-d9f627a3fb39",
   "metadata": {},
   "outputs": [
    {
     "name": "stdout",
     "output_type": "stream",
     "text": [
      "Method 1:\n",
      " [[ 2  4  6]\n",
      " [13 15 17]]\n"
     ]
    }
   ],
   "source": [
    "array_2d = np.array([[1, 2, 3, 4, 5],\n",
    "                     [6, 7, 8, 9, 10],\n",
    "                     [11, 12, 13, 14, 15],\n",
    "                     [16, 17, 18, 19, 20]])\n",
    "\n",
    "\n",
    "sliced_array = array_2d[::2, ::2]\n",
    "\n",
    "\n",
    "array_to_add = np.array([1, 2])\n",
    "\n",
    "result = sliced_array + array_to_add[:, np.newaxis]\n",
    "print(\"Method 1:\\n\", result)"
   ]
  },
  {
   "cell_type": "code",
   "execution_count": 77,
   "id": "8d8d27af-9f03-4117-a7e4-4183648fc1bb",
   "metadata": {},
   "outputs": [
    {
     "name": "stdout",
     "output_type": "stream",
     "text": [
      "Method 2:\n",
      " [[ 2  4  6]\n",
      " [13 15 17]]\n"
     ]
    }
   ],
   "source": [
    "result = sliced_array + array_to_add.reshape(-1, 1)\n",
    "print(\"Method 2:\\n\", result)\n"
   ]
  },
  {
   "cell_type": "code",
   "execution_count": 84,
   "id": "c624a424-ba19-43f5-8674-77c059aeef46",
   "metadata": {},
   "outputs": [
    {
     "name": "stdout",
     "output_type": "stream",
     "text": [
      "Method 3:\n",
      " [[ 2  4  6]\n",
      " [13 15 17]]\n"
     ]
    }
   ],
   "source": [
    "result = sliced_array + np.expand_dims(array_to_add, axis=1)\n",
    "print(\"Method 3:\\n\", result)\n"
   ]
  },
  {
   "cell_type": "code",
   "execution_count": 85,
   "id": "e9383fb3-78db-4203-9491-40ce86bb82dd",
   "metadata": {},
   "outputs": [
    {
     "name": "stdout",
     "output_type": "stream",
     "text": [
      "Method 4:\n",
      " [[ 2  4  6]\n",
      " [13 15 17]]\n"
     ]
    }
   ],
   "source": [
    "sliced_array = array_2d[::2, ::2]\n",
    "array_to_add = np.array([1, 2])\n",
    "result = sliced_array + np.repeat(array_to_add[:, np.newaxis], sliced_array.shape[1], axis=1)\n",
    "print(\"Method 4:\\n\", result)"
   ]
  },
  {
   "cell_type": "code",
   "execution_count": 86,
   "id": "11e930cd-a66f-4461-8636-75390f1abab3",
   "metadata": {},
   "outputs": [
    {
     "name": "stdout",
     "output_type": "stream",
     "text": [
      "Method 5:\n",
      " [[ 2  4  6]\n",
      " [13 15 17]]\n"
     ]
    }
   ],
   "source": [
    "result = sliced_array + np.broadcast_to(array_to_add[:, np.newaxis], sliced_array.shape)\n",
    "print(\"Method 5:\\n\", result)\n"
   ]
  },
  {
   "cell_type": "markdown",
   "id": "9881b3ce-2ca1-497a-9601-2719dc9022b0",
   "metadata": {},
   "source": [
    "## Example2: From a 3D array of shape (3, 2, 1), extract a sub-array using slicing and then use broadcasting to subtract a 2D array from each slice along the third axis.\n"
   ]
  },
  {
   "cell_type": "code",
   "execution_count": 87,
   "id": "832f64cf-b3b8-491f-8f55-3e0dbc58fd08",
   "metadata": {},
   "outputs": [
    {
     "name": "stdout",
     "output_type": "stream",
     "text": [
      "Method 1:\n",
      " [[0 1]\n",
      " [1 2]\n",
      " [2 3]]\n"
     ]
    }
   ],
   "source": [
    "array_3d = np.array([[[1],\n",
    "                      [2]],\n",
    "                     \n",
    "                     [[3],\n",
    "                      [4]],\n",
    "                     \n",
    "                     [[5],\n",
    "                      [6]]])\n",
    "\n",
    "\n",
    "sub_array = array_3d[:, :, 0]\n",
    "\n",
    "\n",
    "array_to_subtract = np.array([[1, 1],\n",
    "                              [2, 2],\n",
    "                              [3, 3]])\n",
    "\n",
    "result = sub_array - array_to_subtract\n",
    "print(\"Method 1:\\n\", result)\n"
   ]
  },
  {
   "cell_type": "code",
   "execution_count": 88,
   "id": "f37f5b90-7b87-48a1-a8c2-ba641f86f441",
   "metadata": {},
   "outputs": [
    {
     "name": "stdout",
     "output_type": "stream",
     "text": [
      "Method 2:\n",
      " [[0 1]\n",
      " [1 2]\n",
      " [2 3]]\n"
     ]
    }
   ],
   "source": [
    "result = sub_array - array_to_subtract.reshape(3, 2)\n",
    "print(\"Method 2:\\n\", result)\n"
   ]
  },
  {
   "cell_type": "code",
   "execution_count": 89,
   "id": "151123af-7f94-449a-af39-0cf5e32f8f3e",
   "metadata": {},
   "outputs": [
    {
     "name": "stdout",
     "output_type": "stream",
     "text": [
      "Method 3:\n",
      " [[[ 0  1]\n",
      "  [ 2  3]\n",
      "  [ 4  5]]\n",
      "\n",
      " [[-1  0]\n",
      "  [ 1  2]\n",
      "  [ 3  4]]\n",
      "\n",
      " [[-2 -1]\n",
      "  [ 0  1]\n",
      "  [ 2  3]]]\n"
     ]
    }
   ],
   "source": [
    "result = sub_array - np.expand_dims(array_to_subtract, axis=1)\n",
    "print(\"Method 3:\\n\", result)\n"
   ]
  },
  {
   "cell_type": "code",
   "execution_count": 94,
   "id": "1e5dee67-2fa2-44b6-bf45-8f2a9c0d07e1",
   "metadata": {},
   "outputs": [
    {
     "name": "stdout",
     "output_type": "stream",
     "text": [
      "Method 4:\n",
      " [[0 1]\n",
      " [1 2]\n",
      " [2 3]]\n"
     ]
    }
   ],
   "source": [
    "sub_array = array_3d[:, :, 0]\n",
    "\n",
    "\n",
    "array_to_subtract = np.array([[1, 1],\n",
    "                              [2, 2],\n",
    "                              [3, 3]])\n",
    "\n",
    "result = sub_array - np.tile(array_to_subtract, (1, 1))\n",
    "print(\"Method 4:\\n\", result)"
   ]
  },
  {
   "cell_type": "code",
   "execution_count": 95,
   "id": "1bc39aee-c7bc-48bc-bb99-e00ca7ed8c2c",
   "metadata": {},
   "outputs": [
    {
     "name": "stdout",
     "output_type": "stream",
     "text": [
      "Method 5:\n",
      " [[0 1]\n",
      " [1 2]\n",
      " [2 3]]\n"
     ]
    }
   ],
   "source": [
    "result = np.zeros_like(sub_array)\n",
    "for i in range(sub_array.shape[0]):\n",
    "    result[i] = sub_array[i] - array_to_subtract[i]\n",
    "print(\"Method 5:\\n\", result)\n"
   ]
  },
  {
   "cell_type": "markdown",
   "id": "fee0be69-3492-4132-9f24-9b24496823e4",
   "metadata": {},
   "source": [
    "## Example3: Given a 2D array, extract the diagonal elements and create a 1D array."
   ]
  },
  {
   "cell_type": "code",
   "execution_count": 97,
   "id": "d1c2c110-6e83-45ba-a7b1-cc97ed67eb72",
   "metadata": {},
   "outputs": [
    {
     "name": "stdout",
     "output_type": "stream",
     "text": [
      "Method 1: [1 5 9]\n"
     ]
    }
   ],
   "source": [
    "array_2d = np.array([[1, 2, 3],\n",
    "                     [4, 5, 6],\n",
    "                     [7, 8, 9]])\n",
    "\n",
    "diagonal1 = np.diag(array_2d)\n",
    "print(\"Method 1:\", diagonal1)\n"
   ]
  },
  {
   "cell_type": "code",
   "execution_count": 99,
   "id": "529b9777-727e-4258-a53d-7d7941f01154",
   "metadata": {},
   "outputs": [
    {
     "name": "stdout",
     "output_type": "stream",
     "text": [
      "Method 2: [1 5 9]\n"
     ]
    }
   ],
   "source": [
    "diagonal2 = array_2d[np.arange(array_2d.shape[0]), np.arange(array_2d.shape[0])]\n",
    "print(\"Method 2:\", diagonal2)\n"
   ]
  },
  {
   "cell_type": "code",
   "execution_count": 100,
   "id": "8d21dab0-1ed3-475d-9b9f-cd6717b679bb",
   "metadata": {},
   "outputs": [
    {
     "name": "stdout",
     "output_type": "stream",
     "text": [
      "Method 3: [1 5 9]\n"
     ]
    }
   ],
   "source": [
    "diagonal3 = [array_2d[i, i] for i in range(array_2d.shape[0])]\n",
    "print(\"Method 3:\", np.array(diagonal3))\n"
   ]
  },
  {
   "cell_type": "code",
   "execution_count": 101,
   "id": "90139d34-3d3b-4cc9-b567-8e9e24b06467",
   "metadata": {},
   "outputs": [
    {
     "name": "stdout",
     "output_type": "stream",
     "text": [
      "Method 4: [1 5 9]\n"
     ]
    }
   ],
   "source": [
    "diagonal4 = np.diagonal(array_2d, offset=0)\n",
    "print(\"Method 4:\", diagonal4)\n"
   ]
  },
  {
   "cell_type": "code",
   "execution_count": 103,
   "id": "23f09481-557f-4bb2-808f-7c3409a9a6f9",
   "metadata": {},
   "outputs": [
    {
     "name": "stdout",
     "output_type": "stream",
     "text": [
      "Method 5: [1 5 9]\n"
     ]
    }
   ],
   "source": [
    "diagonal5 = [array_2d[i, i] for i in range(min(array_2d.shape))]\n",
    "print(\"Method 5:\", np.array(diagonal5))"
   ]
  },
  {
   "cell_type": "markdown",
   "id": "581e5d94-9e3e-4a37-a4cf-53cec6536a81",
   "metadata": {},
   "source": [
    "## Example4: Use slicing to reverse the order of elements in each row of a 2D array."
   ]
  },
  {
   "cell_type": "code",
   "execution_count": 104,
   "id": "fb65460d-9bcb-40b1-b854-6e32daf12acc",
   "metadata": {},
   "outputs": [
    {
     "name": "stdout",
     "output_type": "stream",
     "text": [
      "Method 1:\n",
      " [[3 2 1]\n",
      " [6 5 4]\n",
      " [9 8 7]]\n"
     ]
    }
   ],
   "source": [
    "array_2d = np.array([[1, 2, 3],\n",
    "                     [4, 5, 6],\n",
    "                     [7, 8, 9]])\n",
    "\n",
    "\n",
    "reversed_array1 = array_2d[:, ::-1]\n",
    "print(\"Method 1:\\n\", reversed_array1)\n"
   ]
  },
  {
   "cell_type": "code",
   "execution_count": 105,
   "id": "0fb7e072-0238-4fbf-af1c-5d0184a291fc",
   "metadata": {},
   "outputs": [
    {
     "name": "stdout",
     "output_type": "stream",
     "text": [
      "Method 2:\n",
      " [[3 2 1]\n",
      " [6 5 4]\n",
      " [9 8 7]]\n"
     ]
    }
   ],
   "source": [
    "reversed_array2 = np.flip(array_2d, axis=1)\n",
    "print(\"Method 2:\\n\", reversed_array2)\n"
   ]
  },
  {
   "cell_type": "code",
   "execution_count": 106,
   "id": "5cc45719-e0c7-4ca1-b079-52cc866ca312",
   "metadata": {},
   "outputs": [
    {
     "name": "stdout",
     "output_type": "stream",
     "text": [
      "Method 3:\n",
      " [[3 2 1]\n",
      " [6 5 4]\n",
      " [9 8 7]]\n"
     ]
    }
   ],
   "source": [
    "reversed_array3 = np.array([row[::-1] for row in array_2d])\n",
    "print(\"Method 3:\\n\", reversed_array3)\n"
   ]
  },
  {
   "cell_type": "code",
   "execution_count": 107,
   "id": "32a1a827-85f7-4fb4-ad8f-4ea8c271170f",
   "metadata": {},
   "outputs": [
    {
     "name": "stdout",
     "output_type": "stream",
     "text": [
      "Method 4:\n",
      " [[3 2 1]\n",
      " [6 5 4]\n",
      " [9 8 7]]\n"
     ]
    }
   ],
   "source": [
    "reversed_array4 = np.fliplr(array_2d)\n",
    "print(\"Method 4:\\n\", reversed_array4)\n"
   ]
  },
  {
   "cell_type": "code",
   "execution_count": 108,
   "id": "74d79b97-d3e3-4e51-83f1-7841c5942707",
   "metadata": {},
   "outputs": [
    {
     "name": "stdout",
     "output_type": "stream",
     "text": [
      "Method 5:\n",
      " [[3 2 1]\n",
      " [6 5 4]\n",
      " [9 8 7]]\n"
     ]
    }
   ],
   "source": [
    "reversed_array5 = np.array([row[::-1] for row in array_2d])\n",
    "print(\"Method 5:\\n\", reversed_array5)\n"
   ]
  },
  {
   "cell_type": "markdown",
   "id": "9f5ec365-42f2-41c3-9f6d-71c96f402263",
   "metadata": {},
   "source": [
    "## Example5: Given a 3D array of shape (7, 6, 5), use slicing to extract a sub-array of shape (2, 3, 4) and then use broadcasting to add a 1D array of shape (4,) to each row along the third axis.\n"
   ]
  },
  {
   "cell_type": "code",
   "execution_count": 114,
   "id": "093415f8-ec07-4f3f-b921-a697c836da8a",
   "metadata": {},
   "outputs": [
    {
     "name": "stdout",
     "output_type": "stream",
     "text": [
      "Method 1:\n",
      " [[[ 6  9 10  9]\n",
      "  [ 3  3 10  7]\n",
      "  [ 5  6  5  6]]\n",
      "\n",
      " [[ 8  8 10  6]\n",
      "  [ 5 10  7 11]\n",
      "  [10  5  4  6]]]\n"
     ]
    }
   ],
   "source": [
    "array_3d = np.random.randint(1, 10, size=(7, 6, 5))\n",
    "\n",
    "\n",
    "sub_array = array_3d[:2, :3, :4]\n",
    "\n",
    "array_to_add = np.array([1, 2, 3, 4])\n",
    "\n",
    "result1 = sub_array + array_to_add\n",
    "print(\"Method 1:\\n\", result1)\n"
   ]
  },
  {
   "cell_type": "code",
   "execution_count": 115,
   "id": "b17d2516-2e72-4e1e-ada0-cb251c3885a4",
   "metadata": {},
   "outputs": [
    {
     "name": "stdout",
     "output_type": "stream",
     "text": [
      "Method 2:\n",
      " [[[ 6  9 10  9]\n",
      "  [ 3  3 10  7]\n",
      "  [ 5  6  5  6]]\n",
      "\n",
      " [[ 8  8 10  6]\n",
      "  [ 5 10  7 11]\n",
      "  [10  5  4  6]]]\n"
     ]
    }
   ],
   "source": [
    "result2 = sub_array + array_to_add.reshape(1, 1, -1)\n",
    "print(\"Method 2:\\n\", result2)\n"
   ]
  },
  {
   "cell_type": "code",
   "execution_count": 116,
   "id": "4e789602-29e2-4e9d-acab-a0de0d270f96",
   "metadata": {},
   "outputs": [
    {
     "name": "stdout",
     "output_type": "stream",
     "text": [
      "Method 3:\n",
      " [[[ 6  9 10  9]\n",
      "  [ 3  3 10  7]\n",
      "  [ 5  6  5  6]]\n",
      "\n",
      " [[ 8  8 10  6]\n",
      "  [ 5 10  7 11]\n",
      "  [10  5  4  6]]]\n"
     ]
    }
   ],
   "source": [
    "result3 = sub_array + np.expand_dims(array_to_add, axis=(0, 1))\n",
    "print(\"Method 3:\\n\", result3)\n"
   ]
  },
  {
   "cell_type": "code",
   "execution_count": 117,
   "id": "757d2cd4-40b4-47b5-bf66-090c297c23f4",
   "metadata": {},
   "outputs": [
    {
     "name": "stdout",
     "output_type": "stream",
     "text": [
      "Method 4:\n",
      " [[[ 6  9 10  9]\n",
      "  [ 3  3 10  7]\n",
      "  [ 5  6  5  6]]\n",
      "\n",
      " [[ 8  8 10  6]\n",
      "  [ 5 10  7 11]\n",
      "  [10  5  4  6]]]\n"
     ]
    }
   ],
   "source": [
    "result4 = sub_array + np.tile(array_to_add, (2, 3, 1))\n",
    "print(\"Method 4:\\n\", result4)\n"
   ]
  },
  {
   "cell_type": "code",
   "execution_count": 118,
   "id": "40988fd3-4ee5-426c-a209-fb68449c41a4",
   "metadata": {},
   "outputs": [
    {
     "name": "stdout",
     "output_type": "stream",
     "text": [
      "Method 5:\n",
      " [[[ 6  9 10  9]\n",
      "  [ 3  3 10  7]\n",
      "  [ 5  6  5  6]]\n",
      "\n",
      " [[ 8  8 10  6]\n",
      "  [ 5 10  7 11]\n",
      "  [10  5  4  6]]]\n"
     ]
    }
   ],
   "source": [
    "result5 = sub_array + np.broadcast_to(array_to_add, sub_array.shape)\n",
    "print(\"Method 5:\\n\", result5)\n"
   ]
  },
  {
   "cell_type": "markdown",
   "id": "bc11f0e0-c869-4ce7-a771-b0d58dc772ef",
   "metadata": {},
   "source": [
    "## Example6: Create a 2D array and use both slicing and broadcasting to set the last column to the sum of the first two columns for each row.\n"
   ]
  },
  {
   "cell_type": "code",
   "execution_count": 120,
   "id": "343a394c-9b53-40f6-b63f-2ac874c8cf21",
   "metadata": {},
   "outputs": [
    {
     "name": "stdout",
     "output_type": "stream",
     "text": [
      "Method 1:\n",
      " [[ 1  2  3]\n",
      " [ 4  5  9]\n",
      " [ 7  8 15]]\n"
     ]
    }
   ],
   "source": [
    "array_2d = np.array([[1, 2, 3],\n",
    "                     [4, 5, 6],\n",
    "                     [7, 8, 9]])\n",
    "\n",
    "array_2d[:, -1] = array_2d[:, 0] + array_2d[:, 1]\n",
    "print(\"Method 1:\\n\", array_2d)\n"
   ]
  },
  {
   "cell_type": "code",
   "execution_count": 121,
   "id": "7a134de1-892d-449e-83df-b38c5fb42098",
   "metadata": {},
   "outputs": [
    {
     "name": "stdout",
     "output_type": "stream",
     "text": [
      "Method 2:\n",
      " [[ 1  2  3]\n",
      " [ 4  5  9]\n",
      " [ 7  8 15]]\n"
     ]
    }
   ],
   "source": [
    "array_2d[:, -1] = np.sum(array_2d[:, :2], axis=1)\n",
    "print(\"Method 2:\\n\", array_2d)\n"
   ]
  },
  {
   "cell_type": "code",
   "execution_count": 122,
   "id": "69c62dd5-5ec1-46e6-a598-1731ebd5a698",
   "metadata": {},
   "outputs": [
    {
     "name": "stdout",
     "output_type": "stream",
     "text": [
      "Method 3:\n",
      " [[ 1  2  3]\n",
      " [ 4  5  9]\n",
      " [ 7  8 15]]\n"
     ]
    }
   ],
   "source": [
    "array_2d[:, -1] = np.add(array_2d[:, 0], array_2d[:, 1])\n",
    "print(\"Method 3:\\n\", array_2d)\n"
   ]
  },
  {
   "cell_type": "code",
   "execution_count": 123,
   "id": "e64726b7-71d0-4f64-b1f0-58919d981055",
   "metadata": {},
   "outputs": [
    {
     "name": "stdout",
     "output_type": "stream",
     "text": [
      "Method 4:\n",
      " [[ 1  2  3]\n",
      " [ 4  5  9]\n",
      " [ 7  8 15]]\n"
     ]
    }
   ],
   "source": [
    "array_2d[:, -1] = np.apply_along_axis(lambda x: np.sum(x[:2]), axis=1, arr=array_2d)\n",
    "print(\"Method 4:\\n\", array_2d)\n"
   ]
  },
  {
   "cell_type": "code",
   "execution_count": 124,
   "id": "3bb46b17-02e5-41c5-877c-62b0353da7a3",
   "metadata": {},
   "outputs": [
    {
     "name": "stdout",
     "output_type": "stream",
     "text": [
      "Method 5:\n",
      " [[ 1  2  3]\n",
      " [ 4  5  9]\n",
      " [ 7  8 15]]\n"
     ]
    }
   ],
   "source": [
    "for row in array_2d:\n",
    "    row[-1] = row[0] + row[1]\n",
    "print(\"Method 5:\\n\", array_2d)\n"
   ]
  },
  {
   "cell_type": "markdown",
   "id": "9f0d38dc-6044-45bb-9bfd-c2673f67a5f9",
   "metadata": {},
   "source": [
    "# Advance Numpy"
   ]
  },
  {
   "cell_type": "code",
   "execution_count": 126,
   "id": "ef778742-4cca-4a31-b500-57c1badf0b69",
   "metadata": {},
   "outputs": [],
   "source": [
    "# Example1: # Creating a memory-mapped array"
   ]
  },
  {
   "cell_type": "code",
   "execution_count": 131,
   "id": "12ec9e74-55c2-4148-aa49-0f41c5a41071",
   "metadata": {},
   "outputs": [
    {
     "name": "stdout",
     "output_type": "stream",
     "text": [
      "First few elements of the memory-mapped array:\n",
      "[[0.9672966  0.0524439  0.41666952]\n",
      " [0.4265525  0.4346608  0.54756117]\n",
      " [0.60372233 0.6655536  0.7279106 ]]\n"
     ]
    }
   ],
   "source": [
    "filename = 'memmapfile.dat'\n",
    "memmap_arr = np.memmap(filename, dtype='float32', mode='w+', shape=(1000, 1000))\n",
    "memmap_arr[:] = np.random.rand(1000, 1000)\n",
    "del memmap_arr\n",
    "memmap_arr_read = np.memmap(filename, dtype='float32', mode='r', shape=(1000, 1000))\n",
    "print(\"First few elements of the memory-mapped array:\")\n",
    "print(memmap_arr_read[:3, :3])  \n",
    "del memmap_arr_read\n",
    "\n"
   ]
  },
  {
   "cell_type": "code",
   "execution_count": 132,
   "id": "e4ade356-0a56-4679-8b9d-916eea3527fb",
   "metadata": {},
   "outputs": [],
   "source": [
    "# Example2: Structured Arrays and Advanced Indexing"
   ]
  },
  {
   "cell_type": "code",
   "execution_count": 134,
   "id": "fe86df14-2f6f-48b7-936d-0b13d33a1eba",
   "metadata": {},
   "outputs": [
    {
     "name": "stdout",
     "output_type": "stream",
     "text": [
      "Structured Array:\n",
      "[(1, 2. , 'Hello') (2, 3.5, 'World')]\n",
      "\n",
      "Accessing elements by column names:\n",
      "ID: [1 2]\n",
      "Values: [2.  3.5]\n",
      "Messages: ['Hello' 'World']\n",
      "\n",
      "Boolean indexing based on conditions:\n",
      "Values greater than 2:\n",
      "[(2, 3.5, 'World')]\n",
      "\n",
      "Creating a new structured array from selected columns:\n",
      "[(1, 'Hello') (2, 'World')]\n"
     ]
    }
   ],
   "source": [
    "data = np.array([(1, 2.0, 'Hello'),\n",
    "                 (2, 3.5, 'World')],\n",
    "                dtype=[('id', int), ('value', float), ('message', 'U10')])\n",
    "\n",
    "\n",
    "print(\"Structured Array:\")\n",
    "print(data)\n",
    "print()\n",
    "\n",
    "\n",
    "print(\"Accessing elements by column names:\")\n",
    "print(\"ID:\", data['id'])\n",
    "print(\"Values:\", data['value'])\n",
    "print(\"Messages:\", data['message'])\n",
    "print()\n",
    "\n",
    "\n",
    "print(\"Boolean indexing based on conditions:\")\n",
    "print(\"Values greater than 2:\")\n",
    "print(data[data['value'] > 2])\n",
    "print()\n",
    "\n",
    "\n",
    "print(\"Creating a new structured array from selected columns:\")\n",
    "new_data = np.array(data[['id', 'message']])\n",
    "print(new_data)\n"
   ]
  },
  {
   "cell_type": "code",
   "execution_count": 135,
   "id": "02fab3f8-335f-43f7-93d7-de281fe4ae54",
   "metadata": {},
   "outputs": [],
   "source": [
    "## Example3:  Vectorization, and Masking"
   ]
  },
  {
   "cell_type": "code",
   "execution_count": 140,
   "id": "560fcfb2-def5-4dc7-b2ed-5f7bcd43cbda",
   "metadata": {},
   "outputs": [
    {
     "name": "stdout",
     "output_type": "stream",
     "text": [
      "Original Array:\n",
      "[[14  9 18  7 19]\n",
      " [14  3 11  2  6]\n",
      " [16  9 14 12 14]\n",
      " [ 8  4  3 16 19]\n",
      " [17 19  3 13  1]]\n",
      "\n",
      "Squared Array (Element-wise operation):\n",
      "[[196  81 324  49 361]\n",
      " [196   9 121   4  36]\n",
      " [256  81 196 144 196]\n",
      " [ 64  16   9 256 361]\n",
      " [289 361   9 169   1]]\n",
      "\n",
      "Mask (Elements > 10):\n",
      "[[ True False  True False  True]\n",
      " [ True False  True False False]\n",
      " [ True False  True  True  True]\n",
      " [False False False  True  True]\n",
      " [ True  True False  True False]]\n",
      "\n",
      "Masked Array (Elements > 10):\n",
      "[14 18 19 14 11 16 14 12 14 16 19 17 19 13]\n",
      "\n",
      "Squared Masked Array (Squared elements > 10):\n",
      "[196 324 361 196 121 256 196 144 196 256 361 289 361 169]\n"
     ]
    }
   ],
   "source": [
    "arr = np.random.randint(1, 20, size=(5, 5))\n",
    "print(\"Original Array:\")\n",
    "print(arr)\n",
    "print()\n",
    "\n",
    "\n",
    "squared_arr = np.square(arr)\n",
    "print(\"Squared Array (Element-wise operation):\")\n",
    "print(squared_arr)\n",
    "print()\n",
    "\n",
    "mask = arr > 10\n",
    "print(\"Mask (Elements > 10):\")\n",
    "print(mask)\n",
    "print()\n",
    "masked_arr = arr[mask]\n",
    "print(\"Masked Array (Elements > 10):\")\n",
    "print(masked_arr)\n",
    "print()\n",
    "\n",
    "squared_masked_arr = np.square(arr[mask])\n",
    "print(\"Squared Masked Array (Squared elements > 10):\")\n",
    "print(squared_masked_arr)\n"
   ]
  },
  {
   "cell_type": "code",
   "execution_count": null,
   "id": "1726874f-beae-4437-af94-4bf9d436d03e",
   "metadata": {},
   "outputs": [],
   "source": []
  }
 ],
 "metadata": {
  "kernelspec": {
   "display_name": "Python 3 (ipykernel)",
   "language": "python",
   "name": "python3"
  },
  "language_info": {
   "codemirror_mode": {
    "name": "ipython",
    "version": 3
   },
   "file_extension": ".py",
   "mimetype": "text/x-python",
   "name": "python",
   "nbconvert_exporter": "python",
   "pygments_lexer": "ipython3",
   "version": "3.11.7"
  }
 },
 "nbformat": 4,
 "nbformat_minor": 5
}
