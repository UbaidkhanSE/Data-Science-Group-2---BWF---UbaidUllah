{
 "cells": [
  {
   "cell_type": "markdown",
   "id": "7fb19ef0-8c39-40f9-809c-48b23c8d211a",
   "metadata": {},
   "source": [
    "# <span style=\"color:brown\">Data Cleaning and Preprocessing with Pandas and Real World Dataset</span>\n"
   ]
  },
  {
   "cell_type": "code",
   "execution_count": 32,
   "id": "56ba0194-c441-4ac1-8c32-2324914aeb4a",
   "metadata": {},
   "outputs": [
    {
     "data": {
      "text/html": [
       "<div>\n",
       "<style scoped>\n",
       "    .dataframe tbody tr th:only-of-type {\n",
       "        vertical-align: middle;\n",
       "    }\n",
       "\n",
       "    .dataframe tbody tr th {\n",
       "        vertical-align: top;\n",
       "    }\n",
       "\n",
       "    .dataframe thead th {\n",
       "        text-align: right;\n",
       "    }\n",
       "</style>\n",
       "<table border=\"1\" class=\"dataframe\">\n",
       "  <thead>\n",
       "    <tr style=\"text-align: right;\">\n",
       "      <th></th>\n",
       "      <th>AGE</th>\n",
       "      <th>BIRTH_DATE</th>\n",
       "      <th>HOURS</th>\n",
       "      <th>ORGAN_CLASSIFICATION</th>\n",
       "      <th>REPORT_DATE</th>\n",
       "      <th>MCROA_SENSITIVE</th>\n",
       "      <th>ANTIBIOTIC</th>\n",
       "      <th>INTENSITY</th>\n",
       "    </tr>\n",
       "  </thead>\n",
       "  <tbody>\n",
       "    <tr>\n",
       "      <th>0</th>\n",
       "      <td>1 Year(s)</td>\n",
       "      <td>2022-10-03</td>\n",
       "      <td>5 DAYS</td>\n",
       "      <td>GRAM -VE RODS</td>\n",
       "      <td>2022-10-26 12:14:02</td>\n",
       "      <td>Resistant To :</td>\n",
       "      <td>Ampicillin</td>\n",
       "      <td>Heavy</td>\n",
       "    </tr>\n",
       "    <tr>\n",
       "      <th>1</th>\n",
       "      <td>1 Year(s)</td>\n",
       "      <td>2022-02-03</td>\n",
       "      <td>48 Hours</td>\n",
       "      <td>GRAM -VE RODS</td>\n",
       "      <td>2023-05-06 11:30:43</td>\n",
       "      <td>Resistant To :</td>\n",
       "      <td>Ampicillin</td>\n",
       "      <td>Light</td>\n",
       "    </tr>\n",
       "    <tr>\n",
       "      <th>2</th>\n",
       "      <td>1 Year(s)</td>\n",
       "      <td>2022-11-08</td>\n",
       "      <td>48 Hours</td>\n",
       "      <td>GRAM -VE RODS</td>\n",
       "      <td>2023-06-12 10:25:00</td>\n",
       "      <td>Resistant To :</td>\n",
       "      <td>Ampicillin</td>\n",
       "      <td>Heavy</td>\n",
       "    </tr>\n",
       "    <tr>\n",
       "      <th>3</th>\n",
       "      <td>1 Year(s)</td>\n",
       "      <td>NaT</td>\n",
       "      <td>24 Hours</td>\n",
       "      <td>GRAM -VE RODS</td>\n",
       "      <td>2023-05-19 10:27:43</td>\n",
       "      <td>Resistant To :</td>\n",
       "      <td>Chloramphenicol</td>\n",
       "      <td>Heavy</td>\n",
       "    </tr>\n",
       "    <tr>\n",
       "      <th>4</th>\n",
       "      <td>1 Year(s)</td>\n",
       "      <td>2021-12-22</td>\n",
       "      <td>24 Hours</td>\n",
       "      <td>GRAM -VE RODS</td>\n",
       "      <td>2022-10-03 09:55:12</td>\n",
       "      <td>Sensitive To :</td>\n",
       "      <td>Amikacin</td>\n",
       "      <td>Heavy</td>\n",
       "    </tr>\n",
       "  </tbody>\n",
       "</table>\n",
       "</div>"
      ],
      "text/plain": [
       "         AGE BIRTH_DATE     HOURS ORGAN_CLASSIFICATION         REPORT_DATE  \\\n",
       "0  1 Year(s) 2022-10-03    5 DAYS        GRAM -VE RODS 2022-10-26 12:14:02   \n",
       "1  1 Year(s) 2022-02-03  48 Hours        GRAM -VE RODS 2023-05-06 11:30:43   \n",
       "2  1 Year(s) 2022-11-08  48 Hours        GRAM -VE RODS 2023-06-12 10:25:00   \n",
       "3  1 Year(s)        NaT  24 Hours        GRAM -VE RODS 2023-05-19 10:27:43   \n",
       "4  1 Year(s) 2021-12-22  24 Hours        GRAM -VE RODS 2022-10-03 09:55:12   \n",
       "\n",
       "  MCROA_SENSITIVE       ANTIBIOTIC INTENSITY  \n",
       "0  Resistant To :       Ampicillin     Heavy  \n",
       "1  Resistant To :       Ampicillin     Light  \n",
       "2  Resistant To :       Ampicillin     Heavy  \n",
       "3  Resistant To :  Chloramphenicol     Heavy  \n",
       "4  Sensitive To :         Amikacin     Heavy  "
      ]
     },
     "execution_count": 32,
     "metadata": {},
     "output_type": "execute_result"
    }
   ],
   "source": [
    "import pandas as pd\n",
    "file_path = r'E:\\Data Analysis\\Infection.xlsx'\n",
    "df = pd.read_excel(file_path)\n",
    "df.head()"
   ]
  },
  {
   "cell_type": "code",
   "execution_count": 33,
   "id": "ee380e33-28b5-4b81-be18-a9765a424024",
   "metadata": {},
   "outputs": [
    {
     "data": {
      "text/plain": [
       "AGE                             object\n",
       "BIRTH_DATE              datetime64[ns]\n",
       "HOURS                           object\n",
       "ORGAN_CLASSIFICATION            object\n",
       "REPORT_DATE             datetime64[ns]\n",
       "MCROA_SENSITIVE                 object\n",
       "ANTIBIOTIC                      object\n",
       "INTENSITY                       object\n",
       "dtype: object"
      ]
     },
     "execution_count": 33,
     "metadata": {},
     "output_type": "execute_result"
    }
   ],
   "source": [
    "df.dtypes"
   ]
  },
  {
   "cell_type": "markdown",
   "id": "e15d0f62-cccc-4e4b-970a-2f7b0c5cc6d8",
   "metadata": {},
   "source": [
    "#  Missing values"
   ]
  },
  {
   "cell_type": "code",
   "execution_count": 34,
   "id": "c9c90505-2a84-44cf-b82e-c6c18cf0fa40",
   "metadata": {},
   "outputs": [
    {
     "name": "stdout",
     "output_type": "stream",
     "text": [
      "3634\n"
     ]
    }
   ],
   "source": [
    "print(df.isnull().sum().sum())"
   ]
  },
  {
   "cell_type": "code",
   "execution_count": 35,
   "id": "659cdb6a-6982-4566-bbc8-6e2082a5da61",
   "metadata": {},
   "outputs": [
    {
     "name": "stdout",
     "output_type": "stream",
     "text": [
      "AGE                       38\n",
      "BIRTH_DATE                17\n",
      "HOURS                     22\n",
      "ORGAN_CLASSIFICATION      44\n",
      "REPORT_DATE               60\n",
      "MCROA_SENSITIVE           39\n",
      "ANTIBIOTIC                33\n",
      "INTENSITY               3381\n",
      "dtype: int64\n"
     ]
    }
   ],
   "source": [
    "print(df.isnull().sum())"
   ]
  },
  {
   "cell_type": "markdown",
   "id": "e661133a-ba82-40f2-ad02-b4c59f4e8adc",
   "metadata": {},
   "source": [
    "### Drop rows with missing values in the 'AGE' column and update the original DataFrame"
   ]
  },
  {
   "cell_type": "code",
   "execution_count": 36,
   "id": "bff8177d-c0eb-4e4d-a7fb-f7e284bffe80",
   "metadata": {},
   "outputs": [
    {
     "name": "stdout",
     "output_type": "stream",
     "text": [
      "Check change in AGE:\n",
      "AGE                        0\n",
      "BIRTH_DATE                 5\n",
      "HOURS                     11\n",
      "ORGAN_CLASSIFICATION      44\n",
      "REPORT_DATE               53\n",
      "MCROA_SENSITIVE           19\n",
      "ANTIBIOTIC                26\n",
      "INTENSITY               3378\n",
      "dtype: int64\n"
     ]
    }
   ],
   "source": [
    "df = df.dropna(subset=['AGE'])\n",
    "print(\"Check change in AGE:\")\n",
    "print(df.isnull().sum())"
   ]
  },
  {
   "cell_type": "markdown",
   "id": "9ec243c8-60d2-45f9-b716-0290a3eace35",
   "metadata": {},
   "source": [
    "### Drop columns with missing values in the 'ANTIBIOTIC' column and update the orignal DataFrame"
   ]
  },
  {
   "cell_type": "code",
   "execution_count": 37,
   "id": "370faaa8-c46b-48fd-9699-42df5a2948fe",
   "metadata": {},
   "outputs": [
    {
     "name": "stdout",
     "output_type": "stream",
     "text": [
      "Check change in ANTIBIOTIC:\n",
      "AGE                        0\n",
      "BIRTH_DATE                 5\n",
      "HOURS                     10\n",
      "ORGAN_CLASSIFICATION      36\n",
      "REPORT_DATE               31\n",
      "MCROA_SENSITIVE            5\n",
      "ANTIBIOTIC                 0\n",
      "INTENSITY               3375\n",
      "dtype: int64\n"
     ]
    }
   ],
   "source": [
    "df.dropna(subset=['ANTIBIOTIC'], inplace=True)\n",
    "print(\"Check change in ANTIBIOTIC:\")\n",
    "print(df.isnull().sum())"
   ]
  },
  {
   "cell_type": "markdown",
   "id": "39e7520c-ad76-4791-9f27-8fb098d255fb",
   "metadata": {},
   "source": [
    "### Fill with a specific value in 'BIRTH_DATE' : Placeholder or the most frequent value."
   ]
  },
  {
   "cell_type": "code",
   "execution_count": 38,
   "id": "59c5cf5f-0064-4015-b2e4-8476034c34da",
   "metadata": {},
   "outputs": [
    {
     "name": "stdout",
     "output_type": "stream",
     "text": [
      "Check change in Hours:\n",
      "AGE                        0\n",
      "BIRTH_DATE                 0\n",
      "HOURS                     10\n",
      "ORGAN_CLASSIFICATION      36\n",
      "REPORT_DATE               31\n",
      "MCROA_SENSITIVE            5\n",
      "ANTIBIOTIC                 0\n",
      "INTENSITY               3375\n",
      "dtype: int64\n"
     ]
    }
   ],
   "source": [
    "#Placeholder\n",
    "most_frequent_birth_date = df['BIRTH_DATE'].mode()[0]\n",
    "df['BIRTH_DATE'] = df['BIRTH_DATE'].fillna(most_frequent_birth_date)\n",
    "missing_values = df.isnull().sum()\n",
    "print(\"Check change in Hours:\")\n",
    "print(missing_values)\n"
   ]
  },
  {
   "cell_type": "code",
   "execution_count": 39,
   "id": "9e7cb320-ba3a-4f38-9260-dae7b4b35cb4",
   "metadata": {},
   "outputs": [
    {
     "name": "stdout",
     "output_type": "stream",
     "text": [
      "Check change ORGAN_CLASSIFICATION :\n",
      "AGE                        0\n",
      "BIRTH_DATE                 0\n",
      "HOURS                     10\n",
      "ORGAN_CLASSIFICATION       0\n",
      "REPORT_DATE               31\n",
      "MCROA_SENSITIVE            5\n",
      "ANTIBIOTIC                 0\n",
      "INTENSITY               3375\n",
      "dtype: int64\n"
     ]
    }
   ],
   "source": [
    "#Frequen value\n",
    "most_frequent_organ = df['ORGAN_CLASSIFICATION'].mode()[0]\n",
    "df['ORGAN_CLASSIFICATION'] = df['ORGAN_CLASSIFICATION'].fillna(most_frequent_organ)\n",
    "missing_values = df.isnull().sum()\n",
    "print(\"Check change ORGAN_CLASSIFICATION :\")\n",
    "print(missing_values)\n"
   ]
  },
  {
   "cell_type": "markdown",
   "id": "62d0daf5-57c7-4240-9053-6aa82c82dadd",
   "metadata": {},
   "source": [
    "### Forward and fill missing values in 'REPORT_DATE' and 'MCROA_SENSITIVE' columns"
   ]
  },
  {
   "cell_type": "code",
   "execution_count": 40,
   "id": "e0a4d303-7644-4d5f-b9c5-58f7a76728b7",
   "metadata": {},
   "outputs": [
    {
     "name": "stdout",
     "output_type": "stream",
     "text": [
      "Check missing values after fill:\n",
      "AGE                        0\n",
      "BIRTH_DATE                 0\n",
      "HOURS                     10\n",
      "ORGAN_CLASSIFICATION       0\n",
      "REPORT_DATE                0\n",
      "MCROA_SENSITIVE            0\n",
      "ANTIBIOTIC                 0\n",
      "INTENSITY               3375\n",
      "dtype: int64\n"
     ]
    }
   ],
   "source": [
    "df['REPORT_DATE'] = df['REPORT_DATE'].ffill()\n",
    "df['MCROA_SENSITIVE'] = df['MCROA_SENSITIVE'].bfill()\n",
    "missing_values = df.isnull().sum()\n",
    "print(\"Check missing values after fill:\")\n",
    "print(missing_values)"
   ]
  },
  {
   "cell_type": "markdown",
   "id": "461e676e-4514-4b74-93e9-e047e0e3da9c",
   "metadata": {},
   "source": [
    "### Interpolate missing values in the 'HOURS' column"
   ]
  },
  {
   "cell_type": "code",
   "execution_count": 41,
   "id": "63a8bc60-c808-48ea-8002-bc31b40b6466",
   "metadata": {},
   "outputs": [
    {
     "data": {
      "text/plain": [
       "AGE                             object\n",
       "BIRTH_DATE              datetime64[ns]\n",
       "HOURS                           object\n",
       "ORGAN_CLASSIFICATION            object\n",
       "REPORT_DATE             datetime64[ns]\n",
       "MCROA_SENSITIVE                 object\n",
       "ANTIBIOTIC                      object\n",
       "INTENSITY                       object\n",
       "dtype: object"
      ]
     },
     "execution_count": 41,
     "metadata": {},
     "output_type": "execute_result"
    }
   ],
   "source": [
    "df.dtypes"
   ]
  },
  {
   "cell_type": "markdown",
   "id": "59a6dbfa-6c06-4340-9ef0-80b024685ece",
   "metadata": {},
   "source": [
    "### parse hours and convert object data type into float for Interpolate missing values in HOURS"
   ]
  },
  {
   "cell_type": "code",
   "execution_count": 42,
   "id": "06722fe8-67ce-4a00-bc6b-60501724714d",
   "metadata": {},
   "outputs": [
    {
     "name": "stdout",
     "output_type": "stream",
     "text": [
      "See Changes in datatypes\n"
     ]
    },
    {
     "data": {
      "text/plain": [
       "AGE                             object\n",
       "BIRTH_DATE              datetime64[ns]\n",
       "HOURS                          float64\n",
       "ORGAN_CLASSIFICATION            object\n",
       "REPORT_DATE             datetime64[ns]\n",
       "MCROA_SENSITIVE                 object\n",
       "ANTIBIOTIC                      object\n",
       "INTENSITY                       object\n",
       "dtype: object"
      ]
     },
     "execution_count": 42,
     "metadata": {},
     "output_type": "execute_result"
    }
   ],
   "source": [
    "def parse_hours(hours_str):\n",
    "    if isinstance(hours_str, str):\n",
    "        if 'DAYS' in hours_str:\n",
    "            return int(hours_str.split()[0]) * 24 \n",
    "        elif 'Hours' in hours_str:\n",
    "            return int(hours_str.split()[0])\n",
    "        else:\n",
    "            return None \n",
    "    else:\n",
    "        return hours_str  \n",
    "\n",
    "\n",
    "df['HOURS'] = df['HOURS'].apply(parse_hours)\n",
    "\n",
    "print(\"See Changes in datatypes\")\n",
    "df.dtypes\n",
    "\n"
   ]
  },
  {
   "cell_type": "code",
   "execution_count": 43,
   "id": "4a6eadcd-4b49-42f9-a09d-e4ebec131007",
   "metadata": {},
   "outputs": [
    {
     "name": "stdout",
     "output_type": "stream",
     "text": [
      "Check Hours coulmn:\n",
      "AGE                        0\n",
      "BIRTH_DATE                 0\n",
      "HOURS                      0\n",
      "ORGAN_CLASSIFICATION       0\n",
      "REPORT_DATE                0\n",
      "MCROA_SENSITIVE            0\n",
      "ANTIBIOTIC                 0\n",
      "INTENSITY               3375\n",
      "dtype: int64\n"
     ]
    }
   ],
   "source": [
    "# Interpolate missing values in 'HOURS' column\n",
    "df['HOURS'] = df['HOURS'].interpolate()\n",
    "\n",
    "missing_values = df.isnull().sum()\n",
    "print(\"Check Hours coulmn:\")\n",
    "print(missing_values)"
   ]
  },
  {
   "cell_type": "markdown",
   "id": "b65c86a4-eaab-4875-8849-107c52a608d6",
   "metadata": {},
   "source": [
    "###  Custom Mapping or Business Rules for 'INTENSITY' missing values"
   ]
  },
  {
   "cell_type": "markdown",
   "id": "2a4ae591-c4ba-4c84-a702-2e31b41e053a",
   "metadata": {},
   "source": [
    "#### Function to convert age strings to numeric years #####"
   ]
  },
  {
   "cell_type": "code",
   "execution_count": 44,
   "id": "02132a7a-f1d0-4242-bc86-4e49ff4e6514",
   "metadata": {},
   "outputs": [],
   "source": [
    "def convert_age(age_string):\n",
    "    try:\n",
    "        if 'Year' in age_string:\n",
    "            age = int(age_string.split()[0]) \n",
    "        elif 'Month' in age_string:\n",
    "            age = round(int(age_string.split()[0]) / 12, 2) \n",
    "        else:\n",
    "            age = None  \n",
    "        return age\n",
    "    except:\n",
    "        return None\n",
    "\n",
    "df['AGE'] = df['AGE'].apply(convert_age)"
   ]
  },
  {
   "cell_type": "markdown",
   "id": "987ff832-97c3-46ab-8da6-f341953c306b",
   "metadata": {},
   "source": [
    "### Define a function to apply custom rules for missing values"
   ]
  },
  {
   "cell_type": "code",
   "execution_count": 45,
   "id": "5193d605-f113-45a0-be68-2e92c0f43324",
   "metadata": {},
   "outputs": [],
   "source": [
    "def fill_intensity_missing(row):\n",
    "    if pd.isna(row['INTENSITY']):\n",
    "        if 30 <= row['AGE'] <= 40:\n",
    "            return 'Moderate'\n",
    "        else:\n",
    "            return 'Unknown' \n",
    "    else:\n",
    "        return row['INTENSITY']  \n",
    "\n",
    "df['INTENSITY'] = df.apply(fill_intensity_missing, axis=1)\n"
   ]
  },
  {
   "cell_type": "code",
   "execution_count": 46,
   "id": "11ad2c92-5d06-4661-a224-9b59b23f6ce0",
   "metadata": {},
   "outputs": [
    {
     "name": "stdout",
     "output_type": "stream",
     "text": [
      "Check Hours coulmn:\n",
      "AGE                     0\n",
      "BIRTH_DATE              0\n",
      "HOURS                   0\n",
      "ORGAN_CLASSIFICATION    0\n",
      "REPORT_DATE             0\n",
      "MCROA_SENSITIVE         0\n",
      "ANTIBIOTIC              0\n",
      "INTENSITY               0\n",
      "dtype: int64\n"
     ]
    }
   ],
   "source": [
    "missing_values = df.isnull().sum()\n",
    "print(\"Check Hours coulmn:\")\n",
    "print(missing_values)"
   ]
  },
  {
   "cell_type": "markdown",
   "id": "9889604f-b0a8-4e27-b2c8-922e55442c9a",
   "metadata": {},
   "source": [
    "### Convert a column 'AGE' from Float to integer data type."
   ]
  },
  {
   "cell_type": "code",
   "execution_count": 47,
   "id": "02d92877-f861-4b0d-8911-4ce38b567f89",
   "metadata": {},
   "outputs": [
    {
     "data": {
      "text/plain": [
       "dtype('float64')"
      ]
     },
     "execution_count": 47,
     "metadata": {},
     "output_type": "execute_result"
    }
   ],
   "source": [
    "df['AGE'].dtype\n"
   ]
  },
  {
   "cell_type": "code",
   "execution_count": 48,
   "id": "63519143-9b26-465d-96ef-eee2dce34346",
   "metadata": {},
   "outputs": [
    {
     "data": {
      "text/plain": [
       "dtype('int32')"
      ]
     },
     "execution_count": 48,
     "metadata": {},
     "output_type": "execute_result"
    }
   ],
   "source": [
    "df['AGE'] = df['AGE'].astype(float).fillna(0).astype(int) \n",
    "df['AGE'].dtype\n"
   ]
  },
  {
   "cell_type": "markdown",
   "id": "25a03c4c-a07a-4d29-83bd-7b45086fc087",
   "metadata": {},
   "source": [
    "### Apply a function to transform the values of a 'AGE' and add extra coulmn.\n"
   ]
  },
  {
   "cell_type": "code",
   "execution_count": 49,
   "id": "9ae73eab-1128-4ee0-8d91-78d095e02af9",
   "metadata": {},
   "outputs": [
    {
     "name": "stdout",
     "output_type": "stream",
     "text": [
      "Look 98 square 9604\n"
     ]
    },
    {
     "data": {
      "text/html": [
       "<div>\n",
       "<style scoped>\n",
       "    .dataframe tbody tr th:only-of-type {\n",
       "        vertical-align: middle;\n",
       "    }\n",
       "\n",
       "    .dataframe tbody tr th {\n",
       "        vertical-align: top;\n",
       "    }\n",
       "\n",
       "    .dataframe thead th {\n",
       "        text-align: right;\n",
       "    }\n",
       "</style>\n",
       "<table border=\"1\" class=\"dataframe\">\n",
       "  <thead>\n",
       "    <tr style=\"text-align: right;\">\n",
       "      <th></th>\n",
       "      <th>AGE</th>\n",
       "      <th>AGE_squared</th>\n",
       "    </tr>\n",
       "  </thead>\n",
       "  <tbody>\n",
       "    <tr>\n",
       "      <th>0</th>\n",
       "      <td>1</td>\n",
       "      <td>1</td>\n",
       "    </tr>\n",
       "    <tr>\n",
       "      <th>1</th>\n",
       "      <td>1</td>\n",
       "      <td>1</td>\n",
       "    </tr>\n",
       "    <tr>\n",
       "      <th>2</th>\n",
       "      <td>1</td>\n",
       "      <td>1</td>\n",
       "    </tr>\n",
       "    <tr>\n",
       "      <th>3</th>\n",
       "      <td>1</td>\n",
       "      <td>1</td>\n",
       "    </tr>\n",
       "    <tr>\n",
       "      <th>4</th>\n",
       "      <td>1</td>\n",
       "      <td>1</td>\n",
       "    </tr>\n",
       "    <tr>\n",
       "      <th>...</th>\n",
       "      <td>...</td>\n",
       "      <td>...</td>\n",
       "    </tr>\n",
       "    <tr>\n",
       "      <th>28273</th>\n",
       "      <td>98</td>\n",
       "      <td>9604</td>\n",
       "    </tr>\n",
       "    <tr>\n",
       "      <th>28274</th>\n",
       "      <td>98</td>\n",
       "      <td>9604</td>\n",
       "    </tr>\n",
       "    <tr>\n",
       "      <th>28275</th>\n",
       "      <td>98</td>\n",
       "      <td>9604</td>\n",
       "    </tr>\n",
       "    <tr>\n",
       "      <th>28276</th>\n",
       "      <td>98</td>\n",
       "      <td>9604</td>\n",
       "    </tr>\n",
       "    <tr>\n",
       "      <th>28277</th>\n",
       "      <td>98</td>\n",
       "      <td>9604</td>\n",
       "    </tr>\n",
       "  </tbody>\n",
       "</table>\n",
       "<p>28214 rows × 2 columns</p>\n",
       "</div>"
      ],
      "text/plain": [
       "       AGE  AGE_squared\n",
       "0        1            1\n",
       "1        1            1\n",
       "2        1            1\n",
       "3        1            1\n",
       "4        1            1\n",
       "...    ...          ...\n",
       "28273   98         9604\n",
       "28274   98         9604\n",
       "28275   98         9604\n",
       "28276   98         9604\n",
       "28277   98         9604\n",
       "\n",
       "[28214 rows x 2 columns]"
      ]
     },
     "execution_count": 49,
     "metadata": {},
     "output_type": "execute_result"
    }
   ],
   "source": [
    "def square_age(age):\n",
    "    return age ** 2 \n",
    "\n",
    "df['AGE_squared'] = df['AGE'].apply(square_age)\n",
    "print(\"Look 98 square 9604\")\n",
    "df[['AGE', 'AGE_squared']]\n"
   ]
  },
  {
   "cell_type": "markdown",
   "id": "d64b6231-875b-4926-bd6b-63ed97a01c7a",
   "metadata": {},
   "source": [
    "### Normalize a 'HOURS' using Min-Max scaling.\n"
   ]
  },
  {
   "cell_type": "code",
   "execution_count": 50,
   "id": "b7edb697-18e7-4e34-abe5-901ee064a054",
   "metadata": {},
   "outputs": [
    {
     "data": {
      "text/html": [
       "<div>\n",
       "<style scoped>\n",
       "    .dataframe tbody tr th:only-of-type {\n",
       "        vertical-align: middle;\n",
       "    }\n",
       "\n",
       "    .dataframe tbody tr th {\n",
       "        vertical-align: top;\n",
       "    }\n",
       "\n",
       "    .dataframe thead th {\n",
       "        text-align: right;\n",
       "    }\n",
       "</style>\n",
       "<table border=\"1\" class=\"dataframe\">\n",
       "  <thead>\n",
       "    <tr style=\"text-align: right;\">\n",
       "      <th></th>\n",
       "      <th>HOURS</th>\n",
       "      <th>HOURS_normalized</th>\n",
       "    </tr>\n",
       "  </thead>\n",
       "  <tbody>\n",
       "    <tr>\n",
       "      <th>0</th>\n",
       "      <td>120.0</td>\n",
       "      <td>0.692308</td>\n",
       "    </tr>\n",
       "    <tr>\n",
       "      <th>1</th>\n",
       "      <td>48.0</td>\n",
       "      <td>0.230769</td>\n",
       "    </tr>\n",
       "    <tr>\n",
       "      <th>2</th>\n",
       "      <td>48.0</td>\n",
       "      <td>0.230769</td>\n",
       "    </tr>\n",
       "    <tr>\n",
       "      <th>3</th>\n",
       "      <td>24.0</td>\n",
       "      <td>0.076923</td>\n",
       "    </tr>\n",
       "    <tr>\n",
       "      <th>4</th>\n",
       "      <td>24.0</td>\n",
       "      <td>0.076923</td>\n",
       "    </tr>\n",
       "    <tr>\n",
       "      <th>...</th>\n",
       "      <td>...</td>\n",
       "      <td>...</td>\n",
       "    </tr>\n",
       "    <tr>\n",
       "      <th>28273</th>\n",
       "      <td>72.0</td>\n",
       "      <td>0.384615</td>\n",
       "    </tr>\n",
       "    <tr>\n",
       "      <th>28274</th>\n",
       "      <td>72.0</td>\n",
       "      <td>0.384615</td>\n",
       "    </tr>\n",
       "    <tr>\n",
       "      <th>28275</th>\n",
       "      <td>72.0</td>\n",
       "      <td>0.384615</td>\n",
       "    </tr>\n",
       "    <tr>\n",
       "      <th>28276</th>\n",
       "      <td>72.0</td>\n",
       "      <td>0.384615</td>\n",
       "    </tr>\n",
       "    <tr>\n",
       "      <th>28277</th>\n",
       "      <td>72.0</td>\n",
       "      <td>0.384615</td>\n",
       "    </tr>\n",
       "  </tbody>\n",
       "</table>\n",
       "<p>28214 rows × 2 columns</p>\n",
       "</div>"
      ],
      "text/plain": [
       "       HOURS  HOURS_normalized\n",
       "0      120.0          0.692308\n",
       "1       48.0          0.230769\n",
       "2       48.0          0.230769\n",
       "3       24.0          0.076923\n",
       "4       24.0          0.076923\n",
       "...      ...               ...\n",
       "28273   72.0          0.384615\n",
       "28274   72.0          0.384615\n",
       "28275   72.0          0.384615\n",
       "28276   72.0          0.384615\n",
       "28277   72.0          0.384615\n",
       "\n",
       "[28214 rows x 2 columns]"
      ]
     },
     "execution_count": 50,
     "metadata": {},
     "output_type": "execute_result"
    }
   ],
   "source": [
    "def min_max_scaling(column):\n",
    "    return (column - column.min()) / (column.max() - column.min())\n",
    "df['HOURS_normalized'] = min_max_scaling(df['HOURS'])\n",
    "df[['HOURS', 'HOURS_normalized']]"
   ]
  },
  {
   "cell_type": "markdown",
   "id": "f68a3584-02f0-4acb-903b-df05d2bf3bf7",
   "metadata": {},
   "source": [
    "### Standardize a 'HOURS' (z-score normalization)."
   ]
  },
  {
   "cell_type": "code",
   "execution_count": 51,
   "id": "bc000bb2-5d81-45a7-a1e3-81af88be7536",
   "metadata": {},
   "outputs": [
    {
     "data": {
      "text/html": [
       "<div>\n",
       "<style scoped>\n",
       "    .dataframe tbody tr th:only-of-type {\n",
       "        vertical-align: middle;\n",
       "    }\n",
       "\n",
       "    .dataframe tbody tr th {\n",
       "        vertical-align: top;\n",
       "    }\n",
       "\n",
       "    .dataframe thead th {\n",
       "        text-align: right;\n",
       "    }\n",
       "</style>\n",
       "<table border=\"1\" class=\"dataframe\">\n",
       "  <thead>\n",
       "    <tr style=\"text-align: right;\">\n",
       "      <th></th>\n",
       "      <th>HOURS</th>\n",
       "      <th>Standardized Hours</th>\n",
       "    </tr>\n",
       "  </thead>\n",
       "  <tbody>\n",
       "    <tr>\n",
       "      <th>0</th>\n",
       "      <td>120.0</td>\n",
       "      <td>1.262227</td>\n",
       "    </tr>\n",
       "    <tr>\n",
       "      <th>1</th>\n",
       "      <td>48.0</td>\n",
       "      <td>-0.474155</td>\n",
       "    </tr>\n",
       "    <tr>\n",
       "      <th>2</th>\n",
       "      <td>48.0</td>\n",
       "      <td>-0.474155</td>\n",
       "    </tr>\n",
       "    <tr>\n",
       "      <th>3</th>\n",
       "      <td>24.0</td>\n",
       "      <td>-1.052949</td>\n",
       "    </tr>\n",
       "    <tr>\n",
       "      <th>4</th>\n",
       "      <td>24.0</td>\n",
       "      <td>-1.052949</td>\n",
       "    </tr>\n",
       "  </tbody>\n",
       "</table>\n",
       "</div>"
      ],
      "text/plain": [
       "   HOURS  Standardized Hours\n",
       "0  120.0            1.262227\n",
       "1   48.0           -0.474155\n",
       "2   48.0           -0.474155\n",
       "3   24.0           -1.052949\n",
       "4   24.0           -1.052949"
      ]
     },
     "execution_count": 51,
     "metadata": {},
     "output_type": "execute_result"
    }
   ],
   "source": [
    "mean_hours = df['HOURS'].mean()\n",
    "std_hours = df['HOURS'].std()\n",
    "df['Standardized Hours'] = (df['HOURS'] - mean_hours) / std_hours\n",
    "df[['HOURS', 'Standardized Hours']].head()\n"
   ]
  },
  {
   "cell_type": "markdown",
   "id": "552d488b-dd2f-4be6-838d-7d10fd625b17",
   "metadata": {},
   "source": [
    "### Identify duplicate rows in the DataFrame.\n"
   ]
  },
  {
   "cell_type": "code",
   "execution_count": 52,
   "id": "443b91c5-725d-4649-93be-ec62356cc175",
   "metadata": {},
   "outputs": [
    {
     "name": "stdout",
     "output_type": "stream",
     "text": [
      "Duplicate Rows:\n",
      "       AGE BIRTH_DATE  HOURS ORGAN_CLASSIFICATION         REPORT_DATE  \\\n",
      "194     10 2013-03-15  168.0        GRAM -VE RODS 2022-03-25 11:23:49   \n",
      "206     10 2013-06-17   24.0        GRAM -VE RODS 2022-07-21 11:12:05   \n",
      "221     10 2013-07-16   48.0        GRAM -VE RODS 2023-07-19 11:46:22   \n",
      "251     10 2013-08-08  120.0        GRAM -VE RODS 2023-08-15 11:48:18   \n",
      "256     10 2013-03-15  168.0        GRAM -VE RODS 2022-03-25 11:23:49   \n",
      "...    ...        ...    ...                  ...                 ...   \n",
      "28229    9 2014-03-28  144.0        GRAM -VE RODS 2022-04-06 11:51:38   \n",
      "28232    9 2014-04-06  144.0        GRAM -VE RODS 2022-04-13 10:21:35   \n",
      "28233    9 2014-04-18   72.0        GRAM -VE RODS 2022-04-22 11:02:47   \n",
      "28234    9 2014-05-24   24.0        GRAM -VE RODS 2022-05-27 10:14:37   \n",
      "28259    9 2014-04-04   24.0        GRAM -VE RODS 2023-04-07 10:53:58   \n",
      "\n",
      "      MCROA_SENSITIVE       ANTIBIOTIC INTENSITY  AGE_squared  \\\n",
      "194    Resistant To :       Ampicillin   Unknown          100   \n",
      "206    Resistant To :       Ampicillin     Heavy          100   \n",
      "221    Resistant To :       Ampicillin     Heavy          100   \n",
      "251    Resistant To :  Chloramphenicol     Heavy          100   \n",
      "256    Resistant To :         Cefixime   Unknown          100   \n",
      "...               ...              ...       ...          ...   \n",
      "28229  Sensitive To :     Azithromycin     Heavy           81   \n",
      "28232  Sensitive To :     Azithromycin  Moderate           81   \n",
      "28233  Sensitive To :     Azithromycin  Moderate           81   \n",
      "28234  Sensitive To :     Azithromycin     Heavy           81   \n",
      "28259  Sensitive To :     Azithromycin     Light           81   \n",
      "\n",
      "       HOURS_normalized  Standardized Hours  \n",
      "194            1.000000            2.419815  \n",
      "206            0.076923           -1.052949  \n",
      "221            0.230769           -0.474155  \n",
      "251            0.692308            1.262227  \n",
      "256            1.000000            2.419815  \n",
      "...                 ...                 ...  \n",
      "28229          0.846154            1.841021  \n",
      "28232          0.846154            1.841021  \n",
      "28233          0.384615            0.104639  \n",
      "28234          0.076923           -1.052949  \n",
      "28259          0.076923           -1.052949  \n",
      "\n",
      "[3966 rows x 11 columns]\n"
     ]
    }
   ],
   "source": [
    "duplicate_rows = df[df.duplicated(keep=False)]\n",
    "print(\"Duplicate Rows:\")\n",
    "print(duplicate_rows)\n"
   ]
  },
  {
   "cell_type": "markdown",
   "id": "fdacc7d4-fed4-4ba2-9054-7aa850cc76c2",
   "metadata": {},
   "source": [
    "### Drop duplicate rows based on specific columns.\n"
   ]
  },
  {
   "cell_type": "code",
   "execution_count": 53,
   "id": "8209a22e-93c6-4472-b38f-e72541641dcf",
   "metadata": {},
   "outputs": [],
   "source": [
    "subset_cols = ['AGE', 'BIRTH_DATE', 'HOURS']\n",
    "df_subset = df.drop_duplicates(subset=subset_cols)"
   ]
  },
  {
   "cell_type": "markdown",
   "id": "025d2dae-cbdf-4a2d-a596-3a720ddf57bd",
   "metadata": {},
   "source": [
    "###  Drop duplicate rows based on all columns"
   ]
  },
  {
   "cell_type": "code",
   "execution_count": 54,
   "id": "82bc3242-2bae-4187-98b5-92dba4b12134",
   "metadata": {},
   "outputs": [
    {
     "name": "stdout",
     "output_type": "stream",
     "text": [
      "Empty DataFrame\n",
      "Columns: [AGE, BIRTH_DATE, HOURS, ORGAN_CLASSIFICATION, REPORT_DATE, MCROA_SENSITIVE, ANTIBIOTIC, INTENSITY, AGE_squared, HOURS_normalized, Standardized Hours]\n",
      "Index: []\n"
     ]
    }
   ],
   "source": [
    "df = df.drop_duplicates()\n",
    "duplicates = df.duplicated()\n",
    "duplicate_rows = df[duplicates]\n",
    "print(duplicate_rows)"
   ]
  },
  {
   "cell_type": "markdown",
   "id": "5210267c-cb94-4e10-b3d4-8ae9f24d8c9e",
   "metadata": {},
   "source": [
    "### Convert all string values in a column to lowercase.\n"
   ]
  },
  {
   "cell_type": "code",
   "execution_count": 55,
   "id": "979d8321-1414-4896-8937-e049385c8c1c",
   "metadata": {},
   "outputs": [
    {
     "name": "stdout",
     "output_type": "stream",
     "text": [
      "0        resistant to :\n",
      "1        resistant to :\n",
      "2        resistant to :\n",
      "3        resistant to :\n",
      "4        sensitive to :\n",
      "              ...      \n",
      "28273    resistant to :\n",
      "28274    sensitive to :\n",
      "28275    resistant to :\n",
      "28276    resistant to :\n",
      "28277    sensitive to :\n",
      "Name: MCROA_SENSITIVE, Length: 26186, dtype: object\n"
     ]
    }
   ],
   "source": [
    "df['MCROA_SENSITIVE'] = df['MCROA_SENSITIVE'].str.lower()\n",
    "print(df['MCROA_SENSITIVE'])"
   ]
  },
  {
   "cell_type": "markdown",
   "id": "0dbcbfa9-0a33-4f17-9a28-9e13c021f193",
   "metadata": {},
   "source": [
    "### Remove leading and trailing spaces from string values in a column.\n"
   ]
  },
  {
   "cell_type": "code",
   "execution_count": 56,
   "id": "277697d3-4df9-4f53-8dc8-d89a144d487b",
   "metadata": {},
   "outputs": [
    {
     "name": "stdout",
     "output_type": "stream",
     "text": [
      "0        resistant to :\n",
      "1        resistant to :\n",
      "2        resistant to :\n",
      "3        resistant to :\n",
      "4        sensitive to :\n",
      "              ...      \n",
      "28273    resistant to :\n",
      "28274    sensitive to :\n",
      "28275    resistant to :\n",
      "28276    resistant to :\n",
      "28277    sensitive to :\n",
      "Name: MCROA_SENSITIVE, Length: 26186, dtype: object\n"
     ]
    }
   ],
   "source": [
    "df['MCROA_SENSITIVE'] = df['MCROA_SENSITIVE'].str.strip()\n",
    "print(df['MCROA_SENSITIVE'])"
   ]
  },
  {
   "cell_type": "markdown",
   "id": "090f5d92-48e3-4515-861d-5d2e9b3fc872",
   "metadata": {},
   "source": [
    "###  Replace a specific substring in the column"
   ]
  },
  {
   "cell_type": "code",
   "execution_count": 57,
   "id": "0810ec15-9060-48e4-a69d-0a663d4922be",
   "metadata": {},
   "outputs": [
    {
     "data": {
      "text/plain": [
       "0        GRAM -VE RODS\n",
       "1        GRAM -VE RODS\n",
       "2        GRAM -VE RODS\n",
       "3        GRAM -VE RODS\n",
       "4        GRAM -VE RODS\n",
       "             ...      \n",
       "28273    GRAM -VE RODS\n",
       "28274    GRAM -VE RODS\n",
       "28275    GRAM -VE RODS\n",
       "28276    GRAM -VE RODS\n",
       "28277    GRAM -VE RODS\n",
       "Name: ORGAN_CLASSIFICATION, Length: 26186, dtype: object"
      ]
     },
     "execution_count": 57,
     "metadata": {},
     "output_type": "execute_result"
    }
   ],
   "source": [
    "df['ORGAN_CLASSIFICATION']"
   ]
  },
  {
   "cell_type": "code",
   "execution_count": 58,
   "id": "289fc185-8ecf-4d93-a88a-39ffdded75d6",
   "metadata": {},
   "outputs": [
    {
     "name": "stdout",
     "output_type": "stream",
     "text": [
      "0        GRAM -VH RODS\n",
      "1        GRAM -VH RODS\n",
      "2        GRAM -VH RODS\n",
      "3        GRAM -VH RODS\n",
      "4        GRAM -VH RODS\n",
      "             ...      \n",
      "28273    GRAM -VH RODS\n",
      "28274    GRAM -VH RODS\n",
      "28275    GRAM -VH RODS\n",
      "28276    GRAM -VH RODS\n",
      "28277    GRAM -VH RODS\n",
      "Name: ORGAN_CLASSIFICATION, Length: 26186, dtype: object\n"
     ]
    }
   ],
   "source": [
    "df['ORGAN_CLASSIFICATION'] = df['ORGAN_CLASSIFICATION'].str.replace('VE', 'VH')\n",
    "print(df['ORGAN_CLASSIFICATION'])"
   ]
  },
  {
   "cell_type": "markdown",
   "id": "1a506a9f-6522-4c04-a966-bbce8ab2a450",
   "metadata": {},
   "source": [
    "### Extract a substring 'RODS' from ORGAN_CLASSIFICATION\n"
   ]
  },
  {
   "cell_type": "code",
   "execution_count": 59,
   "id": "7a517d91-f2cc-48ba-9dd0-052df9961e82",
   "metadata": {},
   "outputs": [
    {
     "name": "stdout",
     "output_type": "stream",
     "text": [
      "      ORGAN_CLASSIFICATION  RODS\n",
      "0            GRAM -VH RODS  RODS\n",
      "1            GRAM -VH RODS  RODS\n",
      "2            GRAM -VH RODS  RODS\n",
      "3            GRAM -VH RODS  RODS\n",
      "4            GRAM -VH RODS  RODS\n",
      "...                    ...   ...\n",
      "28273        GRAM -VH RODS  RODS\n",
      "28274        GRAM -VH RODS  RODS\n",
      "28275        GRAM -VH RODS  RODS\n",
      "28276        GRAM -VH RODS  RODS\n",
      "28277        GRAM -VH RODS  RODS\n",
      "\n",
      "[26186 rows x 2 columns]\n"
     ]
    }
   ],
   "source": [
    "df['RODS'] = df['ORGAN_CLASSIFICATION'].str.extract('(RODS)', expand=False)\n",
    "print(df[['ORGAN_CLASSIFICATION', 'RODS']])"
   ]
  },
  {
   "cell_type": "markdown",
   "id": "dd6f8e6a-70f1-45e5-97b0-01b9d397ad3f",
   "metadata": {},
   "source": [
    "### Convert a ' BIRTH_DATE' to datetime format.\n"
   ]
  },
  {
   "cell_type": "code",
   "execution_count": 60,
   "id": "c7ec2ea9-1ca5-43bf-b8a7-fa1f78386f1e",
   "metadata": {},
   "outputs": [],
   "source": [
    "df['BIRTH_DATE'] = pd.to_datetime(df['BIRTH_DATE'], errors='coerce')\n"
   ]
  },
  {
   "cell_type": "markdown",
   "id": "63cc3f80-cf3e-4d34-9a2e-a54434772fb6",
   "metadata": {},
   "source": [
    "### Extract year, month, and day from 'BIRTH_DATE' into new columns"
   ]
  },
  {
   "cell_type": "code",
   "execution_count": 61,
   "id": "0fa6e8af-1778-42df-bdb3-59178cb59839",
   "metadata": {},
   "outputs": [
    {
     "name": "stdout",
     "output_type": "stream",
     "text": [
      "      BIRTH_DATE  YEAR  MONTH  DAY\n",
      "0     2022-10-03  2022     10    3\n",
      "1     2022-02-03  2022      2    3\n",
      "2     2022-11-08  2022     11    8\n",
      "3     2014-06-06  2014      6    6\n",
      "4     2021-12-22  2021     12   22\n",
      "...          ...   ...    ...  ...\n",
      "28273 1925-07-31  1925      7   31\n",
      "28274 1925-07-31  1925      7   31\n",
      "28275 1925-07-31  1925      7   31\n",
      "28276 1925-07-31  1925      7   31\n",
      "28277 1925-07-31  1925      7   31\n",
      "\n",
      "[26186 rows x 4 columns]\n"
     ]
    }
   ],
   "source": [
    "df['YEAR'] = df['BIRTH_DATE'].dt.year\n",
    "df['MONTH'] = df['BIRTH_DATE'].dt.month\n",
    "df['DAY'] = df['BIRTH_DATE'].dt.day\n",
    "print(df[['BIRTH_DATE', 'YEAR', 'MONTH', 'DAY']])\n"
   ]
  },
  {
   "cell_type": "markdown",
   "id": "c55caca4-aa42-4041-aee0-55ae76fb29fa",
   "metadata": {},
   "source": [
    "### Filter rows in 'BIRTH_DATE' based on a date range.\n"
   ]
  },
  {
   "cell_type": "code",
   "execution_count": 62,
   "id": "fa29560e-f0e8-4b86-b6f1-70bdbc10a609",
   "metadata": {},
   "outputs": [
    {
     "name": "stdout",
     "output_type": "stream",
     "text": [
      "    BIRTH_DATE\n",
      "1   2022-02-03\n",
      "15  2022-02-03\n",
      "17  2022-03-10\n",
      "22  2022-02-03\n",
      "34  2022-03-10\n",
      "97  2022-02-07\n",
      "122 2022-02-07\n",
      "130 2022-02-07\n",
      "131 2022-03-10\n",
      "135 2022-02-07\n",
      "148 2022-02-07\n",
      "149 2022-02-03\n",
      "150 2022-02-07\n",
      "151 2022-03-10\n",
      "159 2022-02-03\n",
      "162 2022-03-10\n",
      "183 2022-02-03\n"
     ]
    }
   ],
   "source": [
    "start_date = '2022-01-01'\n",
    "end_date = '2022-3-31'\n",
    "start_date = pd.to_datetime(start_date)\n",
    "end_date = pd.to_datetime(end_date)\n",
    "filtered_df = df[(df['BIRTH_DATE'] >= start_date) & (df['BIRTH_DATE'] <= end_date)]\n",
    "columns_to_display = [ 'BIRTH_DATE']\n",
    "filtered_columns_df = filtered_df[columns_to_display]\n",
    "print(filtered_columns_df)"
   ]
  },
  {
   "cell_type": "markdown",
   "id": "c49390d0-b986-4f25-bb99-31836785a0a1",
   "metadata": {},
   "source": [
    "### Convert a categorical column to numerical using one-hot encoding"
   ]
  },
  {
   "cell_type": "code",
   "execution_count": 63,
   "id": "9f840687-6678-4573-8d79-f340affc17a5",
   "metadata": {},
   "outputs": [
    {
     "name": "stdout",
     "output_type": "stream",
     "text": [
      "['Heavy' 'Light' 'Unknown' 'Moderate' 'Heavy Mixed' 'Moderate Mixed'\n",
      " 'Light Mixed']\n"
     ]
    }
   ],
   "source": [
    "unique_intensity_values = df['INTENSITY'].unique()\n",
    "print(unique_intensity_values)"
   ]
  },
  {
   "cell_type": "code",
   "execution_count": 64,
   "id": "121f5e57-220c-4846-8efe-42b18b1a58c0",
   "metadata": {},
   "outputs": [
    {
     "name": "stdout",
     "output_type": "stream",
     "text": [
      "['Heavy' 'Light' 'Moderate' 'Heavy Mixed' 'Moderate Mixed' 'Light Mixed']\n"
     ]
    }
   ],
   "source": [
    "df = df[df['INTENSITY'] != 'Unknown']\n",
    "unique_intensity_values = df['INTENSITY'].unique()\n",
    "print(unique_intensity_values)"
   ]
  },
  {
   "cell_type": "code",
   "execution_count": 65,
   "id": "4847101f-23f5-47a7-b7e4-fbffd87530bd",
   "metadata": {},
   "outputs": [
    {
     "data": {
      "text/html": [
       "<div>\n",
       "<style scoped>\n",
       "    .dataframe tbody tr th:only-of-type {\n",
       "        vertical-align: middle;\n",
       "    }\n",
       "\n",
       "    .dataframe tbody tr th {\n",
       "        vertical-align: top;\n",
       "    }\n",
       "\n",
       "    .dataframe thead th {\n",
       "        text-align: right;\n",
       "    }\n",
       "</style>\n",
       "<table border=\"1\" class=\"dataframe\">\n",
       "  <thead>\n",
       "    <tr style=\"text-align: right;\">\n",
       "      <th></th>\n",
       "      <th>INTENSITY_Heavy</th>\n",
       "      <th>INTENSITY_Heavy Mixed</th>\n",
       "      <th>INTENSITY_Light</th>\n",
       "      <th>INTENSITY_Light Mixed</th>\n",
       "      <th>INTENSITY_Moderate</th>\n",
       "      <th>INTENSITY_Moderate Mixed</th>\n",
       "    </tr>\n",
       "  </thead>\n",
       "  <tbody>\n",
       "    <tr>\n",
       "      <th>0</th>\n",
       "      <td>True</td>\n",
       "      <td>False</td>\n",
       "      <td>False</td>\n",
       "      <td>False</td>\n",
       "      <td>False</td>\n",
       "      <td>False</td>\n",
       "    </tr>\n",
       "    <tr>\n",
       "      <th>1</th>\n",
       "      <td>False</td>\n",
       "      <td>False</td>\n",
       "      <td>True</td>\n",
       "      <td>False</td>\n",
       "      <td>False</td>\n",
       "      <td>False</td>\n",
       "    </tr>\n",
       "    <tr>\n",
       "      <th>2</th>\n",
       "      <td>True</td>\n",
       "      <td>False</td>\n",
       "      <td>False</td>\n",
       "      <td>False</td>\n",
       "      <td>False</td>\n",
       "      <td>False</td>\n",
       "    </tr>\n",
       "    <tr>\n",
       "      <th>3</th>\n",
       "      <td>True</td>\n",
       "      <td>False</td>\n",
       "      <td>False</td>\n",
       "      <td>False</td>\n",
       "      <td>False</td>\n",
       "      <td>False</td>\n",
       "    </tr>\n",
       "    <tr>\n",
       "      <th>4</th>\n",
       "      <td>True</td>\n",
       "      <td>False</td>\n",
       "      <td>False</td>\n",
       "      <td>False</td>\n",
       "      <td>False</td>\n",
       "      <td>False</td>\n",
       "    </tr>\n",
       "    <tr>\n",
       "      <th>...</th>\n",
       "      <td>...</td>\n",
       "      <td>...</td>\n",
       "      <td>...</td>\n",
       "      <td>...</td>\n",
       "      <td>...</td>\n",
       "      <td>...</td>\n",
       "    </tr>\n",
       "    <tr>\n",
       "      <th>28273</th>\n",
       "      <td>True</td>\n",
       "      <td>False</td>\n",
       "      <td>False</td>\n",
       "      <td>False</td>\n",
       "      <td>False</td>\n",
       "      <td>False</td>\n",
       "    </tr>\n",
       "    <tr>\n",
       "      <th>28274</th>\n",
       "      <td>True</td>\n",
       "      <td>False</td>\n",
       "      <td>False</td>\n",
       "      <td>False</td>\n",
       "      <td>False</td>\n",
       "      <td>False</td>\n",
       "    </tr>\n",
       "    <tr>\n",
       "      <th>28275</th>\n",
       "      <td>True</td>\n",
       "      <td>False</td>\n",
       "      <td>False</td>\n",
       "      <td>False</td>\n",
       "      <td>False</td>\n",
       "      <td>False</td>\n",
       "    </tr>\n",
       "    <tr>\n",
       "      <th>28276</th>\n",
       "      <td>True</td>\n",
       "      <td>False</td>\n",
       "      <td>False</td>\n",
       "      <td>False</td>\n",
       "      <td>False</td>\n",
       "      <td>False</td>\n",
       "    </tr>\n",
       "    <tr>\n",
       "      <th>28277</th>\n",
       "      <td>True</td>\n",
       "      <td>False</td>\n",
       "      <td>False</td>\n",
       "      <td>False</td>\n",
       "      <td>False</td>\n",
       "      <td>False</td>\n",
       "    </tr>\n",
       "  </tbody>\n",
       "</table>\n",
       "<p>23204 rows × 6 columns</p>\n",
       "</div>"
      ],
      "text/plain": [
       "       INTENSITY_Heavy  INTENSITY_Heavy Mixed  INTENSITY_Light  \\\n",
       "0                 True                  False            False   \n",
       "1                False                  False             True   \n",
       "2                 True                  False            False   \n",
       "3                 True                  False            False   \n",
       "4                 True                  False            False   \n",
       "...                ...                    ...              ...   \n",
       "28273             True                  False            False   \n",
       "28274             True                  False            False   \n",
       "28275             True                  False            False   \n",
       "28276             True                  False            False   \n",
       "28277             True                  False            False   \n",
       "\n",
       "       INTENSITY_Light Mixed  INTENSITY_Moderate  INTENSITY_Moderate Mixed  \n",
       "0                      False               False                     False  \n",
       "1                      False               False                     False  \n",
       "2                      False               False                     False  \n",
       "3                      False               False                     False  \n",
       "4                      False               False                     False  \n",
       "...                      ...                 ...                       ...  \n",
       "28273                  False               False                     False  \n",
       "28274                  False               False                     False  \n",
       "28275                  False               False                     False  \n",
       "28276                  False               False                     False  \n",
       "28277                  False               False                     False  \n",
       "\n",
       "[23204 rows x 6 columns]"
      ]
     },
     "execution_count": 65,
     "metadata": {},
     "output_type": "execute_result"
    }
   ],
   "source": [
    "df_encoded = pd.get_dummies(df, columns=['INTENSITY'])\n",
    "\n",
    "intensity_columns = [col for col in df_encoded.columns if 'INTENSITY' in col]\n",
    "df_encoded[intensity_columns]"
   ]
  },
  {
   "cell_type": "markdown",
   "id": "7c375c37-99f0-4037-960f-796e9d5a8944",
   "metadata": {},
   "source": [
    "### Convert a categorical column to numerical using label encoding."
   ]
  },
  {
   "cell_type": "code",
   "execution_count": 66,
   "id": "21f721e7-dbdb-46c9-961a-0525c7f46291",
   "metadata": {},
   "outputs": [
    {
     "name": "stdout",
     "output_type": "stream",
     "text": [
      "['GRAM -VH RODS' 'GRAM NEGATIVH BACILLI' 'GRAM -VH COCCI'\n",
      " 'Gram Positive Cocci']\n"
     ]
    }
   ],
   "source": [
    "unique_intensity_values = df['ORGAN_CLASSIFICATION'].unique()\n",
    "print(unique_intensity_values)"
   ]
  },
  {
   "cell_type": "code",
   "execution_count": 67,
   "id": "c6e2f442-9a7c-4068-b006-d4edb58acb8d",
   "metadata": {},
   "outputs": [
    {
     "name": "stdout",
     "output_type": "stream",
     "text": [
      "      ORGAN_CLASSIFICATION  ORGAN_CLASSIFICATION_Encoded\n",
      "0            GRAM -VH RODS                             1\n",
      "1            GRAM -VH RODS                             1\n",
      "2            GRAM -VH RODS                             1\n",
      "3            GRAM -VH RODS                             1\n",
      "4            GRAM -VH RODS                             1\n",
      "...                    ...                           ...\n",
      "28273        GRAM -VH RODS                             1\n",
      "28274        GRAM -VH RODS                             1\n",
      "28275        GRAM -VH RODS                             1\n",
      "28276        GRAM -VH RODS                             1\n",
      "28277        GRAM -VH RODS                             1\n",
      "\n",
      "[23204 rows x 2 columns]\n"
     ]
    }
   ],
   "source": [
    "from sklearn.preprocessing import LabelEncoder\n",
    "label_encoder = LabelEncoder()\n",
    "\n",
    "df['ORGAN_CLASSIFICATION_Encoded'] = label_encoder.fit_transform(df['ORGAN_CLASSIFICATION'])\n",
    "print(df[['ORGAN_CLASSIFICATION', 'ORGAN_CLASSIFICATION_Encoded']])"
   ]
  },
  {
   "cell_type": "code",
   "execution_count": 68,
   "id": "1cdd6b09-dfc0-4ec8-8a47-fcd14bf8e693",
   "metadata": {},
   "outputs": [
    {
     "name": "stdout",
     "output_type": "stream",
     "text": [
      "[1 2 0 3]\n"
     ]
    }
   ],
   "source": [
    "unique_intensity_values = df['ORGAN_CLASSIFICATION_Encoded'].unique()\n",
    "print(unique_intensity_values)"
   ]
  },
  {
   "cell_type": "markdown",
   "id": "012fb332-0f63-4353-a4a7-c496c377d290",
   "metadata": {},
   "source": [
    "### Group values in a categorical column and create a new column with grouped categories.\n"
   ]
  },
  {
   "cell_type": "code",
   "execution_count": 69,
   "id": "2ae82fd3-aa7c-4ecd-842d-f023baa15864",
   "metadata": {},
   "outputs": [
    {
     "name": "stdout",
     "output_type": "stream",
     "text": [
      "      ANTIBIOTIC_Grouped\n",
      "0            Penicillins\n",
      "1            Penicillins\n",
      "2            Penicillins\n",
      "3                 Others\n",
      "4                 Others\n",
      "...                  ...\n",
      "28273             Others\n",
      "28274        Carbapenems\n",
      "28275             Others\n",
      "28276     Cephalosporins\n",
      "28277        Carbapenems\n",
      "\n",
      "[23204 rows x 1 columns]\n"
     ]
    }
   ],
   "source": [
    "def group_antibiotic(antibiotic):\n",
    "    if 'Cef' in antibiotic:\n",
    "        return 'Cephalosporins'\n",
    "    elif 'Amox' in antibiotic or 'Amp' in antibiotic:\n",
    "        return 'Penicillins'\n",
    "    elif 'Imi' in antibiotic or 'Mero' in antibiotic:\n",
    "        return 'Carbapenems'\n",
    "    elif 'Floxacin' in antibiotic:\n",
    "        return 'Fluoroquinolones'\n",
    "    elif 'Mycin' in antibiotic or 'Micin' in antibiotic:\n",
    "        return 'Aminoglycosides'\n",
    "    else:\n",
    "        return 'Others'\n",
    "\n",
    "df['ANTIBIOTIC_Grouped'] = df['ANTIBIOTIC'].apply(group_antibiotic)\n",
    "print(df[['ANTIBIOTIC_Grouped']])\n"
   ]
  },
  {
   "cell_type": "markdown",
   "id": "36d4b99d-5a1f-4c59-9b7c-c02d5f1b0eb2",
   "metadata": {},
   "source": [
    "### Create a new column based on existing columns."
   ]
  },
  {
   "cell_type": "code",
   "execution_count": 70,
   "id": "e9c3f436-9906-47b8-b420-49a4ae1619e1",
   "metadata": {},
   "outputs": [
    {
     "name": "stdout",
     "output_type": "stream",
     "text": [
      "       AGE AGE_Group\n",
      "0        1     child\n",
      "1        1     child\n",
      "2        1     child\n",
      "3        1     child\n",
      "4        1     child\n",
      "...    ...       ...\n",
      "28273   98    senior\n",
      "28274   98    senior\n",
      "28275   98    senior\n",
      "28276   98    senior\n",
      "28277   98    senior\n",
      "\n",
      "[23204 rows x 2 columns]\n"
     ]
    }
   ],
   "source": [
    "def categorize_age(age):\n",
    "    if age < 13:\n",
    "        return 'child'\n",
    "    elif 13 <= age < 20:\n",
    "        return 'teen'\n",
    "    elif 20 <= age < 65:\n",
    "        return 'adult'\n",
    "    else:\n",
    "        return 'senior'\n",
    "\n",
    "\n",
    "df['AGE_Group'] = df['AGE'].apply(categorize_age)\n",
    "print(df[['AGE', 'AGE_Group']])\n"
   ]
  },
  {
   "cell_type": "markdown",
   "id": "7dcfc7d4-ebff-4eed-93e7-bd01cf944007",
   "metadata": {},
   "source": [
    "### Discretize a continuous column into bins."
   ]
  },
  {
   "cell_type": "code",
   "execution_count": 71,
   "id": "005e120e-1cca-415c-8e71-0b3b82f29ef4",
   "metadata": {},
   "outputs": [
    {
     "name": "stdout",
     "output_type": "stream",
     "text": [
      "       HOURS HOURS_bin\n",
      "0      120.0   101-150\n",
      "1       48.0      0-50\n",
      "2       48.0      0-50\n",
      "3       24.0      0-50\n",
      "4       24.0      0-50\n",
      "...      ...       ...\n",
      "28273   72.0    51-100\n",
      "28274   72.0    51-100\n",
      "28275   72.0    51-100\n",
      "28276   72.0    51-100\n",
      "28277   72.0    51-100\n",
      "\n",
      "[23204 rows x 2 columns]\n"
     ]
    }
   ],
   "source": [
    "bins = [0, 50, 100, 150, 200]\n",
    "labels = ['0-50', '51-100', '101-150', '151-200']\n",
    "df['HOURS_bin'] = pd.cut(df['HOURS'], bins=bins, labels=labels)\n",
    "print(df[['HOURS', 'HOURS_bin']])"
   ]
  },
  {
   "cell_type": "markdown",
   "id": "d72c5aa1-d98e-4782-bd80-5a2074fa608b",
   "metadata": {},
   "source": [
    "### Create polynomial features from existing numerical columns.\n"
   ]
  },
  {
   "cell_type": "markdown",
   "id": "6a6cb50c-e207-4888-be79-3a8db6a1cbe6",
   "metadata": {},
   "source": [
    "### Method1"
   ]
  },
  {
   "cell_type": "code",
   "execution_count": 74,
   "id": "ab1e0ad7-7934-4d8e-938a-69e2ca3f83f2",
   "metadata": {},
   "outputs": [
    {
     "data": {
      "text/html": [
       "<div>\n",
       "<style scoped>\n",
       "    .dataframe tbody tr th:only-of-type {\n",
       "        vertical-align: middle;\n",
       "    }\n",
       "\n",
       "    .dataframe tbody tr th {\n",
       "        vertical-align: top;\n",
       "    }\n",
       "\n",
       "    .dataframe thead th {\n",
       "        text-align: right;\n",
       "    }\n",
       "</style>\n",
       "<table border=\"1\" class=\"dataframe\">\n",
       "  <thead>\n",
       "    <tr style=\"text-align: right;\">\n",
       "      <th></th>\n",
       "      <th>AGE</th>\n",
       "      <th>HOURS</th>\n",
       "      <th>poly_0</th>\n",
       "      <th>poly_1</th>\n",
       "      <th>poly_2</th>\n",
       "      <th>poly_3</th>\n",
       "      <th>poly_4</th>\n",
       "      <th>poly_0</th>\n",
       "      <th>poly_1</th>\n",
       "      <th>poly_2</th>\n",
       "      <th>poly_3</th>\n",
       "      <th>poly_4</th>\n",
       "    </tr>\n",
       "  </thead>\n",
       "  <tbody>\n",
       "    <tr>\n",
       "      <th>0</th>\n",
       "      <td>25</td>\n",
       "      <td>10</td>\n",
       "      <td>25.0</td>\n",
       "      <td>10.0</td>\n",
       "      <td>625.0</td>\n",
       "      <td>250.0</td>\n",
       "      <td>100.0</td>\n",
       "      <td>25.0</td>\n",
       "      <td>10.0</td>\n",
       "      <td>625.0</td>\n",
       "      <td>250.0</td>\n",
       "      <td>100.0</td>\n",
       "    </tr>\n",
       "    <tr>\n",
       "      <th>1</th>\n",
       "      <td>30</td>\n",
       "      <td>15</td>\n",
       "      <td>30.0</td>\n",
       "      <td>15.0</td>\n",
       "      <td>900.0</td>\n",
       "      <td>450.0</td>\n",
       "      <td>225.0</td>\n",
       "      <td>30.0</td>\n",
       "      <td>15.0</td>\n",
       "      <td>900.0</td>\n",
       "      <td>450.0</td>\n",
       "      <td>225.0</td>\n",
       "    </tr>\n",
       "    <tr>\n",
       "      <th>2</th>\n",
       "      <td>30</td>\n",
       "      <td>20</td>\n",
       "      <td>30.0</td>\n",
       "      <td>20.0</td>\n",
       "      <td>900.0</td>\n",
       "      <td>600.0</td>\n",
       "      <td>400.0</td>\n",
       "      <td>30.0</td>\n",
       "      <td>20.0</td>\n",
       "      <td>900.0</td>\n",
       "      <td>600.0</td>\n",
       "      <td>400.0</td>\n",
       "    </tr>\n",
       "    <tr>\n",
       "      <th>3</th>\n",
       "      <td>35</td>\n",
       "      <td>15</td>\n",
       "      <td>35.0</td>\n",
       "      <td>15.0</td>\n",
       "      <td>1225.0</td>\n",
       "      <td>525.0</td>\n",
       "      <td>225.0</td>\n",
       "      <td>35.0</td>\n",
       "      <td>15.0</td>\n",
       "      <td>1225.0</td>\n",
       "      <td>525.0</td>\n",
       "      <td>225.0</td>\n",
       "    </tr>\n",
       "  </tbody>\n",
       "</table>\n",
       "</div>"
      ],
      "text/plain": [
       "   AGE  HOURS  poly_0  poly_1  poly_2  poly_3  poly_4  poly_0  poly_1  poly_2  \\\n",
       "0   25     10    25.0    10.0   625.0   250.0   100.0    25.0    10.0   625.0   \n",
       "1   30     15    30.0    15.0   900.0   450.0   225.0    30.0    15.0   900.0   \n",
       "2   30     20    30.0    20.0   900.0   600.0   400.0    30.0    20.0   900.0   \n",
       "3   35     15    35.0    15.0  1225.0   525.0   225.0    35.0    15.0  1225.0   \n",
       "\n",
       "   poly_3  poly_4  \n",
       "0   250.0   100.0  \n",
       "1   450.0   225.0  \n",
       "2   600.0   400.0  \n",
       "3   525.0   225.0  "
      ]
     },
     "execution_count": 74,
     "metadata": {},
     "output_type": "execute_result"
    }
   ],
   "source": [
    "from sklearn.preprocessing import PolynomialFeatures\n",
    "degree = 2 \n",
    "poly = PolynomialFeatures(degree=degree, include_bias=False)\n",
    "poly_features = poly.fit_transform(df[['AGE', 'HOURS']])\n",
    "\n",
    "num_features = poly_features.shape[1]\n",
    "poly_columns = [f'poly_{i}' for i in range(num_features)]\n",
    "df_poly = pd.DataFrame(poly_features, columns=poly_columns)\n",
    "df.reset_index(drop=True, inplace=True)\n",
    "df = pd.concat([df, df_poly], axis=1)\n",
    "df"
   ]
  },
  {
   "cell_type": "markdown",
   "id": "c5c26923-bbab-4e59-8304-319a0aecc191",
   "metadata": {},
   "source": [
    "### Method2"
   ]
  },
  {
   "cell_type": "code",
   "execution_count": 75,
   "id": "10a943c5-075e-4a24-b45d-fe7fdb1b0573",
   "metadata": {},
   "outputs": [
    {
     "data": {
      "text/html": [
       "<div>\n",
       "<style scoped>\n",
       "    .dataframe tbody tr th:only-of-type {\n",
       "        vertical-align: middle;\n",
       "    }\n",
       "\n",
       "    .dataframe tbody tr th {\n",
       "        vertical-align: top;\n",
       "    }\n",
       "\n",
       "    .dataframe thead th {\n",
       "        text-align: right;\n",
       "    }\n",
       "</style>\n",
       "<table border=\"1\" class=\"dataframe\">\n",
       "  <thead>\n",
       "    <tr style=\"text-align: right;\">\n",
       "      <th></th>\n",
       "      <th>AGE</th>\n",
       "      <th>HOURS</th>\n",
       "      <th>poly_0</th>\n",
       "      <th>poly_1</th>\n",
       "      <th>poly_2</th>\n",
       "      <th>poly_3</th>\n",
       "      <th>poly_4</th>\n",
       "    </tr>\n",
       "  </thead>\n",
       "  <tbody>\n",
       "    <tr>\n",
       "      <th>0</th>\n",
       "      <td>25</td>\n",
       "      <td>10</td>\n",
       "      <td>25.0</td>\n",
       "      <td>10.0</td>\n",
       "      <td>625.0</td>\n",
       "      <td>250.0</td>\n",
       "      <td>100.0</td>\n",
       "    </tr>\n",
       "    <tr>\n",
       "      <th>1</th>\n",
       "      <td>30</td>\n",
       "      <td>15</td>\n",
       "      <td>30.0</td>\n",
       "      <td>15.0</td>\n",
       "      <td>900.0</td>\n",
       "      <td>450.0</td>\n",
       "      <td>225.0</td>\n",
       "    </tr>\n",
       "    <tr>\n",
       "      <th>2</th>\n",
       "      <td>30</td>\n",
       "      <td>20</td>\n",
       "      <td>30.0</td>\n",
       "      <td>20.0</td>\n",
       "      <td>900.0</td>\n",
       "      <td>600.0</td>\n",
       "      <td>400.0</td>\n",
       "    </tr>\n",
       "    <tr>\n",
       "      <th>3</th>\n",
       "      <td>35</td>\n",
       "      <td>15</td>\n",
       "      <td>35.0</td>\n",
       "      <td>15.0</td>\n",
       "      <td>1225.0</td>\n",
       "      <td>525.0</td>\n",
       "      <td>225.0</td>\n",
       "    </tr>\n",
       "  </tbody>\n",
       "</table>\n",
       "</div>"
      ],
      "text/plain": [
       "   AGE  HOURS  poly_0  poly_1  poly_2  poly_3  poly_4\n",
       "0   25     10    25.0    10.0   625.0   250.0   100.0\n",
       "1   30     15    30.0    15.0   900.0   450.0   225.0\n",
       "2   30     20    30.0    20.0   900.0   600.0   400.0\n",
       "3   35     15    35.0    15.0  1225.0   525.0   225.0"
      ]
     },
     "execution_count": 75,
     "metadata": {},
     "output_type": "execute_result"
    }
   ],
   "source": [
    "import pandas as pd\n",
    "from sklearn.pipeline import Pipeline\n",
    "from sklearn.impute import SimpleImputer\n",
    "from sklearn.preprocessing import PolynomialFeatures\n",
    "\n",
    "data = {\n",
    "    'AGE': [25, 30, 30, 35],\n",
    "    'HOURS': [10, 15, 20, 15]\n",
    "}\n",
    "\n",
    "df = pd.DataFrame(data)\n",
    "\n",
    "\n",
    "degree = 2\n",
    "pipeline = Pipeline([\n",
    "    ('imputer', SimpleImputer(strategy='mean')),\n",
    "    ('poly_features', PolynomialFeatures(degree=degree, include_bias=False))\n",
    "])\n",
    "\n",
    "poly_features = pipeline.fit_transform(df[['AGE', 'HOURS']])\n",
    "num_features = poly_features.shape[1]\n",
    "poly_columns = [f'poly_{i}' for i in range(num_features)]\n",
    "df_poly = pd.DataFrame(poly_features, columns=poly_columns)\n",
    "df.reset_index(drop=True, inplace=True)\n",
    "df = pd.concat([df, df_poly], axis=1)\n",
    "df\n",
    "\n"
   ]
  },
  {
   "cell_type": "markdown",
   "id": "99f973be-b58c-4f55-866a-69f80e2c6c66",
   "metadata": {},
   "source": [
    "### Example with Built-in Datasets (Iris and Titanic)"
   ]
  },
  {
   "cell_type": "code",
   "execution_count": 76,
   "id": "4d44ee21-cef5-4d04-b8d0-f5a4ff09a526",
   "metadata": {},
   "outputs": [
    {
     "name": "stdout",
     "output_type": "stream",
     "text": [
      "Iris Dataset:\n",
      "   sepal_length  sepal_width  petal_length  petal_width species\n",
      "0           5.1          3.5           1.4          0.2  setosa\n",
      "1           4.9          3.0           1.4          0.2  setosa\n",
      "2           4.7          3.2           1.3          0.2  setosa\n",
      "3           4.6          3.1           1.5          0.2  setosa\n",
      "4           5.0          3.6           1.4          0.2  setosa\n",
      "\n",
      "Titanic Dataset:\n",
      "   survived  pclass     sex   age  sibsp  parch     fare embarked  class  \\\n",
      "0         0       3    male  22.0      1      0   7.2500        S  Third   \n",
      "1         1       1  female  38.0      1      0  71.2833        C  First   \n",
      "2         1       3  female  26.0      0      0   7.9250        S  Third   \n",
      "3         1       1  female  35.0      1      0  53.1000        S  First   \n",
      "4         0       3    male  35.0      0      0   8.0500        S  Third   \n",
      "\n",
      "     who  adult_male deck  embark_town alive  alone  \n",
      "0    man        True  NaN  Southampton    no  False  \n",
      "1  woman       False    C    Cherbourg   yes  False  \n",
      "2  woman       False  NaN  Southampton   yes   True  \n",
      "3  woman       False    C  Southampton   yes  False  \n",
      "4    man        True  NaN  Southampton    no   True  \n"
     ]
    }
   ],
   "source": [
    "import seaborn as sns\n",
    "import pandas as pd\n",
    "\n",
    "iris_df = sns.load_dataset('iris')\n",
    "print(\"Iris Dataset:\")\n",
    "print(iris_df.head())\n",
    "\n",
    "titanic_df = sns.load_dataset('titanic')\n",
    "print(\"\\nTitanic Dataset:\")\n",
    "print(titanic_df.head())\n"
   ]
  },
  {
   "cell_type": "markdown",
   "id": "41e8a3e9-2106-48a6-8ea7-87c06022995c",
   "metadata": {},
   "source": [
    "### Merge two DataFrames based on a common column"
   ]
  },
  {
   "cell_type": "code",
   "execution_count": 77,
   "id": "9a7d60dd-5768-491b-94bb-3c0c5c4ca692",
   "metadata": {},
   "outputs": [
    {
     "name": "stdout",
     "output_type": "stream",
     "text": [
      "\n",
      "Merged DataFrame:\n",
      "   sepal_length  sepal_width  petal_length  petal_width species  survived  \\\n",
      "0           5.1          3.5           1.4          0.2  setosa         0   \n",
      "1           4.9          3.0           1.4          0.2  setosa         1   \n",
      "2           4.7          3.2           1.3          0.2  setosa         1   \n",
      "3           4.6          3.1           1.5          0.2  setosa         1   \n",
      "4           5.0          3.6           1.4          0.2  setosa         0   \n",
      "\n",
      "   pclass     sex   age  sibsp  parch     fare embarked  class    who  \\\n",
      "0       3    male  22.0      1      0   7.2500        S  Third    man   \n",
      "1       1  female  38.0      1      0  71.2833        C  First  woman   \n",
      "2       3  female  26.0      0      0   7.9250        S  Third  woman   \n",
      "3       1  female  35.0      1      0  53.1000        S  First  woman   \n",
      "4       3    male  35.0      0      0   8.0500        S  Third    man   \n",
      "\n",
      "   adult_male deck  embark_town alive  alone  \n",
      "0        True  NaN  Southampton    no  False  \n",
      "1       False    C    Cherbourg   yes  False  \n",
      "2       False  NaN  Southampton   yes   True  \n",
      "3       False    C  Southampton   yes  False  \n",
      "4        True  NaN  Southampton    no   True  \n"
     ]
    }
   ],
   "source": [
    "# Merge based on a numeric index\n",
    "merged_df = pd.merge(iris_df, titanic_df, left_index=True, right_index=True)\n",
    "\n",
    "print(\"\\nMerged DataFrame:\")\n",
    "print(merged_df.head())"
   ]
  },
  {
   "cell_type": "markdown",
   "id": "04befa55-2ce7-4ae9-8f8b-7707ed7e164d",
   "metadata": {},
   "source": [
    "###  Concatenate vertically"
   ]
  },
  {
   "cell_type": "code",
   "execution_count": 78,
   "id": "e48e1e08-27cd-4dff-a437-d8059ad208c0",
   "metadata": {},
   "outputs": [
    {
     "name": "stdout",
     "output_type": "stream",
     "text": [
      "\n",
      "Concatenated Vertically DataFrame:\n",
      "   sepal_length  sepal_width  petal_length  petal_width species  survived  \\\n",
      "0           5.1          3.5           1.4          0.2  setosa       NaN   \n",
      "1           4.9          3.0           1.4          0.2  setosa       NaN   \n",
      "2           4.7          3.2           1.3          0.2  setosa       NaN   \n",
      "3           4.6          3.1           1.5          0.2  setosa       NaN   \n",
      "4           5.0          3.6           1.4          0.2  setosa       NaN   \n",
      "\n",
      "   pclass  sex  age  sibsp  parch  fare embarked class  who adult_male deck  \\\n",
      "0     NaN  NaN  NaN    NaN    NaN   NaN      NaN   NaN  NaN        NaN  NaN   \n",
      "1     NaN  NaN  NaN    NaN    NaN   NaN      NaN   NaN  NaN        NaN  NaN   \n",
      "2     NaN  NaN  NaN    NaN    NaN   NaN      NaN   NaN  NaN        NaN  NaN   \n",
      "3     NaN  NaN  NaN    NaN    NaN   NaN      NaN   NaN  NaN        NaN  NaN   \n",
      "4     NaN  NaN  NaN    NaN    NaN   NaN      NaN   NaN  NaN        NaN  NaN   \n",
      "\n",
      "  embark_town alive alone  \n",
      "0         NaN   NaN   NaN  \n",
      "1         NaN   NaN   NaN  \n",
      "2         NaN   NaN   NaN  \n",
      "3         NaN   NaN   NaN  \n",
      "4         NaN   NaN   NaN  \n"
     ]
    }
   ],
   "source": [
    "concatenated_vertical = pd.concat([iris_df, titanic_df], axis=0, ignore_index=True)\n",
    "\n",
    "# Display the concatenated DataFrame vertically\n",
    "print(\"\\nConcatenated Vertically DataFrame:\")\n",
    "print(concatenated_vertical.head())"
   ]
  },
  {
   "cell_type": "markdown",
   "id": "9e743dcb-590d-4502-be1c-04a1706fbe24",
   "metadata": {},
   "source": [
    "###  Concatenate horizontally"
   ]
  },
  {
   "cell_type": "code",
   "execution_count": 79,
   "id": "407dc647-dc92-4a89-836f-7c5258436cfd",
   "metadata": {},
   "outputs": [
    {
     "name": "stdout",
     "output_type": "stream",
     "text": [
      "\n",
      "Concatenated Horizontally DataFrame:\n",
      "   sepal_length  sepal_width  petal_length  petal_width species  survived  \\\n",
      "0           5.1          3.5           1.4          0.2  setosa         0   \n",
      "1           4.9          3.0           1.4          0.2  setosa         1   \n",
      "2           4.7          3.2           1.3          0.2  setosa         1   \n",
      "3           4.6          3.1           1.5          0.2  setosa         1   \n",
      "4           5.0          3.6           1.4          0.2  setosa         0   \n",
      "\n",
      "   pclass     sex   age  sibsp  parch     fare embarked  class    who  \\\n",
      "0       3    male  22.0      1      0   7.2500        S  Third    man   \n",
      "1       1  female  38.0      1      0  71.2833        C  First  woman   \n",
      "2       3  female  26.0      0      0   7.9250        S  Third  woman   \n",
      "3       1  female  35.0      1      0  53.1000        S  First  woman   \n",
      "4       3    male  35.0      0      0   8.0500        S  Third    man   \n",
      "\n",
      "   adult_male deck  embark_town alive  alone  \n",
      "0        True  NaN  Southampton    no  False  \n",
      "1       False    C    Cherbourg   yes  False  \n",
      "2       False  NaN  Southampton   yes   True  \n",
      "3       False    C  Southampton   yes  False  \n",
      "4        True  NaN  Southampton    no   True  \n"
     ]
    }
   ],
   "source": [
    "concatenated_horizontal = pd.concat([iris_df, titanic_df], axis=1)\n",
    "\n",
    "# Display the concatenated DataFrame horizontally\n",
    "print(\"\\nConcatenated Horizontally DataFrame:\")\n",
    "print(concatenated_horizontal.head())\n"
   ]
  },
  {
   "cell_type": "markdown",
   "id": "af589b86-6cfe-4d38-8d25-ae1152752d8a",
   "metadata": {},
   "source": [
    "# Additional Questions"
   ]
  },
  {
   "cell_type": "markdown",
   "id": "01b6617f-af1c-4698-9c19-26b98cde04bc",
   "metadata": {},
   "source": [
    "###  Correaltion Matric"
   ]
  },
  {
   "cell_type": "code",
   "execution_count": 80,
   "id": "8c592cc9-447f-4d46-8ddc-9a3f6bf0decc",
   "metadata": {},
   "outputs": [
    {
     "name": "stdout",
     "output_type": "stream",
     "text": [
      "   sepal length (cm)  sepal width (cm)  petal length (cm)  petal width (cm)\n",
      "0                5.1               3.5                1.4               0.2\n",
      "1                4.9               3.0                1.4               0.2\n",
      "2                4.7               3.2                1.3               0.2\n",
      "3                4.6               3.1                1.5               0.2\n",
      "4                5.0               3.6                1.4               0.2\n"
     ]
    }
   ],
   "source": [
    "from sklearn.datasets import load_iris\n",
    "import pandas as pd\n",
    "\n",
    "iris = load_iris()\n",
    "df = pd.DataFrame(data=iris.data, columns=iris.feature_names)\n",
    "print(df.head())\n"
   ]
  },
  {
   "cell_type": "code",
   "execution_count": 81,
   "id": "e1c691ae-dc23-44a2-a266-3f253b6dbd65",
   "metadata": {},
   "outputs": [
    {
     "name": "stdout",
     "output_type": "stream",
     "text": [
      "Correlation Matrix:\n",
      "                   sepal length (cm)  sepal width (cm)  petal length (cm)  \\\n",
      "sepal length (cm)           1.000000         -0.117570           0.871754   \n",
      "sepal width (cm)           -0.117570          1.000000          -0.428440   \n",
      "petal length (cm)           0.871754         -0.428440           1.000000   \n",
      "petal width (cm)            0.817941         -0.366126           0.962865   \n",
      "\n",
      "                   petal width (cm)  \n",
      "sepal length (cm)          0.817941  \n",
      "sepal width (cm)          -0.366126  \n",
      "petal length (cm)          0.962865  \n",
      "petal width (cm)           1.000000  \n"
     ]
    }
   ],
   "source": [
    "correlation_matrix = df.corr()\n",
    "print(\"Correlation Matrix:\")\n",
    "print(correlation_matrix)\n"
   ]
  },
  {
   "cell_type": "markdown",
   "id": "ad5b972d-b330-40d9-bc35-a5cd74f5a6f5",
   "metadata": {},
   "source": [
    "### Identification of OUTLIERS and remove it"
   ]
  },
  {
   "cell_type": "code",
   "execution_count": 87,
   "id": "4050f1f3-c826-436e-b51a-6fc56a6e0280",
   "metadata": {},
   "outputs": [
    {
     "name": "stdout",
     "output_type": "stream",
     "text": [
      "   total_bill   tip     sex smoker  day    time  size\n",
      "0       16.99  1.01  Female     No  Sun  Dinner     2\n",
      "1       10.34  1.66    Male     No  Sun  Dinner     3\n",
      "2       21.01  3.50    Male     No  Sun  Dinner     3\n",
      "3       23.68  3.31    Male     No  Sun  Dinner     2\n",
      "4       24.59  3.61  Female     No  Sun  Dinner     4\n"
     ]
    }
   ],
   "source": [
    "import seaborn as sns\n",
    "tips = sns.load_dataset('tips')\n",
    "print(tips.head())"
   ]
  },
  {
   "cell_type": "code",
   "execution_count": 88,
   "id": "a315c656-68b0-48ae-9083-074954f1b336",
   "metadata": {},
   "outputs": [
    {
     "name": "stdout",
     "output_type": "stream",
     "text": [
      "\n",
      "Outliers identified:\n",
      "     total_bill    tip     sex smoker   day    time  size\n",
      "23        39.42   7.58    Male     No   Sat  Dinner     4\n",
      "59        48.27   6.73    Male     No   Sat  Dinner     4\n",
      "125       29.80   4.20  Female     No  Thur   Lunch     6\n",
      "141       34.30   6.70    Male     No  Thur   Lunch     6\n",
      "143       27.05   5.00  Female     No  Thur   Lunch     6\n",
      "156       48.17   5.00    Male     No   Sun  Dinner     6\n",
      "170       50.81  10.00    Male    Yes   Sat  Dinner     3\n",
      "212       48.33   9.00    Male     No   Sat  Dinner     4\n"
     ]
    }
   ],
   "source": [
    "import numpy as np\n",
    "z_scores = np.abs((tips[['total_bill', 'tip', 'size']] - tips[['total_bill', 'tip', 'size']].mean()) / tips[['total_bill', 'tip', 'size']].std())\n",
    "threshold = 3\n",
    "outliers = tips[(z_scores > threshold).any(axis=1)]\n",
    "print(\"\\nOutliers identified:\")\n",
    "print(outliers)\n"
   ]
  },
  {
   "cell_type": "code",
   "execution_count": 89,
   "id": "e605062f-368a-4231-a012-632b90ab1d43",
   "metadata": {},
   "outputs": [
    {
     "name": "stdout",
     "output_type": "stream",
     "text": [
      "\n",
      "DataFrame without outliers:\n",
      "     total_bill   tip     sex smoker   day    time  size\n",
      "0         16.99  1.01  Female     No   Sun  Dinner     2\n",
      "1         10.34  1.66    Male     No   Sun  Dinner     3\n",
      "2         21.01  3.50    Male     No   Sun  Dinner     3\n",
      "3         23.68  3.31    Male     No   Sun  Dinner     2\n",
      "4         24.59  3.61  Female     No   Sun  Dinner     4\n",
      "..          ...   ...     ...    ...   ...     ...   ...\n",
      "239       29.03  5.92    Male     No   Sat  Dinner     3\n",
      "240       27.18  2.00  Female    Yes   Sat  Dinner     2\n",
      "241       22.67  2.00    Male    Yes   Sat  Dinner     2\n",
      "242       17.82  1.75    Male     No   Sat  Dinner     2\n",
      "243       18.78  3.00  Female     No  Thur  Dinner     2\n",
      "\n",
      "[236 rows x 7 columns]\n"
     ]
    }
   ],
   "source": [
    "# Remove outliers\n",
    "tips_no_outliers = tips[(z_scores <= threshold).all(axis=1)]\n",
    "print(\"\\nDataFrame without outliers:\")\n",
    "print(tips_no_outliers)\n"
   ]
  },
  {
   "cell_type": "markdown",
   "id": "919e165c-d5c2-4b4b-a852-0f3927d3e66c",
   "metadata": {},
   "source": [
    "###  demonstrate different ways to explore relationships between categorical variables in the Titanic dataset"
   ]
  },
  {
   "cell_type": "code",
   "execution_count": 98,
   "id": "870b1cb1-4366-426c-85df-60857660e60e",
   "metadata": {},
   "outputs": [
    {
     "name": "stdout",
     "output_type": "stream",
     "text": [
      "Original DataFrame:\n",
      "   survived  pclass     sex   age  sibsp  parch     fare embarked  class  \\\n",
      "0         0       3    male  22.0      1      0   7.2500        S  Third   \n",
      "1         1       1  female  38.0      1      0  71.2833        C  First   \n",
      "2         1       3  female  26.0      0      0   7.9250        S  Third   \n",
      "3         1       1  female  35.0      1      0  53.1000        S  First   \n",
      "4         0       3    male  35.0      0      0   8.0500        S  Third   \n",
      "\n",
      "     who  adult_male deck  embark_town alive  alone  \n",
      "0    man        True  NaN  Southampton    no  False  \n",
      "1  woman       False    C    Cherbourg   yes  False  \n",
      "2  woman       False  NaN  Southampton   yes   True  \n",
      "3  woman       False    C  Southampton   yes  False  \n",
      "4    man        True  NaN  Southampton    no   True  \n",
      "\n",
      "Cross-tabulation between 'sex' and 'survived':\n",
      "survived    0    1\n",
      "sex               \n",
      "female     81  233\n",
      "male      468  109\n",
      "\n",
      "Chi-square test between 'sex' and 'survived':\n",
      "Chi-square value: 260.71702016732104\n",
      "P-value: 1.1973570627755645e-58\n",
      "\n",
      "Fisher's exact test between 'sex' and 'survived':\n",
      "Odds ratio: 0.08096731594585672\n",
      "P-value: 6.463921564583144e-60\n",
      "\n",
      "Cross-tabulation between 'pclass' and 'survived':\n",
      "survived    0    1\n",
      "pclass            \n",
      "1          80  136\n",
      "2          97   87\n",
      "3         372  119\n",
      "\n",
      "Chi-square test between 'pclass' and 'survived':\n",
      "Chi-square value: 102.88898875696056\n",
      "P-value: 4.549251711298793e-23\n"
     ]
    }
   ],
   "source": [
    "import pandas as pd\n",
    "from scipy.stats import chi2_contingency, fisher_exact\n",
    "import seaborn as sns\n",
    "\n",
    "\n",
    "titanic = sns.load_dataset('titanic')\n",
    "\n",
    "print(\"Original DataFrame:\")\n",
    "print(titanic.head())\n",
    "\n",
    "\n",
    "print(\"\\nCross-tabulation between 'sex' and 'survived':\")\n",
    "cross_tab_sex_survived = pd.crosstab(titanic['sex'], titanic['survived'])\n",
    "print(cross_tab_sex_survived)\n",
    "\n",
    "\n",
    "print(\"\\nChi-square test between 'sex' and 'survived':\")\n",
    "chi2_sex_survived, p_sex_survived, dof_sex_survived, expected_sex_survived = chi2_contingency(cross_tab_sex_survived)\n",
    "print(f\"Chi-square value: {chi2_sex_survived}\")\n",
    "print(f\"P-value: {p_sex_survived}\")\n",
    "\n",
    "\n",
    "print(\"\\nFisher's exact test between 'sex' and 'survived':\")\n",
    "odds_ratio_sex_survived, p_fisher_sex_survived = fisher_exact(cross_tab_sex_survived)\n",
    "print(f\"Odds ratio: {odds_ratio_sex_survived}\")\n",
    "print(f\"P-value: {p_fisher_sex_survived}\")\n",
    "\n",
    "\n",
    "print(\"\\nCross-tabulation between 'pclass' and 'survived':\")\n",
    "cross_tab_pclass_survived = pd.crosstab(titanic['pclass'], titanic['survived'])\n",
    "print(cross_tab_pclass_survived)\n",
    "\n",
    "\n",
    "print(\"\\nChi-square test between 'pclass' and 'survived':\")\n",
    "chi2_pclass_survived, p_pclass_survived, dof_pclass_survived, expected_pclass_survived = chi2_contingency(cross_tab_pclass_survived)\n",
    "print(f\"Chi-square value: {chi2_pclass_survived}\")\n",
    "print(f\"P-value: {p_pclass_survived}\")\n",
    "\n"
   ]
  },
  {
   "cell_type": "code",
   "execution_count": null,
   "id": "1aa80669-2160-4895-982e-7b2abb5d7922",
   "metadata": {},
   "outputs": [],
   "source": []
  }
 ],
 "metadata": {
  "kernelspec": {
   "display_name": "Python 3 (ipykernel)",
   "language": "python",
   "name": "python3"
  },
  "language_info": {
   "codemirror_mode": {
    "name": "ipython",
    "version": 3
   },
   "file_extension": ".py",
   "mimetype": "text/x-python",
   "name": "python",
   "nbconvert_exporter": "python",
   "pygments_lexer": "ipython3",
   "version": "3.11.7"
  }
 },
 "nbformat": 4,
 "nbformat_minor": 5
}
