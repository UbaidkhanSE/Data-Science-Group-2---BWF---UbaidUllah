{
  "nbformat": 4,
  "nbformat_minor": 0,
  "metadata": {
    "colab": {
      "provenance": []
    },
    "kernelspec": {
      "name": "python3",
      "display_name": "Python 3"
    },
    "language_info": {
      "name": "python"
    }
  },
  "cells": [
    {
      "cell_type": "code",
      "execution_count": 2,
      "metadata": {
        "colab": {
          "base_uri": "https://localhost:8080/"
        },
        "id": "5vhWrDsHmNfb",
        "outputId": "9b6caab3-f5e4-4fdd-f114-70d2c23bb38d"
      },
      "outputs": [
        {
          "output_type": "stream",
          "name": "stdout",
          "text": [
            "['.config', 'genome_zeeshan_usmani.csv', 'sample_data']\n"
          ]
        }
      ],
      "source": [
        "import os\n",
        "print(os.listdir('/content/'))"
      ]
    },
    {
      "cell_type": "code",
      "source": [
        "import pandas as pd\n",
        "\n",
        "# Use the correct file name: 'genome_zeeshan_usmani.csv'\n",
        "df = pd.read_csv('/content/genome_zeeshan_usmani.csv')\n",
        "\n",
        "# Display the first few rows to verify the data\n",
        "df.head()\n"
      ],
      "metadata": {
        "colab": {
          "base_uri": "https://localhost:8080/",
          "height": 262
        },
        "id": "kdXr4G7snZho",
        "outputId": "420285f3-9cdb-437c-be79-e9b9b7aac091"
      },
      "execution_count": 3,
      "outputs": [
        {
          "output_type": "stream",
          "name": "stderr",
          "text": [
            "<ipython-input-3-f132d68f94b4>:4: DtypeWarning: Columns (1) have mixed types. Specify dtype option on import or set low_memory=False.\n",
            "  df = pd.read_csv('/content/genome_zeeshan_usmani.csv')\n"
          ]
        },
        {
          "output_type": "execute_result",
          "data": {
            "text/plain": [
              "        # rsid chromosome  position genotype\n",
              "0   rs12564807          1    734462       AA\n",
              "1    rs3131972          1    752721       AG\n",
              "2  rs148828841          1    760998       AC\n",
              "3   rs12124819          1    776546       AA\n",
              "4  rs115093905          1    787173       GG"
            ],
            "text/html": [
              "\n",
              "  <div id=\"df-8cbe9127-c743-4cff-8e8b-9e51023d6df4\" class=\"colab-df-container\">\n",
              "    <div>\n",
              "<style scoped>\n",
              "    .dataframe tbody tr th:only-of-type {\n",
              "        vertical-align: middle;\n",
              "    }\n",
              "\n",
              "    .dataframe tbody tr th {\n",
              "        vertical-align: top;\n",
              "    }\n",
              "\n",
              "    .dataframe thead th {\n",
              "        text-align: right;\n",
              "    }\n",
              "</style>\n",
              "<table border=\"1\" class=\"dataframe\">\n",
              "  <thead>\n",
              "    <tr style=\"text-align: right;\">\n",
              "      <th></th>\n",
              "      <th># rsid</th>\n",
              "      <th>chromosome</th>\n",
              "      <th>position</th>\n",
              "      <th>genotype</th>\n",
              "    </tr>\n",
              "  </thead>\n",
              "  <tbody>\n",
              "    <tr>\n",
              "      <th>0</th>\n",
              "      <td>rs12564807</td>\n",
              "      <td>1</td>\n",
              "      <td>734462</td>\n",
              "      <td>AA</td>\n",
              "    </tr>\n",
              "    <tr>\n",
              "      <th>1</th>\n",
              "      <td>rs3131972</td>\n",
              "      <td>1</td>\n",
              "      <td>752721</td>\n",
              "      <td>AG</td>\n",
              "    </tr>\n",
              "    <tr>\n",
              "      <th>2</th>\n",
              "      <td>rs148828841</td>\n",
              "      <td>1</td>\n",
              "      <td>760998</td>\n",
              "      <td>AC</td>\n",
              "    </tr>\n",
              "    <tr>\n",
              "      <th>3</th>\n",
              "      <td>rs12124819</td>\n",
              "      <td>1</td>\n",
              "      <td>776546</td>\n",
              "      <td>AA</td>\n",
              "    </tr>\n",
              "    <tr>\n",
              "      <th>4</th>\n",
              "      <td>rs115093905</td>\n",
              "      <td>1</td>\n",
              "      <td>787173</td>\n",
              "      <td>GG</td>\n",
              "    </tr>\n",
              "  </tbody>\n",
              "</table>\n",
              "</div>\n",
              "    <div class=\"colab-df-buttons\">\n",
              "\n",
              "  <div class=\"colab-df-container\">\n",
              "    <button class=\"colab-df-convert\" onclick=\"convertToInteractive('df-8cbe9127-c743-4cff-8e8b-9e51023d6df4')\"\n",
              "            title=\"Convert this dataframe to an interactive table.\"\n",
              "            style=\"display:none;\">\n",
              "\n",
              "  <svg xmlns=\"http://www.w3.org/2000/svg\" height=\"24px\" viewBox=\"0 -960 960 960\">\n",
              "    <path d=\"M120-120v-720h720v720H120Zm60-500h600v-160H180v160Zm220 220h160v-160H400v160Zm0 220h160v-160H400v160ZM180-400h160v-160H180v160Zm440 0h160v-160H620v160ZM180-180h160v-160H180v160Zm440 0h160v-160H620v160Z\"/>\n",
              "  </svg>\n",
              "    </button>\n",
              "\n",
              "  <style>\n",
              "    .colab-df-container {\n",
              "      display:flex;\n",
              "      gap: 12px;\n",
              "    }\n",
              "\n",
              "    .colab-df-convert {\n",
              "      background-color: #E8F0FE;\n",
              "      border: none;\n",
              "      border-radius: 50%;\n",
              "      cursor: pointer;\n",
              "      display: none;\n",
              "      fill: #1967D2;\n",
              "      height: 32px;\n",
              "      padding: 0 0 0 0;\n",
              "      width: 32px;\n",
              "    }\n",
              "\n",
              "    .colab-df-convert:hover {\n",
              "      background-color: #E2EBFA;\n",
              "      box-shadow: 0px 1px 2px rgba(60, 64, 67, 0.3), 0px 1px 3px 1px rgba(60, 64, 67, 0.15);\n",
              "      fill: #174EA6;\n",
              "    }\n",
              "\n",
              "    .colab-df-buttons div {\n",
              "      margin-bottom: 4px;\n",
              "    }\n",
              "\n",
              "    [theme=dark] .colab-df-convert {\n",
              "      background-color: #3B4455;\n",
              "      fill: #D2E3FC;\n",
              "    }\n",
              "\n",
              "    [theme=dark] .colab-df-convert:hover {\n",
              "      background-color: #434B5C;\n",
              "      box-shadow: 0px 1px 3px 1px rgba(0, 0, 0, 0.15);\n",
              "      filter: drop-shadow(0px 1px 2px rgba(0, 0, 0, 0.3));\n",
              "      fill: #FFFFFF;\n",
              "    }\n",
              "  </style>\n",
              "\n",
              "    <script>\n",
              "      const buttonEl =\n",
              "        document.querySelector('#df-8cbe9127-c743-4cff-8e8b-9e51023d6df4 button.colab-df-convert');\n",
              "      buttonEl.style.display =\n",
              "        google.colab.kernel.accessAllowed ? 'block' : 'none';\n",
              "\n",
              "      async function convertToInteractive(key) {\n",
              "        const element = document.querySelector('#df-8cbe9127-c743-4cff-8e8b-9e51023d6df4');\n",
              "        const dataTable =\n",
              "          await google.colab.kernel.invokeFunction('convertToInteractive',\n",
              "                                                    [key], {});\n",
              "        if (!dataTable) return;\n",
              "\n",
              "        const docLinkHtml = 'Like what you see? Visit the ' +\n",
              "          '<a target=\"_blank\" href=https://colab.research.google.com/notebooks/data_table.ipynb>data table notebook</a>'\n",
              "          + ' to learn more about interactive tables.';\n",
              "        element.innerHTML = '';\n",
              "        dataTable['output_type'] = 'display_data';\n",
              "        await google.colab.output.renderOutput(dataTable, element);\n",
              "        const docLink = document.createElement('div');\n",
              "        docLink.innerHTML = docLinkHtml;\n",
              "        element.appendChild(docLink);\n",
              "      }\n",
              "    </script>\n",
              "  </div>\n",
              "\n",
              "\n",
              "<div id=\"df-8a152fb8-7ed4-472b-b94b-cc93175c432f\">\n",
              "  <button class=\"colab-df-quickchart\" onclick=\"quickchart('df-8a152fb8-7ed4-472b-b94b-cc93175c432f')\"\n",
              "            title=\"Suggest charts\"\n",
              "            style=\"display:none;\">\n",
              "\n",
              "<svg xmlns=\"http://www.w3.org/2000/svg\" height=\"24px\"viewBox=\"0 0 24 24\"\n",
              "     width=\"24px\">\n",
              "    <g>\n",
              "        <path d=\"M19 3H5c-1.1 0-2 .9-2 2v14c0 1.1.9 2 2 2h14c1.1 0 2-.9 2-2V5c0-1.1-.9-2-2-2zM9 17H7v-7h2v7zm4 0h-2V7h2v10zm4 0h-2v-4h2v4z\"/>\n",
              "    </g>\n",
              "</svg>\n",
              "  </button>\n",
              "\n",
              "<style>\n",
              "  .colab-df-quickchart {\n",
              "      --bg-color: #E8F0FE;\n",
              "      --fill-color: #1967D2;\n",
              "      --hover-bg-color: #E2EBFA;\n",
              "      --hover-fill-color: #174EA6;\n",
              "      --disabled-fill-color: #AAA;\n",
              "      --disabled-bg-color: #DDD;\n",
              "  }\n",
              "\n",
              "  [theme=dark] .colab-df-quickchart {\n",
              "      --bg-color: #3B4455;\n",
              "      --fill-color: #D2E3FC;\n",
              "      --hover-bg-color: #434B5C;\n",
              "      --hover-fill-color: #FFFFFF;\n",
              "      --disabled-bg-color: #3B4455;\n",
              "      --disabled-fill-color: #666;\n",
              "  }\n",
              "\n",
              "  .colab-df-quickchart {\n",
              "    background-color: var(--bg-color);\n",
              "    border: none;\n",
              "    border-radius: 50%;\n",
              "    cursor: pointer;\n",
              "    display: none;\n",
              "    fill: var(--fill-color);\n",
              "    height: 32px;\n",
              "    padding: 0;\n",
              "    width: 32px;\n",
              "  }\n",
              "\n",
              "  .colab-df-quickchart:hover {\n",
              "    background-color: var(--hover-bg-color);\n",
              "    box-shadow: 0 1px 2px rgba(60, 64, 67, 0.3), 0 1px 3px 1px rgba(60, 64, 67, 0.15);\n",
              "    fill: var(--button-hover-fill-color);\n",
              "  }\n",
              "\n",
              "  .colab-df-quickchart-complete:disabled,\n",
              "  .colab-df-quickchart-complete:disabled:hover {\n",
              "    background-color: var(--disabled-bg-color);\n",
              "    fill: var(--disabled-fill-color);\n",
              "    box-shadow: none;\n",
              "  }\n",
              "\n",
              "  .colab-df-spinner {\n",
              "    border: 2px solid var(--fill-color);\n",
              "    border-color: transparent;\n",
              "    border-bottom-color: var(--fill-color);\n",
              "    animation:\n",
              "      spin 1s steps(1) infinite;\n",
              "  }\n",
              "\n",
              "  @keyframes spin {\n",
              "    0% {\n",
              "      border-color: transparent;\n",
              "      border-bottom-color: var(--fill-color);\n",
              "      border-left-color: var(--fill-color);\n",
              "    }\n",
              "    20% {\n",
              "      border-color: transparent;\n",
              "      border-left-color: var(--fill-color);\n",
              "      border-top-color: var(--fill-color);\n",
              "    }\n",
              "    30% {\n",
              "      border-color: transparent;\n",
              "      border-left-color: var(--fill-color);\n",
              "      border-top-color: var(--fill-color);\n",
              "      border-right-color: var(--fill-color);\n",
              "    }\n",
              "    40% {\n",
              "      border-color: transparent;\n",
              "      border-right-color: var(--fill-color);\n",
              "      border-top-color: var(--fill-color);\n",
              "    }\n",
              "    60% {\n",
              "      border-color: transparent;\n",
              "      border-right-color: var(--fill-color);\n",
              "    }\n",
              "    80% {\n",
              "      border-color: transparent;\n",
              "      border-right-color: var(--fill-color);\n",
              "      border-bottom-color: var(--fill-color);\n",
              "    }\n",
              "    90% {\n",
              "      border-color: transparent;\n",
              "      border-bottom-color: var(--fill-color);\n",
              "    }\n",
              "  }\n",
              "</style>\n",
              "\n",
              "  <script>\n",
              "    async function quickchart(key) {\n",
              "      const quickchartButtonEl =\n",
              "        document.querySelector('#' + key + ' button');\n",
              "      quickchartButtonEl.disabled = true;  // To prevent multiple clicks.\n",
              "      quickchartButtonEl.classList.add('colab-df-spinner');\n",
              "      try {\n",
              "        const charts = await google.colab.kernel.invokeFunction(\n",
              "            'suggestCharts', [key], {});\n",
              "      } catch (error) {\n",
              "        console.error('Error during call to suggestCharts:', error);\n",
              "      }\n",
              "      quickchartButtonEl.classList.remove('colab-df-spinner');\n",
              "      quickchartButtonEl.classList.add('colab-df-quickchart-complete');\n",
              "    }\n",
              "    (() => {\n",
              "      let quickchartButtonEl =\n",
              "        document.querySelector('#df-8a152fb8-7ed4-472b-b94b-cc93175c432f button');\n",
              "      quickchartButtonEl.style.display =\n",
              "        google.colab.kernel.accessAllowed ? 'block' : 'none';\n",
              "    })();\n",
              "  </script>\n",
              "</div>\n",
              "\n",
              "    </div>\n",
              "  </div>\n"
            ],
            "application/vnd.google.colaboratory.intrinsic+json": {
              "type": "dataframe",
              "variable_name": "df"
            }
          },
          "metadata": {},
          "execution_count": 3
        }
      ]
    },
    {
      "cell_type": "code",
      "source": [
        "# Get general information about the dataset\n",
        "print(\"\\nDataset Info:\")\n",
        "print(df.info())"
      ],
      "metadata": {
        "colab": {
          "base_uri": "https://localhost:8080/"
        },
        "id": "1uoukTk5pHRw",
        "outputId": "2a5e0ead-8268-4efb-8016-c2aed3cddbe7"
      },
      "execution_count": 4,
      "outputs": [
        {
          "output_type": "stream",
          "name": "stdout",
          "text": [
            "\n",
            "Dataset Info:\n",
            "<class 'pandas.core.frame.DataFrame'>\n",
            "RangeIndex: 610544 entries, 0 to 610543\n",
            "Data columns (total 4 columns):\n",
            " #   Column      Non-Null Count   Dtype \n",
            "---  ------      --------------   ----- \n",
            " 0   # rsid      610544 non-null  object\n",
            " 1   chromosome  610544 non-null  object\n",
            " 2   position    610544 non-null  int64 \n",
            " 3   genotype    610544 non-null  object\n",
            "dtypes: int64(1), object(3)\n",
            "memory usage: 18.6+ MB\n",
            "None\n"
          ]
        }
      ]
    },
    {
      "cell_type": "code",
      "source": [
        "# Check for any missing values\n",
        "print(\"\\nMissing Values:\")\n",
        "print(df.isnull().sum())"
      ],
      "metadata": {
        "colab": {
          "base_uri": "https://localhost:8080/"
        },
        "id": "k_TNJhtCpH5X",
        "outputId": "f7a2137f-4acd-460b-d6ae-5e5b4e7b5942"
      },
      "execution_count": 5,
      "outputs": [
        {
          "output_type": "stream",
          "name": "stdout",
          "text": [
            "\n",
            "Missing Values:\n",
            "# rsid        0\n",
            "chromosome    0\n",
            "position      0\n",
            "genotype      0\n",
            "dtype: int64\n"
          ]
        }
      ]
    },
    {
      "cell_type": "code",
      "source": [
        "# Summary of the dataset (statistical summary, if applicable)\n",
        "print(\"\\nSummary Statistics:\")\n",
        "print(df.describe())"
      ],
      "metadata": {
        "colab": {
          "base_uri": "https://localhost:8080/"
        },
        "id": "tddRltbspP2m",
        "outputId": "a9623001-aad3-4ff1-da31-9ac416c81070"
      },
      "execution_count": 6,
      "outputs": [
        {
          "output_type": "stream",
          "name": "stdout",
          "text": [
            "\n",
            "Summary Statistics:\n",
            "           position\n",
            "count  6.105440e+05\n",
            "mean   7.659351e+07\n",
            "std    5.689771e+07\n",
            "min    3.000000e+00\n",
            "25%    3.006792e+07\n",
            "50%    6.606869e+07\n",
            "75%    1.141293e+08\n",
            "max    2.492190e+08\n"
          ]
        }
      ]
    },
    {
      "cell_type": "code",
      "source": [
        "import pandas as pd\n",
        "\n",
        "# Read the CSV file\n",
        "df = pd.read_csv('/content/genome_zeeshan_usmani.csv', low_memory=False)\n",
        "\n",
        "# Clean column names by removing leading/trailing spaces and the '#' character\n",
        "df.columns = df.columns.str.strip().str.replace('# ', '', regex=False)\n",
        "\n",
        "# Display dataset info and first few rows\n",
        "print(\"\\nDataset Information:\")\n",
        "print(df.info())\n",
        "\n",
        "print(\"\\nFirst few rows:\")\n",
        "print(df.head())\n",
        "\n",
        "# Filter the dataset for Vitamin D-related SNPs (add more SNPs as needed)\n",
        "vitamin_d_related_snps = ['rs12564807', 'rs3131972', 'rs148828841', 'rs12124819', 'rs115093905']  # Example rsid\n",
        "vitamin_d_snp_data = df[df['rsid'].isin(vitamin_d_related_snps)].copy()  # Make a copy to avoid warnings\n",
        "\n",
        "# Function to interpret genotype based on SNP (expand this as needed)\n",
        "def interpret_genotype(row):\n",
        "    if row['rsid'] == 'rs12564807' and row['genotype'] == 'AA':\n",
        "        return \"Low Vitamin D risk\"\n",
        "    elif row['rsid'] == 'rs3131972' and row['genotype'] == 'AG':\n",
        "        return \"Normal Vitamin D risk\"\n",
        "    elif row['rsid'] == 'rs148828841' and row['genotype'] == 'GG':\n",
        "        return \"High Vitamin D risk\"\n",
        "    else:\n",
        "        return \"Unknown\"\n",
        "\n",
        "# Apply genotype interpretation with .loc[] to avoid SettingWithCopyWarning\n",
        "vitamin_d_snp_data.loc[:, 'Vitamin_D_Risk'] = vitamin_d_snp_data.apply(interpret_genotype, axis=1)\n",
        "\n",
        "# Function to generate recommendations based on Vitamin D risk\n",
        "def generate_recommendations(row):\n",
        "    if row['Vitamin_D_Risk'] == \"Low Vitamin D risk\":\n",
        "        return \"Recommendation: Increase Vitamin D intake through supplements and sunlight exposure. Consider a Vitamin D rich diet (e.g., fortified foods, fatty fish, egg yolks).\"\n",
        "    elif row['Vitamin_D_Risk'] == \"Normal Vitamin D risk\":\n",
        "        return \"Recommendation: Maintain current Vitamin D levels through balanced diet and moderate sun exposure.\"\n",
        "    elif row['Vitamin_D_Risk'] == \"High Vitamin D risk\":\n",
        "        return \"Recommendation: Be cautious with Vitamin D supplementation, as high levels might cause toxicity. Consult with a healthcare provider.\"\n",
        "    else:\n",
        "        return \"Recommendation: Consult with a genetic counselor or healthcare provider for personalized advice.\"\n",
        "\n",
        "# Apply recommendations with .loc[] to avoid SettingWithCopyWarning\n",
        "vitamin_d_snp_data.loc[:, 'Recommendations'] = vitamin_d_snp_data.apply(generate_recommendations, axis=1)\n",
        "\n",
        "# Show the final dataset with recommendations\n",
        "print(\"\\nFinal Report with Recommendations:\")\n",
        "print(vitamin_d_snp_data[['rsid', 'genotype', 'Vitamin_D_Risk', 'Recommendations']])\n",
        "\n",
        "# Optionally, save the report to a CSV file\n",
        "vitamin_d_snp_data.to_csv('/content/vitamin_d_report.csv', index=False)\n"
      ],
      "metadata": {
        "colab": {
          "base_uri": "https://localhost:8080/"
        },
        "id": "xY6zXbShpV8n",
        "outputId": "b81168c6-7a34-4108-ab6c-69ba04ab048a"
      },
      "execution_count": 13,
      "outputs": [
        {
          "output_type": "stream",
          "name": "stdout",
          "text": [
            "\n",
            "Dataset Information:\n",
            "<class 'pandas.core.frame.DataFrame'>\n",
            "RangeIndex: 610544 entries, 0 to 610543\n",
            "Data columns (total 4 columns):\n",
            " #   Column      Non-Null Count   Dtype \n",
            "---  ------      --------------   ----- \n",
            " 0   rsid        610544 non-null  object\n",
            " 1   chromosome  610544 non-null  object\n",
            " 2   position    610544 non-null  int64 \n",
            " 3   genotype    610544 non-null  object\n",
            "dtypes: int64(1), object(3)\n",
            "memory usage: 18.6+ MB\n",
            "None\n",
            "\n",
            "First few rows:\n",
            "          rsid chromosome  position genotype\n",
            "0   rs12564807          1    734462       AA\n",
            "1    rs3131972          1    752721       AG\n",
            "2  rs148828841          1    760998       AC\n",
            "3   rs12124819          1    776546       AA\n",
            "4  rs115093905          1    787173       GG\n",
            "\n",
            "Final Report with Recommendations:\n",
            "          rsid genotype         Vitamin_D_Risk  \\\n",
            "0   rs12564807       AA     Low Vitamin D risk   \n",
            "1    rs3131972       AG  Normal Vitamin D risk   \n",
            "2  rs148828841       AC                Unknown   \n",
            "3   rs12124819       AA                Unknown   \n",
            "4  rs115093905       GG                Unknown   \n",
            "\n",
            "                                     Recommendations  \n",
            "0  Recommendation: Increase Vitamin D intake thro...  \n",
            "1  Recommendation: Maintain current Vitamin D lev...  \n",
            "2  Recommendation: Consult with a genetic counsel...  \n",
            "3  Recommendation: Consult with a genetic counsel...  \n",
            "4  Recommendation: Consult with a genetic counsel...  \n"
          ]
        }
      ]
    },
    {
      "cell_type": "code",
      "source": [
        "print(vitamin_d_snp_data['Vitamin_D_Risk'].value_counts())\n"
      ],
      "metadata": {
        "colab": {
          "base_uri": "https://localhost:8080/"
        },
        "id": "I6RsqOsRphw2",
        "outputId": "543e6c18-9213-4b7d-e02c-bc7baf77d8f8"
      },
      "execution_count": 15,
      "outputs": [
        {
          "output_type": "stream",
          "name": "stdout",
          "text": [
            "Vitamin_D_Risk\n",
            "2    3\n",
            "0    1\n",
            "1    1\n",
            "Name: count, dtype: int64\n"
          ]
        }
      ]
    },
    {
      "cell_type": "code",
      "source": [
        "print(vitamin_d_snp_data['genotype'].unique())\n",
        "print(vitamin_d_snp_data['Vitamin_D_Risk'].unique())\n"
      ],
      "metadata": {
        "colab": {
          "base_uri": "https://localhost:8080/"
        },
        "id": "CgXH20wXtrwv",
        "outputId": "e5ce2440-b7ed-4d4a-9fdd-b7c088405e2f"
      },
      "execution_count": 16,
      "outputs": [
        {
          "output_type": "stream",
          "name": "stdout",
          "text": [
            "[0 2 1 3]\n",
            "[0 1 2]\n"
          ]
        }
      ]
    },
    {
      "cell_type": "markdown",
      "source": [
        "The class imbalance is quite extreme, with the target variable containing very few examples for some of the classes. Specifically:"
      ],
      "metadata": {
        "id": "8xbtVPdxuFfW"
      }
    },
    {
      "cell_type": "code",
      "source": [],
      "metadata": {
        "id": "aR5QO5mKt8lu"
      },
      "execution_count": null,
      "outputs": []
    }
  ]
}