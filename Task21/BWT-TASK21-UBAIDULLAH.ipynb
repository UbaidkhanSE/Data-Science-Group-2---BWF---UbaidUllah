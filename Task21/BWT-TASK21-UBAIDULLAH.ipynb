{
 "cells": [
  {
   "cell_type": "markdown",
   "id": "f1b353b4-34a5-4643-bf1c-f2402e018fb4",
   "metadata": {},
   "source": [
    "# **Linear algebra and calculus in NumPy**\n"
   ]
  },
  {
   "cell_type": "markdown",
   "id": "5e0b2d23-b3b8-41c6-87fa-f55378e366ec",
   "metadata": {},
   "source": [
    "## **Array creation routines**"
   ]
  },
  {
   "cell_type": "markdown",
   "id": "13c5d99d-4be2-4f40-baea-d16bf6e8572f",
   "metadata": {},
   "source": [
    "### **From shape or value**"
   ]
  },
  {
   "cell_type": "markdown",
   "id": "c5a74491-ba2f-4459-b30d-ce3612ebf630",
   "metadata": {},
   "source": [
    "### NumPy `empty` Function\n",
    "\n",
    "The `numpy.empty` Return a new array of given shape and type, without initializing entries.\n",
    "\n",
    "#### Function Signature\n",
    "\n",
    "```python\n",
    "numpy.empty(shape, dtype=float, order='C', *, device=None, like=None)\n"
   ]
  },
  {
   "cell_type": "code",
   "execution_count": 426,
   "id": "966bbf4b-f266-48cb-a70f-c7e31f82d3e0",
   "metadata": {},
   "outputs": [
    {
     "data": {
      "text/plain": [
       "array([[2.        , 0.        ],\n",
       "       [1.        , 1.41421356]])"
      ]
     },
     "execution_count": 426,
     "metadata": {},
     "output_type": "execute_result"
    }
   ],
   "source": [
    "import numpy as np\n",
    "np.empty([2, 2])"
   ]
  },
  {
   "cell_type": "code",
   "execution_count": 427,
   "id": "25cf1e70-77f9-46c7-99d8-84be023977c9",
   "metadata": {},
   "outputs": [
    {
     "data": {
      "text/plain": [
       "array([[-1671831657,  1072249082],\n",
       "       [ -232902521,  1071886708]])"
      ]
     },
     "execution_count": 427,
     "metadata": {},
     "output_type": "execute_result"
    }
   ],
   "source": [
    "np.empty([2, 2], dtype=int)"
   ]
  },
  {
   "cell_type": "markdown",
   "id": "71d4c61d-ba68-4a4b-b1f6-054127129a48",
   "metadata": {},
   "source": [
    "### NumPy `empty_like` Function\n",
    "\n",
    "The `numpy.empty_like` function returns a new array with the same shape and type as a given array, without initializing the entries.\n",
    "\n",
    "#### Function Signature\n",
    "\n",
    "```python\n",
    "numpy.empty_like(prototype, dtype=None, order='K', subok=True, shape=None, *, device=None)\n"
   ]
  },
  {
   "cell_type": "code",
   "execution_count": 428,
   "id": "18a329ed-7309-4f95-8eef-b2d43f3a5e91",
   "metadata": {},
   "outputs": [
    {
     "data": {
      "text/plain": [
       "array([[         0, 1073741824,          0],\n",
       "       [1072693248, 1719614413, 1073127582]])"
      ]
     },
     "execution_count": 428,
     "metadata": {},
     "output_type": "execute_result"
    }
   ],
   "source": [
    "a = ([1,2,3], [4,5,6])                         # a is array-like\n",
    "np.empty_like(a)"
   ]
  },
  {
   "cell_type": "code",
   "execution_count": 429,
   "id": "80f01e55-c839-41c5-8139-525e524a1b7e",
   "metadata": {},
   "outputs": [
    {
     "data": {
      "text/plain": [
       "array([[1., 1., 1.],\n",
       "       [0., 0., 0.]])"
      ]
     },
     "execution_count": 429,
     "metadata": {},
     "output_type": "execute_result"
    }
   ],
   "source": [
    "a = np.array([[1., 2., 3.],[4.,5.,6.]])\n",
    "np.empty_like(a)"
   ]
  },
  {
   "cell_type": "markdown",
   "id": "7f9cc362-dfaf-42ec-bc75-56902de79df6",
   "metadata": {},
   "source": [
    "### NumPy `eye` Function\n",
    "\n",
    "The `numpy.eye` function returns a 2-D array with ones on the diagonal and zeros elsewhere.\n",
    "\n",
    "#### Function Signature\n",
    "\n",
    "```python\n",
    "numpy.eye(N, M=None, k=0, dtype=<class 'float'>, order='C', *, device=None, like=None)\n"
   ]
  },
  {
   "cell_type": "code",
   "execution_count": 430,
   "id": "61472bce-f4b5-4f75-8849-9edd82b8eee3",
   "metadata": {},
   "outputs": [
    {
     "data": {
      "text/plain": [
       "array([[1, 0],\n",
       "       [0, 1]])"
      ]
     },
     "execution_count": 430,
     "metadata": {},
     "output_type": "execute_result"
    }
   ],
   "source": [
    "np.eye(2, dtype=int)"
   ]
  },
  {
   "cell_type": "code",
   "execution_count": 431,
   "id": "b5404deb-9b68-41fd-b13c-2f420fb3c674",
   "metadata": {},
   "outputs": [
    {
     "data": {
      "text/plain": [
       "array([[0., 1., 0.],\n",
       "       [0., 0., 1.],\n",
       "       [0., 0., 0.]])"
      ]
     },
     "execution_count": 431,
     "metadata": {},
     "output_type": "execute_result"
    }
   ],
   "source": [
    "np.eye(3, k=1)"
   ]
  },
  {
   "cell_type": "markdown",
   "id": "2aa8579a-f7f3-4e5d-890d-41ee3065017b",
   "metadata": {},
   "source": [
    "### NumPy `identity` Function\n",
    "\n",
    "The `numpy.identity` function returns the identity array, which is a square array with ones on the main diagonal.\n",
    "\n",
    "#### Function Signature\n",
    "\n",
    "```python\n",
    "numpy.identity(n, dtype=None, *, like=None)\n"
   ]
  },
  {
   "cell_type": "code",
   "execution_count": 432,
   "id": "cdb4cb9b-5434-423a-b4b0-94420780a903",
   "metadata": {},
   "outputs": [
    {
     "data": {
      "text/plain": [
       "array([[1., 0., 0.],\n",
       "       [0., 1., 0.],\n",
       "       [0., 0., 1.]])"
      ]
     },
     "execution_count": 432,
     "metadata": {},
     "output_type": "execute_result"
    }
   ],
   "source": [
    "np.identity(3)"
   ]
  },
  {
   "cell_type": "markdown",
   "id": "80066915-c96c-45ea-893f-4e962c337457",
   "metadata": {},
   "source": [
    "### NumPy `ones` Function\n",
    "\n",
    "The `numpy.ones` function returns a new array of a specified shape and type, filled with ones.\n",
    "\n",
    "#### Function Signature\n",
    "\n",
    "```python\n",
    "numpy.ones(shape, dtype=None, order='C', *, device=None, like=None)\n"
   ]
  },
  {
   "cell_type": "code",
   "execution_count": 433,
   "id": "0efca6a6-bf34-456c-8bee-387c67c58c03",
   "metadata": {},
   "outputs": [
    {
     "data": {
      "text/plain": [
       "array([1., 1., 1., 1., 1.])"
      ]
     },
     "execution_count": 433,
     "metadata": {},
     "output_type": "execute_result"
    }
   ],
   "source": [
    "np.ones(5)"
   ]
  },
  {
   "cell_type": "code",
   "execution_count": 434,
   "id": "2a013ae0-75ea-4242-8517-ee564fbe017d",
   "metadata": {},
   "outputs": [
    {
     "data": {
      "text/plain": [
       "array([1, 1, 1, 1, 1])"
      ]
     },
     "execution_count": 434,
     "metadata": {},
     "output_type": "execute_result"
    }
   ],
   "source": [
    "np.ones((5,), dtype=int)"
   ]
  },
  {
   "cell_type": "code",
   "execution_count": 435,
   "id": "dc20de96-6dd9-4276-b563-4ec7c6e0c4fe",
   "metadata": {},
   "outputs": [
    {
     "data": {
      "text/plain": [
       "array([[1.],\n",
       "       [1.]])"
      ]
     },
     "execution_count": 435,
     "metadata": {},
     "output_type": "execute_result"
    }
   ],
   "source": [
    "np.ones((2, 1))"
   ]
  },
  {
   "cell_type": "code",
   "execution_count": 436,
   "id": "fb771516-2dd2-435f-8441-a5ece4d98e5f",
   "metadata": {},
   "outputs": [
    {
     "data": {
      "text/plain": [
       "array([[1., 1.],\n",
       "       [1., 1.]])"
      ]
     },
     "execution_count": 436,
     "metadata": {},
     "output_type": "execute_result"
    }
   ],
   "source": [
    "s = (2,2)\n",
    "np.ones(s)"
   ]
  },
  {
   "cell_type": "markdown",
   "id": "7dbf6317-be71-467c-b1e6-1c188ce4ae17",
   "metadata": {},
   "source": [
    "### NumPy `ones_like` Function\n",
    "\n",
    "The `numpy.ones_like` function returns an array of ones with the same shape and type as a given array.\n",
    "\n",
    "#### Function Signature\n",
    "\n",
    "```python\n",
    "numpy.ones_like(a, dtype=None, order='K', subok=True, shape=None, *, device=None)\n"
   ]
  },
  {
   "cell_type": "code",
   "execution_count": 437,
   "id": "17b8a5bd-4fec-43d8-b102-954d9558ddcf",
   "metadata": {},
   "outputs": [
    {
     "data": {
      "text/plain": [
       "array([[0, 1, 2],\n",
       "       [3, 4, 5]])"
      ]
     },
     "execution_count": 437,
     "metadata": {},
     "output_type": "execute_result"
    }
   ],
   "source": [
    "x = np.arange(6)\n",
    "x = x.reshape((2, 3))\n",
    "x"
   ]
  },
  {
   "cell_type": "code",
   "execution_count": 438,
   "id": "31ad0f09-2b69-4af9-a7a8-48cdbf2c9dfa",
   "metadata": {},
   "outputs": [
    {
     "data": {
      "text/plain": [
       "array([0., 1., 2.])"
      ]
     },
     "execution_count": 438,
     "metadata": {},
     "output_type": "execute_result"
    }
   ],
   "source": [
    "y = np.arange(3, dtype=float)\n",
    "y"
   ]
  },
  {
   "cell_type": "markdown",
   "id": "c63328b0-d2db-4843-98d4-6a0528657599",
   "metadata": {},
   "source": [
    "### NumPy `zeros` Function\n",
    "\n",
    "The `numpy.zeros` function returns a new array of a specified shape and type, filled with zeros.\n",
    "\n",
    "#### Function Signature\n",
    "\n",
    "```python\n",
    "numpy.zeros(shape, dtype=float, order='C', *, like=None)\n"
   ]
  },
  {
   "cell_type": "code",
   "execution_count": 439,
   "id": "dc8168a2-3088-4be9-94c0-022c0d2d584a",
   "metadata": {},
   "outputs": [
    {
     "data": {
      "text/plain": [
       "array([0., 0., 0., 0., 0.])"
      ]
     },
     "execution_count": 439,
     "metadata": {},
     "output_type": "execute_result"
    }
   ],
   "source": [
    "np.zeros(5)"
   ]
  },
  {
   "cell_type": "code",
   "execution_count": 440,
   "id": "dd342f9e-7077-44b1-a40b-3694c76c2f71",
   "metadata": {},
   "outputs": [
    {
     "data": {
      "text/plain": [
       "array([0, 0, 0, 0, 0])"
      ]
     },
     "execution_count": 440,
     "metadata": {},
     "output_type": "execute_result"
    }
   ],
   "source": [
    "np.zeros((5,), dtype=int)"
   ]
  },
  {
   "cell_type": "code",
   "execution_count": 441,
   "id": "51671582-3b73-4443-8d0f-3a356f8bd42c",
   "metadata": {},
   "outputs": [
    {
     "data": {
      "text/plain": [
       "array([[0.],\n",
       "       [0.]])"
      ]
     },
     "execution_count": 441,
     "metadata": {},
     "output_type": "execute_result"
    }
   ],
   "source": [
    "np.zeros((2, 1))"
   ]
  },
  {
   "cell_type": "code",
   "execution_count": 442,
   "id": "97052ddd-5a29-4611-9caa-f23943ed8ccd",
   "metadata": {},
   "outputs": [
    {
     "data": {
      "text/plain": [
       "array([[0., 0.],\n",
       "       [0., 0.]])"
      ]
     },
     "execution_count": 442,
     "metadata": {},
     "output_type": "execute_result"
    }
   ],
   "source": [
    "s = (2,2)\n",
    "np.zeros(s)"
   ]
  },
  {
   "cell_type": "code",
   "execution_count": 443,
   "id": "c12a072a-02af-4b62-81bb-c2e3d430dab0",
   "metadata": {},
   "outputs": [
    {
     "data": {
      "text/plain": [
       "array([(0, 0), (0, 0)], dtype=[('x', '<i4'), ('y', '<i4')])"
      ]
     },
     "execution_count": 443,
     "metadata": {},
     "output_type": "execute_result"
    }
   ],
   "source": [
    "np.zeros((2,), dtype=[('x', 'i4'), ('y', 'i4')]) # custom dtype"
   ]
  },
  {
   "cell_type": "markdown",
   "id": "f1a7e133-7080-41a9-be28-f0fb4c526424",
   "metadata": {},
   "source": [
    "### NumPy `zeros_like` Function\n",
    "\n",
    "The `numpy.zeros_like` function returns an array of zeros with the same shape and type as a given array.\n",
    "\n",
    "#### Function Signature\n",
    "\n",
    "```python\n",
    "numpy.zeros_like(a, dtype=None, order='K', subok=True, shape=None, *, device=None)\n"
   ]
  },
  {
   "cell_type": "code",
   "execution_count": 444,
   "id": "13c0bd8b-477b-4a31-8b48-56db48f1ac8f",
   "metadata": {},
   "outputs": [
    {
     "data": {
      "text/plain": [
       "array([[0, 1, 2],\n",
       "       [3, 4, 5]])"
      ]
     },
     "execution_count": 444,
     "metadata": {},
     "output_type": "execute_result"
    }
   ],
   "source": [
    "x = np.arange(6)\n",
    "x = x.reshape((2, 3))\n",
    "x"
   ]
  },
  {
   "cell_type": "code",
   "execution_count": 445,
   "id": "4826266b-0546-4f65-91fc-36c92ccbf1e9",
   "metadata": {},
   "outputs": [
    {
     "data": {
      "text/plain": [
       "array([0., 1., 2.])"
      ]
     },
     "execution_count": 445,
     "metadata": {},
     "output_type": "execute_result"
    }
   ],
   "source": [
    "y = np.arange(3, dtype=float)\n",
    "y"
   ]
  },
  {
   "cell_type": "markdown",
   "id": "c4a074f3-4647-425f-b447-56f5607b00b4",
   "metadata": {},
   "source": [
    "### NumPy `full` Function\n",
    "\n",
    "The `numpy.full` function returns a new array of a specified shape and type, filled with a specified value.\n",
    "\n",
    "#### Function Signature\n",
    "\n",
    "```python\n",
    "numpy.full(shape, fill_value, dtype=None, order='C', *, device=None, like=None)\n"
   ]
  },
  {
   "cell_type": "code",
   "execution_count": 446,
   "id": "2cb8144e-bf25-451d-b852-744e81cf1573",
   "metadata": {},
   "outputs": [
    {
     "data": {
      "text/plain": [
       "array([[inf, inf],\n",
       "       [inf, inf]])"
      ]
     },
     "execution_count": 446,
     "metadata": {},
     "output_type": "execute_result"
    }
   ],
   "source": [
    "np.full((2, 2), np.inf)"
   ]
  },
  {
   "cell_type": "code",
   "execution_count": 447,
   "id": "ae4e4fa0-1de3-4662-ae1a-7c61453e3951",
   "metadata": {},
   "outputs": [
    {
     "data": {
      "text/plain": [
       "array([[10, 10],\n",
       "       [10, 10]])"
      ]
     },
     "execution_count": 447,
     "metadata": {},
     "output_type": "execute_result"
    }
   ],
   "source": [
    "np.full((2, 2), 10)"
   ]
  },
  {
   "cell_type": "code",
   "execution_count": 448,
   "id": "e16f90ff-9440-4f9e-b656-ec789ad1439c",
   "metadata": {},
   "outputs": [
    {
     "data": {
      "text/plain": [
       "array([[1, 2],\n",
       "       [1, 2]])"
      ]
     },
     "execution_count": 448,
     "metadata": {},
     "output_type": "execute_result"
    }
   ],
   "source": [
    "np.full((2, 2), [1, 2])"
   ]
  },
  {
   "cell_type": "markdown",
   "id": "c7eb97c8-febc-4f75-af95-8968b9ede6d2",
   "metadata": {},
   "source": [
    "### NumPy `full_like` Function\n",
    "\n",
    "The `numpy.full_like` function returns a new array with the same shape and type as a given array, filled with a specified value.\n",
    "\n",
    "#### Function Signature\n",
    "\n",
    "```python\n",
    "numpy.full_like(a, fill_value, dtype=None, order='K', subok=True, shape=None, *, device=None)\n"
   ]
  },
  {
   "cell_type": "code",
   "execution_count": 449,
   "id": "8720a08a-e971-4c93-8345-74fa59a661cb",
   "metadata": {},
   "outputs": [
    {
     "data": {
      "text/plain": [
       "array([1, 1, 1, 1, 1, 1])"
      ]
     },
     "execution_count": 449,
     "metadata": {},
     "output_type": "execute_result"
    }
   ],
   "source": [
    "x = np.arange(6, dtype=int)\n",
    "np.full_like(x, 1)"
   ]
  },
  {
   "cell_type": "code",
   "execution_count": 450,
   "id": "dea83dde-3c7a-4fd1-9f94-1e63d1952f56",
   "metadata": {},
   "outputs": [
    {
     "data": {
      "text/plain": [
       "array([0, 0, 0, 0, 0, 0])"
      ]
     },
     "execution_count": 450,
     "metadata": {},
     "output_type": "execute_result"
    }
   ],
   "source": [
    "np.full_like(x, 0.1)"
   ]
  },
  {
   "cell_type": "code",
   "execution_count": 451,
   "id": "97968a19-3e69-416e-a561-04ed5bb39142",
   "metadata": {},
   "outputs": [
    {
     "data": {
      "text/plain": [
       "array([0.1, 0.1, 0.1, 0.1, 0.1, 0.1])"
      ]
     },
     "execution_count": 451,
     "metadata": {},
     "output_type": "execute_result"
    }
   ],
   "source": [
    "np.full_like(x, 0.1, dtype=np.double)"
   ]
  },
  {
   "cell_type": "code",
   "execution_count": 452,
   "id": "a93eae7e-addb-4a1f-b943-3e4b3369b10d",
   "metadata": {},
   "outputs": [
    {
     "data": {
      "text/plain": [
       "array([nan, nan, nan, nan, nan, nan])"
      ]
     },
     "execution_count": 452,
     "metadata": {},
     "output_type": "execute_result"
    }
   ],
   "source": [
    "np.full_like(x, np.nan, dtype=np.double)"
   ]
  },
  {
   "cell_type": "code",
   "execution_count": 453,
   "id": "c0be0c9e-ac67-44b9-a19f-2d54ccb0dbcf",
   "metadata": {},
   "outputs": [
    {
     "data": {
      "text/plain": [
       "array([0.1, 0.1, 0.1, 0.1, 0.1, 0.1])"
      ]
     },
     "execution_count": 453,
     "metadata": {},
     "output_type": "execute_result"
    }
   ],
   "source": [
    "y = np.arange(6, dtype=np.double)\n",
    "np.full_like(y, 0.1)"
   ]
  },
  {
   "cell_type": "code",
   "execution_count": 454,
   "id": "2a15b160-ae4e-48a2-a70c-b6a4e5d6831f",
   "metadata": {},
   "outputs": [
    {
     "data": {
      "text/plain": [
       "array([[[  0,   0, 255],\n",
       "        [  0,   0, 255]],\n",
       "\n",
       "       [[  0,   0, 255],\n",
       "        [  0,   0, 255]]])"
      ]
     },
     "execution_count": 454,
     "metadata": {},
     "output_type": "execute_result"
    }
   ],
   "source": [
    "y = np.zeros([2, 2, 3], dtype=int)\n",
    "np.full_like(y, [0, 0, 255])"
   ]
  },
  {
   "cell_type": "markdown",
   "id": "cc7a4862-0e61-4325-a3ce-4cd2a64635ef",
   "metadata": {},
   "source": [
    "### **From existing data**"
   ]
  },
  {
   "cell_type": "markdown",
   "id": "91bb3a84-04fd-457a-8e97-a4b58574803d",
   "metadata": {},
   "source": [
    "### NumPy `array` Function\n",
    "\n",
    "The `numpy.array` function creates an array from a given object.\n",
    "\n",
    "#### Function Signature\n",
    "\n",
    "```python\n",
    "numpy.array(object, dtype=None, *, copy=True, order='K', subok=False, ndmin=0, like=None)\n"
   ]
  },
  {
   "cell_type": "code",
   "execution_count": 455,
   "id": "3fb7033d-ea3a-462d-82a4-0b100b44696e",
   "metadata": {},
   "outputs": [
    {
     "data": {
      "text/plain": [
       "array([1, 2, 3])"
      ]
     },
     "execution_count": 455,
     "metadata": {},
     "output_type": "execute_result"
    }
   ],
   "source": [
    "np.array([1, 2, 3])"
   ]
  },
  {
   "cell_type": "code",
   "execution_count": 456,
   "id": "0b27e4ad-b618-4394-af42-2dc8f64ec6ef",
   "metadata": {},
   "outputs": [
    {
     "data": {
      "text/plain": [
       "array([1., 2., 3.])"
      ]
     },
     "execution_count": 456,
     "metadata": {},
     "output_type": "execute_result"
    }
   ],
   "source": [
    "np.array([1, 2, 3.0])"
   ]
  },
  {
   "cell_type": "code",
   "execution_count": 457,
   "id": "5200c1e4-7fd4-488c-b23c-17556902c141",
   "metadata": {},
   "outputs": [
    {
     "data": {
      "text/plain": [
       "array([[1, 2],\n",
       "       [3, 4]])"
      ]
     },
     "execution_count": 457,
     "metadata": {},
     "output_type": "execute_result"
    }
   ],
   "source": [
    "np.array([[1, 2], [3, 4]])"
   ]
  },
  {
   "cell_type": "code",
   "execution_count": 458,
   "id": "ffff1212-a309-4beb-ade9-c095692be5d5",
   "metadata": {},
   "outputs": [
    {
     "data": {
      "text/plain": [
       "array([[1, 2, 3]])"
      ]
     },
     "execution_count": 458,
     "metadata": {},
     "output_type": "execute_result"
    }
   ],
   "source": [
    "np.array([1, 2, 3], ndmin=2)"
   ]
  },
  {
   "cell_type": "code",
   "execution_count": 459,
   "id": "a56bfcf7-68a6-4834-94fe-634f5c8cdcf4",
   "metadata": {},
   "outputs": [
    {
     "data": {
      "text/plain": [
       "array([1.+0.j, 2.+0.j, 3.+0.j])"
      ]
     },
     "execution_count": 459,
     "metadata": {},
     "output_type": "execute_result"
    }
   ],
   "source": [
    "np.array([1, 2, 3], dtype=complex)"
   ]
  },
  {
   "cell_type": "code",
   "execution_count": 460,
   "id": "21ac6247-72fb-4eb5-b013-d800cf37c16f",
   "metadata": {},
   "outputs": [
    {
     "data": {
      "text/plain": [
       "array([1, 3])"
      ]
     },
     "execution_count": 460,
     "metadata": {},
     "output_type": "execute_result"
    }
   ],
   "source": [
    "x = np.array([(1,2),(3,4)],dtype=[('a','<i4'),('b','<i4')])\n",
    "x['a']"
   ]
  },
  {
   "cell_type": "code",
   "execution_count": 461,
   "id": "5091b15b-64f5-441e-bfe8-514d8550efa5",
   "metadata": {},
   "outputs": [
    {
     "data": {
      "text/plain": [
       "array([[1, 2],\n",
       "       [3, 4]])"
      ]
     },
     "execution_count": 461,
     "metadata": {},
     "output_type": "execute_result"
    }
   ],
   "source": [
    "np.array(np.asmatrix('1 2; 3 4'))"
   ]
  },
  {
   "cell_type": "code",
   "execution_count": 462,
   "id": "532d3983-e85c-4dd0-8e87-43b782ba0639",
   "metadata": {},
   "outputs": [
    {
     "data": {
      "text/plain": [
       "matrix([[1, 2],\n",
       "        [3, 4]])"
      ]
     },
     "execution_count": 462,
     "metadata": {},
     "output_type": "execute_result"
    }
   ],
   "source": [
    "np.array(np.asmatrix('1 2; 3 4'), subok=True)"
   ]
  },
  {
   "cell_type": "markdown",
   "id": "d3922569-b526-4a34-ab10-ccf0f2765b00",
   "metadata": {},
   "source": [
    "### NumPy `asarray` Function\n",
    "\n",
    "The `numpy.asarray` function converts the input data into an array.\n",
    "\n",
    "#### Function Signature\n",
    "\n",
    "```python\n",
    "numpy.asarray(a, dtype=None, order=None, *, device=None, copy=None, like=None)\n"
   ]
  },
  {
   "cell_type": "code",
   "execution_count": 463,
   "id": "c4aa711c-6a2a-4b6a-99a1-1d04a0475548",
   "metadata": {},
   "outputs": [
    {
     "data": {
      "text/plain": [
       "array([1, 2])"
      ]
     },
     "execution_count": 463,
     "metadata": {},
     "output_type": "execute_result"
    }
   ],
   "source": [
    "a = [1, 2]\n",
    "np.asarray(a)"
   ]
  },
  {
   "cell_type": "code",
   "execution_count": 464,
   "id": "4e88c448-f095-4e32-99ac-849b151ab01f",
   "metadata": {},
   "outputs": [
    {
     "data": {
      "text/plain": [
       "True"
      ]
     },
     "execution_count": 464,
     "metadata": {},
     "output_type": "execute_result"
    }
   ],
   "source": [
    "a = np.array([1, 2])\n",
    "np.asarray(a) is a"
   ]
  },
  {
   "cell_type": "code",
   "execution_count": 465,
   "id": "0b5d2021-bd58-4d43-bc4e-458f534337dc",
   "metadata": {},
   "outputs": [
    {
     "data": {
      "text/plain": [
       "True"
      ]
     },
     "execution_count": 465,
     "metadata": {},
     "output_type": "execute_result"
    }
   ],
   "source": [
    "a = np.array([1, 2], dtype=np.float32)\n",
    "np.shares_memory(np.asarray(a, dtype=np.float32), a)"
   ]
  },
  {
   "cell_type": "code",
   "execution_count": 466,
   "id": "1ab62fa1-566c-422e-b56e-242429a24403",
   "metadata": {},
   "outputs": [
    {
     "data": {
      "text/plain": [
       "True"
      ]
     },
     "execution_count": 466,
     "metadata": {},
     "output_type": "execute_result"
    }
   ],
   "source": [
    "issubclass(np.recarray, np.ndarray)"
   ]
  },
  {
   "cell_type": "code",
   "execution_count": 467,
   "id": "fa974c2e-1703-4237-bce9-1260f78fd4ce",
   "metadata": {},
   "outputs": [
    {
     "data": {
      "text/plain": [
       "False"
      ]
     },
     "execution_count": 467,
     "metadata": {},
     "output_type": "execute_result"
    }
   ],
   "source": [
    "a = np.array([(1., 2), (3., 4)], dtype='f4,i4').view(np.recarray)\n",
    "np.asarray(a) is a"
   ]
  },
  {
   "cell_type": "markdown",
   "id": "8fe057b1-444b-4b3b-8b37-d9166c9317d3",
   "metadata": {},
   "source": [
    "### NumPy `asanyarray` Function\n",
    "\n",
    "The `numpy.asanyarray` function converts the input data to an ndarray, but passes through any ndarray subclasses.\n",
    "\n",
    "#### Function Signature\n",
    "\n",
    "```python\n",
    "numpy.asanyarray(a, dtype=None, order=None, *, like=None)\n"
   ]
  },
  {
   "cell_type": "code",
   "execution_count": 468,
   "id": "6e40a028-88aa-485d-9616-a7b48e1fa495",
   "metadata": {},
   "outputs": [
    {
     "data": {
      "text/plain": [
       "array([1, 2])"
      ]
     },
     "execution_count": 468,
     "metadata": {},
     "output_type": "execute_result"
    }
   ],
   "source": [
    "a = [1, 2]\n",
    "np.asanyarray(a)"
   ]
  },
  {
   "cell_type": "code",
   "execution_count": 469,
   "id": "908a1281-4402-49f3-9049-6831e454994d",
   "metadata": {},
   "outputs": [
    {
     "data": {
      "text/plain": [
       "True"
      ]
     },
     "execution_count": 469,
     "metadata": {},
     "output_type": "execute_result"
    }
   ],
   "source": [
    "a = np.array([(1., 2), (3., 4)], dtype='f4,i4').view(np.recarray)\n",
    "np.asanyarray(a) is a"
   ]
  },
  {
   "cell_type": "markdown",
   "id": "57f86b05-aa16-43ac-92bd-61f1a8adddfc",
   "metadata": {},
   "source": [
    "### NumPy `asmatrix` Function\n",
    "\n",
    "The `numpy.asmatrix` function interprets the input data as a matrix.\n",
    "\n",
    "#### Function Signature\n",
    "\n",
    "```python\n",
    "numpy.asmatrix(data, dtype=None)\n"
   ]
  },
  {
   "cell_type": "code",
   "execution_count": 470,
   "id": "86f42e49-e1fb-489c-b108-37c57f3837d2",
   "metadata": {},
   "outputs": [],
   "source": [
    "x = np.array([[1, 2], [3, 4]])"
   ]
  },
  {
   "cell_type": "code",
   "execution_count": 471,
   "id": "fcc5680f-2355-4152-8d17-6e6ee3645dbc",
   "metadata": {},
   "outputs": [],
   "source": [
    "m = np.asmatrix(x)"
   ]
  },
  {
   "cell_type": "code",
   "execution_count": 472,
   "id": "841f3670-8619-4db4-8033-1498e6d7dd3c",
   "metadata": {},
   "outputs": [],
   "source": [
    "x[0,0] = 5"
   ]
  },
  {
   "cell_type": "code",
   "execution_count": 473,
   "id": "1775ea66-9055-4b9b-a424-776776ae0298",
   "metadata": {},
   "outputs": [
    {
     "data": {
      "text/plain": [
       "matrix([[5, 2],\n",
       "        [3, 4]])"
      ]
     },
     "execution_count": 473,
     "metadata": {},
     "output_type": "execute_result"
    }
   ],
   "source": [
    "m"
   ]
  },
  {
   "cell_type": "markdown",
   "id": "13497faa-101f-4d7a-990a-775e7a187140",
   "metadata": {},
   "source": [
    "### NumPy `astype` Function\n",
    "\n",
    "The `numpy.astype` function copies an array to a specified data type.\n",
    "\n",
    "#### Function Signature\n",
    "\n",
    "```python\n",
    "numpy.astype(x, dtype, /, *, copy=True)\n"
   ]
  },
  {
   "cell_type": "code",
   "execution_count": 474,
   "id": "e727358e-3df4-4cae-b524-a79d9c070257",
   "metadata": {},
   "outputs": [
    {
     "name": "stdout",
     "output_type": "stream",
     "text": [
      "[1 2 3]\n"
     ]
    }
   ],
   "source": [
    "array = np.array([1.5, 2.5, 3.5])\n",
    "int_array = array.astype(int)  # or np.int64, np.int32\n",
    "print(int_array)"
   ]
  },
  {
   "cell_type": "markdown",
   "id": "1fe00192-ce29-49e2-92a4-8a5969b7feed",
   "metadata": {},
   "source": [
    "### NumPy `copy` Function\n",
    "\n",
    "The `numpy.copy` function returns an array copy of the given object.\n",
    "\n",
    "#### Function Signature\n",
    "\n",
    "```python\n",
    "numpy.copy(a, order='K', subok=False)\n"
   ]
  },
  {
   "cell_type": "code",
   "execution_count": 475,
   "id": "b4644de0-1e82-444b-8ed9-25fc04bb78fa",
   "metadata": {},
   "outputs": [],
   "source": [
    "x = np.array([1, 2, 3])\n",
    "y = x\n",
    "z = np.copy(x)"
   ]
  },
  {
   "cell_type": "code",
   "execution_count": 476,
   "id": "148520b4-57ee-4bdc-9ed6-111789e9b55c",
   "metadata": {},
   "outputs": [
    {
     "data": {
      "text/plain": [
       "True"
      ]
     },
     "execution_count": 476,
     "metadata": {},
     "output_type": "execute_result"
    }
   ],
   "source": [
    "x[0] = 10\n",
    "x[0] == y[0]"
   ]
  },
  {
   "cell_type": "code",
   "execution_count": 477,
   "id": "a7640151-595f-485a-9b01-bf5ef5c7adbc",
   "metadata": {},
   "outputs": [
    {
     "data": {
      "text/plain": [
       "False"
      ]
     },
     "execution_count": 477,
     "metadata": {},
     "output_type": "execute_result"
    }
   ],
   "source": [
    "x[0] == z[0]"
   ]
  },
  {
   "cell_type": "code",
   "execution_count": 478,
   "id": "92a6541a-13b7-4395-821b-163f966c18c7",
   "metadata": {},
   "outputs": [
    {
     "data": {
      "text/plain": [
       "True"
      ]
     },
     "execution_count": 478,
     "metadata": {},
     "output_type": "execute_result"
    }
   ],
   "source": [
    "a = np.array([1, 2, 3])\n",
    "a.flags[\"WRITEABLE\"] = False\n",
    "b = np.copy(a)\n",
    "b.flags[\"WRITEABLE\"]"
   ]
  },
  {
   "cell_type": "markdown",
   "id": "c6f28c15-ce09-497a-9588-b98fbec5de11",
   "metadata": {},
   "source": [
    "### NumPy `frombuffer` Function\n",
    "\n",
    "The `numpy.frombuffer` function interprets a buffer as a 1-dimensional array.\n",
    "\n",
    "#### Function Signature\n",
    "\n",
    "```python\n",
    "numpy.frombuffer(buffer, dtype=float, count=-1, offset=0, *, like=None)\n"
   ]
  },
  {
   "cell_type": "code",
   "execution_count": 479,
   "id": "f065931e-dc9b-497a-9151-07ba74e2a2fb",
   "metadata": {},
   "outputs": [
    {
     "data": {
      "text/plain": [
       "array([b'w', b'o', b'r', b'l', b'd'], dtype='|S1')"
      ]
     },
     "execution_count": 479,
     "metadata": {},
     "output_type": "execute_result"
    }
   ],
   "source": [
    "s = b'hello world'\n",
    "np.frombuffer(s, dtype='S1', count=5, offset=6)"
   ]
  },
  {
   "cell_type": "code",
   "execution_count": 480,
   "id": "c5909c60-9f26-4c79-9a1b-38258cf2ed98",
   "metadata": {},
   "outputs": [
    {
     "data": {
      "text/plain": [
       "array([1, 2], dtype=uint8)"
      ]
     },
     "execution_count": 480,
     "metadata": {},
     "output_type": "execute_result"
    }
   ],
   "source": [
    "np.frombuffer(b'\\x01\\x02', dtype=np.uint8)"
   ]
  },
  {
   "cell_type": "code",
   "execution_count": 481,
   "id": "5bc932e1-1e2c-4877-9de4-03ccdb9837ac",
   "metadata": {},
   "outputs": [
    {
     "data": {
      "text/plain": [
       "array([1, 2, 3], dtype=uint8)"
      ]
     },
     "execution_count": 481,
     "metadata": {},
     "output_type": "execute_result"
    }
   ],
   "source": [
    "np.frombuffer(b'\\x01\\x02\\x03\\x04\\x05', dtype=np.uint8, count=3)"
   ]
  },
  {
   "cell_type": "markdown",
   "id": "14c4891c-f3ca-4d68-9d4d-283da47eff0f",
   "metadata": {},
   "source": [
    "### NumPy `from_dlpack` Function\n",
    "\n",
    "The `numpy.from_dlpack` function creates a NumPy array from an object implementing the `__dlpack__` protocol. The returned NumPy array is generally a read-only view of the input object.\n",
    "\n",
    "#### Function Signature\n",
    "\n",
    "```python\n",
    "numpy.from_dlpack(x, /)\n"
   ]
  },
  {
   "cell_type": "code",
   "execution_count": 482,
   "id": "9e096f4d-81d6-453b-baf9-2456ec5e7e62",
   "metadata": {},
   "outputs": [],
   "source": [
    "import torch  \n",
    "x = torch.arange(10)  \n",
    "# create a view of the torch tensor \"x\" in NumPy\n",
    "y = np.from_dlpack(x)  "
   ]
  },
  {
   "cell_type": "markdown",
   "id": "b235ef72-f1a9-4fd0-b7ea-d17348eeb584",
   "metadata": {},
   "source": [
    "### NumPy `fromfile` Function\n",
    "\n",
    "The `numpy.fromfile` function constructs an array from data in a text or binary file. It provides a highly efficient way of reading binary data with a known data type and parsing simply formatted text files.\n",
    "\n",
    "#### Function Signature\n",
    "\n",
    "```python\n",
    "numpy.fromfile(file, dtype=float, count=-1, sep='', offset=0, *, like=None)\n"
   ]
  },
  {
   "cell_type": "code",
   "execution_count": 483,
   "id": "b285b0ed-118d-4e0e-aa36-c7072116566c",
   "metadata": {},
   "outputs": [
    {
     "data": {
      "text/plain": [
       "array([((10, 0), 98.25)],\n",
       "      dtype=[('time', [('min', '<i8'), ('sec', '<i8')]), ('temp', '<f8')])"
      ]
     },
     "execution_count": 483,
     "metadata": {},
     "output_type": "execute_result"
    }
   ],
   "source": [
    "dt = np.dtype([('time', [('min', np.int64), ('sec', np.int64)]),\n",
    "               ('temp', float)])\n",
    "x = np.zeros((1,), dtype=dt)\n",
    "x['time']['min'] = 10; x['temp'] = 98.25\n",
    "x"
   ]
  },
  {
   "cell_type": "code",
   "execution_count": 484,
   "id": "75b1aa2c-ad3e-4def-a46a-8d1352d0e9a4",
   "metadata": {},
   "outputs": [],
   "source": [
    "import tempfile\n",
    "fname = tempfile.mkstemp()[1]\n",
    "x.tofile(fname)"
   ]
  },
  {
   "cell_type": "code",
   "execution_count": 485,
   "id": "1ac8d735-1b8c-4db7-93d9-9fb80d9221fa",
   "metadata": {},
   "outputs": [
    {
     "data": {
      "text/plain": [
       "array([((10, 0), 98.25)],\n",
       "      dtype=[('time', [('min', '<i8'), ('sec', '<i8')]), ('temp', '<f8')])"
      ]
     },
     "execution_count": 485,
     "metadata": {},
     "output_type": "execute_result"
    }
   ],
   "source": [
    "np.fromfile(fname, dtype=dt)"
   ]
  },
  {
   "cell_type": "code",
   "execution_count": 486,
   "id": "40d5ebe0-02bd-48ea-8f88-74f6e4151187",
   "metadata": {},
   "outputs": [
    {
     "data": {
      "text/plain": [
       "array([((10, 0), 98.25)],\n",
       "      dtype=[('time', [('min', '<i8'), ('sec', '<i8')]), ('temp', '<f8')])"
      ]
     },
     "execution_count": 486,
     "metadata": {},
     "output_type": "execute_result"
    }
   ],
   "source": [
    "np.save(fname, x)\n",
    "np.load(fname + '.npy')"
   ]
  },
  {
   "cell_type": "markdown",
   "id": "52c96b84-2172-4660-924f-e7577b489967",
   "metadata": {},
   "source": [
    "### **Creating record arrays**"
   ]
  },
  {
   "cell_type": "markdown",
   "id": "9bcaa66f-ca00-41a5-9be8-4419c64fd0d8",
   "metadata": {},
   "source": [
    "### NumPy `rec.array` Function\n",
    "\n",
    "The `numpy.rec.array` function constructs a record array from a wide variety of objects. It serves as a general-purpose record array constructor that dispatches to the appropriate recarray creation function based on the inputs.\n",
    "\n",
    "#### Function Signature\n",
    "\n",
    "```python\n",
    "numpy.rec.array(obj, dtype=None, shape=None, offset=0, strides=None, \n",
    "                formats=None, names=None, titles=None, aligned=False, \n",
    "                byteorder=None, copy=True)\n"
   ]
  },
  {
   "cell_type": "code",
   "execution_count": 487,
   "id": "18a8b7b6-6fdb-40eb-83cb-018de570c80d",
   "metadata": {},
   "outputs": [
    {
     "data": {
      "text/plain": [
       "array([[1, 2, 3],\n",
       "       [4, 5, 6],\n",
       "       [7, 8, 9]])"
      ]
     },
     "execution_count": 487,
     "metadata": {},
     "output_type": "execute_result"
    }
   ],
   "source": [
    "a = np.array([[1, 2, 3], [4, 5, 6], [7, 8, 9]])\n",
    "a"
   ]
  },
  {
   "cell_type": "code",
   "execution_count": 488,
   "id": "3e3941f0-2971-4533-9fcd-4fc6c178f8c4",
   "metadata": {},
   "outputs": [
    {
     "data": {
      "text/plain": [
       "rec.array([[1, 2, 3],\n",
       "           [4, 5, 6],\n",
       "           [7, 8, 9]],\n",
       "          dtype=int32)"
      ]
     },
     "execution_count": 488,
     "metadata": {},
     "output_type": "execute_result"
    }
   ],
   "source": [
    "np.rec.array(a)"
   ]
  },
  {
   "cell_type": "code",
   "execution_count": 489,
   "id": "1e2bf857-9551-4a9f-a8cd-67ee1c84569e",
   "metadata": {},
   "outputs": [
    {
     "data": {
      "text/plain": [
       "rec.array([(1, 1.), (2, 4.), (3, 9.)],\n",
       "          dtype=[('x', '<i2'), ('y', '<f2')])"
      ]
     },
     "execution_count": 489,
     "metadata": {},
     "output_type": "execute_result"
    }
   ],
   "source": [
    "b = [(1, 1), (2, 4), (3, 9)]\n",
    "c = np.rec.array(b, formats = ['i2', 'f2'], names = ('x', 'y'))\n",
    "c"
   ]
  },
  {
   "cell_type": "code",
   "execution_count": 490,
   "id": "62444ee6-e164-4ff7-afa8-618338b3e385",
   "metadata": {},
   "outputs": [
    {
     "data": {
      "text/plain": [
       "array([1, 2, 3], dtype=int16)"
      ]
     },
     "execution_count": 490,
     "metadata": {},
     "output_type": "execute_result"
    }
   ],
   "source": [
    "c.x"
   ]
  },
  {
   "cell_type": "code",
   "execution_count": 491,
   "id": "fb4e3842-3efe-4479-8e17-236cfe9808b3",
   "metadata": {},
   "outputs": [
    {
     "data": {
      "text/plain": [
       "array([1., 4., 9.], dtype=float16)"
      ]
     },
     "execution_count": 491,
     "metadata": {},
     "output_type": "execute_result"
    }
   ],
   "source": [
    "c.y"
   ]
  },
  {
   "cell_type": "code",
   "execution_count": 492,
   "id": "da811d05-1411-46d9-aaf6-e6242ca60b5e",
   "metadata": {},
   "outputs": [
    {
     "name": "stdout",
     "output_type": "stream",
     "text": [
      "abc\n"
     ]
    }
   ],
   "source": [
    "r = np.rec.array(['abc','def'], names=['col1','col2'])\n",
    "print(r.col1)"
   ]
  },
  {
   "cell_type": "code",
   "execution_count": 493,
   "id": "bfaf8b81-8b1d-4089-85a4-bb07503e98a2",
   "metadata": {},
   "outputs": [
    {
     "data": {
      "text/plain": [
       "array('abc', dtype='<U3')"
      ]
     },
     "execution_count": 493,
     "metadata": {},
     "output_type": "execute_result"
    }
   ],
   "source": [
    "r.col1"
   ]
  },
  {
   "cell_type": "code",
   "execution_count": 494,
   "id": "6b5dfda1-d31d-4e6a-bb88-18363111effd",
   "metadata": {},
   "outputs": [
    {
     "data": {
      "text/plain": [
       "array('def', dtype='<U3')"
      ]
     },
     "execution_count": 494,
     "metadata": {},
     "output_type": "execute_result"
    }
   ],
   "source": [
    "r.col2"
   ]
  },
  {
   "cell_type": "markdown",
   "id": "47096f92-4c8a-4c11-bde2-80f6b6c13f05",
   "metadata": {},
   "source": [
    "### NumPy `rec.fromarrays` Function\n",
    "\n",
    "The `numpy.rec.fromarrays` function constructs a record array from a list of arrays. This function is useful for creating structured arrays from multiple array-like inputs.\n",
    "\n",
    "#### Function Signature\n",
    "\n",
    "```python\n",
    "numpy.rec.fromarrays(arrayList, dtype=None, shape=None, formats=None, \n",
    "                      names=None, titles=None, aligned=False, byteorder=None)\n"
   ]
  },
  {
   "cell_type": "code",
   "execution_count": 495,
   "id": "feb4a9e6-02bc-4df7-aff2-fb5dc58a3499",
   "metadata": {},
   "outputs": [
    {
     "name": "stdout",
     "output_type": "stream",
     "text": [
      "(2, 'dd', 2.)\n"
     ]
    }
   ],
   "source": [
    "x1=np.array([1,2,3,4])\n",
    "x2=np.array(['a','dd','xyz','12'])\n",
    "x3=np.array([1.1,2,3,4])\n",
    "r = np.rec.fromarrays([x1,x2,x3],names='a,b,c')\n",
    "print(r[1])"
   ]
  },
  {
   "cell_type": "code",
   "execution_count": 496,
   "id": "d34ba923-4909-4faa-a0cd-f4d505d54d44",
   "metadata": {},
   "outputs": [
    {
     "data": {
      "text/plain": [
       "array([1, 2, 3, 4])"
      ]
     },
     "execution_count": 496,
     "metadata": {},
     "output_type": "execute_result"
    }
   ],
   "source": [
    "x1[1]=34\n",
    "r.a"
   ]
  },
  {
   "cell_type": "code",
   "execution_count": 497,
   "id": "64b534d3-13c1-48e0-b3d7-839f613ad49f",
   "metadata": {},
   "outputs": [
    {
     "data": {
      "text/plain": [
       "rec.array([(1, b'a', 1.1), (2, b'dd', 2. ), (3, b'xyz', 3. ),\n",
       "           (4, b'12', 4. )],\n",
       "          dtype=[('a', '<i4'), ('b', 'S3'), ('c', '<f4')])"
      ]
     },
     "execution_count": 497,
     "metadata": {},
     "output_type": "execute_result"
    }
   ],
   "source": [
    "x1 = np.array([1, 2, 3, 4])\n",
    "x2 = np.array(['a', 'dd', 'xyz', '12'])\n",
    "x3 = np.array([1.1, 2, 3,4])\n",
    "r = np.rec.fromarrays(\n",
    "    [x1, x2, x3],\n",
    "    dtype=np.dtype([('a', np.int32), ('b', 'S3'), ('c', np.float32)]))\n",
    "r"
   ]
  },
  {
   "cell_type": "markdown",
   "id": "335f7772-60ee-4ad4-b415-a00960e3cbe7",
   "metadata": {},
   "source": [
    "### NumPy `rec.fromarrays` Function\n",
    "\n",
    "The `numpy.rec.fromarrays` function creates a record array from a flat list of arrays.\n",
    "\n",
    "#### Function Signature\n",
    "\n",
    "```python\n",
    "numpy.rec.fromarrays(arrayList, dtype=None, shape=None, formats=None, \n",
    "                      names=None, titles=None, aligned=False, byteorder=None)\n"
   ]
  },
  {
   "cell_type": "code",
   "execution_count": 498,
   "id": "d7c56909-3cce-4f9b-b8f2-83cb63714e3e",
   "metadata": {},
   "outputs": [
    {
     "name": "stdout",
     "output_type": "stream",
     "text": [
      "(2, 'dd', 2.)\n"
     ]
    }
   ],
   "source": [
    "x1=np.array([1,2,3,4])\n",
    "x2=np.array(['a','dd','xyz','12'])\n",
    "x3=np.array([1.1,2,3,4])\n",
    "r = np.rec.fromarrays([x1,x2,x3],names='a,b,c')\n",
    "print(r[1])"
   ]
  },
  {
   "cell_type": "code",
   "execution_count": 499,
   "id": "e612fbb6-03ef-4aae-9584-f0605d91bf2f",
   "metadata": {},
   "outputs": [
    {
     "data": {
      "text/plain": [
       "array([1, 2, 3, 4])"
      ]
     },
     "execution_count": 499,
     "metadata": {},
     "output_type": "execute_result"
    }
   ],
   "source": [
    "x1[1]=34\n",
    "r.a"
   ]
  },
  {
   "cell_type": "code",
   "execution_count": 500,
   "id": "2eca5bd4-8c75-4816-8ea8-4ba32ccea252",
   "metadata": {},
   "outputs": [
    {
     "data": {
      "text/plain": [
       "rec.array([(1, b'a', 1.1), (2, b'dd', 2. ), (3, b'xyz', 3. ),\n",
       "           (4, b'12', 4. )],\n",
       "          dtype=[('a', '<i4'), ('b', 'S3'), ('c', '<f4')])"
      ]
     },
     "execution_count": 500,
     "metadata": {},
     "output_type": "execute_result"
    }
   ],
   "source": [
    "x1 = np.array([1, 2, 3, 4])\n",
    "x2 = np.array(['a', 'dd', 'xyz', '12'])\n",
    "x3 = np.array([1.1, 2, 3,4])\n",
    "r = np.rec.fromarrays(\n",
    "    [x1, x2, x3],\n",
    "    dtype=np.dtype([('a', np.int32), ('b', 'S3'), ('c', np.float32)]))\n",
    "r"
   ]
  },
  {
   "cell_type": "markdown",
   "id": "55cf75ee-0870-4373-8dc4-a49ab1caacea",
   "metadata": {},
   "source": [
    "### NumPy `rec.fromrecords` Function\n",
    "\n",
    "The `numpy.rec.fromrecords` function creates a record array from a list of records in text form.\n",
    "\n",
    "#### Function Signature\n",
    "\n",
    "```python\n",
    "numpy.rec.fromrecords(recList, dtype=None, shape=None, formats=None, \n",
    "                       names=None, titles=None, aligned=False, byteorder=None)\n"
   ]
  },
  {
   "cell_type": "code",
   "execution_count": 501,
   "id": "339ff38c-8258-4302-ad6d-06f10cd824eb",
   "metadata": {},
   "outputs": [
    {
     "name": "stdout",
     "output_type": "stream",
     "text": [
      "(456, 'dbe', 1.2)\n"
     ]
    }
   ],
   "source": [
    "r=np.rec.fromrecords([(456,'dbe',1.2),(2,'de',1.3)],\n",
    "names='col1,col2,col3')\n",
    "print(r[0])"
   ]
  },
  {
   "cell_type": "code",
   "execution_count": 502,
   "id": "fb6a50e4-46e6-4690-8a4d-1f3512cf67df",
   "metadata": {},
   "outputs": [
    {
     "data": {
      "text/plain": [
       "array([456,   2])"
      ]
     },
     "execution_count": 502,
     "metadata": {},
     "output_type": "execute_result"
    }
   ],
   "source": [
    "r.col1"
   ]
  },
  {
   "cell_type": "code",
   "execution_count": 503,
   "id": "e07b899d-d404-4459-ad79-c7066d5a8d0a",
   "metadata": {},
   "outputs": [
    {
     "data": {
      "text/plain": [
       "array(['dbe', 'de'], dtype='<U3')"
      ]
     },
     "execution_count": 503,
     "metadata": {},
     "output_type": "execute_result"
    }
   ],
   "source": [
    "r.col2"
   ]
  },
  {
   "cell_type": "code",
   "execution_count": 504,
   "id": "0a802c15-edea-40f6-8ed2-fa69fa7da120",
   "metadata": {},
   "outputs": [
    {
     "data": {
      "text/plain": [
       "rec.array([(456, 'dbe', 1.2), (  2, 'de', 1.3)],\n",
       "          dtype=[('col1', '<i4'), ('col2', '<U3'), ('col3', '<f8')])"
      ]
     },
     "execution_count": 504,
     "metadata": {},
     "output_type": "execute_result"
    }
   ],
   "source": [
    "import pickle\n",
    "pickle.loads(pickle.dumps(r))"
   ]
  },
  {
   "cell_type": "markdown",
   "id": "1bdd8674-4aff-4ee4-bc81-4afca2bf0578",
   "metadata": {},
   "source": [
    "### NumPy `rec.fromstring` Function\n",
    "\n",
    "The `numpy.rec.fromstring` function creates a record array from a string of data.\n",
    "\n",
    "#### Function Signature\n",
    "\n",
    "```python\n",
    "numpy.rec.fromstring(datastring, dtype=None, shape=None, offset=0, \n",
    "                      formats=None, names=None, titles=None, \n",
    "                      aligned=False, byteorder=None)\n"
   ]
  },
  {
   "cell_type": "code",
   "execution_count": 505,
   "id": "684dc02c-5a61-4c7a-8b7e-190b70bf8745",
   "metadata": {},
   "outputs": [
    {
     "data": {
      "text/plain": [
       "rec.array([(1, 2, 3, b'abc')],\n",
       "          dtype=[('f0', 'u1'), ('f1', 'u1'), ('f2', 'u1'), ('f3', 'S3')])"
      ]
     },
     "execution_count": 505,
     "metadata": {},
     "output_type": "execute_result"
    }
   ],
   "source": [
    "a = b'\\x01\\x02\\x03abc'\n",
    "np.rec.fromstring(a, dtype='u1,u1,u1,S3')"
   ]
  },
  {
   "cell_type": "code",
   "execution_count": 506,
   "id": "708b64d3-95ab-4286-8f6e-a0f61cdd74ed",
   "metadata": {},
   "outputs": [
    {
     "data": {
      "text/plain": [
       "rec.array([('Sam', 33.3, 3), ('Mike', 44.4, 5), ('Aadi', 66.6, 6)],\n",
       "          dtype=[('Name', '<U10'), ('Marks', '<f8'), ('GradeLevel', '<i4')])"
      ]
     },
     "execution_count": 506,
     "metadata": {},
     "output_type": "execute_result"
    }
   ],
   "source": [
    "grades_dtype = [('Name', (np.str_, 10)), ('Marks', np.float64),\n",
    "                ('GradeLevel', np.int32)]\n",
    "grades_array = np.array([('Sam', 33.3, 3), ('Mike', 44.4, 5),\n",
    "                        ('Aadi', 66.6, 6)], dtype=grades_dtype)\n",
    "np.rec.fromstring(grades_array.tobytes(), dtype=grades_dtype)"
   ]
  },
  {
   "cell_type": "markdown",
   "id": "c73f041f-f8bc-47b9-ae91-73d885648214",
   "metadata": {},
   "source": [
    "### NumPy `rec.fromfile` Function\n",
    "\n",
    "The `numpy.rec.fromfile` function creates a record array from data in a file.\n",
    "\n",
    "#### Function Signature\n",
    "\n",
    "```python\n",
    "numpy.rec.fromfile(fd, dtype=None, shape=None, offset=0, \n",
    "                   formats=None, names=None, titles=None, \n",
    "                   aligned=False, byteorder=None)\n"
   ]
  },
  {
   "cell_type": "code",
   "execution_count": 507,
   "id": "4325febc-4101-489a-91eb-37bd2dc09b2c",
   "metadata": {},
   "outputs": [
    {
     "name": "stdout",
     "output_type": "stream",
     "text": [
      "(0.5, 10, b'abcde')\n"
     ]
    }
   ],
   "source": [
    "from tempfile import TemporaryFile\n",
    "a = np.empty(10,dtype='f8,i4,a5')\n",
    "a[5] = (0.5,10,'abcde')\n",
    "\n",
    "fd=TemporaryFile()\n",
    "a = a.view(a.dtype.newbyteorder('<'))\n",
    "a.tofile(fd)\n",
    "\n",
    "_ = fd.seek(0)\n",
    "r=np.rec.fromfile(fd, formats='f8,i4,a5', shape=10,\n",
    "byteorder='<')\n",
    "print(r[5])"
   ]
  },
  {
   "cell_type": "markdown",
   "id": "47b0773d-0580-42c8-8e20-785780480d2f",
   "metadata": {},
   "source": [
    "### **Creating character arrays (numpy.char)**"
   ]
  },
  {
   "cell_type": "markdown",
   "id": "f8b63d54-494f-48bf-a103-6fd50e3a71a7",
   "metadata": {},
   "source": [
    "The numpy.char module provides a set of vectorized string operations for arrays of type numpy.str_ or numpy.bytes_"
   ]
  },
  {
   "cell_type": "code",
   "execution_count": 508,
   "id": "ac2c9124-9b9f-4770-8bfe-dd5ff264eece",
   "metadata": {},
   "outputs": [
    {
     "data": {
      "text/plain": [
       "array(['Python', 'Numpy'], dtype='<U6')"
      ]
     },
     "execution_count": 508,
     "metadata": {},
     "output_type": "execute_result"
    }
   ],
   "source": [
    "np.char.capitalize([\"python\", \"numpy\"])"
   ]
  },
  {
   "cell_type": "code",
   "execution_count": 509,
   "id": "95a7b1e3-0108-40f3-87ed-fb13d3393e57",
   "metadata": {},
   "outputs": [
    {
     "data": {
      "text/plain": [
       "array(['numpy', 'documentation'], dtype='<U13')"
      ]
     },
     "execution_count": 509,
     "metadata": {},
     "output_type": "execute_result"
    }
   ],
   "source": [
    "np.char.add([\"num\", \"doc\"], [\"py\", \"umentation\"])"
   ]
  },
  {
   "cell_type": "markdown",
   "id": "328bb3dc-f924-48cd-a55c-a58e75be21ee",
   "metadata": {},
   "source": [
    "### **Building matrices**"
   ]
  },
  {
   "cell_type": "markdown",
   "id": "f580625b-3802-45fe-b503-ee8ed574e35e",
   "metadata": {},
   "source": [
    "### NumPy `diag` Function\n",
    "\n",
    "The `numpy.diag` function extracts a diagonal or constructs a diagonal array.\n",
    "\n",
    "#### Function Signature\n",
    "\n",
    "```python\n",
    "numpy.diag(v, k=0)\n"
   ]
  },
  {
   "cell_type": "code",
   "execution_count": 510,
   "id": "29b23956-cc88-4750-a975-c51ab2a69779",
   "metadata": {},
   "outputs": [
    {
     "data": {
      "text/plain": [
       "array([[0, 1, 2],\n",
       "       [3, 4, 5],\n",
       "       [6, 7, 8]])"
      ]
     },
     "execution_count": 510,
     "metadata": {},
     "output_type": "execute_result"
    }
   ],
   "source": [
    "x = np.arange(9).reshape((3,3))\n",
    "x"
   ]
  },
  {
   "cell_type": "code",
   "execution_count": 511,
   "id": "4e63909d-aad2-4184-82bb-5bfb27635f37",
   "metadata": {},
   "outputs": [
    {
     "data": {
      "text/plain": [
       "array([0, 4, 8])"
      ]
     },
     "execution_count": 511,
     "metadata": {},
     "output_type": "execute_result"
    }
   ],
   "source": [
    "np.diag(x)"
   ]
  },
  {
   "cell_type": "code",
   "execution_count": 512,
   "id": "c795f361-a435-4616-9584-8a5281c60861",
   "metadata": {},
   "outputs": [
    {
     "data": {
      "text/plain": [
       "array([1, 5])"
      ]
     },
     "execution_count": 512,
     "metadata": {},
     "output_type": "execute_result"
    }
   ],
   "source": [
    "np.diag(x, k=1)"
   ]
  },
  {
   "cell_type": "code",
   "execution_count": 513,
   "id": "bfe210bf-ec1b-4d6d-ba95-249dcd04c2ac",
   "metadata": {},
   "outputs": [
    {
     "data": {
      "text/plain": [
       "array([[0, 0, 0],\n",
       "       [0, 4, 0],\n",
       "       [0, 0, 8]])"
      ]
     },
     "execution_count": 513,
     "metadata": {},
     "output_type": "execute_result"
    }
   ],
   "source": [
    "np.diag(np.diag(x))"
   ]
  },
  {
   "cell_type": "markdown",
   "id": "06289f5e-9913-462d-af30-9b9bd83013f1",
   "metadata": {},
   "source": [
    "### NumPy `diagflat` Function\n",
    "\n",
    "The `numpy.diagflat` function creates a two-dimensional array with the flattened input as a diagonal.\n",
    "\n",
    "#### Function Signature\n",
    "\n",
    "```python\n",
    "numpy.diagflat(v, k=0)\n"
   ]
  },
  {
   "cell_type": "code",
   "execution_count": 514,
   "id": "fda86b2c-9179-42e5-b675-98543289343c",
   "metadata": {},
   "outputs": [
    {
     "data": {
      "text/plain": [
       "array([[1, 0, 0, 0],\n",
       "       [0, 2, 0, 0],\n",
       "       [0, 0, 3, 0],\n",
       "       [0, 0, 0, 4]])"
      ]
     },
     "execution_count": 514,
     "metadata": {},
     "output_type": "execute_result"
    }
   ],
   "source": [
    "np.diagflat([[1,2], [3,4]])"
   ]
  },
  {
   "cell_type": "code",
   "execution_count": 515,
   "id": "159b5ab0-65e0-4b40-9e16-4c6574a671f5",
   "metadata": {},
   "outputs": [
    {
     "data": {
      "text/plain": [
       "array([[0, 1, 0],\n",
       "       [0, 0, 2],\n",
       "       [0, 0, 0]])"
      ]
     },
     "execution_count": 515,
     "metadata": {},
     "output_type": "execute_result"
    }
   ],
   "source": [
    "np.diagflat([1,2], 1)"
   ]
  },
  {
   "cell_type": "markdown",
   "id": "5abddf25-676f-412e-bec8-947063b9fcdb",
   "metadata": {},
   "source": [
    "### NumPy `tri` Function\n",
    "\n",
    "The `numpy.tri` function creates an array with ones at and below the given diagonal and zeros elsewhere.\n",
    "\n",
    "#### Function Signature\n",
    "\n",
    "```python\n",
    "numpy.tri(N, M=None, k=0, dtype=<class 'float'>, *, like=None)\n"
   ]
  },
  {
   "cell_type": "code",
   "execution_count": 516,
   "id": "6cd56ad0-88a7-48cc-8622-64d967819348",
   "metadata": {},
   "outputs": [
    {
     "data": {
      "text/plain": [
       "array([[1, 1, 1, 0, 0],\n",
       "       [1, 1, 1, 1, 0],\n",
       "       [1, 1, 1, 1, 1]])"
      ]
     },
     "execution_count": 516,
     "metadata": {},
     "output_type": "execute_result"
    }
   ],
   "source": [
    "np.tri(3, 5, 2, dtype=int)"
   ]
  },
  {
   "cell_type": "code",
   "execution_count": 517,
   "id": "5c3ff8a3-bb6b-45fc-b10c-99fc8d2327d8",
   "metadata": {},
   "outputs": [
    {
     "data": {
      "text/plain": [
       "array([[0., 0., 0., 0., 0.],\n",
       "       [1., 0., 0., 0., 0.],\n",
       "       [1., 1., 0., 0., 0.]])"
      ]
     },
     "execution_count": 517,
     "metadata": {},
     "output_type": "execute_result"
    }
   ],
   "source": [
    "np.tri(3, 5, -1)"
   ]
  },
  {
   "cell_type": "markdown",
   "id": "67132915-f8bd-4043-8f5b-0b2fd68f56d7",
   "metadata": {},
   "source": [
    "### NumPy `tril` Function\n",
    "\n",
    "The `numpy.tril` function returns the lower triangle of an array, with elements above the specified diagonal zeroed.\n",
    "\n",
    "#### Function Signature\n",
    "\n",
    "```python\n",
    "numpy.tril(m, k=0)\n"
   ]
  },
  {
   "cell_type": "code",
   "execution_count": 518,
   "id": "e7315994-2169-4520-9927-e4960836eac6",
   "metadata": {},
   "outputs": [
    {
     "data": {
      "text/plain": [
       "array([[ 0,  0,  0],\n",
       "       [ 4,  0,  0],\n",
       "       [ 7,  8,  0],\n",
       "       [10, 11, 12]])"
      ]
     },
     "execution_count": 518,
     "metadata": {},
     "output_type": "execute_result"
    }
   ],
   "source": [
    "np.tril([[1,2,3],[4,5,6],[7,8,9],[10,11,12]], -1)"
   ]
  },
  {
   "cell_type": "code",
   "execution_count": 519,
   "id": "b3bfb767-d797-4af7-a777-5dfb1821f10b",
   "metadata": {},
   "outputs": [
    {
     "data": {
      "text/plain": [
       "array([[[ 0,  0,  0,  0,  0],\n",
       "        [ 5,  6,  0,  0,  0],\n",
       "        [10, 11, 12,  0,  0],\n",
       "        [15, 16, 17, 18,  0]],\n",
       "\n",
       "       [[20,  0,  0,  0,  0],\n",
       "        [25, 26,  0,  0,  0],\n",
       "        [30, 31, 32,  0,  0],\n",
       "        [35, 36, 37, 38,  0]],\n",
       "\n",
       "       [[40,  0,  0,  0,  0],\n",
       "        [45, 46,  0,  0,  0],\n",
       "        [50, 51, 52,  0,  0],\n",
       "        [55, 56, 57, 58,  0]]])"
      ]
     },
     "execution_count": 519,
     "metadata": {},
     "output_type": "execute_result"
    }
   ],
   "source": [
    "np.tril(np.arange(3*4*5).reshape(3, 4, 5))"
   ]
  },
  {
   "cell_type": "markdown",
   "id": "e91fcc55-cea4-48e8-94c3-3d7b8e10ecae",
   "metadata": {},
   "source": [
    "### NumPy `triu` Function\n",
    "\n",
    "The `numpy.triu` function returns the upper triangle of an array, with elements below the specified diagonal zeroed.\n",
    "\n",
    "#### Function Signature\n",
    "\n",
    "```python\n",
    "numpy.triu(m, k=0)\n"
   ]
  },
  {
   "cell_type": "code",
   "execution_count": 520,
   "id": "181cb17b-aafa-48c6-9f19-920dcdd5cb22",
   "metadata": {},
   "outputs": [
    {
     "data": {
      "text/plain": [
       "array([[ 1,  2,  3],\n",
       "       [ 4,  5,  6],\n",
       "       [ 0,  8,  9],\n",
       "       [ 0,  0, 12]])"
      ]
     },
     "execution_count": 520,
     "metadata": {},
     "output_type": "execute_result"
    }
   ],
   "source": [
    "np.triu([[1,2,3],[4,5,6],[7,8,9],[10,11,12]], -1)"
   ]
  },
  {
   "cell_type": "code",
   "execution_count": 521,
   "id": "9d48466f-022f-4082-aefc-5231904c98ba",
   "metadata": {},
   "outputs": [
    {
     "data": {
      "text/plain": [
       "array([[[ 0,  1,  2,  3,  4],\n",
       "        [ 0,  6,  7,  8,  9],\n",
       "        [ 0,  0, 12, 13, 14],\n",
       "        [ 0,  0,  0, 18, 19]],\n",
       "\n",
       "       [[20, 21, 22, 23, 24],\n",
       "        [ 0, 26, 27, 28, 29],\n",
       "        [ 0,  0, 32, 33, 34],\n",
       "        [ 0,  0,  0, 38, 39]],\n",
       "\n",
       "       [[40, 41, 42, 43, 44],\n",
       "        [ 0, 46, 47, 48, 49],\n",
       "        [ 0,  0, 52, 53, 54],\n",
       "        [ 0,  0,  0, 58, 59]]])"
      ]
     },
     "execution_count": 521,
     "metadata": {},
     "output_type": "execute_result"
    }
   ],
   "source": [
    "np.triu(np.arange(3*4*5).reshape(3, 4, 5))"
   ]
  },
  {
   "cell_type": "markdown",
   "id": "be546ddb-50d8-4405-893d-0ded707b7a26",
   "metadata": {},
   "source": [
    "### NumPy `vander` Function\n",
    "\n",
    "The `numpy.vander` function generates a Vandermonde matrix from the input vector.\n",
    "\n",
    "#### Function Signature\n",
    "\n",
    "```python\n",
    "numpy.vander(x, N=None, increasing=False)\n"
   ]
  },
  {
   "cell_type": "code",
   "execution_count": 522,
   "id": "af1ec0f4-a094-4985-9988-321d7572bdc8",
   "metadata": {},
   "outputs": [
    {
     "data": {
      "text/plain": [
       "array([[ 1,  1,  1],\n",
       "       [ 4,  2,  1],\n",
       "       [ 9,  3,  1],\n",
       "       [25,  5,  1]])"
      ]
     },
     "execution_count": 522,
     "metadata": {},
     "output_type": "execute_result"
    }
   ],
   "source": [
    "x = np.array([1, 2, 3, 5])\n",
    "N = 3\n",
    "np.vander(x, N)"
   ]
  },
  {
   "cell_type": "code",
   "execution_count": 523,
   "id": "96a34761-9e9d-4535-a77c-fae539ba2bba",
   "metadata": {},
   "outputs": [
    {
     "data": {
      "text/plain": [
       "array([[ 1,  1,  1],\n",
       "       [ 4,  2,  1],\n",
       "       [ 9,  3,  1],\n",
       "       [25,  5,  1]])"
      ]
     },
     "execution_count": 523,
     "metadata": {},
     "output_type": "execute_result"
    }
   ],
   "source": [
    "np.column_stack([x**(N-1-i) for i in range(N)])"
   ]
  },
  {
   "cell_type": "code",
   "execution_count": 524,
   "id": "87dd0b1d-11ae-4bbb-b0ec-25f1c0159d17",
   "metadata": {},
   "outputs": [
    {
     "data": {
      "text/plain": [
       "array([[  1,   1,   1,   1],\n",
       "       [  8,   4,   2,   1],\n",
       "       [ 27,   9,   3,   1],\n",
       "       [125,  25,   5,   1]])"
      ]
     },
     "execution_count": 524,
     "metadata": {},
     "output_type": "execute_result"
    }
   ],
   "source": [
    "x = np.array([1, 2, 3, 5])\n",
    "np.vander(x)"
   ]
  },
  {
   "cell_type": "code",
   "execution_count": 525,
   "id": "140ec629-f871-4d4c-b55a-f81d15910a4e",
   "metadata": {},
   "outputs": [
    {
     "data": {
      "text/plain": [
       "48.00000000000003"
      ]
     },
     "execution_count": 525,
     "metadata": {},
     "output_type": "execute_result"
    }
   ],
   "source": [
    "np.linalg.det(np.vander(x))"
   ]
  },
  {
   "cell_type": "code",
   "execution_count": 526,
   "id": "cc615e5f-9aee-45e1-a7cc-a588bc4ce084",
   "metadata": {},
   "outputs": [
    {
     "data": {
      "text/plain": [
       "48"
      ]
     },
     "execution_count": 526,
     "metadata": {},
     "output_type": "execute_result"
    }
   ],
   "source": [
    "(5-3)*(5-2)*(5-1)*(3-2)*(3-1)*(2-1)"
   ]
  },
  {
   "cell_type": "markdown",
   "id": "2358081c-1f1d-46a7-8919-085ea5677d6b",
   "metadata": {},
   "source": [
    "### **The matrix class**"
   ]
  },
  {
   "cell_type": "markdown",
   "id": "e1084c26-92c4-4c40-8191-daec1c0593ac",
   "metadata": {},
   "source": [
    "### NumPy `bmat` Function\n",
    "\n",
    "The `numpy.bmat` function builds a matrix object from a string, nested sequence, or array.\n",
    "\n",
    "#### Function Signature\n",
    "\n",
    "```python\n",
    "numpy.bmat(obj, ldict=None, gdict=None)\n"
   ]
  },
  {
   "cell_type": "code",
   "execution_count": 527,
   "id": "4f0d85ea-61f1-4a3d-815b-89a10b6f2967",
   "metadata": {},
   "outputs": [],
   "source": [
    "A = np.asmatrix('1 1; 1 1')\n",
    "B = np.asmatrix('2 2; 2 2')\n",
    "C = np.asmatrix('3 4; 5 6')\n",
    "D = np.asmatrix('7 8; 9 0')"
   ]
  },
  {
   "cell_type": "code",
   "execution_count": 528,
   "id": "312d6557-eb44-4639-9209-d6d8763f4ef6",
   "metadata": {},
   "outputs": [
    {
     "data": {
      "text/plain": [
       "matrix([[1, 1, 2, 2],\n",
       "        [1, 1, 2, 2],\n",
       "        [3, 4, 7, 8],\n",
       "        [5, 6, 9, 0]])"
      ]
     },
     "execution_count": 528,
     "metadata": {},
     "output_type": "execute_result"
    }
   ],
   "source": [
    "np.bmat([[A, B], [C, D]])"
   ]
  },
  {
   "cell_type": "code",
   "execution_count": 529,
   "id": "ec11ecdd-5878-4d31-bf69-f91eb1de6c0d",
   "metadata": {},
   "outputs": [
    {
     "data": {
      "text/plain": [
       "matrix([[1, 1, 2, 2],\n",
       "        [1, 1, 2, 2],\n",
       "        [3, 4, 7, 8],\n",
       "        [5, 6, 9, 0]])"
      ]
     },
     "execution_count": 529,
     "metadata": {},
     "output_type": "execute_result"
    }
   ],
   "source": [
    "np.bmat(np.r_[np.c_[A, B], np.c_[C, D]])"
   ]
  },
  {
   "cell_type": "code",
   "execution_count": 530,
   "id": "baf9403d-f81e-4018-8f50-34363ae6cbc9",
   "metadata": {},
   "outputs": [
    {
     "data": {
      "text/plain": [
       "matrix([[1, 1, 2, 2],\n",
       "        [1, 1, 2, 2],\n",
       "        [3, 4, 7, 8],\n",
       "        [5, 6, 9, 0]])"
      ]
     },
     "execution_count": 530,
     "metadata": {},
     "output_type": "execute_result"
    }
   ],
   "source": [
    "np.bmat('A,B; C,D')"
   ]
  },
  {
   "cell_type": "markdown",
   "id": "8e78999c-b09e-4aaf-a169-3ce7dbdea881",
   "metadata": {},
   "source": [
    "## **Array manipulation routines**"
   ]
  },
  {
   "cell_type": "markdown",
   "id": "4827679c-54a0-4f07-9465-33d995bb76b1",
   "metadata": {},
   "source": [
    "### **Basic operations**"
   ]
  },
  {
   "cell_type": "markdown",
   "id": "b2ee1886-262f-4ac7-80f8-14b60247b4f2",
   "metadata": {},
   "source": [
    "### NumPy `copyto` Function\n",
    "\n",
    "The `numpy.copyto` function copies values from one array to another, broadcasting as necessary.\n",
    "\n",
    "#### Function Signature\n",
    "\n",
    "```python\n",
    "numpy.copyto(dst, src, casting='same_kind', where=True)\n"
   ]
  },
  {
   "cell_type": "code",
   "execution_count": 531,
   "id": "ac3617c5-b0ee-49a5-80ab-bb68e8d5bd28",
   "metadata": {},
   "outputs": [
    {
     "data": {
      "text/plain": [
       "array([1, 2, 3])"
      ]
     },
     "execution_count": 531,
     "metadata": {},
     "output_type": "execute_result"
    }
   ],
   "source": [
    "import numpy as np\n",
    "A = np.array([4, 5, 6])\n",
    "B = [1, 2, 3]\n",
    "np.copyto(A, B)\n",
    "A"
   ]
  },
  {
   "cell_type": "code",
   "execution_count": 532,
   "id": "58bf2493-4b34-49a1-954a-e94eee60d656",
   "metadata": {},
   "outputs": [],
   "source": [
    "A = np.array([[1, 2, 3], [4, 5, 6]])\n",
    "B = [[4, 5, 6], [7, 8, 9]]\n",
    "np.copyto(A, B)"
   ]
  },
  {
   "cell_type": "code",
   "execution_count": 533,
   "id": "58a167fb-01da-4201-8ec5-2e82dbe77cfd",
   "metadata": {},
   "outputs": [
    {
     "data": {
      "text/plain": [
       "0"
      ]
     },
     "execution_count": 533,
     "metadata": {},
     "output_type": "execute_result"
    }
   ],
   "source": [
    "np.ndim([[1,2,3],[4,5,6]])\n",
    "\n",
    "np.ndim(np.array([[1,2,3],[4,5,6]]))\n",
    "\n",
    "np.ndim(1)"
   ]
  },
  {
   "cell_type": "markdown",
   "id": "5c622c3e-fc6e-420d-92ba-7e02da76c084",
   "metadata": {},
   "source": [
    "### NumPy `shape` Function\n",
    "\n",
    "The `numpy.shape` function returns the shape of an array.\n",
    "\n",
    "#### Function Signature\n",
    "\n",
    "```python\n",
    "numpy.shape(a)\n"
   ]
  },
  {
   "cell_type": "code",
   "execution_count": 534,
   "id": "e739b8ff-bf6b-4220-ba49-14570655f71a",
   "metadata": {},
   "outputs": [
    {
     "data": {
      "text/plain": [
       "(3, 3)"
      ]
     },
     "execution_count": 534,
     "metadata": {},
     "output_type": "execute_result"
    }
   ],
   "source": [
    "np.shape(np.eye(3))"
   ]
  },
  {
   "cell_type": "code",
   "execution_count": 535,
   "id": "e3938af7-f959-42dd-837d-a0cabafeeb74",
   "metadata": {},
   "outputs": [
    {
     "data": {
      "text/plain": [
       "(1, 2)"
      ]
     },
     "execution_count": 535,
     "metadata": {},
     "output_type": "execute_result"
    }
   ],
   "source": [
    "np.shape([[1, 3]])"
   ]
  },
  {
   "cell_type": "code",
   "execution_count": 536,
   "id": "75f40d8a-d7db-42af-83e5-9a40bc5e72b5",
   "metadata": {},
   "outputs": [
    {
     "data": {
      "text/plain": [
       "(1,)"
      ]
     },
     "execution_count": 536,
     "metadata": {},
     "output_type": "execute_result"
    }
   ],
   "source": [
    "np.shape([0])"
   ]
  },
  {
   "cell_type": "code",
   "execution_count": 537,
   "id": "f230b2a5-a020-489d-aacd-c7ffeab8c64f",
   "metadata": {},
   "outputs": [
    {
     "data": {
      "text/plain": [
       "()"
      ]
     },
     "execution_count": 537,
     "metadata": {},
     "output_type": "execute_result"
    }
   ],
   "source": [
    "np.shape(0)"
   ]
  },
  {
   "cell_type": "code",
   "execution_count": 538,
   "id": "78ced0b4-8e84-4cdf-bfcc-fc2328c94717",
   "metadata": {},
   "outputs": [
    {
     "data": {
      "text/plain": [
       "(3,)"
      ]
     },
     "execution_count": 538,
     "metadata": {},
     "output_type": "execute_result"
    }
   ],
   "source": [
    "a = np.array([(1, 2), (3, 4), (5, 6)],\n",
    "             dtype=[('x', 'i4'), ('y', 'i4')])\n",
    "np.shape(a)\n",
    "\n",
    "a.shape"
   ]
  },
  {
   "cell_type": "markdown",
   "id": "e5a5fa4a-5d8f-43cd-bfdc-a617e1eb9d4d",
   "metadata": {},
   "source": [
    "### NumPy `size` Function\n",
    "\n",
    "The `numpy.size` function returns the number of elements along a given axis.\n",
    "\n",
    "#### Function Signature\n",
    "\n",
    "```python\n",
    "numpy.size(a, axis=None)\n"
   ]
  },
  {
   "cell_type": "code",
   "execution_count": 539,
   "id": "6d31b9cd-b585-419e-911c-5f8e454d1d0a",
   "metadata": {},
   "outputs": [
    {
     "data": {
      "text/plain": [
       "6"
      ]
     },
     "execution_count": 539,
     "metadata": {},
     "output_type": "execute_result"
    }
   ],
   "source": [
    "a = np.array([[1,2,3],[4,5,6]])\n",
    "np.size(a)"
   ]
  },
  {
   "cell_type": "code",
   "execution_count": 540,
   "id": "a36fcaca-2aba-45ab-94c8-c60d68725939",
   "metadata": {},
   "outputs": [
    {
     "data": {
      "text/plain": [
       "3"
      ]
     },
     "execution_count": 540,
     "metadata": {},
     "output_type": "execute_result"
    }
   ],
   "source": [
    "np.size(a,1)"
   ]
  },
  {
   "cell_type": "code",
   "execution_count": 541,
   "id": "2a5ac73e-d637-4047-9aa2-4ff56084b187",
   "metadata": {},
   "outputs": [
    {
     "data": {
      "text/plain": [
       "2"
      ]
     },
     "execution_count": 541,
     "metadata": {},
     "output_type": "execute_result"
    }
   ],
   "source": [
    "np.size(a,0)"
   ]
  },
  {
   "cell_type": "markdown",
   "id": "73fed698-4958-44da-96bf-1e41c72f021e",
   "metadata": {},
   "source": [
    "### **Changing array shape**"
   ]
  },
  {
   "cell_type": "markdown",
   "id": "21099341-ea8d-428c-9281-1b6e32e7d983",
   "metadata": {},
   "source": [
    "### NumPy `reshape` Function\n",
    "\n",
    "The `numpy.reshape` function gives a new shape to an array without changing its data.\n",
    "\n",
    "#### Function Signature\n",
    "\n",
    "```python\n",
    "numpy.reshape(a, newshape, order='C')\n"
   ]
  },
  {
   "cell_type": "code",
   "execution_count": 542,
   "id": "e76bb507-6a6c-475f-a3b0-a5bb017c0cc7",
   "metadata": {},
   "outputs": [
    {
     "data": {
      "text/plain": [
       "array([[0, 1],\n",
       "       [2, 3],\n",
       "       [4, 5]])"
      ]
     },
     "execution_count": 542,
     "metadata": {},
     "output_type": "execute_result"
    }
   ],
   "source": [
    "a = np.arange(6).reshape((3, 2))\n",
    "a"
   ]
  },
  {
   "cell_type": "code",
   "execution_count": 543,
   "id": "fa3cb1a0-8d60-42f9-84e3-fcbd69bc9470",
   "metadata": {},
   "outputs": [
    {
     "data": {
      "text/plain": [
       "array([[0, 1, 2],\n",
       "       [3, 4, 5]])"
      ]
     },
     "execution_count": 543,
     "metadata": {},
     "output_type": "execute_result"
    }
   ],
   "source": [
    "np.reshape(a, (2, 3)) # C-like index ordering"
   ]
  },
  {
   "cell_type": "code",
   "execution_count": 544,
   "id": "a038ec2c-76f4-4bd4-a1d7-531376d141d8",
   "metadata": {},
   "outputs": [
    {
     "data": {
      "text/plain": [
       "array([[0, 1, 2],\n",
       "       [3, 4, 5]])"
      ]
     },
     "execution_count": 544,
     "metadata": {},
     "output_type": "execute_result"
    }
   ],
   "source": [
    "np.reshape(np.ravel(a), (2, 3)) # equivalent to C ravel then C reshape"
   ]
  },
  {
   "cell_type": "code",
   "execution_count": 545,
   "id": "0250a7ab-ff0c-4d8c-b6ba-c1c728d78f33",
   "metadata": {},
   "outputs": [
    {
     "data": {
      "text/plain": [
       "array([[0, 4, 3],\n",
       "       [2, 1, 5]])"
      ]
     },
     "execution_count": 545,
     "metadata": {},
     "output_type": "execute_result"
    }
   ],
   "source": [
    "np.reshape(a, (2, 3), order='F') # Fortran-like index ordering"
   ]
  },
  {
   "cell_type": "code",
   "execution_count": 546,
   "id": "34a81358-9748-456c-b31d-8877d3376a6c",
   "metadata": {},
   "outputs": [
    {
     "data": {
      "text/plain": [
       "array([[0, 4, 3],\n",
       "       [2, 1, 5]])"
      ]
     },
     "execution_count": 546,
     "metadata": {},
     "output_type": "execute_result"
    }
   ],
   "source": [
    "np.reshape(np.ravel(a, order='F'), (2, 3), order='F')"
   ]
  },
  {
   "cell_type": "code",
   "execution_count": 547,
   "id": "b9421643-ca88-4c0f-bedc-0de92be67cfd",
   "metadata": {},
   "outputs": [
    {
     "data": {
      "text/plain": [
       "array([1, 4, 2, 5, 3, 6])"
      ]
     },
     "execution_count": 547,
     "metadata": {},
     "output_type": "execute_result"
    }
   ],
   "source": [
    "a = np.array([[1,2,3], [4,5,6]])\n",
    "np.reshape(a, 6)\n",
    "np.reshape(a, 6, order='F')"
   ]
  },
  {
   "cell_type": "code",
   "execution_count": 548,
   "id": "9a88934d-21f2-4626-8133-785c2679dc1a",
   "metadata": {},
   "outputs": [
    {
     "data": {
      "text/plain": [
       "array([[1, 2],\n",
       "       [3, 4],\n",
       "       [5, 6]])"
      ]
     },
     "execution_count": 548,
     "metadata": {},
     "output_type": "execute_result"
    }
   ],
   "source": [
    "np.reshape(a, (3,-1))       # the unspecified value is inferred to be 2"
   ]
  },
  {
   "cell_type": "markdown",
   "id": "c2338b8c-0da9-4c7a-b396-5715c57d73d6",
   "metadata": {},
   "source": [
    "### NumPy `ravel` Function\n",
    "\n",
    "The `numpy.ravel` function returns a contiguous flattened array.\n",
    "\n",
    "#### Function Signature\n",
    "\n",
    "```python\n",
    "numpy.ravel(a, order='C')\n"
   ]
  },
  {
   "cell_type": "code",
   "execution_count": 549,
   "id": "208c322c-ca87-4b2f-8ad6-7fad28f268d5",
   "metadata": {},
   "outputs": [
    {
     "data": {
      "text/plain": [
       "array([1, 2, 3, 4, 5, 6])"
      ]
     },
     "execution_count": 549,
     "metadata": {},
     "output_type": "execute_result"
    }
   ],
   "source": [
    "x = np.array([[1, 2, 3], [4, 5, 6]])\n",
    "np.ravel(x)"
   ]
  },
  {
   "cell_type": "code",
   "execution_count": 550,
   "id": "62edf794-8db4-4ea8-bf79-80bbb11c175c",
   "metadata": {},
   "outputs": [
    {
     "data": {
      "text/plain": [
       "array([1, 2, 3, 4, 5, 6])"
      ]
     },
     "execution_count": 550,
     "metadata": {},
     "output_type": "execute_result"
    }
   ],
   "source": [
    "x.reshape(-1)"
   ]
  },
  {
   "cell_type": "code",
   "execution_count": 551,
   "id": "40b99b8c-2045-48b5-ae1a-a42389934904",
   "metadata": {},
   "outputs": [
    {
     "data": {
      "text/plain": [
       "array([1, 4, 2, 5, 3, 6])"
      ]
     },
     "execution_count": 551,
     "metadata": {},
     "output_type": "execute_result"
    }
   ],
   "source": [
    "np.ravel(x, order='F')"
   ]
  },
  {
   "cell_type": "code",
   "execution_count": 552,
   "id": "93ef2b5b-901e-439d-a14b-f61133c69b7f",
   "metadata": {},
   "outputs": [
    {
     "data": {
      "text/plain": [
       "array([1, 4, 2, 5, 3, 6])"
      ]
     },
     "execution_count": 552,
     "metadata": {},
     "output_type": "execute_result"
    }
   ],
   "source": [
    "np.ravel(x.T)"
   ]
  },
  {
   "cell_type": "code",
   "execution_count": 553,
   "id": "b925d434-3193-49fb-8244-1fcd48a15210",
   "metadata": {},
   "outputs": [
    {
     "data": {
      "text/plain": [
       "array([2, 1, 0])"
      ]
     },
     "execution_count": 553,
     "metadata": {},
     "output_type": "execute_result"
    }
   ],
   "source": [
    "a = np.arange(3)[::-1]; a\n",
    "a.ravel(order='C')\n",
    "a.ravel(order='K')"
   ]
  },
  {
   "cell_type": "code",
   "execution_count": 554,
   "id": "92fdd53a-0084-4dee-87e4-3a48b4a56c0e",
   "metadata": {},
   "outputs": [
    {
     "data": {
      "text/plain": [
       "array([ 0,  2,  4,  1,  3,  5,  6,  8, 10,  7,  9, 11])"
      ]
     },
     "execution_count": 554,
     "metadata": {},
     "output_type": "execute_result"
    }
   ],
   "source": [
    "a = np.arange(12).reshape(2,3,2).swapaxes(1,2); a\n",
    "\n",
    "a.ravel(order='C')"
   ]
  },
  {
   "cell_type": "code",
   "execution_count": 555,
   "id": "7a9cb5da-1d3f-4818-bcbd-581478fe551f",
   "metadata": {},
   "outputs": [
    {
     "data": {
      "text/plain": [
       "array([ 0,  1,  2,  3,  4,  5,  6,  7,  8,  9, 10, 11])"
      ]
     },
     "execution_count": 555,
     "metadata": {},
     "output_type": "execute_result"
    }
   ],
   "source": [
    "a.ravel(order='K')"
   ]
  },
  {
   "cell_type": "markdown",
   "id": "546bb161-ccc0-4997-a65d-8ecbccb44cca",
   "metadata": {},
   "source": [
    "### NumPy `flat` Attribute\n",
    "\n",
    "The `flat` attribute returns a 1-D iterator over the array.\n",
    "\n",
    "#### Description\n",
    "\n",
    "This is a `numpy.flatiter` instance, which acts similarly to, but is not a subclass of, Python’s built-in iterator object.\n",
    "\n"
   ]
  },
  {
   "cell_type": "code",
   "execution_count": 556,
   "id": "382dc29f-c699-4690-8ae6-d3a968c88745",
   "metadata": {},
   "outputs": [
    {
     "data": {
      "text/plain": [
       "array([[1, 2, 3],\n",
       "       [4, 5, 6]])"
      ]
     },
     "execution_count": 556,
     "metadata": {},
     "output_type": "execute_result"
    }
   ],
   "source": [
    "x = np.arange(1, 7).reshape(2, 3)\n",
    "x"
   ]
  },
  {
   "cell_type": "code",
   "execution_count": 557,
   "id": "331ff5d7-e4b5-43c9-a087-7d9215bc2efb",
   "metadata": {},
   "outputs": [
    {
     "data": {
      "text/plain": [
       "4"
      ]
     },
     "execution_count": 557,
     "metadata": {},
     "output_type": "execute_result"
    }
   ],
   "source": [
    "x.flat[3]"
   ]
  },
  {
   "cell_type": "code",
   "execution_count": 558,
   "id": "14deb055-51e3-4777-b444-f6fe40790dfd",
   "metadata": {},
   "outputs": [
    {
     "data": {
      "text/plain": [
       "array([[1, 4],\n",
       "       [2, 5],\n",
       "       [3, 6]])"
      ]
     },
     "execution_count": 558,
     "metadata": {},
     "output_type": "execute_result"
    }
   ],
   "source": [
    "x.T"
   ]
  },
  {
   "cell_type": "code",
   "execution_count": 559,
   "id": "e4c091ac-bf4d-47f2-a993-82f73c3fc958",
   "metadata": {},
   "outputs": [
    {
     "data": {
      "text/plain": [
       "5"
      ]
     },
     "execution_count": 559,
     "metadata": {},
     "output_type": "execute_result"
    }
   ],
   "source": [
    "x.T.flat[3]"
   ]
  },
  {
   "cell_type": "code",
   "execution_count": 560,
   "id": "c47a1ef9-2b4e-44a7-bedf-49d7fb790dd3",
   "metadata": {},
   "outputs": [
    {
     "data": {
      "text/plain": [
       "numpy.flatiter"
      ]
     },
     "execution_count": 560,
     "metadata": {},
     "output_type": "execute_result"
    }
   ],
   "source": [
    "type(x.flat)"
   ]
  },
  {
   "cell_type": "markdown",
   "id": "e79d75d8-feee-4fc6-bbdd-ecd2b5225366",
   "metadata": {},
   "source": [
    "### NumPy `flatten` Method\n",
    "\n",
    "The `ndarray.flatten` method returns a copy of the array collapsed into one dimension.\n",
    "\n",
    "#### Method Signature\n",
    "\n",
    "```python\n",
    "ndarray.flatten(order='C')\n"
   ]
  },
  {
   "cell_type": "code",
   "execution_count": 561,
   "id": "53827f13-a1dc-4960-9288-16d0720ac9ea",
   "metadata": {},
   "outputs": [
    {
     "data": {
      "text/plain": [
       "array([1, 2, 3, 4])"
      ]
     },
     "execution_count": 561,
     "metadata": {},
     "output_type": "execute_result"
    }
   ],
   "source": [
    "a = np.array([[1,2], [3,4]])\n",
    "a.flatten()"
   ]
  },
  {
   "cell_type": "code",
   "execution_count": 562,
   "id": "d24f7e64-5c98-489f-8ad0-8fb4259d5f07",
   "metadata": {},
   "outputs": [
    {
     "data": {
      "text/plain": [
       "array([1, 3, 2, 4])"
      ]
     },
     "execution_count": 562,
     "metadata": {},
     "output_type": "execute_result"
    }
   ],
   "source": [
    "a.flatten('F')"
   ]
  },
  {
   "cell_type": "markdown",
   "id": "93dce559-ea72-4bd2-beb4-29c60a85fbf4",
   "metadata": {},
   "source": [
    "### **Transpose-like operations**"
   ]
  },
  {
   "cell_type": "markdown",
   "id": "6188722e-e745-4b2b-847f-0e0616f532a9",
   "metadata": {},
   "source": [
    "### NumPy `moveaxis` Function\n",
    "\n",
    "The `numpy.moveaxis` function is used to move axes of an array to new positions. It returns a view of the input array with its axes rearranged.\n",
    "\n",
    "#### Function Signature\n",
    "\n",
    "```python\n",
    "numpy.moveaxis(a, source, destination)\n"
   ]
  },
  {
   "cell_type": "code",
   "execution_count": 563,
   "id": "fa9b0a7b-5d9e-43a0-9e3c-5fb08977be26",
   "metadata": {},
   "outputs": [
    {
     "data": {
      "text/plain": [
       "(4, 5, 3)"
      ]
     },
     "execution_count": 563,
     "metadata": {},
     "output_type": "execute_result"
    }
   ],
   "source": [
    "x = np.zeros((3, 4, 5))\n",
    "np.moveaxis(x, 0, -1).shape"
   ]
  },
  {
   "cell_type": "code",
   "execution_count": 564,
   "id": "5b53ad51-5d51-4ce8-915f-1d637a47a8b5",
   "metadata": {},
   "outputs": [
    {
     "data": {
      "text/plain": [
       "(5, 4, 3)"
      ]
     },
     "execution_count": 564,
     "metadata": {},
     "output_type": "execute_result"
    }
   ],
   "source": [
    "np.transpose(x).shape"
   ]
  },
  {
   "cell_type": "code",
   "execution_count": 565,
   "id": "18cdbc87-105b-473e-8eca-aa4f718fd0b9",
   "metadata": {},
   "outputs": [
    {
     "data": {
      "text/plain": [
       "(5, 4, 3)"
      ]
     },
     "execution_count": 565,
     "metadata": {},
     "output_type": "execute_result"
    }
   ],
   "source": [
    "np.swapaxes(x, 0, -1).shape"
   ]
  },
  {
   "cell_type": "code",
   "execution_count": 566,
   "id": "57e6b93d-16f3-49a9-aad9-65c390224a1d",
   "metadata": {},
   "outputs": [
    {
     "data": {
      "text/plain": [
       "(5, 4, 3)"
      ]
     },
     "execution_count": 566,
     "metadata": {},
     "output_type": "execute_result"
    }
   ],
   "source": [
    "np.moveaxis(x, [0, 1], [-1, -2]).shape"
   ]
  },
  {
   "cell_type": "code",
   "execution_count": 567,
   "id": "6f4762d5-9abf-4797-bb5f-30b3dbdebbfe",
   "metadata": {},
   "outputs": [
    {
     "data": {
      "text/plain": [
       "(5, 4, 3)"
      ]
     },
     "execution_count": 567,
     "metadata": {},
     "output_type": "execute_result"
    }
   ],
   "source": [
    "np.moveaxis(x, [0, 1, 2], [-1, -2, -3]).shape"
   ]
  },
  {
   "cell_type": "markdown",
   "id": "79b20f39-3137-4391-bbab-ea7bfb72f9d0",
   "metadata": {},
   "source": [
    "### NumPy `rollaxis` Function\n",
    "\n",
    "The `numpy.rollaxis` function rolls the specified axis backwards, until it lies in a given position.\n",
    "\n",
    "#### Function Signature\n",
    "\n",
    "```python\n",
    "numpy.rollaxis(a, axis, start=0)\n"
   ]
  },
  {
   "cell_type": "code",
   "execution_count": 568,
   "id": "f84a2103-dd16-4dae-826c-4e132107474c",
   "metadata": {},
   "outputs": [
    {
     "data": {
      "text/plain": [
       "(3, 6, 4, 5)"
      ]
     },
     "execution_count": 568,
     "metadata": {},
     "output_type": "execute_result"
    }
   ],
   "source": [
    "a = np.ones((3,4,5,6))\n",
    "np.rollaxis(a, 3, 1).shape"
   ]
  },
  {
   "cell_type": "code",
   "execution_count": 569,
   "id": "0fbc069f-c4f8-439e-9b2a-172d4ea7c451",
   "metadata": {},
   "outputs": [
    {
     "data": {
      "text/plain": [
       "(5, 3, 4, 6)"
      ]
     },
     "execution_count": 569,
     "metadata": {},
     "output_type": "execute_result"
    }
   ],
   "source": [
    "np.rollaxis(a, 2).shape"
   ]
  },
  {
   "cell_type": "code",
   "execution_count": 570,
   "id": "de653cc7-7fdf-46b2-b909-4e67b4761eb1",
   "metadata": {},
   "outputs": [
    {
     "data": {
      "text/plain": [
       "(3, 5, 6, 4)"
      ]
     },
     "execution_count": 570,
     "metadata": {},
     "output_type": "execute_result"
    }
   ],
   "source": [
    "np.rollaxis(a, 1, 4).shape"
   ]
  },
  {
   "cell_type": "markdown",
   "id": "85e27695-86ad-4a01-9179-4f6a0c31e307",
   "metadata": {},
   "source": [
    "### NumPy `ndarray.T` Attribute\n",
    "\n",
    "The `ndarray.T` attribute in NumPy provides a view of the transposed array.\n",
    "\n",
    "#### Function Signature\n",
    "\n",
    "```python\n",
    "ndarray.T\n"
   ]
  },
  {
   "cell_type": "code",
   "execution_count": 571,
   "id": "5446e7cc-8a95-49d4-8eab-f86f8cc45c29",
   "metadata": {},
   "outputs": [
    {
     "data": {
      "text/plain": [
       "array([[1, 2],\n",
       "       [3, 4]])"
      ]
     },
     "execution_count": 571,
     "metadata": {},
     "output_type": "execute_result"
    }
   ],
   "source": [
    "a = np.array([[1, 2], [3, 4]])\n",
    "a"
   ]
  },
  {
   "cell_type": "code",
   "execution_count": 572,
   "id": "5cf9a35c-11b4-401b-856f-ce61e9bcd017",
   "metadata": {},
   "outputs": [
    {
     "data": {
      "text/plain": [
       "array([1, 2, 3, 4])"
      ]
     },
     "execution_count": 572,
     "metadata": {},
     "output_type": "execute_result"
    }
   ],
   "source": [
    "a = np.array([1, 2, 3, 4])\n",
    "a"
   ]
  },
  {
   "cell_type": "code",
   "execution_count": 573,
   "id": "c908fc39-98c8-48ec-b4f1-24bdef7c6efe",
   "metadata": {},
   "outputs": [
    {
     "data": {
      "text/plain": [
       "array([1, 2, 3, 4])"
      ]
     },
     "execution_count": 573,
     "metadata": {},
     "output_type": "execute_result"
    }
   ],
   "source": [
    "([1, 2, 3, 4])\n",
    "a.T"
   ]
  },
  {
   "cell_type": "markdown",
   "id": "dfa609aa-6fac-46a1-84ba-34869b09ad79",
   "metadata": {},
   "source": [
    "### **Changing number of dimensions**"
   ]
  },
  {
   "cell_type": "markdown",
   "id": "35a339e1-8ab5-4aa5-b0b9-087b347931ad",
   "metadata": {},
   "source": [
    "### NumPy `atleast_2d` Function\n",
    "\n",
    "The `numpy.atleast_2d` function views inputs as arrays with at least two dimensions.\n",
    "\n",
    "#### Function Signature\n",
    "\n",
    "```python\n",
    "numpy.atleast_2d(*arys)\n"
   ]
  },
  {
   "cell_type": "code",
   "execution_count": 574,
   "id": "738f94e5-4a13-480d-bff9-bf302b337170",
   "metadata": {},
   "outputs": [
    {
     "data": {
      "text/plain": [
       "array([[3.]])"
      ]
     },
     "execution_count": 574,
     "metadata": {},
     "output_type": "execute_result"
    }
   ],
   "source": [
    "np.atleast_2d(3.0)"
   ]
  },
  {
   "cell_type": "code",
   "execution_count": 575,
   "id": "a9f6ee77-e1b0-4207-88fd-28f14f7a7026",
   "metadata": {},
   "outputs": [
    {
     "data": {
      "text/plain": [
       "array([[0., 1., 2.]])"
      ]
     },
     "execution_count": 575,
     "metadata": {},
     "output_type": "execute_result"
    }
   ],
   "source": [
    "x = np.arange(3.0)\n",
    "np.atleast_2d(x)"
   ]
  },
  {
   "cell_type": "code",
   "execution_count": 576,
   "id": "a7ad49fc-423f-4bbe-bf11-e7ccead98127",
   "metadata": {},
   "outputs": [
    {
     "data": {
      "text/plain": [
       "True"
      ]
     },
     "execution_count": 576,
     "metadata": {},
     "output_type": "execute_result"
    }
   ],
   "source": [
    "np.atleast_2d(x).base is x"
   ]
  },
  {
   "cell_type": "code",
   "execution_count": 577,
   "id": "dac23d26-489e-4852-96cd-f954fc04cb9a",
   "metadata": {},
   "outputs": [
    {
     "data": {
      "text/plain": [
       "[array([[1]]), array([[1, 2]]), array([[1, 2]])]"
      ]
     },
     "execution_count": 577,
     "metadata": {},
     "output_type": "execute_result"
    }
   ],
   "source": [
    "np.atleast_2d(1, [1, 2], [[1, 2]])"
   ]
  },
  {
   "cell_type": "markdown",
   "id": "59182a3f-bb33-4c6e-b7e6-02f625d4d434",
   "metadata": {},
   "source": [
    "### **Changing kind of array**"
   ]
  },
  {
   "cell_type": "markdown",
   "id": "4015b7a6-6dfe-4051-a210-cce580a380d5",
   "metadata": {},
   "source": [
    "### NumPy `asmatrix` Function\n",
    "\n",
    "The `numpy.asmatrix` function interprets the input as a matrix.\n",
    "\n",
    "#### Function Signature\n",
    "\n",
    "```python\n",
    "numpy.asmatrix(data, dtype=None)\n"
   ]
  },
  {
   "cell_type": "code",
   "execution_count": 578,
   "id": "1def29bc-b4d7-4a6e-bb77-0811e307b91c",
   "metadata": {},
   "outputs": [],
   "source": [
    "x = np.array([[1, 2], [3, 4]])"
   ]
  },
  {
   "cell_type": "code",
   "execution_count": 579,
   "id": "b13c5324-ef75-4c4e-a8f3-55dfb8a25d0a",
   "metadata": {},
   "outputs": [],
   "source": [
    "m = np.asmatrix(x)"
   ]
  },
  {
   "cell_type": "code",
   "execution_count": 580,
   "id": "af7e5347-8344-46d9-bf28-d1cd524cb0ac",
   "metadata": {},
   "outputs": [],
   "source": [
    "x[0,0] = 5"
   ]
  },
  {
   "cell_type": "code",
   "execution_count": 581,
   "id": "8580d1c8-bdcf-47bd-b194-ccf9e8cc6c40",
   "metadata": {},
   "outputs": [
    {
     "data": {
      "text/plain": [
       "matrix([[5, 2],\n",
       "        [3, 4]])"
      ]
     },
     "execution_count": 581,
     "metadata": {},
     "output_type": "execute_result"
    }
   ],
   "source": [
    "m"
   ]
  },
  {
   "cell_type": "markdown",
   "id": "147272dc-999f-41ea-9cbe-a3ca69cba459",
   "metadata": {},
   "source": [
    "### **Joining arrays**"
   ]
  },
  {
   "cell_type": "markdown",
   "id": "928ecd16-359d-4280-ac07-fdce962b5940",
   "metadata": {},
   "source": [
    "### NumPy `stack` Function\n",
    "\n",
    "The `numpy.stack` function joins a sequence of arrays along a new axis.\n",
    "\n",
    "#### Function Signature\n",
    "\n",
    "```python\n",
    "numpy.stack(arrays, axis=0, out=None, *, dtype=None, casting='same_kind')\n"
   ]
  },
  {
   "cell_type": "code",
   "execution_count": 582,
   "id": "e1e13c8f-bf4e-4e11-91c5-5261a0bdd5b5",
   "metadata": {},
   "outputs": [
    {
     "data": {
      "text/plain": [
       "(10, 3, 4)"
      ]
     },
     "execution_count": 582,
     "metadata": {},
     "output_type": "execute_result"
    }
   ],
   "source": [
    "arrays = [np.random.randn(3, 4) for _ in range(10)]\n",
    "np.stack(arrays, axis=0).shape"
   ]
  },
  {
   "cell_type": "code",
   "execution_count": 583,
   "id": "68677377-aad1-4434-988e-b5eb129c5340",
   "metadata": {},
   "outputs": [
    {
     "data": {
      "text/plain": [
       "(3, 10, 4)"
      ]
     },
     "execution_count": 583,
     "metadata": {},
     "output_type": "execute_result"
    }
   ],
   "source": [
    "np.stack(arrays, axis=1).shape"
   ]
  },
  {
   "cell_type": "code",
   "execution_count": 584,
   "id": "be72611a-6838-4a8c-8a4a-fd422f2e6dcf",
   "metadata": {},
   "outputs": [
    {
     "data": {
      "text/plain": [
       "(3, 4, 10)"
      ]
     },
     "execution_count": 584,
     "metadata": {},
     "output_type": "execute_result"
    }
   ],
   "source": [
    "np.stack(arrays, axis=2).shape"
   ]
  },
  {
   "cell_type": "code",
   "execution_count": 585,
   "id": "2e8b32e0-33a9-4ce7-bcb4-950aa3e4c2f2",
   "metadata": {},
   "outputs": [
    {
     "data": {
      "text/plain": [
       "array([[1, 2, 3],\n",
       "       [4, 5, 6]])"
      ]
     },
     "execution_count": 585,
     "metadata": {},
     "output_type": "execute_result"
    }
   ],
   "source": [
    "a = np.array([1, 2, 3])\n",
    "b = np.array([4, 5, 6])\n",
    "np.stack((a, b))"
   ]
  },
  {
   "cell_type": "code",
   "execution_count": 586,
   "id": "70160dc1-0a38-447b-92da-8ad3bf3c7f86",
   "metadata": {},
   "outputs": [
    {
     "data": {
      "text/plain": [
       "array([[1, 4],\n",
       "       [2, 5],\n",
       "       [3, 6]])"
      ]
     },
     "execution_count": 586,
     "metadata": {},
     "output_type": "execute_result"
    }
   ],
   "source": [
    "np.stack((a, b), axis=-1)"
   ]
  },
  {
   "cell_type": "markdown",
   "id": "25d46007-cc5e-4388-afcd-d6f0f1901148",
   "metadata": {},
   "source": [
    "### **Splitting arrays**"
   ]
  },
  {
   "cell_type": "markdown",
   "id": "985fc7ed-269c-4857-84e3-a006dffe9d12",
   "metadata": {},
   "source": [
    "### NumPy `dsplit` Function\n",
    "\n",
    "The `numpy.dsplit` function splits an array into multiple sub-arrays along the 3rd axis (depth).\n",
    "\n",
    "#### Function Signature\n",
    "\n",
    "```python\n",
    "numpy.dsplit(ary, indices_or_sections)\n"
   ]
  },
  {
   "cell_type": "code",
   "execution_count": 587,
   "id": "914846bc-70fa-40db-bf78-555b1021721c",
   "metadata": {},
   "outputs": [
    {
     "data": {
      "text/plain": [
       "array([[[ 0.,  1.,  2.,  3.],\n",
       "        [ 4.,  5.,  6.,  7.]],\n",
       "\n",
       "       [[ 8.,  9., 10., 11.],\n",
       "        [12., 13., 14., 15.]]])"
      ]
     },
     "execution_count": 587,
     "metadata": {},
     "output_type": "execute_result"
    }
   ],
   "source": [
    "x = np.arange(16.0).reshape(2, 2, 4)\n",
    "x"
   ]
  },
  {
   "cell_type": "code",
   "execution_count": 588,
   "id": "85d7305a-e70f-4e12-b177-f0201d16e1f5",
   "metadata": {},
   "outputs": [
    {
     "data": {
      "text/plain": [
       "[array([[[ 0.,  1.],\n",
       "         [ 4.,  5.]],\n",
       " \n",
       "        [[ 8.,  9.],\n",
       "         [12., 13.]]]),\n",
       " array([[[ 2.,  3.],\n",
       "         [ 6.,  7.]],\n",
       " \n",
       "        [[10., 11.],\n",
       "         [14., 15.]]])]"
      ]
     },
     "execution_count": 588,
     "metadata": {},
     "output_type": "execute_result"
    }
   ],
   "source": [
    "np.dsplit(x, 2)"
   ]
  },
  {
   "cell_type": "code",
   "execution_count": 589,
   "id": "1e9de687-be5d-4928-b485-68b197b95198",
   "metadata": {},
   "outputs": [
    {
     "data": {
      "text/plain": [
       "[array([[[ 0.,  1.,  2.],\n",
       "         [ 4.,  5.,  6.]],\n",
       " \n",
       "        [[ 8.,  9., 10.],\n",
       "         [12., 13., 14.]]]),\n",
       " array([[[ 3.],\n",
       "         [ 7.]],\n",
       " \n",
       "        [[11.],\n",
       "         [15.]]]),\n",
       " array([], shape=(2, 2, 0), dtype=float64)]"
      ]
     },
     "execution_count": 589,
     "metadata": {},
     "output_type": "execute_result"
    }
   ],
   "source": [
    "np.dsplit(x, np.array([3, 6]))"
   ]
  },
  {
   "cell_type": "markdown",
   "id": "11b8376f-f87d-446b-8906-c62f62046de7",
   "metadata": {},
   "source": [
    "### **Tiling arrays**"
   ]
  },
  {
   "cell_type": "markdown",
   "id": "ff02e8bd-53a2-45d2-8c5d-2516e0502280",
   "metadata": {},
   "source": [
    "### NumPy `tile` Function\n",
    "\n",
    "The `numpy.tile` function constructs an array by repeating the input array the number of times specified by the `reps` parameter.\n",
    "\n",
    "#### Function Signature\n",
    "\n",
    "```python\n",
    "numpy.tile(A, reps)\n"
   ]
  },
  {
   "cell_type": "code",
   "execution_count": 590,
   "id": "86a4cd9c-9f2e-4d33-a62a-4cec2548bd76",
   "metadata": {},
   "outputs": [
    {
     "data": {
      "text/plain": [
       "array([0, 1, 2, 0, 1, 2])"
      ]
     },
     "execution_count": 590,
     "metadata": {},
     "output_type": "execute_result"
    }
   ],
   "source": [
    "a = np.array([0, 1, 2])\n",
    "np.tile(a, 2)"
   ]
  },
  {
   "cell_type": "code",
   "execution_count": 591,
   "id": "c283d4a1-e73a-44c5-8dfd-80d52d7ce407",
   "metadata": {},
   "outputs": [
    {
     "data": {
      "text/plain": [
       "array([[0, 1, 2, 0, 1, 2],\n",
       "       [0, 1, 2, 0, 1, 2]])"
      ]
     },
     "execution_count": 591,
     "metadata": {},
     "output_type": "execute_result"
    }
   ],
   "source": [
    "np.tile(a, (2, 2))\n"
   ]
  },
  {
   "cell_type": "code",
   "execution_count": 592,
   "id": "b3aea16e-4aed-454c-82ff-a6eaa922fae3",
   "metadata": {},
   "outputs": [
    {
     "data": {
      "text/plain": [
       "array([[1, 2, 1, 2],\n",
       "       [3, 4, 3, 4]])"
      ]
     },
     "execution_count": 592,
     "metadata": {},
     "output_type": "execute_result"
    }
   ],
   "source": [
    "b = np.array([[1, 2], [3, 4]])\n",
    "np.tile(b, 2)"
   ]
  },
  {
   "cell_type": "code",
   "execution_count": 593,
   "id": "96ede20c-75b0-4528-83b0-698410b796d0",
   "metadata": {},
   "outputs": [
    {
     "data": {
      "text/plain": [
       "array([[1, 2],\n",
       "       [3, 4],\n",
       "       [1, 2],\n",
       "       [3, 4]])"
      ]
     },
     "execution_count": 593,
     "metadata": {},
     "output_type": "execute_result"
    }
   ],
   "source": [
    "np.tile(b, (2, 1))"
   ]
  },
  {
   "cell_type": "code",
   "execution_count": 594,
   "id": "47eb5c28-c5e8-4cd4-85fa-9621c013ca83",
   "metadata": {},
   "outputs": [
    {
     "data": {
      "text/plain": [
       "array([[1, 2, 3, 4],\n",
       "       [1, 2, 3, 4],\n",
       "       [1, 2, 3, 4],\n",
       "       [1, 2, 3, 4]])"
      ]
     },
     "execution_count": 594,
     "metadata": {},
     "output_type": "execute_result"
    }
   ],
   "source": [
    "c = np.array([1,2,3,4])\n",
    "np.tile(c,(4,1))\n"
   ]
  },
  {
   "cell_type": "markdown",
   "id": "031ce1d9-5fe7-4805-b5a2-d4792fa0b913",
   "metadata": {},
   "source": [
    "### **Adding and removing elements**"
   ]
  },
  {
   "cell_type": "markdown",
   "id": "e1b7d0e1-ce02-4e6c-a2e1-59fa22a89100",
   "metadata": {},
   "source": [
    "### NumPy `delete` Function\n",
    "\n",
    "The `numpy.delete` function returns a new array with sub-arrays along a specified axis deleted.\n",
    "\n",
    "#### Function Signature\n",
    "\n",
    "```python\n",
    "numpy.delete(arr, obj, axis=None)\n"
   ]
  },
  {
   "cell_type": "code",
   "execution_count": 595,
   "id": "1fc4ada8-739c-4704-95fc-3d4cb748f506",
   "metadata": {},
   "outputs": [],
   "source": [
    "arr = np.arange(12) + 1\n",
    "mask = np.ones(len(arr), dtype=bool)\n",
    "mask[[0,2,4]] = False\n",
    "result = arr[mask,...]"
   ]
  },
  {
   "cell_type": "code",
   "execution_count": 596,
   "id": "7263ea15-b784-48b6-b4e0-0d121db1c7d7",
   "metadata": {},
   "outputs": [
    {
     "data": {
      "text/plain": [
       "array([[ 1,  2,  3,  4],\n",
       "       [ 5,  6,  7,  8],\n",
       "       [ 9, 10, 11, 12]])"
      ]
     },
     "execution_count": 596,
     "metadata": {},
     "output_type": "execute_result"
    }
   ],
   "source": [
    "arr = np.array([[1,2,3,4], [5,6,7,8], [9,10,11,12]])\n",
    "arr"
   ]
  },
  {
   "cell_type": "code",
   "execution_count": 597,
   "id": "dd0790a5-379b-4182-8d98-417306c4c2bd",
   "metadata": {},
   "outputs": [
    {
     "data": {
      "text/plain": [
       "array([[ 1,  2,  3,  4],\n",
       "       [ 9, 10, 11, 12]])"
      ]
     },
     "execution_count": 597,
     "metadata": {},
     "output_type": "execute_result"
    }
   ],
   "source": [
    "np.delete(arr, 1, 0)"
   ]
  },
  {
   "cell_type": "code",
   "execution_count": 598,
   "id": "8f1b5d7f-28fe-4ef3-91ec-f19e2dae707a",
   "metadata": {},
   "outputs": [
    {
     "data": {
      "text/plain": [
       "array([[ 2,  4],\n",
       "       [ 6,  8],\n",
       "       [10, 12]])"
      ]
     },
     "execution_count": 598,
     "metadata": {},
     "output_type": "execute_result"
    }
   ],
   "source": [
    "np.delete(arr, np.s_[::2], 1)"
   ]
  },
  {
   "cell_type": "markdown",
   "id": "00e4b681-afe9-4450-96e3-cef5b287900c",
   "metadata": {},
   "source": [
    "### **Rearranging elements**"
   ]
  },
  {
   "cell_type": "markdown",
   "id": "409692c9-b15e-4279-935f-295538e02555",
   "metadata": {},
   "source": [
    "### NumPy `flip` Function\n",
    "\n",
    "The `numpy.flip` function reverses the order of elements in an array along the specified axis.\n",
    "\n",
    "#### Function Signature\n",
    "\n",
    "```python\n",
    "numpy.flip(m, axis=None)\n"
   ]
  },
  {
   "cell_type": "code",
   "execution_count": 599,
   "id": "f2aae46c-2bc5-43e6-a710-a2f5ccae4eef",
   "metadata": {},
   "outputs": [
    {
     "data": {
      "text/plain": [
       "array([[[0, 1],\n",
       "        [2, 3]],\n",
       "\n",
       "       [[4, 5],\n",
       "        [6, 7]]])"
      ]
     },
     "execution_count": 599,
     "metadata": {},
     "output_type": "execute_result"
    }
   ],
   "source": [
    "A = np.arange(8).reshape((2,2,2))\n",
    "A"
   ]
  },
  {
   "cell_type": "code",
   "execution_count": 600,
   "id": "3c6fad60-b669-45e5-ada2-d7ca460e131a",
   "metadata": {},
   "outputs": [
    {
     "data": {
      "text/plain": [
       "array([[[4, 5],\n",
       "        [6, 7]],\n",
       "\n",
       "       [[0, 1],\n",
       "        [2, 3]]])"
      ]
     },
     "execution_count": 600,
     "metadata": {},
     "output_type": "execute_result"
    }
   ],
   "source": [
    "np.flip(A, 0)"
   ]
  },
  {
   "cell_type": "code",
   "execution_count": 601,
   "id": "53da9db1-f351-4cef-9da3-b30c82d8a2f0",
   "metadata": {},
   "outputs": [
    {
     "data": {
      "text/plain": [
       "array([[[2, 3],\n",
       "        [0, 1]],\n",
       "\n",
       "       [[6, 7],\n",
       "        [4, 5]]])"
      ]
     },
     "execution_count": 601,
     "metadata": {},
     "output_type": "execute_result"
    }
   ],
   "source": [
    "np.flip(A, 1)"
   ]
  },
  {
   "cell_type": "code",
   "execution_count": 602,
   "id": "a013a3ba-c954-4a0a-b86e-9c6b20abb7e9",
   "metadata": {},
   "outputs": [
    {
     "data": {
      "text/plain": [
       "array([[[7, 6],\n",
       "        [5, 4]],\n",
       "\n",
       "       [[3, 2],\n",
       "        [1, 0]]])"
      ]
     },
     "execution_count": 602,
     "metadata": {},
     "output_type": "execute_result"
    }
   ],
   "source": [
    "np.flip(A)"
   ]
  },
  {
   "cell_type": "code",
   "execution_count": 603,
   "id": "1ec5a2c4-8bb0-4cfa-b09c-aee12b5f18e6",
   "metadata": {},
   "outputs": [
    {
     "data": {
      "text/plain": [
       "array([[[5, 4],\n",
       "        [7, 6]],\n",
       "\n",
       "       [[1, 0],\n",
       "        [3, 2]]])"
      ]
     },
     "execution_count": 603,
     "metadata": {},
     "output_type": "execute_result"
    }
   ],
   "source": [
    "np.flip(A, (0, 2))"
   ]
  },
  {
   "cell_type": "code",
   "execution_count": 604,
   "id": "ab73803e-9b3e-4097-af42-a78c949995a0",
   "metadata": {},
   "outputs": [],
   "source": [
    "A = np.random.randn(3,4,5)"
   ]
  },
  {
   "cell_type": "markdown",
   "id": "75c70a93-5d96-4be7-bb25-77e61bf47b33",
   "metadata": {},
   "source": [
    "# **Liner Algerbra Task 1: Matrix Creation and Manipulation**"
   ]
  },
  {
   "cell_type": "code",
   "execution_count": 605,
   "id": "4740e5d3-e6ad-4092-ace8-74f4666add27",
   "metadata": {},
   "outputs": [
    {
     "name": "stdout",
     "output_type": "stream",
     "text": [
      "Zero Matrix:\n",
      " [[0. 0. 0.]\n",
      " [0. 0. 0.]\n",
      " [0. 0. 0.]]\n",
      "\n",
      "Identity Matrix:\n",
      " [[1. 0. 0.]\n",
      " [0. 1. 0.]\n",
      " [0. 0. 1.]]\n",
      "\n",
      "Random Matrix:\n",
      " [[0.07093132 0.13884863 0.41525261]\n",
      " [0.72927569 0.73150285 0.15857662]\n",
      " [0.61084515 0.5037756  0.51127352]]\n",
      "\n",
      "Addition Result:\n",
      " [[10 10 10]\n",
      " [10 10 10]\n",
      " [10 10 10]]\n",
      "\n",
      "Subtraction Result:\n",
      " [[-8 -6 -4]\n",
      " [-2  0  2]\n",
      " [ 4  6  8]]\n",
      "\n",
      "Multiplication Result:\n",
      " [[ 30  24  18]\n",
      " [ 84  69  54]\n",
      " [138 114  90]]\n",
      "\n",
      "Transposed Matrix:\n",
      " [[1 4 7]\n",
      " [2 5 8]\n",
      " [3 6 9]]\n",
      "\n",
      "Determinant of Matrix A: -9.51619735392994e-16\n",
      "\n",
      "Inverse of Matrix A:\n",
      " [[ 3.15251974e+15 -6.30503948e+15  3.15251974e+15]\n",
      " [-6.30503948e+15  1.26100790e+16 -6.30503948e+15]\n",
      " [ 3.15251974e+15 -6.30503948e+15  3.15251974e+15]]\n"
     ]
    }
   ],
   "source": [
    "zero_matrix = np.zeros((3, 3))\n",
    "print(\"Zero Matrix:\\n\", zero_matrix)\n",
    "\n",
    "identity_matrix = np.eye(3)\n",
    "print(\"\\nIdentity Matrix:\\n\", identity_matrix)\n",
    "\n",
    "random_matrix = np.random.rand(3, 3)\n",
    "print(\"\\nRandom Matrix:\\n\", random_matrix)\n",
    "\n",
    "matrix_a = np.array([[1, 2, 3], [4, 5, 6], [7, 8, 9]])\n",
    "matrix_b = np.array([[9, 8, 7], [6, 5, 4], [3, 2, 1]])\n",
    "addition_result = matrix_a + matrix_b\n",
    "print(\"\\nAddition Result:\\n\", addition_result)\n",
    "\n",
    "subtraction_result = matrix_a - matrix_b\n",
    "print(\"\\nSubtraction Result:\\n\", subtraction_result)\n",
    "\n",
    "multiplication_result = np.dot(matrix_a, matrix_b)\n",
    "print(\"\\nMultiplication Result:\\n\", multiplication_result)\n",
    "\n",
    "transposed_matrix = np.transpose(matrix_a)\n",
    "print(\"\\nTransposed Matrix:\\n\", transposed_matrix)\n",
    "\n",
    "determinant = np.linalg.det(matrix_a)\n",
    "print(\"\\nDeterminant of Matrix A:\", determinant)\n",
    "\n",
    "inverse_matrix = np.linalg.inv(matrix_a)\n",
    "print(\"\\nInverse of Matrix A:\\n\", inverse_matrix)\n"
   ]
  },
  {
   "cell_type": "markdown",
   "id": "649182ca-bab7-4685-82d2-c78bc12daad3",
   "metadata": {},
   "source": [
    "# **Liner Algerbra Task 2: Solving equations and inverting matrices**"
   ]
  },
  {
   "cell_type": "markdown",
   "id": "3a371514-4bda-412c-8cfc-9d3be808166d",
   "metadata": {},
   "source": [
    "### NumPy `linalg.solve` Function\n",
    "\n",
    "The `numpy.linalg.solve` function solves a linear matrix equation or system of linear scalar equations.\n",
    "\n",
    "#### Function Signature\n",
    "\n",
    "```python\n",
    "numpy.linalg.solve(a, b)\n"
   ]
  },
  {
   "cell_type": "markdown",
   "id": "5fcb7f5d-b901-4962-bb20-3d017c5102b6",
   "metadata": {},
   "source": [
    "Solve the system of equations: x0 + 2 * x1 = 1 and 3 * x0 + 5 * x1 = 2:"
   ]
  },
  {
   "cell_type": "code",
   "execution_count": 606,
   "id": "17402538-9dd5-4597-ab4c-1183845596b6",
   "metadata": {},
   "outputs": [
    {
     "data": {
      "text/plain": [
       "array([-1.,  1.])"
      ]
     },
     "execution_count": 606,
     "metadata": {},
     "output_type": "execute_result"
    }
   ],
   "source": [
    "a = np.array([[1, 2], [3, 5]])\n",
    "b = np.array([1, 2])\n",
    "x = np.linalg.solve(a, b)\n",
    "x"
   ]
  },
  {
   "cell_type": "markdown",
   "id": "40f85c74-964e-430f-88bb-db6ed594f767",
   "metadata": {},
   "source": [
    "Check that the solution is correct:"
   ]
  },
  {
   "cell_type": "code",
   "execution_count": 607,
   "id": "98cd01d5-4c55-4ada-9cf4-146c58ae72a1",
   "metadata": {},
   "outputs": [
    {
     "data": {
      "text/plain": [
       "True"
      ]
     },
     "execution_count": 607,
     "metadata": {},
     "output_type": "execute_result"
    }
   ],
   "source": [
    "np.allclose(np.dot(a, x), b)"
   ]
  },
  {
   "cell_type": "markdown",
   "id": "fdaf4532-a811-4f1f-880a-96995154d838",
   "metadata": {},
   "source": [
    "### NumPy `linalg.tensorsolve` Function\n",
    "\n",
    "The `numpy.linalg.tensorsolve` function solves the tensor equation \\( a \\times x = b \\) for \\( x \\).\n",
    "\n",
    "#### Function Signature\n",
    "\n",
    "```python\n",
    "numpy.linalg.tensorsolve(a, b, axes=None)\n"
   ]
  },
  {
   "cell_type": "code",
   "execution_count": 608,
   "id": "2a6e9bb2-dc70-4051-bf77-b2f6e83f2bbb",
   "metadata": {},
   "outputs": [
    {
     "data": {
      "text/plain": [
       "(2, 3, 4)"
      ]
     },
     "execution_count": 608,
     "metadata": {},
     "output_type": "execute_result"
    }
   ],
   "source": [
    "a = np.eye(2*3*4)\n",
    "a.shape = (2*3, 4, 2, 3, 4)\n",
    "b = np.random.randn(2*3, 4)\n",
    "x = np.linalg.tensorsolve(a, b)\n",
    "x.shape"
   ]
  },
  {
   "cell_type": "code",
   "execution_count": 609,
   "id": "cd309ae0-3fe4-43ad-9fe4-cd62ab66ed57",
   "metadata": {},
   "outputs": [
    {
     "data": {
      "text/plain": [
       "True"
      ]
     },
     "execution_count": 609,
     "metadata": {},
     "output_type": "execute_result"
    }
   ],
   "source": [
    "np.allclose(np.tensordot(a, x, axes=3), b)"
   ]
  },
  {
   "cell_type": "markdown",
   "id": "a811664a-5b13-4a6b-86fb-480162d95cb5",
   "metadata": {},
   "source": [
    "### NumPy `linalg.lstsq` Function\n",
    "\n",
    "The `numpy.linalg.lstsq` function returns the least-squares solution to a linear matrix equation.\n",
    "\n",
    "#### Function Signature\n",
    "\n",
    "```python\n",
    "numpy.linalg.lstsq(a, b, rcond=None)\n"
   ]
  },
  {
   "cell_type": "markdown",
   "id": "cda97c21-deea-4582-bf55-879692368171",
   "metadata": {},
   "source": [
    "Fit a line, y = mx + c, through some noisy data-points:"
   ]
  },
  {
   "cell_type": "code",
   "execution_count": 610,
   "id": "739aa7bb-922b-4b81-a750-421edc90bfae",
   "metadata": {},
   "outputs": [],
   "source": [
    "x = np.array([0, 1, 2, 3])\n",
    "y = np.array([-1, 0.2, 0.9, 2.1])"
   ]
  },
  {
   "cell_type": "markdown",
   "id": "8b991916-9b30-436c-9b24-6ec7892fe234",
   "metadata": {},
   "source": [
    "By examining the coefficients, we see that the line should have a gradient of roughly 1 and cut the y-axis at, more or less, -1.\n",
    "\n",
    "We can rewrite the line equation as y = Ap, where A = [[x 1]] and p = [[m], [c]]. Now use lstsq to solve for p:"
   ]
  },
  {
   "cell_type": "code",
   "execution_count": 611,
   "id": "3a743dcc-9995-4bb8-9008-424e8bd760ee",
   "metadata": {},
   "outputs": [
    {
     "data": {
      "text/plain": [
       "array([[0., 1.],\n",
       "       [1., 1.],\n",
       "       [2., 1.],\n",
       "       [3., 1.]])"
      ]
     },
     "execution_count": 611,
     "metadata": {},
     "output_type": "execute_result"
    }
   ],
   "source": [
    "A = np.vstack([x, np.ones(len(x))]).T\n",
    "A"
   ]
  },
  {
   "cell_type": "code",
   "execution_count": 612,
   "id": "0dbc6fda-27b6-44af-861c-6cb6dce18aed",
   "metadata": {},
   "outputs": [
    {
     "name": "stderr",
     "output_type": "stream",
     "text": [
      "C:\\Users\\Ubaid-khan\\AppData\\Local\\Temp\\ipykernel_7688\\3149831128.py:1: FutureWarning: `rcond` parameter will change to the default of machine precision times ``max(M, N)`` where M and N are the input matrix dimensions.\n",
      "To use the future default and silence this warning we advise to pass `rcond=None`, to keep using the old, explicitly pass `rcond=-1`.\n",
      "  m, c = np.linalg.lstsq(A, y)[0]\n"
     ]
    },
    {
     "data": {
      "text/plain": [
       "(0.9999999999999997, -0.949999999999999)"
      ]
     },
     "execution_count": 612,
     "metadata": {},
     "output_type": "execute_result"
    }
   ],
   "source": [
    "m, c = np.linalg.lstsq(A, y)[0]\n",
    "m, c"
   ]
  },
  {
   "cell_type": "markdown",
   "id": "45aa94ef-b9bc-4257-953a-a5856123bc8a",
   "metadata": {},
   "source": [
    "Plot the data along with the fitted line:"
   ]
  },
  {
   "cell_type": "code",
   "execution_count": 613,
   "id": "1d6506bb-0172-41c7-a781-ebb5e4ce1dd9",
   "metadata": {},
   "outputs": [
    {
     "data": {
      "image/png": "[encoded data removed]",
      "text/plain": [
       "<Figure size 640x480 with 1 Axes>"
      ]
     },
     "metadata": {},
     "output_type": "display_data"
    }
   ],
   "source": [
    "import matplotlib.pyplot as plt\n",
    "_ = plt.plot(x, y, 'o', label='Original data', markersize=10)\n",
    "_ = plt.plot(x, m*x + c, 'r', label='Fitted line')\n",
    "_ = plt.legend()\n",
    "plt.show()"
   ]
  },
  {
   "cell_type": "markdown",
   "id": "0ca33987-8bf4-4f3b-a78d-0b74dcab3ee8",
   "metadata": {},
   "source": [
    "### NumPy `linalg.inv` Function\n",
    "\n",
    "The `numpy.linalg.inv` function computes the inverse of a matrix.\n",
    "\n",
    "#### Function Signature\n",
    "\n",
    "```python\n",
    "numpy.linalg.inv(a)\n"
   ]
  },
  {
   "cell_type": "code",
   "execution_count": 614,
   "id": "4f8ee792-71f1-43b0-8eb4-4a158f3fda1f",
   "metadata": {},
   "outputs": [
    {
     "data": {
      "text/plain": [
       "True"
      ]
     },
     "execution_count": 614,
     "metadata": {},
     "output_type": "execute_result"
    }
   ],
   "source": [
    "from numpy.linalg import inv\n",
    "a = np.array([[1., 2.], [3., 4.]])\n",
    "ainv = inv(a)\n",
    "np.allclose(a @ ainv, np.eye(2))"
   ]
  },
  {
   "cell_type": "code",
   "execution_count": 615,
   "id": "21e53cc5-58ea-468d-99d8-b8b5960f8e1c",
   "metadata": {},
   "outputs": [
    {
     "data": {
      "text/plain": [
       "True"
      ]
     },
     "execution_count": 615,
     "metadata": {},
     "output_type": "execute_result"
    }
   ],
   "source": [
    "np.allclose(ainv @ a, np.eye(2))"
   ]
  },
  {
   "cell_type": "markdown",
   "id": "26fa70b0-05bb-494f-a96e-912e501c43dc",
   "metadata": {},
   "source": [
    "If a is a matrix object, then the return value is a matrix as well:"
   ]
  },
  {
   "cell_type": "code",
   "execution_count": 616,
   "id": "1c5a704f-cc95-4fd6-81c1-7a15369610f2",
   "metadata": {},
   "outputs": [
    {
     "data": {
      "text/plain": [
       "matrix([[-2. ,  1. ],\n",
       "        [ 1.5, -0.5]])"
      ]
     },
     "execution_count": 616,
     "metadata": {},
     "output_type": "execute_result"
    }
   ],
   "source": [
    "ainv = inv(np.matrix(a))\n",
    "ainv"
   ]
  },
  {
   "cell_type": "markdown",
   "id": "7df6772e-3925-435f-b289-ff4771b5cba2",
   "metadata": {},
   "source": [
    "Inverses of several matrices can be computed at once:"
   ]
  },
  {
   "cell_type": "code",
   "execution_count": 617,
   "id": "1876b1f2-2577-4f8e-8b1d-dc887f27e8a6",
   "metadata": {},
   "outputs": [
    {
     "data": {
      "text/plain": [
       "array([[[-2.  ,  1.  ],\n",
       "        [ 1.5 , -0.5 ]],\n",
       "\n",
       "       [[-1.25,  0.75],\n",
       "        [ 0.75, -0.25]]])"
      ]
     },
     "execution_count": 617,
     "metadata": {},
     "output_type": "execute_result"
    }
   ],
   "source": [
    "a = np.array([[[1., 2.], [3., 4.]], [[1, 3], [3, 5]]])\n",
    "inv(a)"
   ]
  },
  {
   "cell_type": "markdown",
   "id": "20699cb5-ab38-48c2-b248-7fb6a88545a6",
   "metadata": {},
   "source": [
    "If a matrix is close to singular, the computed inverse may not satisfy a @ ainv = ainv @ a = eye(a.shape[0]) even if a LinAlgError is not raised:"
   ]
  },
  {
   "cell_type": "code",
   "execution_count": 618,
   "id": "e20581db-7abe-4cdf-a7d7-3de252c68926",
   "metadata": {},
   "outputs": [
    {
     "data": {
      "text/plain": [
       "array([[ 1.35107989e+16,  6.75539944e+15, -6.75539944e+15],\n",
       "       [ 1.35107989e+16,  6.75539944e+15, -6.75539944e+15],\n",
       "       [-1.35107989e+16, -6.75539944e+15,  6.75539944e+15]])"
      ]
     },
     "execution_count": 618,
     "metadata": {},
     "output_type": "execute_result"
    }
   ],
   "source": [
    "a = np.array([[2,4,6],[2,0,2],[6,8,14]])\n",
    "inv(a)  # No errors raised"
   ]
  },
  {
   "cell_type": "markdown",
   "id": "0c31f6f7-ec22-48a8-9de9-2dd2d359dace",
   "metadata": {},
   "source": [
    "to detect ill-conditioned matrices, you can use numpy.linalg.cond to compute its condition number [1]. The larger the condition number, the more ill-conditioned the matrix is. As a rule of thumb, if the condition number cond(a) = 10**k, then you may lose up to k digits of accuracy on top of what would be lost to the numerical method due to loss of precision from arithmetic methods."
   ]
  },
  {
   "cell_type": "code",
   "execution_count": 619,
   "id": "ca192ef9-923f-4aac-b208-a641414f5037",
   "metadata": {},
   "outputs": [
    {
     "data": {
      "text/plain": [
       "6.326316942768597e+16"
      ]
     },
     "execution_count": 619,
     "metadata": {},
     "output_type": "execute_result"
    }
   ],
   "source": [
    "from numpy.linalg import cond\n",
    "cond(a)"
   ]
  },
  {
   "cell_type": "markdown",
   "id": "074f59ca-eb53-4b1c-8da2-9259070fb11f",
   "metadata": {},
   "source": [
    "t is also possible to detect ill-conditioning by inspecting the matrix’s singular values directly. The ratio between the largest and the smallest singular value is the condition number:"
   ]
  },
  {
   "cell_type": "code",
   "execution_count": 620,
   "id": "9412fd4e-db8d-47a3-a21e-0979c486a2b9",
   "metadata": {},
   "outputs": [
    {
     "data": {
      "text/plain": [
       "6.326316942768597e+16"
      ]
     },
     "execution_count": 620,
     "metadata": {},
     "output_type": "execute_result"
    }
   ],
   "source": [
    "from numpy.linalg import svd\n",
    "sigma = svd(a, compute_uv=False)  # Do not compute singular vectors\n",
    "sigma.max()/sigma.min()"
   ]
  },
  {
   "cell_type": "markdown",
   "id": "ae7ddbc6-102b-4b59-833a-6a0976ce6eab",
   "metadata": {},
   "source": [
    "### NumPy `linalg.pinv` Function\n",
    "\n",
    "The `numpy.linalg.pinv` function computes the (Moore-Penrose) pseudo-inverse of a matrix.\n",
    "\n",
    "#### Function Signature\n",
    "\n",
    "```python\n",
    "numpy.linalg.pinv(a, rcond=None, hermitian=False, *, rtol=<no value>)\n"
   ]
  },
  {
   "cell_type": "markdown",
   "id": "f8d8bde3-1bf6-452b-a731-441d8b384262",
   "metadata": {},
   "source": [
    "The following example checks that a * a+ * a == a and a+ * a * a+ == a+:"
   ]
  },
  {
   "cell_type": "code",
   "execution_count": 621,
   "id": "eac751fb-3462-40e5-900a-838901d10db4",
   "metadata": {},
   "outputs": [
    {
     "data": {
      "text/plain": [
       "True"
      ]
     },
     "execution_count": 621,
     "metadata": {},
     "output_type": "execute_result"
    }
   ],
   "source": [
    "a = np.random.randn(9, 6)\n",
    "B = np.linalg.pinv(a)\n",
    "np.allclose(a, np.dot(a, np.dot(B, a)))"
   ]
  },
  {
   "cell_type": "code",
   "execution_count": 622,
   "id": "2ecfe1fc-b6fc-49f2-8fcf-33b4366695fe",
   "metadata": {},
   "outputs": [
    {
     "data": {
      "text/plain": [
       "True"
      ]
     },
     "execution_count": 622,
     "metadata": {},
     "output_type": "execute_result"
    }
   ],
   "source": [
    "np.allclose(B, np.dot(B, np.dot(a, B)))"
   ]
  },
  {
   "cell_type": "markdown",
   "id": "9a8f6b08-bc49-42a1-8648-2fe9eec7e5e6",
   "metadata": {},
   "source": [
    "### NumPy `linalg.tensorinv` Function\n",
    "\n",
    "The `numpy.linalg.tensorinv` function computes the \"inverse\" of an N-dimensional array.\n",
    "\n",
    "#### Function Signature\n",
    "\n",
    "```python\n",
    "numpy.linalg.tensorinv(a, ind=2)\n"
   ]
  },
  {
   "cell_type": "code",
   "execution_count": 623,
   "id": "fa5229f4-56df-4cff-a9f3-c4706b662bb2",
   "metadata": {},
   "outputs": [
    {
     "data": {
      "text/plain": [
       "(8, 3, 4, 6)"
      ]
     },
     "execution_count": 623,
     "metadata": {},
     "output_type": "execute_result"
    }
   ],
   "source": [
    "a = np.eye(4*6)\n",
    "a.shape = (4, 6, 8, 3)\n",
    "ainv = np.linalg.tensorinv(a, ind=2)\n",
    "ainv.shape"
   ]
  },
  {
   "cell_type": "code",
   "execution_count": 624,
   "id": "b17ad59b-7cdd-4ab1-bc9f-43edcd4218d4",
   "metadata": {},
   "outputs": [
    {
     "data": {
      "text/plain": [
       "True"
      ]
     },
     "execution_count": 624,
     "metadata": {},
     "output_type": "execute_result"
    }
   ],
   "source": [
    "b = np.random.randn(4, 6)\n",
    "np.allclose(np.tensordot(ainv, b), np.linalg.tensorsolve(a, b))"
   ]
  },
  {
   "cell_type": "code",
   "execution_count": 625,
   "id": "a8eb1a00-4e81-404d-8769-327007f5101a",
   "metadata": {},
   "outputs": [
    {
     "data": {
      "text/plain": [
       "(8, 3, 24)"
      ]
     },
     "execution_count": 625,
     "metadata": {},
     "output_type": "execute_result"
    }
   ],
   "source": [
    "a = np.eye(4*6)\n",
    "a.shape = (24, 8, 3)\n",
    "ainv = np.linalg.tensorinv(a, ind=1)\n",
    "ainv.shape"
   ]
  },
  {
   "cell_type": "code",
   "execution_count": 626,
   "id": "900bb2ee-ae9a-477a-86d4-37b99f5f5b76",
   "metadata": {},
   "outputs": [
    {
     "data": {
      "text/plain": [
       "True"
      ]
     },
     "execution_count": 626,
     "metadata": {},
     "output_type": "execute_result"
    }
   ],
   "source": [
    "b = np.random.randn(24)\n",
    "np.allclose(np.tensordot(ainv, b, 1), np.linalg.tensorsolve(a, b))"
   ]
  },
  {
   "cell_type": "markdown",
   "id": "51392bf2-aa14-43b5-b482-7995e49c7c6e",
   "metadata": {},
   "source": [
    "# **Liner Algerbra Task 3: matrix factorization methods**"
   ]
  },
  {
   "cell_type": "code",
   "execution_count": 627,
   "id": "41949a4b-3771-4403-b1af-2cbee028b630",
   "metadata": {},
   "outputs": [
    {
     "name": "stdout",
     "output_type": "stream",
     "text": [
      "LU Decomposition:\n",
      "L:\n",
      " [[1 0]\n",
      " [1 1]]\n",
      "U:\n",
      " [[4 3]\n",
      " [0 0]]\n",
      "\n",
      "QR Decomposition:\n",
      "Q:\n",
      " [[0 0]\n",
      " [0 0]]\n",
      "R:\n",
      " [[7.21110255 0.        ]\n",
      " [0.         4.24264069]]\n",
      "\n",
      "Verifying LU Decomposition:\n",
      "L @ U:\n",
      " [[4 3]\n",
      " [4 3]]\n",
      "\n",
      "Verifying QR Decomposition:\n",
      "Q @ R:\n",
      " [[0. 0.]\n",
      " [0. 0.]]\n"
     ]
    }
   ],
   "source": [
    "import numpy as np\n",
    "\n",
    "A = np.array([[4, 3], \n",
    "              [6, 3]])\n",
    "\n",
    "# LU Decomposition\n",
    "def lu_decomposition(A):\n",
    "    \"\"\"Performs LU decomposition of matrix A.\"\"\"\n",
    "    n = A.shape[0]\n",
    "    L = np.zeros_like(A)  # Lower triangular matrix\n",
    "    U = np.zeros_like(A)  # Upper triangular matrix\n",
    "\n",
    "    for i in range(n):\n",
    "        # Upper Triangular\n",
    "        for j in range(i, n):\n",
    "            U[i, j] = A[i, j] - np.sum(L[i, :i] * U[:i, j])\n",
    "        \n",
    "        # Lower Triangular\n",
    "        for j in range(i, n):\n",
    "            if i == j:\n",
    "                L[i, i] = 1  # Diagonal is 1\n",
    "            else:\n",
    "                L[j, i] = (A[j, i] - np.sum(L[j, :i] * U[:i, i])) / U[i, i]\n",
    "\n",
    "    return L, U\n",
    "\n",
    "L, U = lu_decomposition(A)\n",
    "print(\"LU Decomposition:\")\n",
    "print(\"L:\\n\", L)\n",
    "print(\"U:\\n\", U)\n",
    "\n",
    "# QR Decomposition\n",
    "def qr_decomposition(A):\n",
    "    \"\"\"Performs QR decomposition of matrix A using Gram-Schmidt.\"\"\"\n",
    "    n = A.shape[1]\n",
    "    Q = np.zeros_like(A)  # Orthogonal matrix\n",
    "    R = np.zeros((n, n))  # Upper triangular matrix\n",
    "\n",
    "    for j in range(n):\n",
    "        v = A[:, j]\n",
    "        for i in range(j):\n",
    "            R[i, j] = np.dot(Q[:, i], A[:, j])\n",
    "            v = v - R[i, j] * Q[:, i]\n",
    "        \n",
    "        R[j, j] = np.linalg.norm(v)\n",
    "        Q[:, j] = v / R[j, j]\n",
    "\n",
    "    return Q, R\n",
    "\n",
    "Q, R = qr_decomposition(A)\n",
    "print(\"\\nQR Decomposition:\")\n",
    "print(\"Q:\\n\", Q)\n",
    "print(\"R:\\n\", R)\n",
    "\n",
    "# Verify the decompositions\n",
    "print(\"\\nVerifying LU Decomposition:\")\n",
    "print(\"L @ U:\\n\", L @ U)\n",
    "\n",
    "print(\"\\nVerifying QR Decomposition:\")\n",
    "print(\"Q @ R:\\n\", Q @ R)\n"
   ]
  },
  {
   "cell_type": "markdown",
   "id": "4e321e6f-9c34-4d17-901e-c93b01733c42",
   "metadata": {},
   "source": [
    "# **Liner Algerbra Task 4: Eigenvalues and Eigenvectors**"
   ]
  },
  {
   "cell_type": "code",
   "execution_count": 628,
   "id": "98a871f3-f64b-43dd-8de3-af612b788432",
   "metadata": {},
   "outputs": [
    {
     "name": "stdout",
     "output_type": "stream",
     "text": [
      "Original Matrix A:\n",
      " [[2 1 0]\n",
      " [1 2 1]\n",
      " [0 1 2]]\n",
      "\n",
      "Eigenvalue 1: 3.4142135623730923\n",
      "Corresponding Eigenvector 1:\n",
      " [-0.5        -0.70710678 -0.5       ]\n",
      "\n",
      "Eigenvalue 2: 2.0\n",
      "Corresponding Eigenvector 2:\n",
      " [ 7.07106781e-01  5.09486455e-16 -7.07106781e-01]\n",
      "\n",
      "Eigenvalue 3: 0.5857864376269046\n",
      "Corresponding Eigenvector 3:\n",
      " [ 0.5        -0.70710678  0.5       ]\n",
      "\n",
      "Reconstructed Matrix:\n",
      " [[ 2.00000000e+00  1.00000000e+00 -8.58450316e-16]\n",
      " [ 1.00000000e+00  2.00000000e+00  1.00000000e+00]\n",
      " [-7.67631909e-16  1.00000000e+00  2.00000000e+00]]\n",
      "\n",
      "Is the reconstructed matrix close to the original?  True\n"
     ]
    }
   ],
   "source": [
    "import numpy as np\n",
    "\n",
    "def calculate_eigenvalues_and_eigenvectors(matrix):\n",
    "    eigenvalues, eigenvectors = np.linalg.eig(matrix)\n",
    "    return eigenvalues, eigenvectors\n",
    "\n",
    "def reconstruct_matrix(eigenvalues, eigenvectors):\n",
    "    D = np.diag(eigenvalues)\n",
    "    A_reconstructed = eigenvectors @ D @ np.linalg.inv(eigenvectors)\n",
    "    return A_reconstructed\n",
    "\n",
    "A = np.array([[2, 1, 0],\n",
    "              [1, 2, 1],\n",
    "              [0, 1, 2]])\n",
    "\n",
    "eigenvalues, eigenvectors = calculate_eigenvalues_and_eigenvectors(A)\n",
    "\n",
    "print(\"Original Matrix A:\\n\", A)\n",
    "\n",
    "for i in range(len(eigenvalues)):\n",
    "    print(f\"\\nEigenvalue {i + 1}: {eigenvalues[i]}\")\n",
    "    print(f\"Corresponding Eigenvector {i + 1}:\\n {eigenvectors[:, i]}\")\n",
    "\n",
    "A_reconstructed = reconstruct_matrix(eigenvalues, eigenvectors)\n",
    "\n",
    "print(\"\\nReconstructed Matrix:\\n\", A_reconstructed)\n",
    "\n",
    "is_close = np.allclose(A, A_reconstructed)\n",
    "print(\"\\nIs the reconstructed matrix close to the original? \", is_close)\n"
   ]
  },
  {
   "cell_type": "markdown",
   "id": "3a4b7938-526e-4ddb-b470-6bd18b3d55d9",
   "metadata": {},
   "source": [
    "# **Liner Algerbra Task 5: Vector Operations**"
   ]
  },
  {
   "cell_type": "code",
   "execution_count": 629,
   "id": "ef543c76-6d95-4aa3-baf2-7a0e5a85f5a8",
   "metadata": {},
   "outputs": [
    {
     "name": "stdout",
     "output_type": "stream",
     "text": [
      "Vector v1: [1 2 3]\n",
      "Vector v2: [4 5 6]\n",
      "Addition: [5 7 9]\n",
      "Dot Product: 32\n",
      "Cross Product: [-3  6 -3]\n",
      "Normalized v1: [0.26726124 0.53452248 0.80178373]\n",
      "L2 Norm of v1: 3.7416573867739413\n",
      "L1 Norm of v1: 6\n"
     ]
    }
   ],
   "source": [
    "import numpy as np\n",
    "\n",
    "def vector_operations(v1, v2):\n",
    "    addition = v1 + v2\n",
    "    dot_product = np.dot(v1, v2)\n",
    "    cross_product = np.cross(v1, v2)\n",
    "    return addition, dot_product, cross_product\n",
    "\n",
    "def normalize_vector(v):\n",
    "    norm = np.linalg.norm(v)\n",
    "    return v / norm if norm != 0 else v\n",
    "\n",
    "def compute_vector_norms(v):\n",
    "    norm_l2 = np.linalg.norm(v)\n",
    "    norm_l1 = np.sum(np.abs(v))\n",
    "    return norm_l2, norm_l1\n",
    "\n",
    "v1 = np.array([1, 2, 3])\n",
    "v2 = np.array([4, 5, 6])\n",
    "\n",
    "addition, dot_product, cross_product = vector_operations(v1, v2)\n",
    "\n",
    "print(\"Vector v1:\", v1)\n",
    "print(\"Vector v2:\", v2)\n",
    "print(\"Addition:\", addition)\n",
    "print(\"Dot Product:\", dot_product)\n",
    "print(\"Cross Product:\", cross_product)\n",
    "\n",
    "normalized_v1 = normalize_vector(v1)\n",
    "print(\"Normalized v1:\", normalized_v1)\n",
    "\n",
    "norm_l2, norm_l1 = compute_vector_norms(v1)\n",
    "print(\"L2 Norm of v1:\", norm_l2)\n",
    "print(\"L1 Norm of v1:\", norm_l1)\n"
   ]
  },
  {
   "cell_type": "markdown",
   "id": "1ba939e2-a96b-4dae-b877-b28727b11a68",
   "metadata": {},
   "source": [
    "# **Liner Algerbra Task 6:Matrix Decomposition**"
   ]
  },
  {
   "cell_type": "code",
   "execution_count": 630,
   "id": "4839f5ef-b55b-4c51-8dff-d953f75bed67",
   "metadata": {},
   "outputs": [
    {
     "name": "stdout",
     "output_type": "stream",
     "text": [
      "Transformed Data:\n",
      " [[-0.82797019]\n",
      " [ 1.77758033]\n",
      " [-0.99219749]\n",
      " [-0.27421042]\n",
      " [-1.67580142]\n",
      " [-0.9129491 ]\n",
      " [ 0.09910944]\n",
      " [ 1.14457216]\n",
      " [ 0.43804614]\n",
      " [ 1.22382056]]\n",
      "Principal Components:\n",
      " [[-0.6778734  -0.73517866]]\n",
      "Reconstructed Data:\n",
      " [[ 0.56125896  0.60870601]\n",
      " [-1.20497442 -1.30683911]\n",
      " [ 0.67258429  0.72944242]\n",
      " [ 0.18587995  0.20159364]\n",
      " [ 1.1359812   1.23201343]\n",
      " [ 0.61886391  0.67118069]\n",
      " [-0.06718365 -0.07286314]\n",
      " [-0.77587502 -0.84146502]\n",
      " [-0.29693982 -0.32204217]\n",
      " [-0.8295954  -0.89972675]]\n"
     ]
    }
   ],
   "source": [
    "import numpy as np\n",
    "\n",
    "def pca(data, n_components):\n",
    "    centered_data = data - np.mean(data, axis=0)\n",
    "    U, S, Vt = np.linalg.svd(centered_data, full_matrices=False)\n",
    "    principal_components = Vt[:n_components]\n",
    "    transformed_data = np.dot(centered_data, principal_components.T)\n",
    "    return transformed_data, principal_components\n",
    "\n",
    "def reconstruct(transformed_data, principal_components):\n",
    "    return np.dot(transformed_data, principal_components)\n",
    "\n",
    "data = np.array([[2.5, 2.4],\n",
    "                 [0.5, 0.7],\n",
    "                 [2.2, 2.9],\n",
    "                 [1.9, 2.2],\n",
    "                 [3.1, 3.0],\n",
    "                 [2.3, 2.7],\n",
    "                 [2, 1.6],\n",
    "                 [1, 1.1],\n",
    "                 [1.5, 1.6],\n",
    "                 [1.1, 0.9]])\n",
    "\n",
    "n_components = 1\n",
    "transformed_data, principal_components = pca(data, n_components)\n",
    "reconstructed_data = reconstruct(transformed_data, principal_components)\n",
    "\n",
    "print(\"Transformed Data:\\n\", transformed_data)\n",
    "print(\"Principal Components:\\n\", principal_components)\n",
    "print(\"Reconstructed Data:\\n\", reconstructed_data)\n"
   ]
  },
  {
   "cell_type": "markdown",
   "id": "24ac9fae-abcc-4d95-81e8-909ca5835cdf",
   "metadata": {},
   "source": [
    "# **Advance liner Algebra operations**"
   ]
  },
  {
   "cell_type": "code",
   "execution_count": 631,
   "id": "cf4a0a71-61da-43e0-a13c-213995916380",
   "metadata": {},
   "outputs": [
    {
     "name": "stdout",
     "output_type": "stream",
     "text": [
      "1. Matrix Exponentiation:\n",
      " [[108.  82.]\n",
      " [ 82.  67.]]\n",
      "\n",
      "2. Cholesky Decomposition:\n",
      " [[2.         0.        ]\n",
      " [1.         1.41421356]]\n",
      "\n",
      "3. Condition Number: 3.866358711207724\n",
      "\n",
      "4. Sparse Matrix:\n",
      "   (0, 0)\t1\n",
      "  (1, 2)\t2\n",
      "  (2, 3)\t3\n",
      "\n",
      "5. t-SNE Reduced Data Shape: (100, 2)\n",
      "\n",
      "6. Linear Regression Coefficients: [0.13519769 0.04620983 0.16801133]\n",
      "   Lasso Coefficients: [0. 0. 0.]\n",
      "   Ridge Coefficients: [0.12150581 0.0435445  0.14861835]\n",
      "\n",
      "7. Gradient Descent Coefficients: [0.32418231 0.27891014 0.35140791]\n",
      "\n",
      "8. Compressed Image Shape: (100, 100)\n",
      "\n",
      "9. Largest Eigenvalue: 5.56155281280883\n"
     ]
    }
   ],
   "source": [
    "import numpy as np\n",
    "import matplotlib.pyplot as plt\n",
    "from sklearn.manifold import TSNE\n",
    "from sklearn.linear_model import LinearRegression, Lasso, Ridge\n",
    "from scipy.linalg import svd\n",
    "from scipy import sparse\n",
    "\n",
    "A = np.array([[4, 2], [2, 3]])\n",
    "X = np.random.rand(100, 3)\n",
    "y = np.random.rand(100)\n",
    "image = np.random.rand(100, 100)\n",
    "\n",
    "def matrix_exponentiation(A, power):\n",
    "    eigenvalues, eigenvectors = np.linalg.eig(A)\n",
    "    D = np.diag(eigenvalues)\n",
    "    inv_eigenvectors = np.linalg.inv(eigenvectors)\n",
    "    return eigenvectors @ np.linalg.matrix_power(D, power) @ inv_eigenvectors\n",
    "\n",
    "exp_result = matrix_exponentiation(A, 3)\n",
    "\n",
    "def cholesky_decomposition(A):\n",
    "    return np.linalg.cholesky(A)\n",
    "\n",
    "chol_result = cholesky_decomposition(A)\n",
    "\n",
    "def condition_number(A):\n",
    "    return np.linalg.cond(A)\n",
    "\n",
    "cond_result = condition_number(A)\n",
    "\n",
    "def create_sparse_matrix(data, rows, cols):\n",
    "    return sparse.coo_matrix((data, (rows, cols))).tocsc()\n",
    "\n",
    "sparse_result = create_sparse_matrix([1, 2, 3], [0, 1, 2], [0, 2, 3])\n",
    "\n",
    "def tsne_reduction(data):\n",
    "    tsne = TSNE(n_components=2)\n",
    "    return tsne.fit_transform(data)\n",
    "\n",
    "reduced_data = tsne_reduction(X)\n",
    "\n",
    "def regularization_examples(X, y):\n",
    "    lr = LinearRegression().fit(X, y)\n",
    "    lasso = Lasso(alpha=0.1).fit(X, y)\n",
    "    ridge = Ridge(alpha=1.0).fit(X, y)\n",
    "    return lr, lasso, ridge\n",
    "\n",
    "lr_model, lasso_model, ridge_model = regularization_examples(X, y)\n",
    "\n",
    "def gradient_descent(X, y, alpha=0.01, epochs=1000):\n",
    "    m, n = X.shape\n",
    "    theta = np.zeros(n)\n",
    "    for _ in range(epochs):\n",
    "        gradient = (X.T @ (X @ theta - y)) / m\n",
    "        theta -= alpha * gradient\n",
    "    return theta\n",
    "\n",
    "theta_result = gradient_descent(X, y)\n",
    "\n",
    "def compress_image(image, k):\n",
    "    U, s, Vt = svd(image, full_matrices=False)\n",
    "    S = np.diag(s[:k])\n",
    "    return U[:, :k] @ S @ Vt[:k, :]\n",
    "\n",
    "compressed_image = compress_image(image, k=10)\n",
    "\n",
    "def power_iteration(A, num_simulations):\n",
    "    b_k = np.random.rand(A.shape[1])\n",
    "    for _ in range(num_simulations):\n",
    "        b_k = A @ b_k\n",
    "        b_k /= np.linalg.norm(b_k)\n",
    "    return np.dot(b_k.T, A @ b_k) / np.dot(b_k.T, b_k)\n",
    "\n",
    "largest_eigenvalue = power_iteration(A, 100)\n",
    "\n",
    "print(\"1. Matrix Exponentiation:\\n\", exp_result)\n",
    "print(\"\\n2. Cholesky Decomposition:\\n\", chol_result)\n",
    "print(\"\\n3. Condition Number:\", cond_result)\n",
    "print(\"\\n4. Sparse Matrix:\\n\", sparse_result)\n",
    "print(\"\\n5. t-SNE Reduced Data Shape:\", reduced_data.shape)\n",
    "print(\"\\n6. Linear Regression Coefficients:\", lr_model.coef_)\n",
    "print(\"   Lasso Coefficients:\", lasso_model.coef_)\n",
    "print(\"   Ridge Coefficients:\", ridge_model.coef_)\n",
    "print(\"\\n7. Gradient Descent Coefficients:\", theta_result)\n",
    "print(\"\\n8. Compressed Image Shape:\", compressed_image.shape)\n",
    "print(\"\\n9. Largest Eigenvalue:\", largest_eigenvalue)\n"
   ]
  },
  {
   "cell_type": "markdown",
   "id": "4e2c4cb1-8007-48bf-bde6-e2ba50e2e8eb",
   "metadata": {},
   "source": [
    "# **Calculas Task 1: Numerical Differentiation**"
   ]
  },
  {
   "cell_type": "code",
   "execution_count": 632,
   "id": "09055cdc-5a8d-498e-ba38-f0ebccdcf214",
   "metadata": {},
   "outputs": [
    {
     "name": "stdout",
     "output_type": "stream",
     "text": [
      "Forward Difference: 0.7071032456340552\n",
      "Backward Difference: 0.7071103167111125\n",
      "Central Difference: 0.7071067811725839\n"
     ]
    }
   ],
   "source": [
    "import numpy as np\n",
    "\n",
    "def forward_difference(f, x, h):\n",
    "    return (f(x + h) - f(x)) / h\n",
    "\n",
    "def backward_difference(f, x, h):\n",
    "    return (f(x) - f(x - h)) / h\n",
    "\n",
    "def central_difference(f, x, h):\n",
    "    return (f(x + h) - f(x - h)) / (2 * h)\n",
    "\n",
    "def numerical_derivative(f, x, method='central', h=1e-5):\n",
    "    if method == 'forward':\n",
    "        return forward_difference(f, x, h)\n",
    "    elif method == 'backward':\n",
    "        return backward_difference(f, x, h)\n",
    "    elif method == 'central':\n",
    "        return central_difference(f, x, h)\n",
    "    else:\n",
    "        raise ValueError(\"Invalid method. Choose 'forward', 'backward', or 'central'.\")\n",
    "\n",
    "f = lambda x: np.sin(x)\n",
    "x = np.pi / 4\n",
    "\n",
    "forward_derivative = numerical_derivative(f, x, method='forward')\n",
    "backward_derivative = numerical_derivative(f, x, method='backward')\n",
    "central_derivative = numerical_derivative(f, x, method='central')\n",
    "\n",
    "print(\"Forward Difference:\", forward_derivative)\n",
    "print(\"Backward Difference:\", backward_derivative)\n",
    "print(\"Central Difference:\", central_derivative)\n"
   ]
  },
  {
   "cell_type": "markdown",
   "id": "7e0c9c9d-9707-403c-854b-209f190c3cb6",
   "metadata": {},
   "source": [
    "# **Calculas Task 2: Numerical Integration**"
   ]
  },
  {
   "cell_type": "code",
   "execution_count": 633,
   "id": "afe5656b-f9a9-48d9-b304-b3d458ea2ee3",
   "metadata": {},
   "outputs": [
    {
     "name": "stdout",
     "output_type": "stream",
     "text": [
      "Trapezoidal Rule Result: 3.9999967101313247\n",
      "Simpson's Rule Result: 2.000000000001082\n"
     ]
    }
   ],
   "source": [
    "import numpy as np\n",
    "\n",
    "def trapezoidal_rule(f, a, b, n):\n",
    "    x = np.linspace(a, b, n + 1)\n",
    "    y = f(x)\n",
    "    return (b - a) / n * (y[0] + 2 * np.sum(y[1:n]) + y[n])\n",
    "\n",
    "def simpsons_rule(f, a, b, n):\n",
    "    if n % 2 == 1:\n",
    "        n += 1\n",
    "    x = np.linspace(a, b, n + 1)\n",
    "    y = f(x)\n",
    "    return (b - a) / (3 * n) * (y[0] + 4 * np.sum(y[1:n:2]) + 2 * np.sum(y[2:n-1:2]) + y[n])\n",
    "\n",
    "f = lambda x: np.sin(x)\n",
    "a, b = 0, np.pi\n",
    "n = 1000\n",
    "\n",
    "trapezoidal_result = trapezoidal_rule(f, a, b, n)\n",
    "simpsons_result = simpsons_rule(f, a, b, n)\n",
    "\n",
    "print(\"Trapezoidal Rule Result:\", trapezoidal_result)\n",
    "print(\"Simpson's Rule Result:\", simpsons_result)\n"
   ]
  },
  {
   "cell_type": "markdown",
   "id": "194f0af5-ae43-401b-82df-ede8fac28d4a",
   "metadata": {},
   "source": [
    "# **Calculas Task 3: Partial Derivatives**`"
   ]
  },
  {
   "cell_type": "code",
   "execution_count": 634,
   "id": "45fcf109-b2a1-4f9e-ad4d-7df70139dfca",
   "metadata": {},
   "outputs": [
    {
     "name": "stdout",
     "output_type": "stream",
     "text": [
      "Numerical Partial Derivative ∂f/∂x: 2.0000000000131024\n",
      "Analytical Partial Derivative ∂f/∂x: 2.0\n",
      "Numerical Partial Derivative ∂f/∂y: 4.000000000026205\n",
      "Analytical Partial Derivative ∂f/∂y: 4.0\n"
     ]
    }
   ],
   "source": [
    "import numpy as np\n",
    "\n",
    "def partial_derivative(f, var_index, point, h=1e-5):\n",
    "    point1 = point.copy()\n",
    "    point2 = point.copy()\n",
    "    point1[var_index] += h\n",
    "    point2[var_index] -= h\n",
    "    return (f(point1) - f(point2)) / (2 * h)\n",
    "\n",
    "f = lambda x: x[0]**2 + x[1]**2  # Example function f(x, y) = x^2 + y^2\n",
    "point = np.array([1.0, 2.0])  # Point at which to evaluate the derivatives\n",
    "\n",
    "partial_x = partial_derivative(f, 0, point)  # ∂f/∂x\n",
    "partial_y = partial_derivative(f, 1, point)  # ∂f/∂y\n",
    "\n",
    "analytical_partial_x = 2 * point[0]\n",
    "analytical_partial_y = 2 * point[1]\n",
    "\n",
    "print(\"Numerical Partial Derivative ∂f/∂x:\", partial_x)\n",
    "print(\"Analytical Partial Derivative ∂f/∂x:\", analytical_partial_x)\n",
    "print(\"Numerical Partial Derivative ∂f/∂y:\", partial_y)\n",
    "print(\"Analytical Partial Derivative ∂f/∂y:\", analytical_partial_y)\n"
   ]
  },
  {
   "cell_type": "markdown",
   "id": "0f7ee947-e55a-4693-81e0-185143535cb2",
   "metadata": {},
   "source": [
    "# **Calculas Task 4: Optimization**`"
   ]
  },
  {
   "cell_type": "code",
   "execution_count": 635,
   "id": "be16edb8-5a8d-47c4-b785-1d341796d5af",
   "metadata": {},
   "outputs": [
    {
     "name": "stdout",
     "output_type": "stream",
     "text": [
      "Optimal Solution: [0.5 0.5]\n",
      "Objective Value at Optimal Solution: 0.5000000000000002\n"
     ]
    }
   ],
   "source": [
    "import numpy as np\n",
    "from scipy.optimize import minimize\n",
    "\n",
    "def objective_function(x):\n",
    "    return x[0]**2 + x[1]**2  # Example: minimize f(x, y) = x^2 + y^2\n",
    "\n",
    "def constraint1(x):\n",
    "    return x[0] + x[1] - 1  # x + y >= 1\n",
    "\n",
    "def constraint2(x):\n",
    "    return x[0] - 0.5  # x >= 0.5\n",
    "\n",
    "initial_guess = [0, 0]\n",
    "constraints = [{'type': 'ineq', 'fun': constraint1},\n",
    "               {'type': 'ineq', 'fun': constraint2}]\n",
    "\n",
    "result = minimize(objective_function, initial_guess, constraints=constraints)\n",
    "\n",
    "print(\"Optimal Solution:\", result.x)\n",
    "print(\"Objective Value at Optimal Solution:\", result.fun)\n"
   ]
  },
  {
   "cell_type": "markdown",
   "id": "61bf1946-f37e-4921-ba4a-9710d6a86e18",
   "metadata": {},
   "source": [
    "# **Advance Calculas**"
   ]
  },
  {
   "cell_type": "code",
   "execution_count": 636,
   "id": "0ebfb272-f9f3-49f9-8796-c777a3897347",
   "metadata": {},
   "outputs": [
    {
     "name": "stdout",
     "output_type": "stream",
     "text": [
      "Gradient: 0.5403023058569989\n",
      "Second Derivative: -0.8414705043868763\n",
      "Taylor Series: [0. 0. 0. 0. 0. 0. 0. 0. 0. 0. 0. 0. 0. 0. 0. 0. 0. 0. 0. 0. 0. 0. 0. 0.\n",
      " 0. 0. 0. 0. 0. 0. 0. 0. 0. 0. 0. 0. 0. 0. 0. 0. 0. 0. 0. 0. 0. 0. 0. 0.\n",
      " 0. 0. 0. 0. 0. 0. 0. 0. 0. 0. 0. 0. 0. 0. 0. 0. 0. 0. 0. 0. 0. 0. 0. 0.\n",
      " 0. 0. 0. 0. 0. 0. 0. 0. 0. 0. 0. 0. 0. 0. 0. 0. 0. 0. 0. 0. 0. 0. 0. 0.\n",
      " 0. 0. 0. 0.]\n",
      "SGD Result: 2.637269605624685\n",
      "BVP Result: [ 0.          0.12659245  0.31444421  0.52888456  0.75063902  0.96822744\n",
      "  1.17419273  1.36324283  1.53134684  1.67530542  1.79255495  1.88108523\n",
      "  1.93940995  1.96655975  1.96208232  1.92604198  1.85901476  1.76207724\n",
      "  1.63678819  1.4851631   1.30964141  1.11304723  0.89854376  0.66958241\n",
      "  0.42984725  0.18319569 -0.06640355 -0.31493433 -0.5583977  -0.79287624\n",
      " -1.01459711 -1.21999273 -1.4057582  -1.56890451 -1.70680655 -1.81724543\n",
      " -1.89844416 -1.94909621 -1.96838657 -1.95600485 -1.91215029 -1.83752851\n",
      " -1.73334021 -1.60126181 -1.44341852 -1.26235008 -1.06096995 -0.84251842\n",
      " -0.61051045 -0.36867915 -0.12091565  0.12879342  0.37643015  0.61800999\n",
      "  0.84964581  1.06761052  1.26839697  1.44877444  1.60584058  1.73706815\n",
      "  1.84034564  1.91401129  1.95687977  1.96826133  1.94797282  1.89634071\n",
      "  1.81419576  1.70285972  1.56412403  1.400221    1.21378789  1.00782448\n",
      "  0.7856448   0.55082379  0.30713983  0.05851387 -0.1910536  -0.43754694\n",
      " -0.67699999 -0.90555986 -1.11954893 -1.31552404 -1.49033187 -1.64115971\n",
      " -1.76558067 -1.86159278 -1.92765117 -1.96269292 -1.96615421 -1.93797935\n",
      " -1.87862167 -1.78903626 -1.6706646  -1.52541131 -1.35561358 -1.16400353\n",
      " -0.95366422 -0.7279801  -0.4905825   0.        ]\n",
      "Monte Carlo Integration: 1.9919928573302275\n",
      "Lagrange Interpolation Result: -35.36155000393046\n",
      "Optimization Result: (array([-1.57079633]), -1.0)\n"
     ]
    }
   ],
   "source": [
    "import numpy as np\n",
    "import matplotlib.pyplot as plt\n",
    "from scipy.optimize import minimize\n",
    "import math\n",
    "\n",
    "x = np.linspace(-2 * np.pi, 2 * np.pi, 100)\n",
    "y = np.sin(x)\n",
    "\n",
    "def gradient(f, x):\n",
    "    h = 1e-5\n",
    "    return (f(x + h) - f(x - h)) / (2 * h)\n",
    "\n",
    "grad_result = gradient(np.sin, 1.0)\n",
    "\n",
    "def higher_order_derivative(f, x, order):\n",
    "    if order == 1:\n",
    "        return gradient(f, x)\n",
    "    elif order == 2:\n",
    "        return gradient(lambda x: gradient(f, x), x)\n",
    "\n",
    "second_derivative_result = higher_order_derivative(np.sin, 1.0, 2)\n",
    "\n",
    "def taylor_series(f, a, order):\n",
    "    series = sum((f(a) / math.factorial(n)) * (x - a) ** n for n in range(order))\n",
    "    return series\n",
    "\n",
    "taylor_result = taylor_series(np.sin, 0, 5)\n",
    "\n",
    "def gradient_descent(f, x0, alpha=0.01, epochs=100):\n",
    "    x = x0\n",
    "    for _ in range(epochs):\n",
    "        grad = gradient(f, x)\n",
    "        x -= alpha * grad\n",
    "    return x\n",
    "\n",
    "sgd_result = gradient_descent(np.sin, 2.0)\n",
    "\n",
    "def solve_bvp(f, x):\n",
    "    y = np.zeros(len(x))\n",
    "    y[0] = 0\n",
    "    y[-1] = 0\n",
    "    for i in range(1, len(x) - 1):\n",
    "        y[i] = (y[i - 1] + y[i + 1]) / 2 + f(x[i])\n",
    "    return y\n",
    "\n",
    "bvp_result = solve_bvp(np.sin, x)\n",
    "\n",
    "def monte_carlo_integration(f, a, b, n):\n",
    "    x_random = np.random.uniform(a, b, n)\n",
    "    return (b - a) * np.mean(f(x_random))\n",
    "\n",
    "monte_carlo_result = monte_carlo_integration(np.sin, 0, np.pi, 10000)\n",
    "\n",
    "def lagrange_interpolation(x, y, x_new):\n",
    "    n = len(x)\n",
    "    result = 0\n",
    "    for i in range(n):\n",
    "        term = y[i]\n",
    "        for j in range(n):\n",
    "            if j != i:\n",
    "                term *= (x_new - x[j]) / (x[i] - x[j])\n",
    "        result += term\n",
    "    return result\n",
    "\n",
    "lagrange_result = lagrange_interpolation(x[:5], y[:5], np.pi / 2)\n",
    "\n",
    "def optimize_function(f):\n",
    "    result = minimize(f, 0)\n",
    "    return result.x, result.fun\n",
    "\n",
    "opt_result = optimize_function(np.sin)\n",
    "\n",
    "print(\"Gradient:\", grad_result)\n",
    "print(\"Second Derivative:\", second_derivative_result)\n",
    "print(\"Taylor Series:\", taylor_result)\n",
    "print(\"SGD Result:\", sgd_result)\n",
    "print(\"BVP Result:\", bvp_result)\n",
    "print(\"Monte Carlo Integration:\", monte_carlo_result)\n",
    "print(\"Lagrange Interpolation Result:\", lagrange_result)\n",
    "print(\"Optimization Result:\", opt_result)\n"
   ]
  },
  {
   "cell_type": "code",
   "execution_count": null,
   "id": "18d86280-5be0-40a2-9172-aaf55d89203a",
   "metadata": {},
   "outputs": [],
   "source": []
  }
 ],
 "metadata": {
  "kernelspec": {
   "display_name": "Python 3 (ipykernel)",
   "language": "python",
   "name": "python3"
  },
  "language_info": {
   "codemirror_mode": {
    "name": "ipython",
    "version": 3
   },
   "file_extension": ".py",
   "mimetype": "text/x-python",
   "name": "python",
   "nbconvert_exporter": "python",
   "pygments_lexer": "ipython3",
   "version": "3.11.7"
  }
 },
 "nbformat": 4,
 "nbformat_minor": 5
}
