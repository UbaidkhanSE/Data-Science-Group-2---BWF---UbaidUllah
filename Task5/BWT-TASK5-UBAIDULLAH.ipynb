{
 "cells": [
  {
   "cell_type": "markdown",
   "id": "c8a46e0f-4e7b-4405-890d-09e681d059f9",
   "metadata": {},
   "source": [
    "# CONDATIONAL STATEMENTS, LOOPS, MODULES \n",
    "## Conditional Statements"
   ]
  },
  {
   "cell_type": "markdown",
   "id": "4618874c-2707-425f-a3d1-2e539f234713",
   "metadata": {},
   "source": [
    "## 1. if Condition \n",
    "### Example 1: Checking multiple conditions with logical operators"
   ]
  },
  {
   "cell_type": "code",
   "execution_count": 1,
   "id": "4157c35e-6573-42b6-b866-665efae7e51d",
   "metadata": {},
   "outputs": [
    {
     "name": "stdout",
     "output_type": "stream",
     "text": [
      "You are eligible to drive.\n"
     ]
    }
   ],
   "source": [
    "age = 25\n",
    "has_license = True\n",
    "is_student = False\n",
    "\n",
    "if age >= 18 and has_license:\n",
    "    print(\"You are eligible to drive.\")\n",
    "elif age >= 16 and is_student:\n",
    "    print(\"You can apply for a student license.\")\n",
    "else:\n",
    "    print(\"You are not eligible to drive.\")\n"
   ]
  },
  {
   "cell_type": "markdown",
   "id": "0a6e02bb-efa9-4dc5-94f9-170f74202c3b",
   "metadata": {},
   "source": [
    "### Example 2: Checking conditions within a range"
   ]
  },
  {
   "cell_type": "code",
   "execution_count": 2,
   "id": "41eaa79e-6fe2-4b0e-8b86-5001122cd0d9",
   "metadata": {},
   "outputs": [
    {
     "name": "stdout",
     "output_type": "stream",
     "text": [
      "The weather is comfortable.\n"
     ]
    }
   ],
   "source": [
    "temperature = 28\n",
    "if 25 <= temperature <= 30:\n",
    "    print(\"The weather is comfortable.\")\n",
    "elif temperature > 30:\n",
    "    print(\"It's hot outside.\")\n",
    "else:\n",
    "    print(\"It's cool outside.\")\n"
   ]
  },
  {
   "cell_type": "markdown",
   "id": "4d70d350-7197-4f45-a054-c1ddbfdb14ed",
   "metadata": {},
   "source": [
    "### Example 3: Using ternary conditional operator"
   ]
  },
  {
   "cell_type": "code",
   "execution_count": 4,
   "id": "4841c831-0bb8-42a1-b673-c786a1915e64",
   "metadata": {},
   "outputs": [
    {
     "name": "stdout",
     "output_type": "stream",
     "text": [
      "The result is: pass\n"
     ]
    }
   ],
   "source": [
    "score  = 70\n",
    "result = \"pass\" if score >= 60 else \"fail\"\n",
    "print(f\"The result is: {result}\")\n"
   ]
  },
  {
   "cell_type": "markdown",
   "id": "85e1d6e0-3b41-49fd-8d13-379d54cdf370",
   "metadata": {},
   "source": [
    "### Example 4: Checking for specific values in a list"
   ]
  },
  {
   "cell_type": "code",
   "execution_count": 5,
   "id": "ed990353-7fde-4666-907a-a591e660f09d",
   "metadata": {},
   "outputs": [
    {
     "name": "stdout",
     "output_type": "stream",
     "text": [
      "5 is present in the list.\n"
     ]
    }
   ],
   "source": [
    "numbers = [1, 3, 5, 7, 9]\n",
    "\n",
    "if 5 in numbers:\n",
    "    print(\"5 is present in the list.\")\n",
    "else:\n",
    "    print(\"5 is not present in the list.\")\n"
   ]
  },
  {
   "cell_type": "markdown",
   "id": "5ac2a721-0cfa-4d5f-b1ec-ffa4442d21e2",
   "metadata": {},
   "source": [
    "### Example 5: Handling edge cases"
   ]
  },
  {
   "cell_type": "code",
   "execution_count": 8,
   "id": "fde6e59f-5df3-4fda-ab7c-525405289df5",
   "metadata": {},
   "outputs": [
    {
     "name": "stdout",
     "output_type": "stream",
     "text": [
      "Value is not initialized.\n"
     ]
    }
   ],
   "source": [
    "# Example 5: Handling edge cases\n",
    "value = None\n",
    "\n",
    "if value is None:\n",
    "    print(\"Value is not initialized.\")\n",
    "elif value == 0:\n",
    "    print(\"Value is zero.\")\n",
    "else:\n",
    "    print(f\"The value is {value}.\")\n"
   ]
  },
  {
   "cell_type": "markdown",
   "id": "de5d1a7f-4864-40b2-b687-97a77a1318ba",
   "metadata": {},
   "source": [
    "# 2. Nested if Condition \n",
    "## Example 1: Nested conditions with logical operators"
   ]
  },
  {
   "cell_type": "code",
   "execution_count": 13,
   "id": "9b878a18-2b43-426d-b6c9-38df8a321384",
   "metadata": {},
   "outputs": [
    {
     "name": "stdout",
     "output_type": "stream",
     "text": [
      "You can drive legally.\n"
     ]
    }
   ],
   "source": [
    "age = 25\n",
    "has_license = True\n",
    "is_student = False\n",
    "\n",
    "if age >= 18:\n",
    "    if has_license:\n",
    "        print(\"You can drive legally.\")\n",
    "    else:\n",
    "        print(\"You need to apply for a license.\")\n",
    "elif age >= 16 and is_student:\n",
    "    print(\"You can apply for a student license.\")\n",
    "else:\n",
    "    print(\"You are not eligible to drive.\")\n"
   ]
  },
  {
   "cell_type": "markdown",
   "id": "3117675e-b4fd-446f-886f-8dba2b2e368a",
   "metadata": {},
   "source": [
    "## Example 2: Checking multiple conditions with nested if-elif-else"
   ]
  },
  {
   "cell_type": "code",
   "execution_count": 15,
   "id": "2ad7f2aa-2b99-49cf-baf8-2362ead3497c",
   "metadata": {},
   "outputs": [
    {
     "name": "stdout",
     "output_type": "stream",
     "text": [
      "Your grade is B.\n"
     ]
    }
   ],
   "source": [
    "# Example 2: Checking multiple conditions with nested if-elif-else\n",
    "score = 85\n",
    "attendance = 90\n",
    "\n",
    "if score > 90:\n",
    "    grade = 'A'\n",
    "elif score > 80:\n",
    "    if attendance > 85:\n",
    "        grade = 'B'\n",
    "    else:\n",
    "        grade = 'B-'\n",
    "else:\n",
    "    grade = 'C'\n",
    "\n",
    "print(f\"Your grade is {grade}.\")\n"
   ]
  },
  {
   "cell_type": "markdown",
   "id": "321194a0-9936-4b1b-87d0-8b2f8611274a",
   "metadata": {},
   "source": [
    "## Example 3: Using nested conditions for complex business rules"
   ]
  },
  {
   "cell_type": "code",
   "execution_count": 17,
   "id": "024d8eeb-7881-4937-a80d-095f6fff7da7",
   "metadata": {},
   "outputs": [
    {
     "name": "stdout",
     "output_type": "stream",
     "text": [
      "You have full access.\n"
     ]
    }
   ],
   "source": [
    "is_admin = True\n",
    "is_moderator = False\n",
    "is_muted = False\n",
    "\n",
    "if is_admin:\n",
    "    print(\"You have full access.\")\n",
    "elif is_moderator and not is_muted:\n",
    "    print(\"You have limited access as a moderator.\")\n",
    "else:\n",
    "    print(\"You have basic user access.\")\n"
   ]
  },
  {
   "cell_type": "markdown",
   "id": "659cef22-2300-43f3-acc7-6e7711ff8229",
   "metadata": {},
   "source": [
    "## Example 4: Checking for multiple criteria\n"
   ]
  },
  {
   "cell_type": "code",
   "execution_count": 19,
   "id": "9d25b9a3-5df3-4d58-ba4d-5184a1dceb37",
   "metadata": {},
   "outputs": [
    {
     "name": "stdout",
     "output_type": "stream",
     "text": [
      "It's hot and humid.\n"
     ]
    }
   ],
   "source": [
    "temperature = 27\n",
    "humidity = 70\n",
    "\n",
    "if temperature > 25:\n",
    "    if humidity > 60:\n",
    "        print(\"It's hot and humid.\")\n",
    "    else:\n",
    "        print(\"It's hot but not very humid.\")\n",
    "else:\n",
    "    print(\"The temperature is moderate.\")\n"
   ]
  },
  {
   "cell_type": "markdown",
   "id": "eb639f09-957e-4e88-9d47-64eefb41545f",
   "metadata": {},
   "source": [
    "## Example 5: Complex nested conditions with else if"
   ]
  },
  {
   "cell_type": "code",
   "execution_count": 21,
   "id": "dfb87a8a-a3c6-40e8-87c6-c59acc3a5cd0",
   "metadata": {},
   "outputs": [
    {
     "name": "stdout",
     "output_type": "stream",
     "text": [
      "Welcome, admin!\n"
     ]
    }
   ],
   "source": [
    "# Example 5: Complex nested conditions with else if\n",
    "role = \"admin\"\n",
    "logged_in = True\n",
    "is_banned = False\n",
    "\n",
    "if role == \"admin\":\n",
    "    if logged_in and not is_banned:\n",
    "        print(\"Welcome, admin!\")\n",
    "    else:\n",
    "        print(\"Access denied.\")\n",
    "elif role == \"moderator\":\n",
    "    print(\"Moderator privileges.\")\n",
    "else:\n",
    "    print(\"You have limited access.\")\n"
   ]
  },
  {
   "cell_type": "markdown",
   "id": "e09f6ac7-aed8-46a0-abb5-98ad8cbdf1ff",
   "metadata": {},
   "source": [
    "# 3. for Loop Examples\n",
    "## Example 1: Iterating over a list"
   ]
  },
  {
   "cell_type": "code",
   "execution_count": 23,
   "id": "9c7f347f-5479-402a-9864-3a1f69c9c3d0",
   "metadata": {},
   "outputs": [
    {
     "name": "stdout",
     "output_type": "stream",
     "text": [
      "apple\n",
      "banana\n",
      "cherry\n"
     ]
    }
   ],
   "source": [
    "# Example 1: Iterating over a list\n",
    "fruits = [\"apple\", \"banana\", \"cherry\"]\n",
    "for fruit in fruits:\n",
    "    print(fruit)\n"
   ]
  },
  {
   "cell_type": "markdown",
   "id": "1b118bfe-1a15-49b7-8371-1a8fd8d6b67d",
   "metadata": {},
   "source": [
    "## Example 2: Using enumerate for index and value"
   ]
  },
  {
   "cell_type": "code",
   "execution_count": 25,
   "id": "d812e772-d719-4d8c-aab1-bdf8e5e8bdf8",
   "metadata": {},
   "outputs": [
    {
     "name": "stdout",
     "output_type": "stream",
     "text": [
      "Index 0: apple\n",
      "Index 1: banana\n",
      "Index 2: cherry\n"
     ]
    }
   ],
   "source": [
    "# Example 2: Using enumerate for index and value\n",
    "for index, fruit in enumerate(fruits):\n",
    "    print(f\"Index {index}: {fruit}\")\n"
   ]
  },
  {
   "cell_type": "markdown",
   "id": "89926aac-cda5-4569-a9f4-42a75691f1ca",
   "metadata": {},
   "source": [
    "## Example 3: Iterating over dictionary keys and values"
   ]
  },
  {
   "cell_type": "code",
   "execution_count": 27,
   "id": "2324694e-8d8e-4df7-a0ae-ca53a8c7e413",
   "metadata": {},
   "outputs": [
    {
     "name": "stdout",
     "output_type": "stream",
     "text": [
      "name: John\n",
      "age: 30\n",
      "city: New York\n"
     ]
    }
   ],
   "source": [
    "# Example 3: Iterating over dictionary keys and values\n",
    "person = {\"name\": \"John\", \"age\": 30, \"city\": \"New York\"}\n",
    "for key, value in person.items():\n",
    "    print(f\"{key}: {value}\")\n"
   ]
  },
  {
   "cell_type": "markdown",
   "id": "7202bc67-4df3-478e-912e-89f526ace9ae",
   "metadata": {},
   "source": [
    "## Example 4: Iterating over a range"
   ]
  },
  {
   "cell_type": "code",
   "execution_count": 29,
   "id": "e2256ea4-06f9-44c7-960b-857d57b8b599",
   "metadata": {},
   "outputs": [
    {
     "name": "stdout",
     "output_type": "stream",
     "text": [
      "0\n",
      "1\n",
      "2\n",
      "3\n",
      "4\n"
     ]
    }
   ],
   "source": [
    "# Example 4: Iterating over a range\n",
    "for i in range(5):\n",
    "    print(i)\n"
   ]
  },
  {
   "cell_type": "markdown",
   "id": "226d66c1-5602-4ea2-8f87-4ed7344d5722",
   "metadata": {},
   "source": [
    "# 4. Nested loops \n",
    "## Example 1. Square Pattern\n"
   ]
  },
  {
   "cell_type": "code",
   "execution_count": 4,
   "id": "688417af-dc4c-4842-a303-8b7be45ffcf1",
   "metadata": {},
   "outputs": [
    {
     "name": "stdout",
     "output_type": "stream",
     "text": [
      "* * * * * \n",
      "* * * * * \n",
      "* * * * * \n",
      "* * * * * \n",
      "* * * * * \n"
     ]
    }
   ],
   "source": [
    "# Example 1: Square Pattern\n",
    "size = 5\n",
    "\n",
    "for i in range(size):\n",
    "    for j in range(size):\n",
    "        print(\"* \", end=\"\")\n",
    "    print()\n"
   ]
  },
  {
   "cell_type": "markdown",
   "id": "7a76fde4-bd1c-4578-b1f1-3596a83ea0b3",
   "metadata": {},
   "source": [
    "# Example 2. Right Triangle Pattern"
   ]
  },
  {
   "cell_type": "code",
   "execution_count": 5,
   "id": "11c50423-9994-4b5e-86c9-dd3596bd2c08",
   "metadata": {},
   "outputs": [
    {
     "name": "stdout",
     "output_type": "stream",
     "text": [
      "* \n",
      "* * \n",
      "* * * \n",
      "* * * * \n",
      "* * * * * \n"
     ]
    }
   ],
   "source": [
    " size = 5\n",
    "\n",
    "for i in range(1, size + 1):\n",
    "    for j in range(i):\n",
    "        print(\"* \", end=\"\")\n",
    "    print()\n"
   ]
  },
  {
   "cell_type": "markdown",
   "id": "52795365-00e0-4717-bbcd-e1e633d1eb26",
   "metadata": {},
   "source": [
    "## Example 3: Inverted Right Triangle Pattern"
   ]
  },
  {
   "cell_type": "code",
   "execution_count": 7,
   "id": "8206a046-2a1a-4f25-ba55-32f43b11db63",
   "metadata": {},
   "outputs": [
    {
     "name": "stdout",
     "output_type": "stream",
     "text": [
      "* * * * * \n",
      "* * * * \n",
      "* * * \n",
      "* * \n",
      "* \n"
     ]
    }
   ],
   "source": [
    "\n",
    "size = 5\n",
    "\n",
    "for i in range(size, 0, -1):\n",
    "    for j in range(i):\n",
    "        print(\"* \", end=\"\")\n",
    "    print()\n"
   ]
  },
  {
   "cell_type": "markdown",
   "id": "76f3c3d5-082a-43d4-95ee-c560f185323c",
   "metadata": {},
   "source": [
    "## Example 3: Using continue to skip iteration\n"
   ]
  },
  {
   "cell_type": "code",
   "execution_count": 57,
   "id": "34e5585b-b1d4-4abe-8454-862e403594f4",
   "metadata": {},
   "outputs": [
    {
     "name": "stdout",
     "output_type": "stream",
     "text": [
      "1\n",
      "2\n",
      "4\n",
      "5\n"
     ]
    }
   ],
   "source": [
    "\n",
    "count = 0\n",
    "while count < 5:\n",
    "    count += 1\n",
    "    if count == 3:\n",
    "        continue\n",
    "    print(count)\n"
   ]
  },
  {
   "cell_type": "markdown",
   "id": "5d767afe-e7ae-44e3-b7f8-61c09e170929",
   "metadata": {},
   "source": [
    "## Example 4: Pyramid Pattern"
   ]
  },
  {
   "cell_type": "code",
   "execution_count": 56,
   "id": "0151e121-af67-4f4c-8a5c-cf6a274b9fca",
   "metadata": {},
   "outputs": [
    {
     "name": "stdout",
     "output_type": "stream",
     "text": [
      "    *\n",
      "   ***\n",
      "  *****\n",
      " *******\n",
      "*********\n"
     ]
    }
   ],
   "source": [
    "\n",
    "size = 5\n",
    "\n",
    "for i in range(size):\n",
    "    for j in range(size - i - 1):\n",
    "        print(\" \", end=\"\")\n",
    "    for j in range(2 * i + 1):\n",
    "        print(\"*\", end=\"\")\n",
    "    print()\n"
   ]
  },
  {
   "cell_type": "markdown",
   "id": "d81b0c1b-373f-4094-aaeb-4ea495348abb",
   "metadata": {},
   "source": [
    "## Example 5: Hollow Rectangle Pattern"
   ]
  },
  {
   "cell_type": "code",
   "execution_count": 55,
   "id": "1ecc93cf-db83-448c-b235-144c7f79ace0",
   "metadata": {},
   "outputs": [
    {
     "name": "stdout",
     "output_type": "stream",
     "text": [
      "**********\n",
      "*        *\n",
      "*        *\n",
      "*        *\n",
      "**********\n"
     ]
    }
   ],
   "source": [
    "\n",
    "rows = 5\n",
    "cols = 10\n",
    "\n",
    "for i in range(rows):\n",
    "    for j in range(cols):\n",
    "        if i == 0 or i == rows - 1 or j == 0 or j == cols - 1:\n",
    "            print(\"*\", end=\"\")\n",
    "        else:\n",
    "            print(\" \", end=\"\")\n",
    "    print()\n"
   ]
  },
  {
   "cell_type": "markdown",
   "id": "48fdb79d-1a13-4e8b-9ca5-aebd5ae7746b",
   "metadata": {},
   "source": [
    "## Example 6: Diamond Pattern"
   ]
  },
  {
   "cell_type": "code",
   "execution_count": 54,
   "id": "d0042b31-f9ba-401c-822c-78684be1404f",
   "metadata": {},
   "outputs": [
    {
     "name": "stdout",
     "output_type": "stream",
     "text": [
      "   *\n",
      "  ***\n",
      " *****\n",
      "*******\n",
      " *****\n",
      "  ***\n",
      "   *\n"
     ]
    }
   ],
   "source": [
    "\n",
    "size = 7\n",
    "mid = size // 2\n",
    "\n",
    "for i in range(size):\n",
    "    for j in range(abs(mid - i)):\n",
    "        print(\" \", end=\"\")\n",
    "    for j in range(size - 2 * abs(mid - i)):\n",
    "        print(\"*\", end=\"\")\n",
    "    print()\n"
   ]
  },
  {
   "cell_type": "markdown",
   "id": "009407ee-c0fd-4e21-890a-471f081b2f7b",
   "metadata": {},
   "source": [
    "## Example 7: Number Pattern (Floyd's Triangle)"
   ]
  },
  {
   "cell_type": "code",
   "execution_count": 53,
   "id": "209f438b-8fae-483c-abba-ac0bf9fa4578",
   "metadata": {},
   "outputs": [
    {
     "name": "stdout",
     "output_type": "stream",
     "text": [
      "1 \n",
      "2 3 \n",
      "4 5 6 \n",
      "7 8 9 10 \n",
      "11 12 13 14 15 \n"
     ]
    }
   ],
   "source": [
    "\n",
    "rows = 5\n",
    "num = 1\n",
    "\n",
    "for i in range(1, rows + 1):\n",
    "    for j in range(1, i + 1):\n",
    "        print(num, end=\" \")\n",
    "        num += 1\n",
    "    print()\n"
   ]
  },
  {
   "cell_type": "markdown",
   "id": "2e3dfc98-5e73-4b1a-b2df-c2de1dca7eb4",
   "metadata": {},
   "source": [
    "## Example 8: Letter Pattern (Alphabet Triangle)"
   ]
  },
  {
   "cell_type": "code",
   "execution_count": 52,
   "id": "fc0b30f9-5d4e-4126-82d5-a4eef3813b12",
   "metadata": {},
   "outputs": [
    {
     "name": "stdout",
     "output_type": "stream",
     "text": [
      "A \n",
      "B C \n",
      "D E F \n",
      "G H I J \n",
      "K L M N O \n"
     ]
    }
   ],
   "source": [
    "\n",
    "import string\n",
    "\n",
    "rows = 5\n",
    "num = 65  # ASCII for 'A'\n",
    "\n",
    "for i in range(1, rows + 1):\n",
    "    for j in range(1, i + 1):\n",
    "        print(chr(num), end=\" \")\n",
    "        num += 1\n",
    "    print()\n"
   ]
  },
  {
   "cell_type": "markdown",
   "id": "c7deb25e-7e02-4572-ac9b-e8b0a30bf9b3",
   "metadata": {},
   "source": [
    "## Example 9: Pascal's Triangle"
   ]
  },
  {
   "cell_type": "code",
   "execution_count": 51,
   "id": "d80cb4ac-0fcc-411e-9929-2dc1b8dbfe4e",
   "metadata": {},
   "outputs": [
    {
     "name": "stdout",
     "output_type": "stream",
     "text": [
      "           1\n",
      "         1   1\n",
      "       1   2   1\n",
      "     1   3   3   1\n",
      "   1   4   6   4   1\n"
     ]
    }
   ],
   "source": [
    "\n",
    "rows = 5\n",
    "\n",
    "for i in range(rows):\n",
    "    num = 1\n",
    "    for j in range(1, rows - i):\n",
    "        print(\"  \", end=\"\")\n",
    "    \n",
    "    for k in range(0, i + 1):\n",
    "        print(\"  \", num, end=\"\")\n",
    "        num = int(num * (i - k) / (k + 1))\n",
    "    print()\n"
   ]
  },
  {
   "cell_type": "markdown",
   "id": "93969aff-5774-431c-8b7d-e001e3259236",
   "metadata": {},
   "source": [
    "## Example 10: Spiral Pattern"
   ]
  },
  {
   "cell_type": "code",
   "execution_count": 50,
   "id": "79afbfff-fca3-49de-a67e-a8cb94f10182",
   "metadata": {},
   "outputs": [
    {
     "name": "stdout",
     "output_type": "stream",
     "text": [
      "1 2 3 4 5 6 7 8 9 10 11 12 13 14 15 16 17 18 19 20 21 22 23 24 25 "
     ]
    }
   ],
   "source": [
    "\n",
    "rows = 5\n",
    "cols = 5\n",
    "\n",
    "top = 0\n",
    "bottom = rows - 1\n",
    "left = 0\n",
    "right = cols - 1\n",
    "num = 1\n",
    "\n",
    "while num <= rows * cols:\n",
    "    for i in range(left, right + 1):\n",
    "        print(num, end=\" \")\n",
    "        num += 1\n",
    "    top += 1\n",
    "    \n",
    "    for i in range(top, bottom + 1):\n",
    "        print(num, end=\" \")\n",
    "        num += 1\n",
    "    right -= 1\n",
    "    \n",
    "    for i in range(right, left - 1, -1):\n",
    "        print(num, end=\" \")\n",
    "        num += 1\n",
    "    bottom -= 1\n",
    "    \n",
    "    for i in range(bottom, top - 1, -1):\n",
    "        print(num, end=\" \")\n",
    "        num += 1\n",
    "    left += 1\n"
   ]
  },
  {
   "cell_type": "markdown",
   "id": "ffc87d68-286a-4b22-a064-f02ebf0ba337",
   "metadata": {},
   "source": [
    "# 5. While loop\n",
    "## Example 1: Generating Fibonacci Sequence\n"
   ]
  },
  {
   "cell_type": "code",
   "execution_count": 49,
   "id": "82d63588-4b35-416e-ae4c-c7a537ecd7cb",
   "metadata": {},
   "outputs": [
    {
     "name": "stdout",
     "output_type": "stream",
     "text": [
      "The first 10 Fibonacci numbers are: [0, 1, 1, 2, 3, 5, 8, 13, 21, 34]\n"
     ]
    }
   ],
   "source": [
    "\n",
    "def fibonacci_sequence(n):\n",
    "    fib_sequence = []\n",
    "    a, b = 0, 1\n",
    "    count = 0\n",
    "    \n",
    "    while count < n:\n",
    "        fib_sequence.append(a)\n",
    "        a, b = b, a + b\n",
    "        count += 1\n",
    "    \n",
    "    return fib_sequence\n",
    "\n",
    "# Generate and print the first 10 Fibonacci numbers\n",
    "n = 10\n",
    "fib_numbers = fibonacci_sequence(n)\n",
    "print(f\"The first {n} Fibonacci numbers are: {fib_numbers}\")\n"
   ]
  },
  {
   "cell_type": "markdown",
   "id": "09857286-a247-4415-937c-cf5a0df623d2",
   "metadata": {},
   "source": [
    "## Example 2: Prime Number Checker"
   ]
  },
  {
   "cell_type": "code",
   "execution_count": 48,
   "id": "e345591b-16ba-4fef-8030-2b3d33d3e182",
   "metadata": {},
   "outputs": [
    {
     "name": "stdout",
     "output_type": "stream",
     "text": [
      "The first 20 prime numbers are: [2, 3, 5, 7, 11, 13, 17, 19, 23, 29, 31, 37, 41, 43, 47, 53, 59, 61, 67, 71]\n"
     ]
    }
   ],
   "source": [
    "\n",
    "def is_prime(number):\n",
    "    if number <= 1:\n",
    "        return False\n",
    "    elif number <= 3:\n",
    "        return True\n",
    "    \n",
    "    i = 2\n",
    "    while i * i <= number:\n",
    "        if number % i == 0:\n",
    "            return False\n",
    "        i += 1\n",
    "    \n",
    "    return True\n",
    "\n",
    "# Check prime numbers up to a specified limit\n",
    "limit = 20\n",
    "prime_numbers = []\n",
    "number = 2\n",
    "\n",
    "while len(prime_numbers) < limit:\n",
    "    if is_prime(number):\n",
    "        prime_numbers.append(number)\n",
    "    number += 1\n",
    "\n",
    "print(f\"The first {limit} prime numbers are: {prime_numbers}\")\n"
   ]
  },
  {
   "cell_type": "markdown",
   "id": "ef276e4d-b0a0-4a9b-ab52-1015d3f33c1f",
   "metadata": {},
   "source": [
    "# 6. Do while loop\n",
    "## Example 1: Simulation of a Process with Variable Control Flow"
   ]
  },
  {
   "cell_type": "code",
   "execution_count": 47,
   "id": "6cd46607-308c-4cac-b2bd-3039b392acc7",
   "metadata": {},
   "outputs": [
    {
     "name": "stdout",
     "output_type": "stream",
     "text": [
      "Attempt 1: Success!\n",
      "Attempt 2: Failure.\n",
      "Attempt 3: Failure.\n",
      "Attempt 4: Success!\n",
      "Attempt 5: Success!\n",
      "Total attempts: 5, Successful attempts: 3\n"
     ]
    }
   ],
   "source": [
    "\n",
    "import random\n",
    "\n",
    "# Initialize variables\n",
    "total_attempts = 0\n",
    "success_count = 0\n",
    "max_attempts = 5\n",
    "\n",
    "while True:\n",
    "    # Simulate a task (e.g., a random event)\n",
    "    success = random.choice([True, False])\n",
    "    total_attempts += 1\n",
    "    \n",
    "    if success:\n",
    "        success_count += 1\n",
    "        print(f\"Attempt {total_attempts}: Success!\")\n",
    "        # Break condition: Sufficient successes or max attempts reached\n",
    "        if success_count >= 3 or total_attempts >= max_attempts:\n",
    "            break\n",
    "    else:\n",
    "        print(f\"Attempt {total_attempts}: Failure.\")\n",
    "        # Continue condition: Continue until max attempts reached\n",
    "        if total_attempts >= max_attempts:\n",
    "            print(\"Max attempts reached. Exiting.\")\n",
    "            break\n",
    "\n",
    "print(f\"Total attempts: {total_attempts}, Successful attempts: {success_count}\")\n"
   ]
  },
  {
   "cell_type": "markdown",
   "id": "f6e85a30-79ca-4d6e-8beb-c8aea21ed2ab",
   "metadata": {},
   "source": [
    "## Example 2: Simulation of a Complex Iterative Task"
   ]
  },
  {
   "cell_type": "code",
   "execution_count": 46,
   "id": "2cff7b95-b29d-419a-b72a-1ca5c5b1607d",
   "metadata": {},
   "outputs": [
    {
     "name": "stdout",
     "output_type": "stream",
     "text": [
      "Final sum: 61, Data length: 6\n"
     ]
    }
   ],
   "source": [
    "\n",
    "import math\n",
    "\n",
    "# Simulate a list of numbers or data points\n",
    "data = [2, 5, 8, 11, 15, 20]\n",
    "threshold = 50\n",
    "sum_result = 0\n",
    "\n",
    "while True:\n",
    "    for number in data:\n",
    "        sum_result += number\n",
    "        if sum_result > threshold:\n",
    "            break\n",
    "    \n",
    "    # Complex condition: Break if the sum exceeds threshold or other criteria\n",
    "    if sum_result > threshold or len(data) > 10:\n",
    "        break\n",
    "\n",
    "    # Example of dynamically modifying data or conditions\n",
    "    data.append(math.ceil(sum_result / 2))\n",
    "\n",
    "print(f\"Final sum: {sum_result}, Data length: {len(data)}\")\n"
   ]
  },
  {
   "cell_type": "markdown",
   "id": "18a106b6-8216-4e72-b62a-067a634317b5",
   "metadata": {},
   "source": [
    "# 7. Function \n",
    "## Example 1: Matrix Multiplication"
   ]
  },
  {
   "cell_type": "code",
   "execution_count": 45,
   "id": "26dd01fc-8fab-4301-bc36-55e404541a7a",
   "metadata": {},
   "outputs": [
    {
     "name": "stdout",
     "output_type": "stream",
     "text": [
      "[58, 64]\n",
      "[139, 154]\n"
     ]
    }
   ],
   "source": [
    "\n",
    "def matrix_multiply(matrix1, matrix2):\n",
    "    if len(matrix1[0]) != len(matrix2):\n",
    "        raise ValueError(\"Number of columns in matrix1 must be equal to number of rows in matrix2.\")\n",
    "    \n",
    "    result = [[0 for _ in range(len(matrix2[0]))] for _ in range(len(matrix1))]\n",
    "    \n",
    "    for i in range(len(matrix1)):\n",
    "        for j in range(len(matrix2[0])):\n",
    "            for k in range(len(matrix2)):\n",
    "                result[i][j] += matrix1[i][k] * matrix2[k][j]\n",
    "    \n",
    "    return result\n",
    "\n",
    "# Example usage:\n",
    "matrix1 = [\n",
    "    [1, 2, 3],\n",
    "    [4, 5, 6]\n",
    "]\n",
    "\n",
    "matrix2 = [\n",
    "    [7, 8],\n",
    "    [9, 10],\n",
    "    [11, 12]\n",
    "]\n",
    "\n",
    "result = matrix_multiply(matrix1, matrix2)\n",
    "for row in result:\n",
    "    print(row)\n"
   ]
  },
  {
   "cell_type": "markdown",
   "id": "e0c870f4-04de-4fdf-8a03-04a80a89c3f7",
   "metadata": {},
   "source": [
    "## Example 2.Higher-Order Function Using Lambda Functions"
   ]
  },
  {
   "cell_type": "code",
   "execution_count": 44,
   "id": "1b339a38-a319-4f2d-81c8-b7e6e7e72f78",
   "metadata": {},
   "outputs": [
    {
     "name": "stdout",
     "output_type": "stream",
     "text": [
      "Addition result: 8\n",
      "Subtraction result: 6\n",
      "Multiplication result: 14\n",
      "Division result: 5.0\n"
     ]
    }
   ],
   "source": [
    "def create_math_function(operation):\n",
    "    if operation == '+':\n",
    "        return lambda x, y: x + y\n",
    "    elif operation == '-':\n",
    "        return lambda x, y: x - y\n",
    "    elif operation == '*':\n",
    "        return lambda x, y: x * y\n",
    "    elif operation == '/':\n",
    "        return lambda x, y: x / y\n",
    "    else:\n",
    "        raise ValueError(\"Unsupported operation\")\n",
    "\n",
    "# Example usage:\n",
    "addition = create_math_function('+')\n",
    "result = addition(5, 3)\n",
    "print(f\"Addition result: {result}\")\n",
    "\n",
    "subtraction = create_math_function('-')\n",
    "result = subtraction(10, 4)\n",
    "print(f\"Subtraction result: {result}\")\n",
    "\n",
    "multiplication = create_math_function('*')\n",
    "result = multiplication(7, 2)\n",
    "print(f\"Multiplication result: {result}\")\n",
    "\n",
    "division = create_math_function('/')\n",
    "result = division(15, 3)\n",
    "print(f\"Division result: {result}\")\n"
   ]
  },
  {
   "cell_type": "markdown",
   "id": "52b6a60f-2105-457d-b715-4db911e5376e",
   "metadata": {},
   "source": [
    "# Example 3: Memoization for Efficient Fibonacci Calculation"
   ]
  },
  {
   "cell_type": "code",
   "execution_count": 38,
   "id": "f9b8070a-a56f-41da-9bee-76d44d12644d",
   "metadata": {},
   "outputs": [
    {
     "name": "stdout",
     "output_type": "stream",
     "text": [
      "The 10th Fibonacci number is: 55\n"
     ]
    }
   ],
   "source": [
    "\n",
    "def fibonacci(n, memo={}):\n",
    "    if n in memo:\n",
    "        return memo[n]\n",
    "    if n <= 2:\n",
    "        return 1\n",
    "    memo[n] = fibonacci(n - 1, memo) + fibonacci(n - 2, memo)\n",
    "    return memo[n]\n",
    "\n",
    "# Example usage:\n",
    "number = 10\n",
    "result = fibonacci(number)\n",
    "print(f\"The {number}th Fibonacci number is: {result}\")\n"
   ]
  },
  {
   "cell_type": "markdown",
   "id": "d50fbaef-68d9-4f32-9079-9229135e4450",
   "metadata": {},
   "source": [
    "## Collectively used "
   ]
  },
  {
   "cell_type": "code",
   "execution_count": 41,
   "id": "2efd568b-f465-4ae5-b320-9924ed20fc2e",
   "metadata": {},
   "outputs": [
    {
     "name": "stdout",
     "output_type": "stream",
     "text": [
      "Generated Numbers: [9, 42, 12, 39, 13, 70, 27, 60, 40, 90]\n",
      "Total Sum: 402\n",
      "Average: 40.20\n",
      "Maximum: 90\n",
      "Minimum: 9\n",
      "There are numbers greater than 50.\n",
      "Even Numbers: [42, 12, 70, 60, 40, 90]\n",
      "Odd Numbers: [9, 39, 13, 27]\n"
     ]
    }
   ],
   "source": [
    "\n",
    "import random\n",
    "\n",
    "def generate_random_numbers(count):\n",
    "    \"\"\"\n",
    "    Function to generate a list of random numbers.\n",
    "    \"\"\"\n",
    "    return [random.randint(1, 100) for _ in range(count)]\n",
    "\n",
    "def calculate_statistics(numbers):\n",
    "    \"\"\"\n",
    "    Function to calculate statistics (sum, average, max, min) of a list of numbers.\n",
    "    \"\"\"\n",
    "    total_sum = sum(numbers)\n",
    "    average = total_sum / len(numbers)\n",
    "    maximum = max(numbers)\n",
    "    minimum = min(numbers)\n",
    "    \n",
    "    return total_sum, average, maximum, minimum\n",
    "\n",
    "def analyze_numbers(numbers):\n",
    "    \"\"\"\n",
    "    Function to analyze a list of numbers and print results based on conditions.\n",
    "    \"\"\"\n",
    "    total_sum, average, maximum, minimum = calculate_statistics(numbers)\n",
    "    \n",
    "    print(f\"Generated Numbers: {numbers}\")\n",
    "    print(f\"Total Sum: {total_sum}\")\n",
    "    print(f\"Average: {average:.2f}\")\n",
    "    print(f\"Maximum: {maximum}\")\n",
    "    print(f\"Minimum: {minimum}\")\n",
    "    \n",
    "    if maximum > 50:\n",
    "        print(\"There are numbers greater than 50.\")\n",
    "    else:\n",
    "        print(\"No numbers greater than 50 found.\")\n",
    "    \n",
    "    even_numbers = [num for num in numbers if num % 2 == 0]\n",
    "    odd_numbers = [num for num in numbers if num % 2 != 0]\n",
    "    \n",
    "    print(f\"Even Numbers: {even_numbers}\")\n",
    "    print(f\"Odd Numbers: {odd_numbers}\")\n",
    "\n",
    "# Generate a list of 10 random numbers\n",
    "random_numbers = generate_random_numbers(10)\n",
    "\n",
    "# Analyze the generated numbers\n",
    "analyze_numbers(random_numbers)\n"
   ]
  },
  {
   "cell_type": "code",
   "execution_count": null,
   "id": "089e4ba9-69d8-4031-aab7-831899c3dce5",
   "metadata": {},
   "outputs": [],
   "source": []
  }
 ],
 "metadata": {
  "kernelspec": {
   "display_name": "Python 3 (ipykernel)",
   "language": "python",
   "name": "python3"
  },
  "language_info": {
   "codemirror_mode": {
    "name": "ipython",
    "version": 3
   },
   "file_extension": ".py",
   "mimetype": "text/x-python",
   "name": "python",
   "nbconvert_exporter": "python",
   "pygments_lexer": "ipython3",
   "version": "3.11.7"
  }
 },
 "nbformat": 4,
 "nbformat_minor": 5
}
